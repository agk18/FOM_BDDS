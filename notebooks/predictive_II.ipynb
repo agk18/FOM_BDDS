{
 "cells": [
  {
   "cell_type": "markdown",
   "metadata": {
    "id": "Ka20bzp6PcNj"
   },
   "source": [
    "[![Open In Colab](https://colab.research.google.com/assets/colab-badge.svg)](https://colab.research.google.com/github/Humboldt-WI/bads/blob/master/tutorials/8_nb_ensemble_learning.ipynb) \n"
   ]
  },
  {
   "cell_type": "markdown",
   "metadata": {
    "id": "swSaDjWvNDnY"
   },
   "source": [
    "# Predictive Analytics II\n",
    "\n",
    "Let's first look into ways for improving the predictive power of tree-based classifiers through *ensemble learning*. Recall that an ensemble is a **collection of multiple base models**. The base models are prediction models on their own. In a homogeneous ensemble, we produce the base models with the same supervised learning algorithm whch is the focus of this tutorial. Our underlying learning algorithm will be a classification tree. \n",
    "\n",
    "The outline of the first part of the Notebook is as follows:\n",
    "- Boosting principles\n",
    "- XGBoost with xgb\n",
    "\n",
    "In the second part we'll take a quick look at neural networks with PyTorch. We will address\n",
    "- Neural Network classification with feedforward NNs"
   ]
  },
  {
   "cell_type": "markdown",
   "metadata": {
    "id": "wdsBsoSzOaMf"
   },
   "source": [
    "# Preliminaries\n",
    "We begin as usual with importing our standard libraries and also our standard modeling data. Since we are also familiar with data organization by now, we will also use `sklearn`'s functionality to partition our data into a training and a test set. "
   ]
  },
  {
   "cell_type": "code",
   "execution_count": 3,
   "metadata": {
    "colab": {
     "base_uri": "https://localhost:8080/"
    },
    "id": "iUm22RYkOaMg",
    "outputId": "63e5260f-1873-4855-e09f-fb6725792039"
   },
   "outputs": [
    {
     "name": "stdout",
     "output_type": "stream",
     "text": [
      "shape of the data: \n",
      "(4172, 18) (4172,) (1788, 18) (1788,)\n"
     ]
    }
   ],
   "source": [
    "# Import standard Python libraries\n",
    "import numpy as np\n",
    "import matplotlib.pyplot as plt\n",
    "import pandas as pd \n",
    "from sklearn.model_selection import train_test_split\n",
    "# Pretty printing\n",
    "from pprint import pprint\n",
    "\n",
    "# Some configuration of the plots we will create later\n",
    "%matplotlib inline  \n",
    "plt.rcParams[\"figure.figsize\"] = (12,6)\n",
    "\n",
    "# Load credit risk data in pre-processed format from GitHub\n",
    "df = pd.read_csv('../data/hmeq_modeling.csv', index_col=\"index\")\n",
    "\n",
    "# Split data into target and features\n",
    "pd_X = df.drop(['BAD'], axis=1) \n",
    "pd_y = df['BAD'].astype(int)  # also make the target an integer value\n",
    "\n",
    "# no dev set this time, we will use cross-validation on the train data\n",
    "X_train, X_test, y_train, y_test = train_test_split( pd_X, pd_y, test_size=0.3, random_state=42)\n",
    "\n",
    "print(\"shape of the data: \")\n",
    "print(X_train.shape, y_train.shape, X_test.shape, y_test.shape)"
   ]
  },
  {
   "cell_type": "markdown",
   "metadata": {
    "id": "VGyef4wsOaOA"
   },
   "source": [
    "# Short Intro to Boosting\n",
    "Boosting-type algorithms are based on **two core principles**:\n",
    "1. Develop an ensemble sequentially (i.e. add one model at a time)\n",
    "2. Let the next model in the chain correct the errors of the current ensemble\n",
    "\n",
    "We discussed two flavors of boosting in the lecture:\n",
    "- **adaboost algorithm**, first instantiation of a boosting ensemble\n",
    "- **gradient boosting**, proposed in the paper [Greedy Function Approximation: A Gradient Boosting Machine](https://www.jstor.org/stable/2699986?seq=1) by Jerome H. Friedman\n",
    "\n",
    "This part of the tutorial follows the same approach as above, we first demonstrate implementing a boosting ensemble from scratch and then showcase its use together with a professional machine learning library. Many derivatives of boosting and libraries exist. Some members of the gradient boosting family include:\n",
    "- [LightGBM from Microsoft](https://lightgbm.readthedocs.io/en/latest/)\n",
    "- [Catboost from Yandex](https://catboost.ai/)\n",
    "- [NGBoost from Stanford ML Group](https://stanfordmlgroup.github.io/projects/ngboost/)\n",
    "\n",
    "Given wide adoption in practice and academia, we opted for focusing the tutorial to **extreme gradient boosting** or XGB for short. Demos for other popular boosting algorithms are available via the links above. Boosting algorithms that do not follow the gradient boosting principle may be considered somewhat old-fashioned. We will not cover them here. However, the exercises give you an opportunity to implement your own Adaboost ensemble from scratch. And of course, `sklearn` also supports adaboost and other boosting algorithms.    "
   ]
  },
  {
   "cell_type": "markdown",
   "metadata": {
    "id": "31TaG5uJh0SS"
   },
   "source": [
    "## Verifying the boosting principle\n",
    "Is it true really true that one model can *learn* or *correct* the errors of another model as promised by the boosting paradigm? Before diving into cutting-edge gradient boosting, let's convince ourselves of this  fundamental premise of boosting. \n",
    "\n",
    "For this purpose, we use the HMEQ data set and demonstrate that training a model on the errors of a previous model helps to reduce classification error. Since it is common practice to implement boosting using trees as base model, we follow this approach.  "
   ]
  },
  {
   "cell_type": "code",
   "execution_count": 42,
   "metadata": {
    "id": "V8lCORhgtWD4"
   },
   "outputs": [],
   "source": [
    "from sklearn import tree"
   ]
  },
  {
   "cell_type": "markdown",
   "metadata": {
    "id": "7PFd6oVUtXNI"
   },
   "source": [
    "### Model training \n",
    "Here we will show the effectiveness of corrective models that *train on errors*. We will first train two models, the first will be for regular predictions. The second will predict which observations the first model misclassifies. We will first run the first prediction on test data, then correct these predictions using the second model.\n"
   ]
  },
  {
   "cell_type": "code",
   "execution_count": 43,
   "metadata": {
    "id": "UZQCtRWzNDuE"
   },
   "outputs": [],
   "source": [
    "estimators = []   # List to store the two tree models"
   ]
  },
  {
   "cell_type": "code",
   "execution_count": 44,
   "metadata": {
    "id": "ZYUxast5upkQ"
   },
   "outputs": [],
   "source": [
    "# Train first classifier\n",
    "clf = tree.DecisionTreeClassifier(criterion=\"entropy\", min_samples_split=2, max_depth=2)  # First classifier\n",
    "dt = clf.fit(X_train, y_train)  # Fit the classifier\n",
    "estimators.append(('first model', dt))"
   ]
  },
  {
   "cell_type": "markdown",
   "metadata": {
    "id": "LAlaHLDFOaOl"
   },
   "source": [
    "Having obtained our first model, we can calculate that model's residuals on the training set. Let's consider a classification setting. More concretely, let's focus on discrete class predictions. Recall that this is the type of output that we obtain when calling the function `predict()`.  "
   ]
  },
  {
   "cell_type": "code",
   "execution_count": 45,
   "metadata": {
    "id": "w8SAYdlsutvz"
   },
   "outputs": [],
   "source": [
    "initial_pred = dt.predict(X_train)  # Classify training set using first classifier"
   ]
  },
  {
   "cell_type": "markdown",
   "metadata": {
    "id": "n4J3L9zCOaOr"
   },
   "source": [
    "Next, we identify misclassified observations and calculate the **classification error**.\n",
    "\n",
    "Let's produce a binary vector with the same length as the training set in which an entry of `True` indicates that the corresponding training set observation is misclassified by our first tree. The way we design our vector also makes it very easy to compute the classification error. All we need is to find the mean of that vector."
   ]
  },
  {
   "cell_type": "code",
   "execution_count": 46,
   "metadata": {
    "colab": {
     "base_uri": "https://localhost:8080/"
    },
    "id": "IKHBSTiq7ADX",
    "outputId": "1cab2f42-d460-479f-e614-e39915572bb6"
   },
   "outputs": [
    {
     "name": "stdout",
     "output_type": "stream",
     "text": [
      "Classification error of tree #1 is 0.1496\n",
      "Total number of errors tree #1 is 624\n"
     ]
    }
   ],
   "source": [
    "res = initial_pred != y_train\n",
    "print(\"Classification error of tree #1 is {:.4}\".format(res.mean()))\n",
    "print(\"Total number of errors tree #1 is\", res.sum())"
   ]
  },
  {
   "cell_type": "markdown",
   "metadata": {
    "id": "6CFvQXw0OaOw"
   },
   "source": [
    "On to model #2. Here, we train not on $y$ but a new binary target variable indicating whether model #1 classified an observation correctly. We can think of this new target as $y - \\hat{y}$ ie. the residual. However, since we train on decisions of a binary outcome, this classifier will predict errors of the first classifier."
   ]
  },
  {
   "cell_type": "code",
   "execution_count": 47,
   "metadata": {
    "colab": {
     "base_uri": "https://localhost:8080/"
    },
    "id": "x1SUtWIS9l5v",
    "outputId": "8f8cc6fa-cc54-433c-dbe9-309c6ec5a5ff"
   },
   "outputs": [
    {
     "data": {
      "text/plain": [
       "DecisionTreeClassifier()"
      ]
     },
     "execution_count": 47,
     "metadata": {},
     "output_type": "execute_result"
    }
   ],
   "source": [
    "clf2 = tree.DecisionTreeClassifier(criterion=\"gini\")  # instantiate second model\n",
    "dt_res = clf2.fit(X_train, res)                       # note the new target, we are training on residuals\n",
    "estimators.append(('second model', dt_res))           # store second model for later\n",
    "dt_res"
   ]
  },
  {
   "cell_type": "markdown",
   "metadata": {
    "id": "N6DGkiYMOaO2"
   },
   "source": [
    "Calling the `predict`function of our second corrective model, we obtain a prediction of which observations model #1 is likely to misclassify. "
   ]
  },
  {
   "cell_type": "code",
   "execution_count": 48,
   "metadata": {
    "colab": {
     "base_uri": "https://localhost:8080/"
    },
    "id": "RJX5qQTR_au6",
    "outputId": "74c0bcd1-f946-41c7-cecd-273db418dd84"
   },
   "outputs": [
    {
     "name": "stdout",
     "output_type": "stream",
     "text": [
      "Based on model #2, we expect model #1 to misclassify 624 observations.\n"
     ]
    }
   ],
   "source": [
    "likely_misclassifications = dt_res.predict(X_train) \n",
    "print(\"Based on model #2, we expect model #1 to misclassify {} observations.\".format(\n",
    "    likely_misclassifications.sum()))"
   ]
  },
  {
   "cell_type": "code",
   "execution_count": 49,
   "metadata": {
    "colab": {
     "base_uri": "https://localhost:8080/"
    },
    "id": "lCBBxnW8Qx5_",
    "outputId": "8d94ca8f-c0d7-4bef-d13a-d0773554af7e"
   },
   "outputs": [
    {
     "name": "stdout",
     "output_type": "stream",
     "text": [
      "index\n",
      "5774    True\n",
      "5098    True\n",
      "5428    True\n",
      "257     True\n",
      "507     True\n",
      "        ... \n",
      "3772    True\n",
      "5191    True\n",
      "5226    True\n",
      "5390    True\n",
      "860     True\n",
      "Name: BAD, Length: 4172, dtype: bool\n"
     ]
    }
   ],
   "source": [
    "# Check if classified likely misclassifications are the same as residuals\n",
    "accuracy_misclassifications = likely_misclassifications == res\n",
    "print(accuracy_misclassifications)"
   ]
  },
  {
   "cell_type": "code",
   "execution_count": 50,
   "metadata": {
    "colab": {
     "base_uri": "https://localhost:8080/"
    },
    "id": "qaTLynrfR2Bc",
    "outputId": "53656b30-d0a2-4b96-f5ea-ff493831fd0b"
   },
   "outputs": [
    {
     "data": {
      "text/plain": [
       "1.0"
      ]
     },
     "execution_count": 50,
     "metadata": {},
     "output_type": "execute_result"
    }
   ],
   "source": [
    "# It seems likely misclassifications are exactly congruent with residuals, so the model does work\n",
    "accuracy_misclassifications.mean() "
   ]
  },
  {
   "cell_type": "markdown",
   "metadata": {
    "id": "4ZaQ61X4hJSS"
   },
   "source": [
    "### Model testing\n",
    "\n",
    "Now that we have our two models, we will begin using the test data to see if a combination of the two models can reduce the value of the residuals. We will first predict y using X_test."
   ]
  },
  {
   "cell_type": "code",
   "execution_count": 51,
   "metadata": {
    "id": "Fp-Wmz6sRGhv"
   },
   "outputs": [],
   "source": [
    "pred_initial_test = dt.predict(X_test)"
   ]
  },
  {
   "cell_type": "code",
   "execution_count": 52,
   "metadata": {
    "colab": {
     "base_uri": "https://localhost:8080/"
    },
    "id": "wdVk27zeRTh-",
    "outputId": "b3e96ac1-db3b-4ef1-f46d-c7f25759866a"
   },
   "outputs": [
    {
     "name": "stdout",
     "output_type": "stream",
     "text": [
      "Test error of model 1: 0.1482\n"
     ]
    }
   ],
   "source": [
    "res_test = pred_initial_test != y_test\n",
    "print(\"Test error of model 1: {:.4}\".format(res_test.mean()))"
   ]
  },
  {
   "cell_type": "markdown",
   "metadata": {
    "id": "kM3lSiCrhUpY"
   },
   "source": [
    "Now we predict for which observations model 1 has likely made an error."
   ]
  },
  {
   "cell_type": "code",
   "execution_count": 53,
   "metadata": {
    "colab": {
     "base_uri": "https://localhost:8080/"
    },
    "id": "_BflWXFPRZxt",
    "outputId": "c19cbae5-5324-4f71-f1f1-f809c00513f6"
   },
   "outputs": [
    {
     "data": {
      "text/plain": [
       "array([False, False,  True, ..., False, False, False])"
      ]
     },
     "execution_count": 53,
     "metadata": {},
     "output_type": "execute_result"
    }
   ],
   "source": [
    "likely_misclassifications_test = dt_res.predict(X_test)\n",
    "likely_misclassifications_test"
   ]
  },
  {
   "cell_type": "markdown",
   "metadata": {
    "id": "UKWZfWWwhcWH"
   },
   "source": [
    "Lastly, we correct the likely misclassifications by simply flipping the predicted (from model 1) class label."
   ]
  },
  {
   "cell_type": "code",
   "execution_count": 54,
   "metadata": {
    "id": "3cT6A821eUuA"
   },
   "outputs": [],
   "source": [
    "pred_corrected = pd.Series(pred_initial_test)\n",
    "pred_corrected[likely_misclassifications_test] = ~ pred_corrected[likely_misclassifications_test]"
   ]
  },
  {
   "cell_type": "code",
   "execution_count": 55,
   "metadata": {
    "colab": {
     "base_uri": "https://localhost:8080/"
    },
    "id": "YVipz0q5LcV6",
    "outputId": "c91a985d-04a8-45f9-d0dd-2a6327b334c0"
   },
   "outputs": [
    {
     "data": {
      "text/plain": [
       "array([0, 1, 1, 1, 1, 1, 1, 0, 1, 1, 1, 0, 1, 1, 1, 0, 1, 1, 0, 1, 1, 1,\n",
       "       1, 0, 0, 1, 0, 0, 1, 0, 1, 0, 0, 1, 0, 1, 1, 0, 1, 0, 1, 1, 0, 1,\n",
       "       1, 0, 1, 1, 1, 1, 1, 1, 1, 1, 1, 0, 1, 1, 1, 0, 1, 0, 0, 0, 1, 1,\n",
       "       1, 1, 1, 0, 1, 0, 0, 1, 0, 1, 1, 1, 0, 0, 1, 0, 0, 1, 0, 0, 1, 1,\n",
       "       0, 1, 1, 0, 1, 0, 0, 0, 0, 0, 0, 0, 1, 1, 1, 1, 1, 0, 0, 1, 1, 1,\n",
       "       1, 0, 1, 0, 1, 1, 0, 1, 0, 1, 1, 0, 0, 1, 1, 0, 1, 0, 0, 0, 1, 0,\n",
       "       1, 1, 1, 0, 0, 1, 0, 1, 1, 0, 1, 1, 1, 0, 0, 1, 0, 0, 0, 0, 1, 1,\n",
       "       0, 1, 1, 0, 0, 1, 0, 1, 1, 1, 1, 1, 1, 1, 1, 0, 1, 0, 0, 1, 0, 0,\n",
       "       1, 1, 1, 1, 1, 0, 0, 0, 1, 1, 1, 1, 1, 1, 1, 1, 0, 1, 0, 1, 1, 1,\n",
       "       1, 0, 1, 1, 0, 1, 1, 1, 1, 1, 1, 0, 1, 1, 0, 1, 1, 0, 0, 0, 0, 1,\n",
       "       0, 0, 0, 1, 1, 1, 1, 0, 1, 1, 0, 1, 0, 1, 0, 0, 1, 0, 0, 1, 1, 0,\n",
       "       1, 0, 0, 1, 1, 1, 1, 0, 1, 0, 0, 0, 0, 1, 1, 1, 0, 1, 0, 0, 0, 1])"
      ]
     },
     "execution_count": 55,
     "metadata": {},
     "output_type": "execute_result"
    }
   ],
   "source": [
    "pred_initial_test[likely_misclassifications_test]  # Check that they have actually been changed"
   ]
  },
  {
   "cell_type": "code",
   "execution_count": 56,
   "metadata": {
    "colab": {
     "base_uri": "https://localhost:8080/"
    },
    "id": "dGrQerZvfyTC",
    "outputId": "adf9f0e4-ef46-4944-eb49-a05fd834e4b7"
   },
   "outputs": [
    {
     "data": {
      "text/plain": [
       "2      -1\n",
       "9      -2\n",
       "12     -2\n",
       "13     -2\n",
       "15     -2\n",
       "       ..\n",
       "1745   -2\n",
       "1761   -1\n",
       "1768   -1\n",
       "1778   -1\n",
       "1781   -2\n",
       "Length: 264, dtype: int64"
      ]
     },
     "execution_count": 56,
     "metadata": {},
     "output_type": "execute_result"
    }
   ],
   "source": [
    "pred_corrected[likely_misclassifications_test]  # all the results are opposite, so this worked!"
   ]
  },
  {
   "cell_type": "markdown",
   "metadata": {
    "id": "QWMDEVGsOaQT"
   },
   "source": [
    "Time for the grand final, did we reduce the test error?"
   ]
  },
  {
   "cell_type": "code",
   "execution_count": 57,
   "metadata": {
    "colab": {
     "base_uri": "https://localhost:8080/"
    },
    "id": "kI1XuYH8gCS0",
    "outputId": "bc0d59a3-df9a-4627-f4f1-5e64e9df012c"
   },
   "outputs": [
    {
     "name": "stdout",
     "output_type": "stream",
     "text": [
      "Test error after corrected model 1 by model 2: 0.2198\n"
     ]
    }
   ],
   "source": [
    "res_corrected = np.array(pred_corrected) != y_test\n",
    "print(\"Test error after corrected model 1 by model 2: {:.4}\".format(res_corrected.mean()))"
   ]
  },
  {
   "cell_type": "markdown",
   "metadata": {
    "id": "iBOLBv6YhnS_"
   },
   "source": [
    "Hurray!!!\n",
    "\n",
    "A lower test error indicates that our process worked. We were able to lower the error on a test set using a second model which focused on identifying misclassified cases. Let's now examine how gradient boosting relies on similar principles but is a bit more complex in execution."
   ]
  },
  {
   "cell_type": "markdown",
   "metadata": {
    "id": "gIElR_QSOaQa"
   },
   "source": [
    "## Gradient Boosting \n",
    "\n",
    "Gradient boosting is one specific form of boosting (using residuals recursively to increase accuracy). This process begins with an initial simple prediction which is often the mean of the target variable. After, the algorithm iteratively goes through every feature and determines which feature will best reduce this error with a single split. This is essentially a single level tree, or stump. This stump is then chosen and added to the ensemble. Next, residuals are calculated once again and the process continues for as many iterations as deemed necessary.\n",
    " \n",
    "The next application of Gradient Boosting will again be a classification example. Keep in mind that Gradient Boosting can do both regression and classification!"
   ]
  },
  {
   "cell_type": "markdown",
   "metadata": {
    "id": "bs-f_QSdOaQa"
   },
   "source": [
    "## XGBoost with xgb library \n",
    "Different gradient boosting algorithms exist and different implementations exist of each of those. If you want to use the *original gradient boosting machine* as proposed in [Friedman's 2001 paper](https://www.jstor.org/stable/2699986?seq=1) or his [follow-up paper on stochastic gradient boosting](http://dx.doi.org/10.1016/S0167-9473(01)00065-2), we recommend using the class `sklearn.ensemble.GradientBoostingClassifier`. It offers a lot of flexibility (e.g., hyperparameters) and is[ very well documented](https://scikit-learn.org/stable/modules/generated/sklearn.ensemble.GradientBoostingClassifier.html). However, for later data sets, you might want to use **extreme gradient boosting (XGB)**, which was explicitly designed for highly scalable gradient boosting. Below, we demonstrate application of XGB to our credit risk data set.\n",
    "\n",
    "Although `sklearn` does have a version of this algorithm, it is actually common to use the `xgboost` library for training XGB models. To be precise, `sklearn` offers an implementation of XGB but it might not incorporate the latest features. As far as the use is concerned, you will not notice any differences between the `xgboost` library and `sklearn`. However, **you might need to install the `xgboost` library before moving on**."
   ]
  },
  {
   "cell_type": "markdown",
   "metadata": {
    "id": "8pjI7d_dOaQb"
   },
   "source": [
    "### Tuning XGB hyperparameters\n",
    "Our modeling pipeline is exactly as before in the RF example, and in general. We tune hyperparameters using grid-search and cross-validating the training data. Once we determined good hyperparameter settings, we train a XGB model with the corresponding configuration on the entire training set and obtain test set prediction, which we assess using ROC analysis. "
   ]
  },
  {
   "cell_type": "code",
   "execution_count": 59,
   "metadata": {
    "colab": {
     "base_uri": "https://localhost:8080/"
    },
    "id": "HXx-QtShOaQb",
    "outputId": "eb97a514-65fe-451d-d4ab-529fb606ff68"
   },
   "outputs": [
    {
     "data": {
      "text/plain": [
       "GridSearchCV(cv=5,\n",
       "             estimator=XGBClassifier(base_score=None, booster=None,\n",
       "                                     callbacks=None, colsample_bylevel=None,\n",
       "                                     colsample_bynode=None,\n",
       "                                     colsample_bytree=None,\n",
       "                                     early_stopping_rounds=None,\n",
       "                                     enable_categorical=False, eval_metric=None,\n",
       "                                     gamma=None, gpu_id=None, grow_policy=None,\n",
       "                                     importance_type=None,\n",
       "                                     interaction_constraints=None,\n",
       "                                     learning_rate=None, max_bin=None,\n",
       "                                     max_ca...\n",
       "                                     max_delta_step=None, max_depth=None,\n",
       "                                     max_leaves=None, min_child_weight=None,\n",
       "                                     missing=nan, monotone_constraints=None,\n",
       "                                     n_estimators=100, n_jobs=None,\n",
       "                                     num_parallel_tree=None, predictor=None,\n",
       "                                     random_state=None, reg_alpha=None,\n",
       "                                     reg_lambda=None, ...),\n",
       "             param_grid={'colsample_bytree': array([0.5, 0.6, 0.7, 0.8, 0.9]),\n",
       "                         'learning_rate': [0.1, 0.01], 'max_depth': [5, 10],\n",
       "                         'n_estimators': [100, 200]},\n",
       "             scoring='roc_auc')"
      ]
     },
     "execution_count": 59,
     "metadata": {},
     "output_type": "execute_result"
    }
   ],
   "source": [
    "import xgboost as xgb\n",
    "from sklearn.model_selection import GridSearchCV\n",
    "\n",
    "    # Setting up the grid of meta-parameters\n",
    "xgb_param_grid = {\n",
    "    'colsample_bytree': np.linspace(0.5, 0.9, 5),  # random subspace\n",
    "    'n_estimators': [100, 200],  # ensemble size or number of gradient steps\n",
    "    'max_depth': [5, 10],   # max depth of decision trees\n",
    "    'learning_rate': [0.1, 0.01],  # learning rate\n",
    "    }  # early stopping if no improvement after that many iterations\n",
    "\n",
    "gs_xgb = GridSearchCV(estimator=xgb.XGBClassifier(), param_grid=xgb_param_grid, scoring='roc_auc', cv=5, verbose=0)\n",
    "gs_xgb.fit(X_train, y_train)"
   ]
  },
  {
   "cell_type": "code",
   "execution_count": 60,
   "metadata": {
    "colab": {
     "base_uri": "https://localhost:8080/"
    },
    "id": "ltvbOmWfOaQd",
    "outputId": "1b6d6fca-4576-4927-8a16-9bf7d2e67961"
   },
   "outputs": [
    {
     "name": "stdout",
     "output_type": "stream",
     "text": [
      "Best CV AUC: 0.9518\n",
      "Optimal XGB meta-parameters:\n",
      "{'colsample_bytree': 0.6, 'learning_rate': 0.1, 'max_depth': 10, 'n_estimators': 200}\n",
      "XGB test set AUC with optimal meta-parameters: 0.9659\n"
     ]
    }
   ],
   "source": [
    "from sklearn import metrics\n",
    "\n",
    "print(\"Best CV AUC: %0.4f\" % gs_xgb.best_score_)\n",
    "print(\"Optimal XGB meta-parameters:\")\n",
    "print(gs_xgb.best_params_)\n",
    "\n",
    "# Find test set AUC of the best XGB classifier\n",
    "fp_rate, tp_rate, _ = metrics.roc_curve(y_test, gs_xgb.predict_proba(X_test)[:, 1])\n",
    "print('XGB test set AUC with optimal meta-parameters: {:.4f}'.format(metrics.auc(fp_rate, tp_rate) ))"
   ]
  },
  {
   "cell_type": "code",
   "execution_count": 61,
   "metadata": {
    "colab": {
     "base_uri": "https://localhost:8080/",
     "height": 387
    },
    "id": "xV1EIXwqOaQh",
    "outputId": "ea7aa442-1b8e-496d-af1a-dd9295a0792b"
   },
   "outputs": [
    {
     "data": {
      "image/png": "[encoded data removed]",
      "text/plain": [
       "<Figure size 864x432 with 1 Axes>"
      ]
     },
     "metadata": {
      "needs_background": "light"
     },
     "output_type": "display_data"
    }
   ],
   "source": [
    "# The plot is not new but note the use of gs_xgb.best_estimator_ \n",
    "metrics.plot_roc_curve(gs_xgb.best_estimator_, X_test, y_test)\n",
    "plt.plot([0, 1], [0, 1], \"r--\");"
   ]
  },
  {
   "cell_type": "markdown",
   "metadata": {
    "id": "l4rHVeBnOaQk"
   },
   "source": [
    "The XGB models completes our journey through the space of ensemble learning algorithms. We have now covered the maybe most important of-the-shelf machine learning algorithms and you have seen how we can apply them to real-world data. \n",
    "\n",
    "In future tutorials, we will go back to other steps in the machine learning pipeline and learn about yet more possibilities and procedures to derive value from data."
   ]
  },
  {
   "cell_type": "markdown",
   "metadata": {},
   "source": [
    "# A Glimpse at Neural Networks with Pytorch\n",
    "\n",
    "A tiny intro to neural network modeling in Pytorch. Based on https://medium.com/biaslyai/pytorch-introduction-to-neural-network-feedforward-neural-network-model-e7231cff47cb and adapted to our use case.\n",
    "\n",
    "Check the free courses on deep learning, e.g., at https://course.fast.ai/ .\n",
    "\n",
    "Let's first look into backpropagation. You will want to revisit the section on gradient descent in the previous notebook!"
   ]
  },
  {
   "cell_type": "code",
   "execution_count": 4,
   "metadata": {},
   "outputs": [
    {
     "name": "stdout",
     "output_type": "stream",
     "text": [
      "None\n"
     ]
    }
   ],
   "source": [
    "import torch \n",
    "\n",
    "x = torch.ones(1, requires_grad=True)\n",
    "print(x.grad)    # returns None"
   ]
  },
  {
   "cell_type": "code",
   "execution_count": 5,
   "metadata": {},
   "outputs": [
    {
     "name": "stdout",
     "output_type": "stream",
     "text": [
      "tensor([12.])\n"
     ]
    }
   ],
   "source": [
    "x = torch.ones(1, requires_grad=True)\n",
    "y = x + 2\n",
    "z = y * y * 2\n",
    "z.backward()     # automatically calculates the gradient\n",
    "print(x.grad)    # ∂z/∂x = 12"
   ]
  },
  {
   "cell_type": "markdown",
   "metadata": {},
   "source": [
    "### Architectures\n",
    "Pretty cool. Now let's build some architectures. This is easily done by subclassing the nn.Module class in torch. We focus on fully connected feedforward networks. The first architecture is a simple single layer perceptron-type NN. I write perceptron-type as some tiny tweaks and twists are somewhat different to the official perceptron. See https://en.wikipedia.org/wiki/Perceptron. \n",
    "\n",
    "The architecture itself can be seen as a hyperparameter to be tuned on a validation set! Architecture search can, however, be very tedious. In the small example below we simply fix the architectures for three versions of a fully-connected feedforward neural network."
   ]
  },
  {
   "cell_type": "code",
   "execution_count": 6,
   "metadata": {},
   "outputs": [],
   "source": [
    "# perceptron (single layer) - type classifier\n",
    "class Perceptron(torch.nn.Module):\n",
    "    def __init__(self, input_size):\n",
    "        super(Perceptron, self).__init__()\n",
    "        # linear map with weight and bias \n",
    "        self.fc = torch.nn.Linear(input_size,2)\n",
    "    def forward(self, x):\n",
    "        # how the data gets routed through this\n",
    "        output = self.fc(x)\n",
    "        return output \n",
    "# no activation here ... output goes to cross entropy loss in pytorch that does that for us!"
   ]
  },
  {
   "cell_type": "code",
   "execution_count": 7,
   "metadata": {},
   "outputs": [],
   "source": [
    "# one hidden, one output layer FF\n",
    "class Feedforward(torch.nn.Module):\n",
    "    def __init__(self, input_size, hidden_size):\n",
    "        super(Feedforward, self).__init__()\n",
    "        self.fc1 = torch.nn.Linear( input_size, hidden_size)\n",
    "        self.relu = torch.nn.ReLU()\n",
    "        self.fc2 = torch.nn.Linear( hidden_size, 2)\n",
    "    def forward(self, x):\n",
    "        # linear map, then activation, then linear map as output\n",
    "        hidden = self.fc1(x)\n",
    "        relu = self.relu(hidden)\n",
    "        output = self.fc2(relu)\n",
    "        return output"
   ]
  },
  {
   "cell_type": "code",
   "execution_count": 8,
   "metadata": {},
   "outputs": [],
   "source": [
    "# one hidden, one output layer FF\n",
    "class Feedforward_deep(torch.nn.Module):\n",
    "    def __init__(self, input_size, hidden_size_1, hidden_size_2, hidden_size_3 ):\n",
    "        super(Feedforward_deep, self).__init__()\n",
    "        self.relu = torch.nn.ReLU()\n",
    "        self.fc1 = torch.nn.Linear(input_size, hidden_size_1)\n",
    "        self.fc2 = torch.nn.Linear(hidden_size_1, hidden_size_2)\n",
    "        self.fc3 = torch.nn.Linear(hidden_size_2, hidden_size_3)\n",
    "        self.out = torch.nn.Linear(hidden_size_3, 2)\n",
    "\n",
    "    def forward(self, x):\n",
    "        # three hidden layers with relu activation then linear output map\n",
    "        # same principle as above\n",
    "        hidden_1 = self.fc1(x)\n",
    "        hidden_1 = self.relu(hidden_1)\n",
    "        hidden_2 = self.fc2(hidden_1)\n",
    "        hidden_2 = self.relu(hidden_2)\n",
    "        hidden_3 = self.fc3(hidden_2)\n",
    "        hidden_3 = self.relu(hidden_3)\n",
    "        \n",
    "        return self.out(hidden_3)"
   ]
  },
  {
   "cell_type": "markdown",
   "metadata": {},
   "source": [
    "### Dataset and DataLoader Classes\n",
    "Code for processing data samples can get messy and hard to maintain; we ideally want our dataset code to be decoupled from our model training code for better readability and modularity. PyTorch provides two data primitives: torch.utils.data.DataLoader and torch.utils.data.Dataset that allow you to use pre-loaded datasets as well as your own data. Dataset stores the samples and their corresponding labels, and DataLoader wraps an iterable around the Dataset to enable easy access to the samples.\n",
    "\n",
    "Importantly, the dataloader will yield (shuffled) batches of data to have gradient descent operate on batches rather than single data rows! This will ultimately make gradients more stable and the learning path much smoother. \n",
    "\n",
    "In this context you might want to fully grasp the concept of \"tensors\". It is quite understandable if you think of the batch dimension added to a matrix as an example..."
   ]
  },
  {
   "cell_type": "code",
   "execution_count": 9,
   "metadata": {},
   "outputs": [],
   "source": [
    "# need data loader with batch functionality\n",
    "class ourdataset(torch.utils.data.Dataset):\n",
    "    '''  data set class '''\n",
    "    def __init__(self, df_X, df_y,  train=True):\n",
    "        '''\n",
    "        :param df_X: input data frame containing X \n",
    "        :param df_y: input data frame containing y\n",
    "        '''\n",
    "        \n",
    "        df_y = df_y.to_frame()\n",
    "        for k in df_X.columns:\n",
    "            df_X[k] = df_X[k].astype(np.float32)\n",
    "            \n",
    "        # df[X_names] = df[X_names].astype(np.float32)\n",
    "\n",
    "        for k in df_y.columns:\n",
    "            # to binary for classification\n",
    "            df_y[k] = (df_y[k]>0)*1\n",
    "            # change data type to required type\n",
    "            df_y[k] = df_y[k].astype(int)\n",
    "\n",
    "        # set training and test data size\n",
    "        self.train = train\n",
    "\n",
    "        # train / test specs different\n",
    "        self.Xs = df_X.values   #.astype(np.float32)\n",
    "        self.Ys = df_y.values  #.astype(Y_name_types)\n",
    "\n",
    "    # operator overloading for len and item\n",
    "    def __len__(self):\n",
    "        return self.Xs.shape[0]\n",
    "\n",
    "    def __getitem__(self, idx):\n",
    "        return ( self.Xs[idx,...],self.Ys[ [idx],...],idx ) \n",
    "    "
   ]
  },
  {
   "cell_type": "markdown",
   "metadata": {},
   "source": [
    "Let's begin by filling the data loader with the training data used already in the boosting exercise..."
   ]
  },
  {
   "cell_type": "code",
   "execution_count": 10,
   "metadata": {},
   "outputs": [
    {
     "name": "stderr",
     "output_type": "stream",
     "text": [
      "/Users/axelgk/miniconda3/envs/cs330/lib/python3.7/site-packages/ipykernel_launcher.py:12: SettingWithCopyWarning: \n",
      "A value is trying to be set on a copy of a slice from a DataFrame.\n",
      "Try using .loc[row_indexer,col_indexer] = value instead\n",
      "\n",
      "See the caveats in the documentation: https://pandas.pydata.org/pandas-docs/stable/user_guide/indexing.html#returning-a-view-versus-a-copy\n",
      "  if sys.path[0] == '':\n"
     ]
    }
   ],
   "source": [
    "# get generator instance for our train data\n",
    "training_set = ourdataset(X_train, y_train)\n",
    "train_batch_size = 20\n",
    "drop_last_in = False\n",
    "shuffle = True\n",
    "\n",
    "train_loader = torch.utils.data.DataLoader(\n",
    "        training_set, batch_size=train_batch_size, shuffle=shuffle, drop_last=drop_last_in )"
   ]
  },
  {
   "cell_type": "markdown",
   "metadata": {},
   "source": [
    "The next three lines give you instances of model, loss and optimizer. Pretty important choices (and lots of alternatives available)..."
   ]
  },
  {
   "cell_type": "code",
   "execution_count": 11,
   "metadata": {},
   "outputs": [],
   "source": [
    "neuralclass = Feedforward(X_train.shape[1], 5) # instantiate the model\n",
    "\n",
    "# loss and optimizer. Note how the parameters of \"neuralclass\" are linked to the optimizer\n",
    "criterion = torch.nn.CrossEntropyLoss()  # Note: The combination of nn.LogSoftmax and nn.NLLLoss is equivalent to using nn.CrossEntropyLoss\n",
    "optimizer = torch.optim.SGD(neuralclass.parameters(), lr = 0.01)"
   ]
  },
  {
   "cell_type": "markdown",
   "metadata": {},
   "source": [
    "Should have done that before: torch is build on numpy stuff so the booleans have to go. To be safe, let's quickly  transform the rest to float as well. Very inelegant code though:"
   ]
  },
  {
   "cell_type": "code",
   "execution_count": 12,
   "metadata": {
    "scrolled": true
   },
   "outputs": [
    {
     "name": "stderr",
     "output_type": "stream",
     "text": [
      "/Users/axelgk/miniconda3/envs/cs330/lib/python3.7/site-packages/ipykernel_launcher.py:1: SettingWithCopyWarning: \n",
      "A value is trying to be set on a copy of a slice from a DataFrame.\n",
      "Try using .loc[row_indexer,col_indexer] = value instead\n",
      "\n",
      "See the caveats in the documentation: https://pandas.pydata.org/pandas-docs/stable/user_guide/indexing.html#returning-a-view-versus-a-copy\n",
      "  \"\"\"Entry point for launching an IPython kernel.\n",
      "/Users/axelgk/miniconda3/envs/cs330/lib/python3.7/site-packages/ipykernel_launcher.py:2: SettingWithCopyWarning: \n",
      "A value is trying to be set on a copy of a slice from a DataFrame.\n",
      "Try using .loc[row_indexer,col_indexer] = value instead\n",
      "\n",
      "See the caveats in the documentation: https://pandas.pydata.org/pandas-docs/stable/user_guide/indexing.html#returning-a-view-versus-a-copy\n",
      "  \n",
      "/Users/axelgk/miniconda3/envs/cs330/lib/python3.7/site-packages/ipykernel_launcher.py:4: SettingWithCopyWarning: \n",
      "A value is trying to be set on a copy of a slice from a DataFrame.\n",
      "Try using .loc[row_indexer,col_indexer] = value instead\n",
      "\n",
      "See the caveats in the documentation: https://pandas.pydata.org/pandas-docs/stable/user_guide/indexing.html#returning-a-view-versus-a-copy\n",
      "  after removing the cwd from sys.path.\n",
      "/Users/axelgk/miniconda3/envs/cs330/lib/python3.7/site-packages/ipykernel_launcher.py:5: SettingWithCopyWarning: \n",
      "A value is trying to be set on a copy of a slice from a DataFrame.\n",
      "Try using .loc[row_indexer,col_indexer] = value instead\n",
      "\n",
      "See the caveats in the documentation: https://pandas.pydata.org/pandas-docs/stable/user_guide/indexing.html#returning-a-view-versus-a-copy\n",
      "  \"\"\"\n"
     ]
    }
   ],
   "source": [
    "X_test['DEROGzero'] = (X_test['DEROGzero']>0)*1  # make the boolean numeric\n",
    "X_train['DEROGzero'] = (X_train['DEROGzero']>0)*1 # same\n",
    "for k in X_test.columns:\n",
    "    X_test[k] = X_test[k].astype(np.float32)\n",
    "    X_train[k] = X_train[k].astype(np.float32)\n",
    "            \n"
   ]
  },
  {
   "cell_type": "markdown",
   "metadata": {},
   "source": [
    "Now, let's do a first test run just to doublecheck. Without training, we simply feed the full test dataset and see what happens when we compute the loss. After this, we know a) we got the dimensions and loss roughly right and b) we get a test loss value we can compare the post-training losses to..."
   ]
  },
  {
   "cell_type": "code",
   "execution_count": 13,
   "metadata": {},
   "outputs": [
    {
     "name": "stdout",
     "output_type": "stream",
     "text": [
      "Test loss before training 0.592753529548645\n"
     ]
    }
   ],
   "source": [
    "neuralclass.eval() # set to evaluation mode for now\n",
    "y_pred = neuralclass(torch.tensor(X_test.values))   # get predictions \n",
    "before_train = criterion(y_pred.squeeze(), torch.tensor(y_test.values) )\n",
    "print('Test loss before training' , before_train.item())"
   ]
  },
  {
   "cell_type": "markdown",
   "metadata": {},
   "source": [
    "To keep things simple(r) the training will be based on the following function. Most of the time you will want to wrap training, losses and further parameters in a more abstract class which has the model as attribute.\n",
    "\n",
    "Revisit the definitions of epochs and batches in this context."
   ]
  },
  {
   "cell_type": "code",
   "execution_count": 14,
   "metadata": {
    "scrolled": false
   },
   "outputs": [
    {
     "name": "stdout",
     "output_type": "stream",
     "text": [
      "Epoch 0: train loss: 0.514261830794184\n",
      "Epoch 1: train loss: 0.47889554579007004\n",
      "Epoch 2: train loss: 0.46837247245049374\n",
      "Epoch 3: train loss: 0.4593917686830868\n",
      "Epoch 4: train loss: 0.45073084725717616\n",
      "Epoch 5: train loss: 0.44165136126810295\n",
      "Epoch 6: train loss: 0.43359122985002524\n",
      "Epoch 7: train loss: 0.42634154606663993\n",
      "Epoch 8: train loss: 0.4198739373227627\n",
      "Epoch 9: train loss: 0.4139487809684287\n",
      "Epoch 10: train loss: 0.4083899337994424\n",
      "Epoch 11: train loss: 0.4029192570864299\n",
      "Epoch 12: train loss: 0.3986485490673464\n",
      "Epoch 13: train loss: 0.3946206977492883\n",
      "Epoch 14: train loss: 0.39051084601850594\n",
      "Epoch 15: train loss: 0.386952614171083\n",
      "Epoch 16: train loss: 0.3840416783208483\n",
      "Epoch 17: train loss: 0.38217018159667865\n",
      "Epoch 18: train loss: 0.37908681057856985\n",
      "Epoch 19: train loss: 0.3775225949415747\n",
      "Epoch 20: train loss: 0.37525373825616226\n",
      "Epoch 21: train loss: 0.37433345879664265\n",
      "Epoch 22: train loss: 0.373218869799347\n",
      "Epoch 23: train loss: 0.37201497753698864\n",
      "Epoch 24: train loss: 0.37150851811803726\n",
      "Epoch 25: train loss: 0.37041370852284444\n",
      "Epoch 26: train loss: 0.3694632491141414\n",
      "Epoch 27: train loss: 0.36931473701194145\n",
      "Epoch 28: train loss: 0.3685684496064503\n",
      "Epoch 29: train loss: 0.368218863552267\n",
      "Epoch 30: train loss: 0.367945695001828\n",
      "Epoch 31: train loss: 0.3672311196201726\n",
      "Epoch 32: train loss: 0.3673409989647317\n",
      "Epoch 33: train loss: 0.36674348803228163\n",
      "Epoch 34: train loss: 0.36679701556999705\n",
      "Epoch 35: train loss: 0.3658575887956688\n",
      "Epoch 36: train loss: 0.3661180295798768\n",
      "Epoch 37: train loss: 0.365221857882002\n",
      "Epoch 38: train loss: 0.3649956436391082\n",
      "Epoch 39: train loss: 0.364438988945701\n"
     ]
    }
   ],
   "source": [
    "def train_this_model(model, train_loader):\n",
    "    '''\n",
    "    simple function to train a NN model\n",
    "    inputs: model - nn.Module instance\n",
    "            train_loader - nn.TrainLoader instance\n",
    "    outputs: list of loss values per epoch\n",
    "    '''\n",
    "    model.train() # set model to training mode\n",
    "    epochs = 40\n",
    "    all_epoch_losses = []\n",
    "    for epoch in range(epochs):\n",
    "\n",
    "        epch_loss = 0.0  # per epoch loss\n",
    "\n",
    "        for (XB, yB, idxsB) in train_loader:\n",
    "\n",
    "            optimizer.zero_grad()\n",
    "            # Forward pass\n",
    "            y_pred = model(XB)\n",
    "            # Compute Loss\n",
    "            loss = criterion(y_pred, yB.squeeze())\n",
    "\n",
    "            # Backward pass\n",
    "            loss.backward()\n",
    "            optimizer.step()\n",
    "\n",
    "            # add up mini batch losses\n",
    "            epch_loss += loss.item() / len(train_loader)\n",
    "\n",
    "        print('Epoch {}: train loss: {}'.format(epoch, epch_loss) )\n",
    "        all_epoch_losses.append( epch_loss  )\n",
    "    \n",
    "    return all_epoch_losses\n",
    "\n",
    "\n",
    "all_epoch_losses__NNclass = train_this_model(neuralclass, train_loader)"
   ]
  },
  {
   "cell_type": "markdown",
   "metadata": {},
   "source": [
    "Now, let's apply this to the perceptron..."
   ]
  },
  {
   "cell_type": "code",
   "execution_count": 15,
   "metadata": {},
   "outputs": [
    {
     "name": "stdout",
     "output_type": "stream",
     "text": [
      "Epoch 0: train loss: 0.5183417534714111\n",
      "Epoch 1: train loss: 0.43553750915675643\n",
      "Epoch 2: train loss: 0.4225128951825592\n",
      "Epoch 3: train loss: 0.41669589074319613\n",
      "Epoch 4: train loss: 0.41119780494835945\n",
      "Epoch 5: train loss: 0.4081406298507917\n",
      "Epoch 6: train loss: 0.4054538307435202\n",
      "Epoch 7: train loss: 0.40298004512581515\n",
      "Epoch 8: train loss: 0.4002738354736537\n",
      "Epoch 9: train loss: 0.39852340747579995\n",
      "Epoch 10: train loss: 0.3968473265045566\n",
      "Epoch 11: train loss: 0.3954665014547026\n",
      "Epoch 12: train loss: 0.39462729354509324\n",
      "Epoch 13: train loss: 0.3930245024022871\n",
      "Epoch 14: train loss: 0.39218589970084416\n",
      "Epoch 15: train loss: 0.39175141035940103\n",
      "Epoch 16: train loss: 0.39058525625028107\n",
      "Epoch 17: train loss: 0.3895657072155672\n",
      "Epoch 18: train loss: 0.3891801662992633\n",
      "Epoch 19: train loss: 0.3881418862553875\n",
      "Epoch 20: train loss: 0.3877493717025911\n",
      "Epoch 21: train loss: 0.3873571133214322\n",
      "Epoch 22: train loss: 0.38683893927261603\n",
      "Epoch 23: train loss: 0.38643257612246645\n",
      "Epoch 24: train loss: 0.3860391333485336\n",
      "Epoch 25: train loss: 0.38563023147543074\n",
      "Epoch 26: train loss: 0.3852584568079579\n",
      "Epoch 27: train loss: 0.38511295302918097\n",
      "Epoch 28: train loss: 0.3853017568017876\n",
      "Epoch 29: train loss: 0.38484557857068563\n",
      "Epoch 30: train loss: 0.38444641646015626\n",
      "Epoch 31: train loss: 0.3841996880239277\n",
      "Epoch 32: train loss: 0.3842667690589668\n",
      "Epoch 33: train loss: 0.3836082791169865\n",
      "Epoch 34: train loss: 0.3844054784429699\n",
      "Epoch 35: train loss: 0.3839334029187426\n",
      "Epoch 36: train loss: 0.38377878251686026\n",
      "Epoch 37: train loss: 0.3827953854103408\n",
      "Epoch 38: train loss: 0.383358389424365\n",
      "Epoch 39: train loss: 0.38266221244939763\n"
     ]
    }
   ],
   "source": [
    "# train the perceptron-type classifier\n",
    "perc = Perceptron(X_train.shape[1])\n",
    "perc.eval() # set the Percept. to evaluation mode\n",
    "# as before: loss and optimizer\n",
    "criterion = torch.nn.CrossEntropyLoss()  \n",
    "optimizer = torch.optim.SGD(perc.parameters(), lr = 0.01)\n",
    "\n",
    "all_epoch_losses__perc = train_this_model(perc, train_loader)"
   ]
  },
  {
   "cell_type": "markdown",
   "metadata": {},
   "source": [
    "...followed by the deeper fc feedforward..."
   ]
  },
  {
   "cell_type": "code",
   "execution_count": 16,
   "metadata": {},
   "outputs": [
    {
     "name": "stdout",
     "output_type": "stream",
     "text": [
      "Epoch 0: train loss: 0.5479396786986354\n",
      "Epoch 1: train loss: 0.48785804475893824\n",
      "Epoch 2: train loss: 0.4845015569166701\n",
      "Epoch 3: train loss: 0.4825675881793053\n",
      "Epoch 4: train loss: 0.4806990878718891\n",
      "Epoch 5: train loss: 0.47873048327471107\n",
      "Epoch 6: train loss: 0.4755941757032173\n",
      "Epoch 7: train loss: 0.47095678539937785\n",
      "Epoch 8: train loss: 0.4639694848271648\n",
      "Epoch 9: train loss: 0.4559487646276299\n",
      "Epoch 10: train loss: 0.4481353947990818\n",
      "Epoch 11: train loss: 0.44044233102832697\n",
      "Epoch 12: train loss: 0.4334594204522776\n",
      "Epoch 13: train loss: 0.426520659164949\n",
      "Epoch 14: train loss: 0.4201115948018844\n",
      "Epoch 15: train loss: 0.41331316202736357\n",
      "Epoch 16: train loss: 0.40710866059127626\n",
      "Epoch 17: train loss: 0.40091972245554025\n",
      "Epoch 18: train loss: 0.3946614041924477\n",
      "Epoch 19: train loss: 0.38983039593582525\n",
      "Epoch 20: train loss: 0.38520532411536546\n",
      "Epoch 21: train loss: 0.3812747326051219\n",
      "Epoch 22: train loss: 0.37852052592061924\n",
      "Epoch 23: train loss: 0.3753975142845127\n",
      "Epoch 24: train loss: 0.3740178601165707\n",
      "Epoch 25: train loss: 0.37175958999321235\n",
      "Epoch 26: train loss: 0.37075633630512994\n",
      "Epoch 27: train loss: 0.3688953305688202\n",
      "Epoch 28: train loss: 0.36806765833254634\n",
      "Epoch 29: train loss: 0.36721302857667054\n",
      "Epoch 30: train loss: 0.3663269789737948\n",
      "Epoch 31: train loss: 0.3648618409080369\n",
      "Epoch 32: train loss: 0.36518777204615094\n",
      "Epoch 33: train loss: 0.3644868705118671\n",
      "Epoch 34: train loss: 0.36319468505502317\n",
      "Epoch 35: train loss: 0.3627125756307082\n",
      "Epoch 36: train loss: 0.36172967667927597\n",
      "Epoch 37: train loss: 0.36090595460536967\n",
      "Epoch 38: train loss: 0.3604077957035822\n",
      "Epoch 39: train loss: 0.36008334120637486\n"
     ]
    }
   ],
   "source": [
    "neuralclass_deep = Feedforward_deep(X_train.shape[1],10, 5,3)\n",
    "neuralclass_deep.train()\n",
    "# The combination of nn.LogSoftmax and nn.NLLLoss is equivalent to using nn.CrossEntropyLoss\n",
    "criterion = torch.nn.CrossEntropyLoss()  # sigmoid already in loss\n",
    "optimizer = torch.optim.SGD(neuralclass_deep.parameters(), lr = 0.01)\n",
    "\n",
    "all_epoch_losses__NNclass_deep = train_this_model(neuralclass_deep, train_loader)"
   ]
  },
  {
   "cell_type": "markdown",
   "metadata": {},
   "source": [
    "Although this can be done more elegantly in torch itself, let's put sklearn's metrics to use again. We simply have to get the predictions from the network. Note how this is somewhat more involved in pytorch for our particular choice of loss and architecture... another reason for writing a more general class structure that behaves like the sklearn methods we have come to appreciate (.fit, .predict, etc.)"
   ]
  },
  {
   "cell_type": "code",
   "execution_count": 17,
   "metadata": {},
   "outputs": [
    {
     "name": "stdout",
     "output_type": "stream",
     "text": [
      "0.09731543624161074\n",
      "accuracy percep. class: 0.8048098434004475\n",
      "balanced accuracy percep. class: 0.7329295389479982\n",
      "F1 score percep. class: 0.39092495636998253\n"
     ]
    }
   ],
   "source": [
    "from sklearn import metrics \n",
    "\n",
    "# the perceptron\n",
    "perc.eval() # set model to evaluation mode / do not train any more\n",
    "y_pred = perc(torch.tensor(X_test.values))\n",
    "_, y_pred = torch.max(y_pred.data, 1)  \n",
    "y_pred = y_pred.detach().numpy()\n",
    "\n",
    "# just to check:\n",
    "print(np.mean(y_pred))\n",
    "print('accuracy percep. class: '+  str(metrics.accuracy_score(y_pred,y_test)) )\n",
    "print('balanced accuracy percep. class: '+  str(metrics.balanced_accuracy_score(y_pred,y_test)) )\n",
    "print('F1 score percep. class: '+  str(metrics.f1_score(y_pred,y_test) ))\n"
   ]
  },
  {
   "cell_type": "code",
   "execution_count": 18,
   "metadata": {},
   "outputs": [
    {
     "name": "stdout",
     "output_type": "stream",
     "text": [
      "0.12472035794183445\n",
      "accuracy NN class: 0.8165548098434005\n",
      "balanced accuracy NN class: 0.7490852304474276\n",
      "F1 score NN class: 0.4726688102893891\n"
     ]
    }
   ],
   "source": [
    "neuralclass.eval() # set model to evaluation mode / do not train any more\n",
    "y_pred = neuralclass(torch.tensor(X_test.values))\n",
    "_, y_pred = torch.max(y_pred.data, 1)  \n",
    "y_pred = y_pred.detach().numpy()\n",
    "\n",
    "# just to check:\n",
    "print(np.mean(y_pred))\n",
    "print('accuracy NN class: '+  str(metrics.accuracy_score(y_pred,y_test)) )\n",
    "print('balanced accuracy NN class: '+  str(metrics.balanced_accuracy_score(y_pred,y_test)) )\n",
    "print('F1 score NN class: '+  str(metrics.f1_score(y_pred,y_test) ))"
   ]
  },
  {
   "cell_type": "code",
   "execution_count": 19,
   "metadata": {},
   "outputs": [
    {
     "name": "stdout",
     "output_type": "stream",
     "text": [
      "0.13366890380313198\n",
      "accuracy NN class (deep): 0.8187919463087249\n",
      "balanced accuracy NN class (deep): 0.7503369699981902\n",
      "F1 score NN class (deep): 0.4921630094043886\n"
     ]
    }
   ],
   "source": [
    "neuralclass_deep.eval() # set model to evaluation mode / do not train any more\n",
    "y_pred = neuralclass_deep(torch.tensor(X_test.values))\n",
    "_, y_pred = torch.max(y_pred.data, 1)  \n",
    "y_pred = y_pred.detach().numpy()\n",
    "\n",
    "# just to check:\n",
    "print(np.mean(y_pred))\n",
    "print('accuracy NN class (deep): '+  str(metrics.accuracy_score(y_pred,y_test)) )\n",
    "print('balanced accuracy NN class (deep): '+  str(metrics.balanced_accuracy_score(y_pred,y_test)) )\n",
    "print('F1 score NN class (deep): '+  str(metrics.f1_score(y_pred,y_test) ))"
   ]
  },
  {
   "cell_type": "markdown",
   "metadata": {},
   "source": [
    "Let's revisit the boosting example and compare to the NNs:"
   ]
  },
  {
   "cell_type": "code",
   "execution_count": 186,
   "metadata": {},
   "outputs": [],
   "source": [
    "boost_pred = gs_xgb.best_estimator_.predict( X_test )"
   ]
  },
  {
   "cell_type": "code",
   "execution_count": 187,
   "metadata": {},
   "outputs": [
    {
     "name": "stdout",
     "output_type": "stream",
     "text": [
      "accuracy: 0.9121923937360179\n",
      "balanced accuracy: 0.9045366795366796\n",
      "F1 score: 0.7779349363507779\n"
     ]
    }
   ],
   "source": [
    "print('accuracy: '+  str(metrics.accuracy_score(boost_pred,y_test)) )\n",
    "print('balanced accuracy: '+  str(metrics.balanced_accuracy_score(boost_pred,y_test)) )\n",
    "print('F1 score: '+  str(metrics.f1_score(boost_pred,y_test) ))"
   ]
  },
  {
   "cell_type": "markdown",
   "metadata": {},
   "source": [
    "It's also good practice (mandatory even) to look at the loss over time. This should be done with tensorboard (that's a strength of tensorflow over pytorch). For now, let's use plain vanilla matplotlib plots:"
   ]
  },
  {
   "cell_type": "code",
   "execution_count": 20,
   "metadata": {},
   "outputs": [
    {
     "data": {
      "text/plain": [
       "<matplotlib.legend.Legend at 0x7fd1dd82b190>"
      ]
     },
     "execution_count": 20,
     "metadata": {},
     "output_type": "execute_result"
    },
    {
     "data": {
      "image/png": "[encoded data removed]",
      "text/plain": [
       "<Figure size 864x432 with 1 Axes>"
      ]
     },
     "metadata": {
      "needs_background": "light"
     },
     "output_type": "display_data"
    }
   ],
   "source": [
    "plt.plot( np.array(range(0,len(all_epoch_losses__NNclass))), all_epoch_losses__NNclass, label = 'NN class');\n",
    "plt.plot( np.array(range(0,len(all_epoch_losses__NNclass_deep))), all_epoch_losses__NNclass_deep, label = 'NN class deep');\n",
    "plt.plot( np.array(range(0,len(all_epoch_losses__perc))), all_epoch_losses__perc, label = 'percep class');\n",
    "plt.legend()"
   ]
  },
  {
   "cell_type": "code",
   "execution_count": null,
   "metadata": {},
   "outputs": [],
   "source": []
  }
 ],
 "metadata": {
  "colab": {
   "collapsed_sections": [
    "XN9VQW87OaNl",
    "7PFd6oVUtXNI",
    "4ZaQ61X4hJSS",
    "8pjI7d_dOaQb"
   ],
   "name": "8_nb_ensemble_learningmodelling",
   "provenance": []
  },
  "kernelspec": {
   "display_name": "Python 3",
   "language": "python",
   "name": "python3"
  },
  "language_info": {
   "codemirror_mode": {
    "name": "ipython",
    "version": 3
   },
   "file_extension": ".py",
   "mimetype": "text/x-python",
   "name": "python",
   "nbconvert_exporter": "python",
   "pygments_lexer": "ipython3",
   "version": "3.7.10"
  }
 },
 "nbformat": 4,
 "nbformat_minor": 4
}
