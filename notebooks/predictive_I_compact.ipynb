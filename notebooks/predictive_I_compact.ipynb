{
  "cells": [
    {
      "cell_type": "markdown",
      "metadata": {
        "id": "llvzUsvELHVa"
      },
      "source": [
        "# Predictive Analytics \n",
        "The lecture has introduced the standard data structure for predictive analytics. We need data with input variables and a **target variable**. The goal of predictive analytics is to derive a functional relationship between the input variables and the target. We assume that we can observe, measure, or control the input variables. Hence, our predictive model (the functional relationship between inputs and the target that we infer from past data), facilitates forecasting the expected value of the target variable based on the input variables. Whenever we observe a new case, we gather the values of the input variables for that case and feed them into our prediction model. Receiving that input, the model will produce a forecast of the target variable value for that case. So, predictive analytics is all about finding *good* **input-to-output mappings**. You can think of linear regression. Formally speaking, a linear regression function maps inputs $\\boldsymbol x = {x_1, x_2, ..., x_d}$ from the domain $X \\in  \\mathbb{R}^d$ to the outputs $y \\in  \\mathbb{R}$. \n",
        "\n",
        "Recall from the lecture that many alternative terms are in use to refer to the input variables. Covariates, (independent) variables, attributes are only a few examples. In the interest of having consistent terminology, we will use the term **features** instead of input variables in the following. \n",
        "\n",
        "Here is the outline:\n",
        "- Classification \n",
        "- Model Selection via Cross-Validation\n",
        "- Regression"
      ]
    },
    {
      "cell_type": "code",
      "execution_count": null,
      "metadata": {
        "id": "wYtW-__8lqag"
      },
      "outputs": [],
      "source": [
        "import numpy as np\n",
        "import matplotlib.pyplot as plt\n",
        "import pandas as pd \n",
        "from sklearn.model_selection import train_test_split\n",
        "import seaborn as sns\n",
        "import scipy\n",
        "\n",
        "# Some configuration of the plots we will create later\n",
        "%matplotlib inline  \n",
        "plt.rcParams[\"figure.figsize\"] = (12,6)"
      ]
    },
    {
      "cell_type": "markdown",
      "metadata": {
        "id": "ETTiNKcKlqal"
      },
      "source": [
        "# Classification\n",
        "\n",
        "Classification differs from regression in the scaling of the target variable. Regression assumes a numeric target variable, like sales, whereas classification assumes a discrete target. \n",
        "\n",
        "A surprisingly large number of real-life (business) problems can be framed as a two-class classification problem. \n",
        "\n",
        "For simplicity, we consider a *two-class* or *binary* setting in the following. Assume you want to predict whether a machine is going to break in the next week. Break or do not break are the two possible states (i.e., classes). The features could then be the temperature of the machine and the time since when it has been running.\n",
        "\n",
        "## Data for the Classification Study\n",
        "\n",
        "Also as usual, we need some data to play with. Given our focus on classification and given that we know the data quite well by now, we will continue with the **HMEQ data set**. "
      ]
    },
    {
      "cell_type": "code",
      "execution_count": null,
      "metadata": {
        "colab": {
          "base_uri": "https://localhost:8080/",
          "height": 302
        },
        "id": "-f_td166lqam",
        "outputId": "4e2a4ccf-faeb-4ce8-f037-af942cc5d53a"
      },
      "outputs": [
        {
          "output_type": "execute_result",
          "data": {
            "text/plain": [
              "         BAD      LOAN   MORTDUE     VALUE       YOJ     CLAGE      NINQ  \\\n",
              "index                                                                      \n",
              "0       True -1.832283 -1.295882 -1.335526  0.266788 -1.075278 -0.065054   \n",
              "1       True -1.810666 -0.013474 -0.672699 -0.236615 -0.723092 -0.826792   \n",
              "2       True -1.789048 -1.654549 -1.839275 -0.668103 -0.368769 -0.065054   \n",
              "3       True -1.789048 -0.159552 -0.202559 -0.236615 -0.061033 -0.065054   \n",
              "4      False -1.767431  0.791699  0.311107 -0.811933 -1.088528 -0.826792   \n",
              "\n",
              "           CLNO   DEBTINC  DEROGzero  REASON_HomeImp  REASON_IsMissing  \\\n",
              "index                                                                    \n",
              "0     -1.297476  0.137456       True               1                 0   \n",
              "1     -0.756608  0.137456       True               1                 0   \n",
              "2     -1.189302  0.137456       True               1                 0   \n",
              "3     -0.107566  0.137456       True               0                 1   \n",
              "4     -0.756608  0.137456       True               1                 0   \n",
              "\n",
              "       JOB_Office  JOB_Other  JOB_ProfExe  JOB_Sales  JOB_Self  DELINQcat_1  \\\n",
              "index                                                                         \n",
              "0               0          1            0          0         0            0   \n",
              "1               0          1            0          0         0            0   \n",
              "2               0          1            0          0         0            0   \n",
              "3               0          1            0          0         0            0   \n",
              "4               1          0            0          0         0            0   \n",
              "\n",
              "       DELINQcat_1+  \n",
              "index                \n",
              "0                 0  \n",
              "1                 1  \n",
              "2                 0  \n",
              "3                 0  \n",
              "4                 0  "
            ],
            "text/html": [
              "\n",
              "  <div id=\"df-f4c025ab-8b97-4bd3-b6fb-5cb97a8fd909\">\n",
              "    <div class=\"colab-df-container\">\n",
              "      <div>\n",
              "<style scoped>\n",
              "    .dataframe tbody tr th:only-of-type {\n",
              "        vertical-align: middle;\n",
              "    }\n",
              "\n",
              "    .dataframe tbody tr th {\n",
              "        vertical-align: top;\n",
              "    }\n",
              "\n",
              "    .dataframe thead th {\n",
              "        text-align: right;\n",
              "    }\n",
              "</style>\n",
              "<table border=\"1\" class=\"dataframe\">\n",
              "  <thead>\n",
              "    <tr style=\"text-align: right;\">\n",
              "      <th></th>\n",
              "      <th>BAD</th>\n",
              "      <th>LOAN</th>\n",
              "      <th>MORTDUE</th>\n",
              "      <th>VALUE</th>\n",
              "      <th>YOJ</th>\n",
              "      <th>CLAGE</th>\n",
              "      <th>NINQ</th>\n",
              "      <th>CLNO</th>\n",
              "      <th>DEBTINC</th>\n",
              "      <th>DEROGzero</th>\n",
              "      <th>REASON_HomeImp</th>\n",
              "      <th>REASON_IsMissing</th>\n",
              "      <th>JOB_Office</th>\n",
              "      <th>JOB_Other</th>\n",
              "      <th>JOB_ProfExe</th>\n",
              "      <th>JOB_Sales</th>\n",
              "      <th>JOB_Self</th>\n",
              "      <th>DELINQcat_1</th>\n",
              "      <th>DELINQcat_1+</th>\n",
              "    </tr>\n",
              "    <tr>\n",
              "      <th>index</th>\n",
              "      <th></th>\n",
              "      <th></th>\n",
              "      <th></th>\n",
              "      <th></th>\n",
              "      <th></th>\n",
              "      <th></th>\n",
              "      <th></th>\n",
              "      <th></th>\n",
              "      <th></th>\n",
              "      <th></th>\n",
              "      <th></th>\n",
              "      <th></th>\n",
              "      <th></th>\n",
              "      <th></th>\n",
              "      <th></th>\n",
              "      <th></th>\n",
              "      <th></th>\n",
              "      <th></th>\n",
              "      <th></th>\n",
              "    </tr>\n",
              "  </thead>\n",
              "  <tbody>\n",
              "    <tr>\n",
              "      <th>0</th>\n",
              "      <td>True</td>\n",
              "      <td>-1.832283</td>\n",
              "      <td>-1.295882</td>\n",
              "      <td>-1.335526</td>\n",
              "      <td>0.266788</td>\n",
              "      <td>-1.075278</td>\n",
              "      <td>-0.065054</td>\n",
              "      <td>-1.297476</td>\n",
              "      <td>0.137456</td>\n",
              "      <td>True</td>\n",
              "      <td>1</td>\n",
              "      <td>0</td>\n",
              "      <td>0</td>\n",
              "      <td>1</td>\n",
              "      <td>0</td>\n",
              "      <td>0</td>\n",
              "      <td>0</td>\n",
              "      <td>0</td>\n",
              "      <td>0</td>\n",
              "    </tr>\n",
              "    <tr>\n",
              "      <th>1</th>\n",
              "      <td>True</td>\n",
              "      <td>-1.810666</td>\n",
              "      <td>-0.013474</td>\n",
              "      <td>-0.672699</td>\n",
              "      <td>-0.236615</td>\n",
              "      <td>-0.723092</td>\n",
              "      <td>-0.826792</td>\n",
              "      <td>-0.756608</td>\n",
              "      <td>0.137456</td>\n",
              "      <td>True</td>\n",
              "      <td>1</td>\n",
              "      <td>0</td>\n",
              "      <td>0</td>\n",
              "      <td>1</td>\n",
              "      <td>0</td>\n",
              "      <td>0</td>\n",
              "      <td>0</td>\n",
              "      <td>0</td>\n",
              "      <td>1</td>\n",
              "    </tr>\n",
              "    <tr>\n",
              "      <th>2</th>\n",
              "      <td>True</td>\n",
              "      <td>-1.789048</td>\n",
              "      <td>-1.654549</td>\n",
              "      <td>-1.839275</td>\n",
              "      <td>-0.668103</td>\n",
              "      <td>-0.368769</td>\n",
              "      <td>-0.065054</td>\n",
              "      <td>-1.189302</td>\n",
              "      <td>0.137456</td>\n",
              "      <td>True</td>\n",
              "      <td>1</td>\n",
              "      <td>0</td>\n",
              "      <td>0</td>\n",
              "      <td>1</td>\n",
              "      <td>0</td>\n",
              "      <td>0</td>\n",
              "      <td>0</td>\n",
              "      <td>0</td>\n",
              "      <td>0</td>\n",
              "    </tr>\n",
              "    <tr>\n",
              "      <th>3</th>\n",
              "      <td>True</td>\n",
              "      <td>-1.789048</td>\n",
              "      <td>-0.159552</td>\n",
              "      <td>-0.202559</td>\n",
              "      <td>-0.236615</td>\n",
              "      <td>-0.061033</td>\n",
              "      <td>-0.065054</td>\n",
              "      <td>-0.107566</td>\n",
              "      <td>0.137456</td>\n",
              "      <td>True</td>\n",
              "      <td>0</td>\n",
              "      <td>1</td>\n",
              "      <td>0</td>\n",
              "      <td>1</td>\n",
              "      <td>0</td>\n",
              "      <td>0</td>\n",
              "      <td>0</td>\n",
              "      <td>0</td>\n",
              "      <td>0</td>\n",
              "    </tr>\n",
              "    <tr>\n",
              "      <th>4</th>\n",
              "      <td>False</td>\n",
              "      <td>-1.767431</td>\n",
              "      <td>0.791699</td>\n",
              "      <td>0.311107</td>\n",
              "      <td>-0.811933</td>\n",
              "      <td>-1.088528</td>\n",
              "      <td>-0.826792</td>\n",
              "      <td>-0.756608</td>\n",
              "      <td>0.137456</td>\n",
              "      <td>True</td>\n",
              "      <td>1</td>\n",
              "      <td>0</td>\n",
              "      <td>1</td>\n",
              "      <td>0</td>\n",
              "      <td>0</td>\n",
              "      <td>0</td>\n",
              "      <td>0</td>\n",
              "      <td>0</td>\n",
              "      <td>0</td>\n",
              "    </tr>\n",
              "  </tbody>\n",
              "</table>\n",
              "</div>\n",
              "      <button class=\"colab-df-convert\" onclick=\"convertToInteractive('df-f4c025ab-8b97-4bd3-b6fb-5cb97a8fd909')\"\n",
              "              title=\"Convert this dataframe to an interactive table.\"\n",
              "              style=\"display:none;\">\n",
              "        \n",
              "  <svg xmlns=\"http://www.w3.org/2000/svg\" height=\"24px\"viewBox=\"0 0 24 24\"\n",
              "       width=\"24px\">\n",
              "    <path d=\"M0 0h24v24H0V0z\" fill=\"none\"/>\n",
              "    <path d=\"M18.56 5.44l.94 2.06.94-2.06 2.06-.94-2.06-.94-.94-2.06-.94 2.06-2.06.94zm-11 1L8.5 8.5l.94-2.06 2.06-.94-2.06-.94L8.5 2.5l-.94 2.06-2.06.94zm10 10l.94 2.06.94-2.06 2.06-.94-2.06-.94-.94-2.06-.94 2.06-2.06.94z\"/><path d=\"M17.41 7.96l-1.37-1.37c-.4-.4-.92-.59-1.43-.59-.52 0-1.04.2-1.43.59L10.3 9.45l-7.72 7.72c-.78.78-.78 2.05 0 2.83L4 21.41c.39.39.9.59 1.41.59.51 0 1.02-.2 1.41-.59l7.78-7.78 2.81-2.81c.8-.78.8-2.07 0-2.86zM5.41 20L4 18.59l7.72-7.72 1.47 1.35L5.41 20z\"/>\n",
              "  </svg>\n",
              "      </button>\n",
              "      \n",
              "  <style>\n",
              "    .colab-df-container {\n",
              "      display:flex;\n",
              "      flex-wrap:wrap;\n",
              "      gap: 12px;\n",
              "    }\n",
              "\n",
              "    .colab-df-convert {\n",
              "      background-color: #E8F0FE;\n",
              "      border: none;\n",
              "      border-radius: 50%;\n",
              "      cursor: pointer;\n",
              "      display: none;\n",
              "      fill: #1967D2;\n",
              "      height: 32px;\n",
              "      padding: 0 0 0 0;\n",
              "      width: 32px;\n",
              "    }\n",
              "\n",
              "    .colab-df-convert:hover {\n",
              "      background-color: #E2EBFA;\n",
              "      box-shadow: 0px 1px 2px rgba(60, 64, 67, 0.3), 0px 1px 3px 1px rgba(60, 64, 67, 0.15);\n",
              "      fill: #174EA6;\n",
              "    }\n",
              "\n",
              "    [theme=dark] .colab-df-convert {\n",
              "      background-color: #3B4455;\n",
              "      fill: #D2E3FC;\n",
              "    }\n",
              "\n",
              "    [theme=dark] .colab-df-convert:hover {\n",
              "      background-color: #434B5C;\n",
              "      box-shadow: 0px 1px 3px 1px rgba(0, 0, 0, 0.15);\n",
              "      filter: drop-shadow(0px 1px 2px rgba(0, 0, 0, 0.3));\n",
              "      fill: #FFFFFF;\n",
              "    }\n",
              "  </style>\n",
              "\n",
              "      <script>\n",
              "        const buttonEl =\n",
              "          document.querySelector('#df-f4c025ab-8b97-4bd3-b6fb-5cb97a8fd909 button.colab-df-convert');\n",
              "        buttonEl.style.display =\n",
              "          google.colab.kernel.accessAllowed ? 'block' : 'none';\n",
              "\n",
              "        async function convertToInteractive(key) {\n",
              "          const element = document.querySelector('#df-f4c025ab-8b97-4bd3-b6fb-5cb97a8fd909');\n",
              "          const dataTable =\n",
              "            await google.colab.kernel.invokeFunction('convertToInteractive',\n",
              "                                                     [key], {});\n",
              "          if (!dataTable) return;\n",
              "\n",
              "          const docLinkHtml = 'Like what you see? Visit the ' +\n",
              "            '<a target=\"_blank\" href=https://colab.research.google.com/notebooks/data_table.ipynb>data table notebook</a>'\n",
              "            + ' to learn more about interactive tables.';\n",
              "          element.innerHTML = '';\n",
              "          dataTable['output_type'] = 'display_data';\n",
              "          await google.colab.output.renderOutput(dataTable, element);\n",
              "          const docLink = document.createElement('div');\n",
              "          docLink.innerHTML = docLinkHtml;\n",
              "          element.appendChild(docLink);\n",
              "        }\n",
              "      </script>\n",
              "    </div>\n",
              "  </div>\n",
              "  "
            ]
          },
          "metadata": {},
          "execution_count": 2
        }
      ],
      "source": [
        "df = pd.read_csv('https://www.dropbox.com/s/7zke6vkgb8y16ss/hmeq_modeling.csv?dl=1', index_col=\"index\")\n",
        "\n",
        "\n",
        "# Split data into target and features\n",
        "pd_X = df.drop(['BAD'], axis=1) \n",
        "pd_y = df['BAD'].astype(int)  # also make the target an integer value\n",
        "\n",
        "# no dev set this time, we will use cross-validation on the train data\n",
        "X_train, X_test, y_train, y_test = train_test_split( pd_X, pd_y, test_size=0.3, random_state=42)\n",
        "\n",
        "\n",
        "df.head(5) "
      ]
    },
    {
      "cell_type": "markdown",
      "metadata": {
        "id": "Is9eCWlClqau"
      },
      "source": [
        "\n",
        "\n",
        "## Training Prediction models\n",
        "Finally, since we aim at assessing predictions, we need to obtain some predictions in the first place. Let's quickly build a logit and a tree model for our data. "
      ]
    },
    {
      "cell_type": "code",
      "execution_count": null,
      "metadata": {
        "colab": {
          "base_uri": "https://localhost:8080/"
        },
        "id": "5Lb9Ujwtlqay",
        "outputId": "305b122f-5326-45a6-f28a-18088f735214"
      },
      "outputs": [
        {
          "output_type": "execute_result",
          "data": {
            "text/plain": [
              "LogisticRegression(penalty='none')"
            ]
          },
          "metadata": {},
          "execution_count": 3
        }
      ],
      "source": [
        "# Estimate a logit model\n",
        "from sklearn.linear_model import LogisticRegression\n",
        "\n",
        "logit = LogisticRegression(penalty='none', fit_intercept=True)\n",
        "logit.fit(X_train, y_train)"
      ]
    },
    {
      "cell_type": "code",
      "execution_count": null,
      "metadata": {
        "colab": {
          "base_uri": "https://localhost:8080/"
        },
        "id": "5OAzxQ9olqa9",
        "outputId": "7b3ebc3d-fb35-49de-a200-3bcec69c9ff9"
      },
      "outputs": [
        {
          "output_type": "execute_result",
          "data": {
            "text/plain": [
              "DecisionTreeClassifier(max_depth=5)"
            ]
          },
          "metadata": {},
          "execution_count": 4
        }
      ],
      "source": [
        "# Estimate a CART tree\n",
        "from sklearn.tree import DecisionTreeClassifier\n",
        "\n",
        "tree = DecisionTreeClassifier(criterion='gini', max_depth=5)\n",
        "tree.fit(X_train, y_train)"
      ]
    },
    {
      "cell_type": "markdown",
      "metadata": {
        "id": "4gpwDkiIlqbB"
      },
      "source": [
        "## Prediction"
      ]
    },
    {
      "cell_type": "markdown",
      "metadata": {
        "id": "2LjuGHbnlqbB"
      },
      "source": [
        "\n",
        "To generate prediction from a trained model, we simply apply it to data. You already know the `predict()` function in action."
      ]
    },
    {
      "cell_type": "code",
      "execution_count": null,
      "metadata": {
        "colab": {
          "base_uri": "https://localhost:8080/",
          "height": 390
        },
        "id": "Su0FaZ-mlqbC",
        "outputId": "ea247c2e-45f4-49c7-fdf6-36991ac42c0f"
      },
      "outputs": [
        {
          "output_type": "display_data",
          "data": {
            "text/plain": [
              "<Figure size 864x432 with 4 Axes>"
            ],
            "image/png": "[encoded data removed]"
          },
          "metadata": {
            "needs_background": "light"
          }
        }
      ],
      "source": [
        "# We collect predictions into a dataframe for easy visualization\n",
        "df_pred = pd.DataFrame({'y': y_test, 'cart': tree.predict(X_test), 'logit': logit.predict(X_test)})  \n",
        "df_pred.hist();"
      ]
    },
    {
      "cell_type": "markdown",
      "metadata": {
        "id": "IBfMjs4GcY7Z"
      },
      "source": [
        "How to interpret these graphs? Well, many points are noteworthy:\n",
        "- the data is imbalanced, $y$ shows less ones (bad clients) than zeros (good clients).\n",
        "- CART and logit pick-up the imbalance and predict class 0 more often.\n",
        "- CART and logit indeed predict classes. All predictions are either zero or one, and never anything in between.\n",
        "\n",
        "Given the latter point, let's create some probabilistic predictions using the function `predict_proba()`. Remember that `sklearn` classification models routinely offer both functions, `predict()` and `predict_proba()`, for producing discrete and probabilistic predictions, respectively."
      ]
    },
    {
      "cell_type": "code",
      "execution_count": null,
      "metadata": {
        "colab": {
          "base_uri": "https://localhost:8080/"
        },
        "id": "wzwwjf-mcY7a",
        "outputId": "22a769e0-2050-4293-a0d7-4b0ecb621597"
      },
      "outputs": [
        {
          "output_type": "stream",
          "name": "stdout",
          "text": [
            "[[0.93186683 0.06813317]\n",
            " [0.93798714 0.06201286]\n",
            " [0.73778796 0.26221204]\n",
            " ...\n",
            " [0.96003058 0.03996942]\n",
            " [0.85082524 0.14917476]\n",
            " [0.52209895 0.47790105]]\n"
          ]
        }
      ],
      "source": [
        "# Add probabilistic predictions to our dataframe\n",
        "p = logit.predict_proba(X_test)\n",
        "print(p)  # this is a 2D array"
      ]
    },
    {
      "cell_type": "markdown",
      "metadata": {
        "id": "Gdkz-ChqlqbK"
      },
      "source": [
        "Note that the result `p`, which we compute above, is an $n \\times 2$ array. An array was to be expected as we calculate predictions for the $n$ data instances (rows) in $X$. But why have two outputs per data instance? Well, the answer is that we have two classes, and get probability estimates for each of these classes. When storing model predictions for later use, we only need the probabilities for one of the classes. Always make sure you **understand which class predictions you keep.** Examining the `classes_` attribute of a model class helps us.   "
      ]
    },
    {
      "cell_type": "code",
      "execution_count": null,
      "metadata": {
        "colab": {
          "base_uri": "https://localhost:8080/"
        },
        "id": "QzNazHkilqbK",
        "outputId": "b0c74b0f-856a-4964-a191-8958e63204a4"
      },
      "outputs": [
        {
          "output_type": "stream",
          "name": "stdout",
          "text": [
            "[0 1]\n"
          ]
        }
      ],
      "source": [
        "print(logit.classes_)"
      ]
    },
    {
      "cell_type": "markdown",
      "metadata": {
        "id": "ZWz3AFtnlqbO"
      },
      "source": [
        "This says that we have two classes with class labels zero and one, respectively. Thus, to extract the estimated probabilities of the class with label zero, we can call `p[:,0]`. Likewise, `p[:,1]` gives the estimated membership probabilities of the second class with the label one. This is a bit complicated in the beginning but we have to get used to it. Below, we combine the indexing directly with calling `predict_proba()`, which is common practice, and keep the predictions associated with the second class. In our data, the class label one indicates that a borrower was a bad risk."
      ]
    },
    {
      "cell_type": "code",
      "execution_count": null,
      "metadata": {
        "colab": {
          "base_uri": "https://localhost:8080/",
          "height": 825
        },
        "id": "8qjv7xS2lqbP",
        "outputId": "aa3b2d4e-0f3b-4e75-950b-9380552c27d4"
      },
      "outputs": [
        {
          "output_type": "display_data",
          "data": {
            "text/plain": [
              "<Figure size 1440x1008 with 6 Axes>"
            ],
            "image/png": "[encoded data removed]"
          },
          "metadata": {
            "needs_background": "light"
          }
        }
      ],
      "source": [
        "# Augment data frame with predictions\n",
        "df_pred[\"p_logit\"] = p[:,1]\n",
        "df_pred[\"p_tree\"] = tree.predict_proba(X_test)[:,1]\n",
        "\n",
        "# Also plot the probabilistic predictions\n",
        "df_pred.hist(figsize=(20,14));"
      ]
    },
    {
      "cell_type": "markdown",
      "metadata": {
        "id": "PcLLr2oliQpQ"
      },
      "source": [
        "Did you notice the different distribution of the predictions from the logit model compared to the tree model in the histograms? One could draw several conclusions from the plots. Make sure to think about and understand the following statement:\n",
        "\n",
        "*The number of distinct values among the probability estimates coming from the tree is upper bounded by (and often equivalent to) the number of leaf nodes in a classification tree*\n",
        "\n",
        "We will not elaborate on that statement here, but, at least, verify the claim empirically."
      ]
    },
    {
      "cell_type": "code",
      "execution_count": null,
      "metadata": {
        "colab": {
          "base_uri": "https://localhost:8080/"
        },
        "id": "pLhmUn03iQpR",
        "outputId": "60f4d621-b063-4f67-a347-6823be99e5e5"
      },
      "outputs": [
        {
          "output_type": "stream",
          "name": "stdout",
          "text": [
            "The number of unique predictions from the tree is: 15.\n",
            "The number of leaf nodes in the tree is: 23.\n"
          ]
        }
      ],
      "source": [
        "# Calculate the number of distinct values among the tree predictions\n",
        "n_p_tree =  len(np.unique(df_pred[\"p_tree\"]))\n",
        "print('The number of unique predictions from the tree is: {}.'.format(n_p_tree))\n",
        "\n",
        "# Extract the size of the tree in terms of the number of nodes\n",
        "print('The number of leaf nodes in the tree is: {}.'.format(tree.get_n_leaves()))\n"
      ]
    },
    {
      "cell_type": "markdown",
      "metadata": {
        "id": "CTz5hUD0iQpR"
      },
      "source": [
        "So here, there are more leaf nodes than unique predictions, which is consistent with the above statement. Why does it has to be like that? Fair enough if you find the question trivial, but we want to make sure you fully understand how trees predict probabilities. "
      ]
    },
    {
      "cell_type": "markdown",
      "metadata": {
        "id": "A75mB19slqbS"
      },
      "source": [
        "## Measures of predictive accuracy \n",
        "Accuracy indicators help us evaluate how well our model predicts the target. We compute them by **comparing actuals to predictions**. One easy way to do so is by using the `score()` function."
      ]
    },
    {
      "cell_type": "code",
      "execution_count": null,
      "metadata": {
        "colab": {
          "base_uri": "https://localhost:8080/"
        },
        "id": "mJ7z0KHHlqbS",
        "outputId": "3c1913cb-5c79-46ad-f632-e37d020cd0fa"
      },
      "outputs": [
        {
          "output_type": "stream",
          "name": "stdout",
          "text": [
            "Logit model scores 0.8121\n",
            "Tree model scores 0.882\n"
          ]
        }
      ],
      "source": [
        "print('Logit model scores {:.4}'.format(logit.score(X_test, y_test)))\n",
        "print('Tree model scores {:.4}'.format(tree.score(X_test, y_test)))"
      ]
    },
    {
      "cell_type": "markdown",
      "metadata": {
        "id": "YBGfL_rOlqbV"
      },
      "source": [
        "Wow, so easy. Really? Yes! But what actually is that score? Are higher scores better or should the score be low? We call functions like `score()` convenience functions. They are easy to use but hide many - often important - details. Look into the help to see what `score()` is really computing. "
      ]
    },
    {
      "cell_type": "markdown",
      "metadata": {
        "id": "6zp6vF6glqbZ"
      },
      "source": [
        "Ok, **after reading the help** you now know that `score()` calculates *classification accuracy*. We defined that measure in the lecture as\n",
        "$$ \\frac{TP+TN}{P+N}$$\n",
        "whereby the TP, TN denote the number of true positive and true negative classifications and T and N represent the real number of positives and negatives. \n",
        "\n",
        "But is the accuracy score really helpful here?"
      ]
    },
    {
      "cell_type": "markdown",
      "metadata": {
        "id": "v8tBsZqWlqbg"
      },
      "source": [
        "### Confusion matrix\n",
        "A confusion matrix is a cross-table of predicted and actual classes. As such, it provides more insight into a classifier compared to the classification accuracy measure, which summarizes the whole confusion table in a single number."
      ]
    },
    {
      "cell_type": "code",
      "execution_count": null,
      "metadata": {
        "colab": {
          "base_uri": "https://localhost:8080/"
        },
        "id": "C5umH6b1lqbh",
        "outputId": "f7059b53-1df2-4d57-b037-6c5d29e2d1eb"
      },
      "outputs": [
        {
          "output_type": "stream",
          "name": "stdout",
          "text": [
            "[[1326   63]\n",
            " [ 273  126]]\n"
          ]
        }
      ],
      "source": [
        "from sklearn import metrics  # Important lib where we find various performance measures\n",
        "\n",
        "# 1. Quick and dirty way to get a confusion table\n",
        "cmat = metrics.confusion_matrix(y_test, logit.predict(X_test)) \n",
        "print(cmat)"
      ]
    },
    {
      "cell_type": "code",
      "execution_count": null,
      "metadata": {
        "colab": {
          "base_uri": "https://localhost:8080/",
          "height": 443
        },
        "id": "0g23rlJ6lqbj",
        "outputId": "ad92cb72-b816-457d-9c29-e17f3a333a79"
      },
      "outputs": [
        {
          "output_type": "stream",
          "name": "stderr",
          "text": [
            "/usr/local/lib/python3.7/dist-packages/sklearn/utils/deprecation.py:87: FutureWarning: Function plot_confusion_matrix is deprecated; Function `plot_confusion_matrix` is deprecated in 1.0 and will be removed in 1.2. Use one of the class methods: ConfusionMatrixDisplay.from_predictions or ConfusionMatrixDisplay.from_estimator.\n",
            "  warnings.warn(msg, category=FutureWarning)\n"
          ]
        },
        {
          "output_type": "display_data",
          "data": {
            "text/plain": [
              "<Figure size 864x432 with 2 Axes>"
            ],
            "image/png": "[encoded data removed]"
          },
          "metadata": {
            "needs_background": "light"
          }
        }
      ],
      "source": [
        "# 2. Pretty-print confusion matrix\n",
        "metrics.plot_confusion_matrix(logit, X_test, y_test, labels=[0, 1], \n",
        "                              display_labels=['Goods(0)', 'Bads(1)'], cmap='Blues',values_format='n')\n",
        "plt.show()"
      ]
    },
    {
      "cell_type": "markdown",
      "metadata": {
        "id": "1zUq9_Dwlqbl"
      },
      "source": [
        "Classification accuracy simply calculates the number of correct class predictions (main diagonal) over all cases. Correct predictions are twofold. We can classify a good customer as good customer and we can classify a bad customer as bad customer. Likewise, our classifier can make two errors, classifying an actually good customer as bad and classifying an actually bad customer as good. We find the numbers of these errors in the off-diagonal of the confusion matrix."
      ]
    },
    {
      "cell_type": "markdown",
      "metadata": {
        "id": "o3N29dRuQP8r"
      },
      "source": [
        "A good model will maximize the **True Positive Rate**,\n",
        "\n",
        "$$TPR=\\frac{TP}{P},$$\n",
        "\n",
        "and the **True Negative Rate**,\n",
        "\n",
        "$$TNR=\\frac{TN}{N},$$\n",
        "\n",
        "where P and N denote the real number of positives and negatives, respectively."
      ]
    },
    {
      "cell_type": "markdown",
      "metadata": {
        "id": "DFoEYZO6QP8r"
      },
      "source": [
        "Evaluation metrics that pick up the idea of looking simultaneously at the two metrics TPR and TNR are the balanced accuracy (BA), \n",
        "\n",
        "$$BA=\\frac{TPR+TNR}{2},$$\n",
        "\n",
        "as well as the \n",
        "\n",
        "**F1-Score** \n",
        "\n",
        "and the **ROCAUC** score. \n",
        "\n",
        "ROCAUC is short for Receiver Operating Characteristic Area under the Curve. \n",
        "\n",
        "In cases with highly imbalanced class distribution (like the credit dataset at hand) it can be very instructive to look at scores that take into account the individual class accuracies to better balance them out. Let's consider an example:\n",
        "\n",
        "Suppose you have 100% TPR and 0% TNR. In case of equally distributed positives and negatives in your data (50% P and 50% N) this means **50% accuracy** and **50% balanced accuracy**. However, suppose you have 80% positives and just 20% negatives. This translates to **80% accuracy** but still just **50% balanced accuracy**. To get 80% balanced accuracy, you would need 60% TNR instead of the 0%! Hence, depending on your problem, your classifier might not be as good as the accuracy suggests!\n"
      ]
    },
    {
      "cell_type": "code",
      "execution_count": null,
      "metadata": {
        "scrolled": true,
        "colab": {
          "base_uri": "https://localhost:8080/"
        },
        "id": "NYsKv3NBQP8r",
        "outputId": "10ce969c-ee48-4f6a-d0ef-0db534aefe4c"
      },
      "outputs": [
        {
          "output_type": "stream",
          "name": "stdout",
          "text": [
            "logistic regr bal. acc score on test: 0.6352165510969648\n",
            "tree bal. acc score on test: 0.8079350644429648\n",
            "logistic regr f1 score on test: 0.42857142857142855\n",
            "tree f1 score on test: 0.7182910547396529\n",
            "logistic regr ROCAUC score on test: 0.7926980879123655\n",
            "tree ROCAUC score on test: 0.8747002495439462\n"
          ]
        }
      ],
      "source": [
        "# the balanced accuracy:\n",
        "print('logistic regr bal. acc score on test: ' +  str(\n",
        "    metrics.balanced_accuracy_score(y_test, logit.predict(X_test))) )\n",
        "print('tree bal. acc score on test: ' +  str(\n",
        "    metrics.balanced_accuracy_score(y_test, tree.predict(X_test))) )\n",
        "\n",
        "# the F1 score:\n",
        "print('logistic regr f1 score on test: ' +  str(\n",
        "    metrics.f1_score(y_test, logit.predict(X_test))) )\n",
        "print('tree f1 score on test: ' +  str(\n",
        "    metrics.f1_score(y_test, tree.predict(X_test))) )\n",
        "\n",
        "# the ROCAUC score:\n",
        "print('logistic regr ROCAUC score on test: ' +  str(\n",
        "    metrics.roc_auc_score(y_test, logit.predict_proba(X_test)[:,1])) )\n",
        "print('tree ROCAUC score on test: ' +  str(\n",
        "    metrics.roc_auc_score(y_test, tree.predict_proba(X_test)[:,1])) )"
      ]
    },
    {
      "cell_type": "markdown",
      "metadata": {
        "id": "bKmL5dScQP8s"
      },
      "source": [
        "We see that the overreliance on one class gets punished a lot in some scores."
      ]
    },
    {
      "cell_type": "markdown",
      "metadata": {
        "id": "-bUQ77Evlqb4"
      },
      "source": [
        "# Model Selection via Cross-validation\n",
        "Cross validation is an extension of the split sample method. It consists of repeating the train data split multiple times.\n",
        "\n",
        "Step by step:\n",
        "- Randomly split training data in N disjoint folds (E.g., N=5) \n",
        "- Build model on N-1 folds \n",
        "- Apply trained model to produce predictions for cases in the left-out fold (i.e., validation sample) \n",
        "- Measure model performance by comparing actuals to predictions using the validation sample\n",
        "- Repeat the above steps N times \n",
        "- Average model performance over the N validation folds  \n",
        "- You can also estimate the standard deviation of model performance (e.g., for statistical hypothesis testing)\n",
        "\n",
        "Unlike the split sample (holdout) approach, cross-validation considers all training (plus validation/development) data for model building and validation and is, therefore, more efficient in its use of the available data. It's called exhaustive for this reason. "
      ]
    },
    {
      "cell_type": "markdown",
      "metadata": {
        "id": "r8xjF2ZzQP8s"
      },
      "source": [
        "## Decision Tree Hyperparameter Tuning with Cross-Validation\n"
      ]
    },
    {
      "cell_type": "code",
      "execution_count": null,
      "metadata": {
        "colab": {
          "base_uri": "https://localhost:8080/"
        },
        "id": "FQNyMCimQP8s",
        "outputId": "d079b2b6-0876-4481-d0f2-3e5a67407a65"
      },
      "outputs": [
        {
          "output_type": "stream",
          "name": "stdout",
          "text": [
            "Tuning decision tree classifier\n",
            "Fitting 5 folds for each of 6 candidates, totalling 30 fits\n"
          ]
        },
        {
          "output_type": "execute_result",
          "data": {
            "text/plain": [
              "GridSearchCV(cv=5, estimator=DecisionTreeClassifier(random_state=888),\n",
              "             param_grid={'max_depth': [2, 5, 7, 10, 20, 30]}, scoring='roc_auc',\n",
              "             verbose=1)"
            ]
          },
          "metadata": {},
          "execution_count": 14
        }
      ],
      "source": [
        "from sklearn.ensemble import RandomForestClassifier  # import library\n",
        "from sklearn.model_selection import GridSearchCV\n",
        "\n",
        "print('Tuning decision tree classifier')\n",
        "dtree = DecisionTreeClassifier(criterion='gini',random_state=888)\n",
        "\n",
        "# Define meta-parameter grid of candidate settings\n",
        "# The following settings are just for illustration\n",
        "param_grid = {\n",
        "              'max_depth': [2,5,7,10,20,30]\n",
        "              }\n",
        "\n",
        "# Set up the grid object specifying the tuning options\n",
        "gs_dt = GridSearchCV(dtree, param_grid, cv=5, scoring='roc_auc', verbose=1)\n",
        "gs_dt.fit(X_train, y_train.values.ravel())\n"
      ]
    },
    {
      "cell_type": "code",
      "execution_count": null,
      "metadata": {
        "colab": {
          "base_uri": "https://localhost:8080/"
        },
        "id": "1VSysF-RQP8t",
        "outputId": "bd41bc1a-4ae0-4d43-a1fc-52d439308ca9"
      },
      "outputs": [
        {
          "output_type": "execute_result",
          "data": {
            "text/plain": [
              "{'max_depth': 7}"
            ]
          },
          "metadata": {},
          "execution_count": 15
        }
      ],
      "source": [
        "# but what are the optimal params (as per CV)?\n",
        "gs_dt.best_params_"
      ]
    },
    {
      "cell_type": "markdown",
      "metadata": {
        "id": "CBb1vJ16QP8t"
      },
      "source": [
        "Let's check the performance vs. the logistic reg and the decision tree without hyperparameter optimization with the CV."
      ]
    },
    {
      "cell_type": "code",
      "execution_count": null,
      "metadata": {
        "colab": {
          "base_uri": "https://localhost:8080/"
        },
        "id": "QhNdNB1PQP8t",
        "outputId": "ec4c6800-fd0c-4ba4-e943-14fe7b07b675"
      },
      "outputs": [
        {
          "output_type": "stream",
          "name": "stdout",
          "text": [
            "dec. tree regr ROCAUC score on test: 0.8747002495439462\n",
            "logistic regr ROCAUC score on test: 0.7926980879123655\n",
            "optimal dec. tree ROCAUC score on test: 0.8803803966359384\n"
          ]
        }
      ],
      "source": [
        "print('dec. tree regr ROCAUC score on test: ' +  str(metrics.roc_auc_score(y_test, tree.predict_proba(X_test)[:,1])) )\n",
        "print('logistic regr ROCAUC score on test: ' +  str(metrics.roc_auc_score(y_test, logit.predict_proba(X_test)[:,1])) )\n",
        "print('optimal dec. tree ROCAUC score on test: ' +  str(metrics.roc_auc_score(y_test, gs_dt.predict_proba(X_test)[:,1])) )"
      ]
    },
    {
      "cell_type": "markdown",
      "metadata": {
        "id": "PrNFSh7TQP8t"
      },
      "source": [
        "The hyperparameter tuning worked. The optimized model generalizes slightly better than the decision tree with depth 5. Not a landslide victory, though. "
      ]
    },
    {
      "cell_type": "markdown",
      "metadata": {
        "id": "Hj6ZhpltQP8u"
      },
      "source": [
        "## A Note on Overfitting \n",
        "\n",
        "To see a really good example of a model that can easily be overfit, we can take a look at decision trees. Decision trees are rather complex and highly nonlinear models. When trees are grown too deep, they start to internalize idiosyncacies (noise) of the specific data that they were fed. This means that they \"assume\" that all little random variations in the train data will occur in test sets as well.\n",
        "\n",
        "Let's take a look at what this looks like by generating a tracking the AUC of a decision tree on training and test data as we increase the **depth** of the tree."
      ]
    },
    {
      "cell_type": "code",
      "execution_count": null,
      "metadata": {
        "id": "8nTZQScyQP8u"
      },
      "outputs": [],
      "source": [
        "from sklearn import tree\n",
        "\n",
        "train_auc_list = []\n",
        "test_auc_list = []\n",
        "\n",
        "for n in range(1,30):\n",
        "  # Fit tree to training data\n",
        "  dt = tree.DecisionTreeClassifier(max_depth=n, random_state=888)\n",
        "  dt = dt.fit(X_train, y_train)\n",
        "  \n",
        "  # Predictions and metrics for training data\n",
        "  dt_train_pred = dt.predict(X_train)\n",
        "  auc = metrics.roc_auc_score(y_train, dt_train_pred)\n",
        "  train_auc_list.append(auc)\n",
        "  \n",
        "  # Predictions and metrics for test data\n",
        "  dt_test_pred = dt.predict(X_test)\n",
        "  auc = metrics.roc_auc_score(y_test, dt_test_pred)\n",
        "  test_auc_list.append(auc)"
      ]
    },
    {
      "cell_type": "code",
      "execution_count": null,
      "metadata": {
        "colab": {
          "base_uri": "https://localhost:8080/",
          "height": 388
        },
        "id": "IQ42wYidQP8u",
        "outputId": "38d3033a-bfcd-4bf4-fa62-09f647126039"
      },
      "outputs": [
        {
          "output_type": "display_data",
          "data": {
            "text/plain": [
              "<Figure size 864x432 with 1 Axes>"
            ],
            "image/png": "[encoded data removed]"
          },
          "metadata": {
            "needs_background": "light"
          }
        }
      ],
      "source": [
        "plt.plot(range(1,30), train_auc_list, c='b', label=\"train\")\n",
        "plt.plot(range(1,30), test_auc_list, c='r', label=\"test\")\n",
        "plt.ylabel(\"AUC\")\n",
        "plt.xlabel(\"Tree depth\")\n",
        "plt.legend(loc=\"best\")\n",
        "plt.show()"
      ]
    },
    {
      "cell_type": "markdown",
      "metadata": {
        "id": "MA_lFhCuQP8u"
      },
      "source": [
        "Almost textbook! Apparently an ever increasing complexity (tree depth) does not lead to better generalization. Instead, the optimal tree depth that gives good generalization on the test dataset is around 5-7. "
      ]
    },
    {
      "cell_type": "markdown",
      "metadata": {
        "id": "JtDaVUJ3QP8v"
      },
      "source": [
        "# Regression\n",
        "\n",
        "In statistical modeling, regression analysis is a set of statistical processes for estimating the relationships between a **continuous** dependent variable (often called the 'outcome' or 'response' variable, or a 'label' in machine learning parlance) and one or more independent variables (often called 'predictors', 'covariates', 'explanatory variables' or 'features'). The most common form of regression analysis is linear regression, in which one finds the line (or a more complex linear combination) that most closely fits the data according to a specific mathematical criterion. \n",
        "\n",
        "In predictive analytics, regression will always refer to problems involving a non-categorical (but continuous) dependent variable, i.e. a dependent variable that can attain any real number. An example would be the turnover of a large shop (like amazon) which can be anything from 0 cents in the startup phase to multi-billion dollars."
      ]
    },
    {
      "cell_type": "code",
      "execution_count": null,
      "metadata": {
        "scrolled": false,
        "colab": {
          "base_uri": "https://localhost:8080/",
          "height": 206
        },
        "id": "JncLdpjVQP8v",
        "outputId": "e9629930-9e7e-49aa-b770-09172a6ec287"
      },
      "outputs": [
        {
          "output_type": "execute_result",
          "data": {
            "text/plain": [
              "   age     sex     bmi  children smoker     region      charges\n",
              "0   19  female  27.900         0    yes  southwest  16884.92400\n",
              "1   18    male  33.770         1     no  southeast   1725.55230\n",
              "2   28    male  33.000         3     no  southeast   4449.46200\n",
              "3   33    male  22.705         0     no  northwest  21984.47061\n",
              "4   32    male  28.880         0     no  northwest   3866.85520"
            ],
            "text/html": [
              "\n",
              "  <div id=\"df-59d0ee78-539b-4872-9e8c-8818072fda00\">\n",
              "    <div class=\"colab-df-container\">\n",
              "      <div>\n",
              "<style scoped>\n",
              "    .dataframe tbody tr th:only-of-type {\n",
              "        vertical-align: middle;\n",
              "    }\n",
              "\n",
              "    .dataframe tbody tr th {\n",
              "        vertical-align: top;\n",
              "    }\n",
              "\n",
              "    .dataframe thead th {\n",
              "        text-align: right;\n",
              "    }\n",
              "</style>\n",
              "<table border=\"1\" class=\"dataframe\">\n",
              "  <thead>\n",
              "    <tr style=\"text-align: right;\">\n",
              "      <th></th>\n",
              "      <th>age</th>\n",
              "      <th>sex</th>\n",
              "      <th>bmi</th>\n",
              "      <th>children</th>\n",
              "      <th>smoker</th>\n",
              "      <th>region</th>\n",
              "      <th>charges</th>\n",
              "    </tr>\n",
              "  </thead>\n",
              "  <tbody>\n",
              "    <tr>\n",
              "      <th>0</th>\n",
              "      <td>19</td>\n",
              "      <td>female</td>\n",
              "      <td>27.900</td>\n",
              "      <td>0</td>\n",
              "      <td>yes</td>\n",
              "      <td>southwest</td>\n",
              "      <td>16884.92400</td>\n",
              "    </tr>\n",
              "    <tr>\n",
              "      <th>1</th>\n",
              "      <td>18</td>\n",
              "      <td>male</td>\n",
              "      <td>33.770</td>\n",
              "      <td>1</td>\n",
              "      <td>no</td>\n",
              "      <td>southeast</td>\n",
              "      <td>1725.55230</td>\n",
              "    </tr>\n",
              "    <tr>\n",
              "      <th>2</th>\n",
              "      <td>28</td>\n",
              "      <td>male</td>\n",
              "      <td>33.000</td>\n",
              "      <td>3</td>\n",
              "      <td>no</td>\n",
              "      <td>southeast</td>\n",
              "      <td>4449.46200</td>\n",
              "    </tr>\n",
              "    <tr>\n",
              "      <th>3</th>\n",
              "      <td>33</td>\n",
              "      <td>male</td>\n",
              "      <td>22.705</td>\n",
              "      <td>0</td>\n",
              "      <td>no</td>\n",
              "      <td>northwest</td>\n",
              "      <td>21984.47061</td>\n",
              "    </tr>\n",
              "    <tr>\n",
              "      <th>4</th>\n",
              "      <td>32</td>\n",
              "      <td>male</td>\n",
              "      <td>28.880</td>\n",
              "      <td>0</td>\n",
              "      <td>no</td>\n",
              "      <td>northwest</td>\n",
              "      <td>3866.85520</td>\n",
              "    </tr>\n",
              "  </tbody>\n",
              "</table>\n",
              "</div>\n",
              "      <button class=\"colab-df-convert\" onclick=\"convertToInteractive('df-59d0ee78-539b-4872-9e8c-8818072fda00')\"\n",
              "              title=\"Convert this dataframe to an interactive table.\"\n",
              "              style=\"display:none;\">\n",
              "        \n",
              "  <svg xmlns=\"http://www.w3.org/2000/svg\" height=\"24px\"viewBox=\"0 0 24 24\"\n",
              "       width=\"24px\">\n",
              "    <path d=\"M0 0h24v24H0V0z\" fill=\"none\"/>\n",
              "    <path d=\"M18.56 5.44l.94 2.06.94-2.06 2.06-.94-2.06-.94-.94-2.06-.94 2.06-2.06.94zm-11 1L8.5 8.5l.94-2.06 2.06-.94-2.06-.94L8.5 2.5l-.94 2.06-2.06.94zm10 10l.94 2.06.94-2.06 2.06-.94-2.06-.94-.94-2.06-.94 2.06-2.06.94z\"/><path d=\"M17.41 7.96l-1.37-1.37c-.4-.4-.92-.59-1.43-.59-.52 0-1.04.2-1.43.59L10.3 9.45l-7.72 7.72c-.78.78-.78 2.05 0 2.83L4 21.41c.39.39.9.59 1.41.59.51 0 1.02-.2 1.41-.59l7.78-7.78 2.81-2.81c.8-.78.8-2.07 0-2.86zM5.41 20L4 18.59l7.72-7.72 1.47 1.35L5.41 20z\"/>\n",
              "  </svg>\n",
              "      </button>\n",
              "      \n",
              "  <style>\n",
              "    .colab-df-container {\n",
              "      display:flex;\n",
              "      flex-wrap:wrap;\n",
              "      gap: 12px;\n",
              "    }\n",
              "\n",
              "    .colab-df-convert {\n",
              "      background-color: #E8F0FE;\n",
              "      border: none;\n",
              "      border-radius: 50%;\n",
              "      cursor: pointer;\n",
              "      display: none;\n",
              "      fill: #1967D2;\n",
              "      height: 32px;\n",
              "      padding: 0 0 0 0;\n",
              "      width: 32px;\n",
              "    }\n",
              "\n",
              "    .colab-df-convert:hover {\n",
              "      background-color: #E2EBFA;\n",
              "      box-shadow: 0px 1px 2px rgba(60, 64, 67, 0.3), 0px 1px 3px 1px rgba(60, 64, 67, 0.15);\n",
              "      fill: #174EA6;\n",
              "    }\n",
              "\n",
              "    [theme=dark] .colab-df-convert {\n",
              "      background-color: #3B4455;\n",
              "      fill: #D2E3FC;\n",
              "    }\n",
              "\n",
              "    [theme=dark] .colab-df-convert:hover {\n",
              "      background-color: #434B5C;\n",
              "      box-shadow: 0px 1px 3px 1px rgba(0, 0, 0, 0.15);\n",
              "      filter: drop-shadow(0px 1px 2px rgba(0, 0, 0, 0.3));\n",
              "      fill: #FFFFFF;\n",
              "    }\n",
              "  </style>\n",
              "\n",
              "      <script>\n",
              "        const buttonEl =\n",
              "          document.querySelector('#df-59d0ee78-539b-4872-9e8c-8818072fda00 button.colab-df-convert');\n",
              "        buttonEl.style.display =\n",
              "          google.colab.kernel.accessAllowed ? 'block' : 'none';\n",
              "\n",
              "        async function convertToInteractive(key) {\n",
              "          const element = document.querySelector('#df-59d0ee78-539b-4872-9e8c-8818072fda00');\n",
              "          const dataTable =\n",
              "            await google.colab.kernel.invokeFunction('convertToInteractive',\n",
              "                                                     [key], {});\n",
              "          if (!dataTable) return;\n",
              "\n",
              "          const docLinkHtml = 'Like what you see? Visit the ' +\n",
              "            '<a target=\"_blank\" href=https://colab.research.google.com/notebooks/data_table.ipynb>data table notebook</a>'\n",
              "            + ' to learn more about interactive tables.';\n",
              "          element.innerHTML = '';\n",
              "          dataTable['output_type'] = 'display_data';\n",
              "          await google.colab.output.renderOutput(dataTable, element);\n",
              "          const docLink = document.createElement('div');\n",
              "          docLink.innerHTML = docLinkHtml;\n",
              "          element.appendChild(docLink);\n",
              "        }\n",
              "      </script>\n",
              "    </div>\n",
              "  </div>\n",
              "  "
            ]
          },
          "metadata": {},
          "execution_count": 19
        }
      ],
      "source": [
        "df = pd.read_csv('https://www.dropbox.com/s/pvroyzt1ctdxjvy/insurance.csv?dl=1')\n",
        "\n",
        "# Split data into target and features\n",
        "pd_X = df.drop(['charges'], axis=1) \n",
        "pd_y = df['charges'].astype(int)  # also make the target an integer value\n",
        "\n",
        "# no dev set this time, we will use cross-validation on the train data\n",
        "X_train, X_test, y_train, y_test = train_test_split( pd_X, pd_y, test_size=0.3, random_state=23)\n",
        "\n",
        "y_train_0, y_test_0 = y_train, y_test\n",
        "\n",
        "# a train data set\n",
        "df_train = X_train.merge(y_train, left_index = True, right_index = True)\n",
        "\n",
        "df.head(5) "
      ]
    },
    {
      "cell_type": "markdown",
      "metadata": {
        "id": "Z1MSyNJKQP8v"
      },
      "source": [
        "Let's check the variable types:"
      ]
    },
    {
      "cell_type": "code",
      "execution_count": null,
      "metadata": {
        "scrolled": false,
        "colab": {
          "base_uri": "https://localhost:8080/"
        },
        "id": "-y4PDDSwQP8v",
        "outputId": "6fd9529c-cf72-440f-f1e9-eabb2e38cf7a"
      },
      "outputs": [
        {
          "output_type": "stream",
          "name": "stdout",
          "text": [
            "<class 'pandas.core.frame.DataFrame'>\n",
            "RangeIndex: 1338 entries, 0 to 1337\n",
            "Data columns (total 7 columns):\n",
            " #   Column    Non-Null Count  Dtype  \n",
            "---  ------    --------------  -----  \n",
            " 0   age       1338 non-null   int64  \n",
            " 1   sex       1338 non-null   object \n",
            " 2   bmi       1338 non-null   float64\n",
            " 3   children  1338 non-null   int64  \n",
            " 4   smoker    1338 non-null   object \n",
            " 5   region    1338 non-null   object \n",
            " 6   charges   1338 non-null   float64\n",
            "dtypes: float64(2), int64(2), object(3)\n",
            "memory usage: 73.3+ KB\n"
          ]
        }
      ],
      "source": [
        "df.info()"
      ]
    },
    {
      "cell_type": "markdown",
      "metadata": {
        "id": "rRPn3CLyQP8w"
      },
      "source": [
        "The dependent variable will be the charges. Let's take a closer look. "
      ]
    },
    {
      "cell_type": "code",
      "execution_count": null,
      "metadata": {
        "colab": {
          "base_uri": "https://localhost:8080/",
          "height": 391
        },
        "id": "oVw1ZgVrQP8w",
        "outputId": "1b4d3629-f229-4331-a8b7-2a27cc1e3b8a"
      },
      "outputs": [
        {
          "output_type": "execute_result",
          "data": {
            "text/plain": [
              "<matplotlib.axes._subplots.AxesSubplot at 0x7f8b8a3f0d10>"
            ]
          },
          "metadata": {},
          "execution_count": 21
        },
        {
          "output_type": "display_data",
          "data": {
            "text/plain": [
              "<Figure size 864x432 with 1 Axes>"
            ],
            "image/png": "[encoded data removed]"
          },
          "metadata": {
            "needs_background": "light"
          }
        }
      ],
      "source": [
        "# plot of the charges vs observation number\n",
        "sns.lineplot(x=df_train.index, y = df_train['charges'])"
      ]
    },
    {
      "cell_type": "markdown",
      "metadata": {
        "id": "UqQafjHoQP8w"
      },
      "source": [
        "The data type object flags already that we might have an issue in these columns. Let's do proper data-preprocessing first."
      ]
    },
    {
      "cell_type": "markdown",
      "metadata": {
        "id": "W_V6bYi2QP8w"
      },
      "source": [
        "## Data Pre-Processing Review\n",
        "\n",
        "We want to address three issues with the data:\n",
        "\n",
        "1) spotting and replacing missing values (if there are any)\n",
        "\n",
        "2) apply box-cox-type transforms where needed\n",
        "\n",
        "3) decide whether outlier-correction is needed\n",
        "\n",
        "4) encode the categorical variables\n",
        "\n",
        "Let's first plot histograms of the numerical variables in order to answer 2+3."
      ]
    },
    {
      "cell_type": "code",
      "execution_count": null,
      "metadata": {
        "colab": {
          "base_uri": "https://localhost:8080/",
          "height": 1000
        },
        "id": "VUlENEizQP8w",
        "outputId": "cea0ec2b-44b3-49f3-c15f-21ae53a473bf"
      },
      "outputs": [
        {
          "output_type": "display_data",
          "data": {
            "text/plain": [
              "<Figure size 360x360 with 1 Axes>"
            ],
            "image/png": "[encoded data removed]"
          },
          "metadata": {
            "needs_background": "light"
          }
        },
        {
          "output_type": "display_data",
          "data": {
            "text/plain": [
              "<Figure size 360x360 with 1 Axes>"
            ],
            "image/png": "[encoded data removed]"
          },
          "metadata": {
            "needs_background": "light"
          }
        },
        {
          "output_type": "display_data",
          "data": {
            "text/plain": [
              "<Figure size 360x360 with 1 Axes>"
            ],
            "image/png": "[encoded data removed]"
          },
          "metadata": {
            "needs_background": "light"
          }
        },
        {
          "output_type": "display_data",
          "data": {
            "text/plain": [
              "<Figure size 360x360 with 1 Axes>"
            ],
            "image/png": "[encoded data removed]"
          },
          "metadata": {
            "needs_background": "light"
          }
        }
      ],
      "source": [
        "# plot the distributions ... \n",
        "sns.displot(df['charges']); sns.displot(df['bmi']); sns.displot(df['age']); sns.displot(df['children']); "
      ]
    },
    {
      "cell_type": "markdown",
      "metadata": {
        "id": "ZUx6qw1wQP8x"
      },
      "source": [
        "### Your Code for Data Pre-Processing!"
      ]
    },
    {
      "cell_type": "code",
      "execution_count": null,
      "metadata": {
        "id": "92bHpv6MQP8x"
      },
      "outputs": [],
      "source": [
        "# 1\n",
        "# spotting missing values\n",
        "# remember the line from the data-preprocessing notebook:\n",
        "\n",
        "# sns.heatmap(df.isnull(), cbar=False);  # quick visualization of the missing values in our data set\n",
        "# df.isnull().sum().sum() # count the numbers\n"
      ]
    },
    {
      "cell_type": "code",
      "execution_count": null,
      "metadata": {
        "id": "sSug7xy9QP8x"
      },
      "outputs": [],
      "source": [
        "# 2\n",
        "# box cox type transforms\n",
        "# the sklearn code for a feature\n",
        "# bc_fitted_feature, opt_lambda = scipy.stats.boxcox(feature+1) # Again, we are adding 1 because all features have 0s (not allowed in BC)\n"
      ]
    },
    {
      "cell_type": "code",
      "execution_count": null,
      "metadata": {
        "id": "93V5qHuJQP8x"
      },
      "outputs": [],
      "source": [
        "# 3\n",
        "# outlier cleaning\n",
        "# Do we have a problem? If so, use the method from the data_preprocessing notebook\n",
        "# One boxplot for each variable\n",
        "#\n",
        "## first plot the interquartile ranges (box-plot!)\n",
        "# num_vars = df.select_dtypes(exclude=['object'])\n",
        "# num_vars.plot(kind = 'box', subplots=True);\n",
        "\n",
        "# the custom function to handle outliers \n",
        "def outlier_truncation(x, factor=1.5):\n",
        "    '''\n",
        "    Identifies outlier values based on the inter-quartile range IQR. \n",
        "    Corresponding outliers are truncated and set to a contant value equal to the IQR\n",
        "    times a factor, which, following Tuckey's rule, we set to 1.5 by default\n",
        "    \n",
        "        Parameters:\n",
        "            x (Pandas Series): A data frame column to scan for outliers\n",
        "            factor (float): An outlier is a value this many times the IQR above q3/below q1\n",
        "            \n",
        "        Returns:\n",
        "            Adjusted variable in which outliers are truncated\n",
        "    '''\n",
        "    x_new = x.copy()\n",
        "    \n",
        "    # Calculate IQR\n",
        "    IQR = x.quantile(0.75) - x.quantile(0.25) \n",
        "    \n",
        "    # Define upper/lower bound\n",
        "    upper = x.quantile(0.75) + factor*IQR\n",
        "    lower = x.quantile(0.25) - factor*IQR\n",
        "    \n",
        "    # Truncation\n",
        "    x_new[x < lower] = lower\n",
        "    x_new[x > upper] = upper\n",
        "    \n",
        "    return x_new\n",
        "\n"
      ]
    },
    {
      "cell_type": "code",
      "execution_count": null,
      "metadata": {
        "id": "Kl6OGfdQQP8y"
      },
      "outputs": [],
      "source": [
        "# 4\n",
        "# encode the categorical variables\n",
        "# we have to apply this to the full dataset\n",
        "train_len = len(X_train)\n",
        "# full data\n",
        "X_full = pd.concat(objs=[X_train, X_test], axis=0)\n",
        "\n",
        "## remember the old encoding code from the data preprocessing notebook:\n",
        "# X_full = pd.get_dummies(X_full, columns = ['REASON', 'JOB'], drop_first=True)\n",
        "# X_train_dummies = X_full[:train_len]\n",
        "# X_test_dummies = X_full[train_len:]\n"
      ]
    },
    {
      "cell_type": "markdown",
      "metadata": {
        "id": "HNrAqXjnQP8y"
      },
      "source": [
        "## Data Pre-Processing Solution"
      ]
    },
    {
      "cell_type": "code",
      "execution_count": null,
      "metadata": {
        "id": "ibu4l4o4QP8y"
      },
      "outputs": [],
      "source": []
    },
    {
      "cell_type": "code",
      "execution_count": null,
      "metadata": {
        "id": "cz4GTm0nQP8y"
      },
      "outputs": [],
      "source": []
    },
    {
      "cell_type": "markdown",
      "metadata": {
        "id": "Zj4J7CRmQP8z"
      },
      "source": [
        "## Training the Prediction Model"
      ]
    },
    {
      "cell_type": "code",
      "execution_count": null,
      "metadata": {
        "colab": {
          "base_uri": "https://localhost:8080/"
        },
        "id": "0BXM6wd2QP8z",
        "outputId": "a9ec5c95-4e27-46dc-a65a-277a00ec9331"
      },
      "outputs": [
        {
          "output_type": "execute_result",
          "data": {
            "text/plain": [
              "LinearRegression()"
            ]
          },
          "metadata": {},
          "execution_count": 30
        }
      ],
      "source": [
        "# Scikit Learn regression\n",
        "from sklearn.linear_model import LinearRegression\n",
        "# metrics for regression\n",
        "from sklearn.metrics import r2_score\n",
        "from sklearn.metrics import mean_squared_error\n",
        "from sklearn.metrics import mean_absolute_error\n",
        "\n",
        "# intercept fitted automatically\n",
        "lin_reg = LinearRegression()\n",
        "lin_reg.fit(X_train,y_train) \n"
      ]
    },
    {
      "cell_type": "markdown",
      "metadata": {
        "id": "rd8kDHJMQP8z"
      },
      "source": [
        "## Prediction: Producing the Forecasts"
      ]
    },
    {
      "cell_type": "code",
      "execution_count": null,
      "metadata": {
        "id": "njeOeMjNQP8z"
      },
      "outputs": [],
      "source": [
        "# quite simple, take trained model and predict based on the X_test data\n",
        "y_pred = lin_reg.predict(X_test) "
      ]
    },
    {
      "cell_type": "markdown",
      "metadata": {
        "id": "joImsc8YQP8z"
      },
      "source": [
        "## Evaluation via Prediction Metrics for Regression Problems\n",
        "\n",
        "- sometimes in pure linear regression problems: $R^2$, the **coefficient of determination**\n",
        "- MSE / RMSE, the mean squared error / root mean squared error\n",
        "- MAE, the mean absolute error\n",
        "\n",
        "Compare to MSE or RMSE, MAE is a more direct representation of sum of error terms. MSE gives larger penalization to big prediction error by square it while MAE treats all errors the same.\n",
        "\n",
        "The coefficient of determination can be more (intuitively) informative than MAE, MSE, and RMSE in regression analysis evaluation, as the former can be expressed as a percentage, whereas the latter measures have arbitrary ranges.\n",
        "\n",
        "It also gives the explained variability of the dependent variable.\n",
        "Suppose $R^2$ = 0.49. This implies that 49% of the variability of the dependent variable in the data set has been accounted for, and the remaining 51% of the variability is still unaccounted for. "
      ]
    },
    {
      "cell_type": "code",
      "execution_count": null,
      "metadata": {
        "colab": {
          "base_uri": "https://localhost:8080/"
        },
        "id": "gTKlkcNWQP80",
        "outputId": "7866be80-1b16-42b5-b78c-374e4d04914a"
      },
      "outputs": [
        {
          "output_type": "stream",
          "name": "stdout",
          "text": [
            "R2 prediction based on test sample: 0.6823967384826777\n",
            "MAE prediction based on test sample: 0.4555758122605591\n",
            "MSE prediction based on test sample: 0.49374122483096605\n",
            "R2 train: 0.6958820071680338\n",
            "MAE train: 0.45571632043512467\n",
            "MSE train: 0.5177361227860144\n"
          ]
        }
      ],
      "source": [
        "print('R2 prediction based on test sample: '+ str(r2_score(y_pred,y_test)))\n",
        "print('MAE prediction based on test sample: '+str(mean_absolute_error(y_pred,y_test)))\n",
        "print('MSE prediction based on test sample: '+str(mean_squared_error(y_pred,y_test)))\n",
        "\n",
        "# in sample\n",
        "y_pred_train = lin_reg.predict(X_train)\n",
        "print('R2 train: '+str( r2_score(y_pred_train,y_train)))\n",
        "print('MAE train: '+str(mean_absolute_error(y_pred_train,y_train)))\n",
        "print('MSE train: '+str(mean_squared_error(y_pred_train,y_train)))"
      ]
    },
    {
      "cell_type": "markdown",
      "metadata": {
        "id": "9tEOJ6XEQP80"
      },
      "source": [
        "## Appendix: no feature transformation"
      ]
    },
    {
      "cell_type": "code",
      "execution_count": null,
      "metadata": {
        "id": "Gg6cKTtUQP80"
      },
      "outputs": [],
      "source": [
        "# alternative without box-cox:\n",
        "lin_reg_0 = LinearRegression()\n",
        "lin_reg_0.fit(X_train,y_train_0) \n",
        "y_pred_0 = lin_reg_0.predict(X_test) "
      ]
    },
    {
      "cell_type": "code",
      "execution_count": null,
      "metadata": {
        "colab": {
          "base_uri": "https://localhost:8080/"
        },
        "id": "fKGAINpcQP80",
        "outputId": "762e79c5-2b1c-4fde-ef31-24325fbe9e4f"
      },
      "outputs": [
        {
          "output_type": "stream",
          "name": "stdout",
          "text": [
            "R2 prediction based on test sample: 0.6616303903371634\n",
            "MAE prediction based on test sample: 4040.50165210941\n",
            "MSE prediction based on test sample: 35313256.35329582\n",
            "R2 train: 0.6792607599368484\n",
            "MAE train: 4214.443150504788\n",
            "MSE train: 37163048.225228064\n"
          ]
        }
      ],
      "source": [
        "print('R2 prediction based on test sample: '+ str(r2_score(y_pred_0,y_test_0)) )\n",
        "print('MAE prediction based on test sample: '+ str(mean_absolute_error(y_pred_0,y_test_0)) )\n",
        "print('MSE prediction based on test sample: '+ str(mean_squared_error(y_pred_0,y_test_0)) )\n",
        "\n",
        "# in sample\n",
        "y_pred_train_0 = lin_reg_0.predict(X_train)\n",
        "print('R2 train: '+ str(r2_score(y_pred_train_0,y_train_0)))\n",
        "print('MAE train: '+ str(mean_absolute_error(y_pred_train_0,y_train_0)) )\n",
        "print('MSE train: '+ str(mean_squared_error(y_pred_train_0,y_train_0)) )"
      ]
    },
    {
      "cell_type": "code",
      "execution_count": null,
      "metadata": {
        "id": "M9gtaEzTQP81"
      },
      "outputs": [],
      "source": []
    }
  ],
  "metadata": {
    "colab": {
      "collapsed_sections": [],
      "provenance": [],
      "toc_visible": true
    },
    "kernelspec": {
      "display_name": "Python 3",
      "language": "python",
      "name": "python3"
    },
    "language_info": {
      "codemirror_mode": {
        "name": "ipython",
        "version": 3
      },
      "file_extension": ".py",
      "mimetype": "text/x-python",
      "name": "python",
      "nbconvert_exporter": "python",
      "pygments_lexer": "ipython3",
      "version": "3.7.10"
    }
  },
  "nbformat": 4,
  "nbformat_minor": 0
}