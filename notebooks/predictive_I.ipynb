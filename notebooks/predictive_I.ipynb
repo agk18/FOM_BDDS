{
 "cells": [
  {
   "cell_type": "markdown",
   "metadata": {
    "id": "Ka20bzp6PcNj"
   },
   "source": [
    "[![Open In Colab](https://colab.research.google.com/assets/colab-badge.svg)](https://colab.research.google.com/github/Humboldt-WI/bads/blob/master/tutorials/5_nb_supervised_learning.ipynb) \n"
   ]
  },
  {
   "cell_type": "markdown",
   "metadata": {
    "id": "swSaDjWvNDnY"
   },
   "source": [
    "# Chapter 5 - Algorithms for supervised learning \n",
    "The fifth chapter revisits two popular algorithms for supervised learning, the logistic regression model and classification and regression trees (CART). We examine their mathematical and statistical underpinnings to fully understand how logit and CART craft a model. Of course, we also exemplify how to use both algorithms in practice together with `sklearn`.  \n",
    "\n",
    "The outline of the tutorial is as follows:\n",
    "- Logistic regression\n",
    "  - The logistic function\n",
    "  - Maximum likelihood estimation\n",
    "  - Logistic regression from scratch\n",
    "  - Libraries for logistic regression\n",
    "- Decision trees\n",
    "  - Implementing a tree algorithm from scratch\n",
    "  - Decision trees with `sklearn`"
   ]
  },
  {
   "cell_type": "markdown",
   "metadata": {
    "id": "HjtJpOmnVf2K"
   },
   "source": [
    "# Logistic regression\n",
    "We learned from the lecture that the logistic regression model, or, in brief, logit model is the 'go-to' model for regression problems with a discrete target variable. Such problems are called classification problems. Formally speaking, logistic regression belongs to the wider family of **generalized linear models (GLM)**. It is a generalization of a linear regression model in that it embodies the well-known linear form $\\beta^{\\top} x$ and adds a (non-linear) **link function** that connects the linear form to the target variable. In the case of logistic regression, the link function is the logistic function. Other GLMs use different link functions, but these are out of scope. So let us first examine the logistic function."
   ]
  },
  {
   "cell_type": "markdown",
   "metadata": {
    "id": "k68aGAQ_Vf2L"
   },
   "source": [
    "## The logistic function\n",
    "We implement the logistic function as a custom Python function and then generate some data to plot the function over the interval [-4, -3, ..., 4]. \n",
    "Recall that the form of the function for input variable $z$ is $f(z) = \\frac{1}{1 + \\exp^{-z}}$. "
   ]
  },
  {
   "cell_type": "code",
   "execution_count": 1,
   "metadata": {
    "colab": {
     "base_uri": "https://localhost:8080/",
     "height": 310
    },
    "id": "xSZq_kegVf2L",
    "outputId": "c5597ed2-5c41-41c6-c844-3724c014ea39"
   },
   "outputs": [
    {
     "data": {
      "image/png": "[encoded data removed]",
      "text/plain": [
       "<Figure size 432x288 with 1 Axes>"
      ]
     },
     "metadata": {
      "needs_background": "light"
     },
     "output_type": "display_data"
    }
   ],
   "source": [
    "import numpy as np\n",
    "import matplotlib.pyplot as plt\n",
    "\n",
    "# we implement the logistic function as a custom function\n",
    "def logistic_fun(z):\n",
    "    return 1/(1+np.exp(-z))\n",
    "\n",
    "\n",
    "# create some data for plotting\n",
    "z = np.linspace(-4, 4)\n",
    "\n",
    "fz = logistic_fun(z)\n",
    "plt.title(\"The logistic function exemplified\", fontsize='small')\n",
    "plt.plot(z, fz);\n",
    "plt.plot(z, np.repeat(0.5, len(z)), \"--\");  #  just for fun, add a horizontal line to highlight 0.5\n",
    "plt.ylabel(\"$f(z)$\")\n",
    "plt.xlabel(\"z\")\n",
    "plt.show()"
   ]
  },
  {
   "cell_type": "markdown",
   "metadata": {
    "id": "0QgT5fS6Vf2S"
   },
   "source": [
    "It is a good exercise to check how changes in the above implementation change the plot. For example, you could add a constant multiplier and calculate $e^{(-\\alpha z)} $ instead of $e^{(-z)}$, and check how the shape of the function changes with $\\alpha$. \n"
   ]
  },
  {
   "cell_type": "markdown",
   "metadata": {
    "id": "gzDNTwuGVf2T"
   },
   "source": [
    "## Maximum likelihood estimation & gradient descent\n",
    "Estimating a logistic regression model involves minimizing the negative **log-likelihood** function. We discussed the maximum likelihood approach in the lecture. However, experience suggests that some students find this part a little hard  to digest, probably because of its level of formality. We will try to demystify the model by implementing it from scratch. For starters, however, recall that logistic regression models the probability of observing a certain state of our target variable $y$ by means of the logistic function. Assuming a zero-one coded binary target variable $y \\in {0, 1}$, we can write the logit model as follows:\n",
    "\n",
    "$$ p \\left( y=1|x \\right) = \\frac{1}{1+e^{-z}}, \\text{  and  }  p \\left( y=0|x \\right) = 1- p \\left( y=1|x \\right) $$\n",
    "\n",
    "We define $z$ as a linear, additive function of the features $x$: \n",
    "$$ z = \\hat{\\beta}^{\\top}x $$. \n",
    "\n",
    "Note that in the above equation, we assume for notational convenience that the feature vector $x$ includes a constant. This way, we do not need to explicitly consider the intercept. Assuming our data fulfills the IID assumption, we can write the log-likelihood function: \n",
    "\n",
    "$$ \\mathcal{L} = \\sum^{n}_{i=1} \\left[ y_i \\log \\left(p \\left( y=1|x \\right) \\right) + \\left(1-y_i\\right) \\log \\left(1-p \\left( y=1|x \\right) \\right)\\right]. $$\n",
    "\n",
    "Now we need to find the values of $ \\hat{\\beta} $ that minimize this function. To that end, we calculate the derivative of the log likelihood function with respect to $ \\hat{\\beta} $. We calculate this derivative using the chain rule:\n",
    "\n",
    "$$ \\frac{\\partial \\mathcal{L}}{\\partial \\hat{\\beta_j}} = \\frac{\\partial \\mathcal{L}}{\\partial p} \\cdot \\frac{\\partial p}{\\partial z} \\cdot \\frac{\\partial z}{\\partial \\hat{\\beta}} $$\n",
    "\n",
    "Let's first calculate the three derivatives which we will need on the right hand side:\n",
    "\n",
    "\\begin{align*} \n",
    "\\frac{\\partial \\mathcal{L}}{\\partial p} &= \\frac{y}{p} - \\frac{1-y}{1-p} \\\\\n",
    "\\frac{\\partial p}{\\partial z} &= \\frac{1}{1+e^{-z}} \\cdot  \\Bigg( 1 - \\frac{1}{1+e^{-z}} \\Bigg) = \\Big( p \\cdot  \\big( 1 - p \\big) \\Big) \\\\\n",
    "\\frac{\\partial z}{\\partial \\hat{\\beta}} &= x\n",
    "\\end{align*}\n",
    "\n",
    "\n",
    "Now we can multiply these three together to find the derivative of the log likelihood function with respect to $ \\hat{\\beta} $ :\n",
    " \n",
    "\\begin{align*}\n",
    " \\frac{\\partial \\mathcal{L}}{\\partial \\hat{\\beta}} &= \\frac{\\partial \\mathcal{L}}{\\partial p} \\cdot \\frac{\\partial p}{\\partial z} \\cdot \\frac{\\partial z}{\\partial \\hat{\\beta}} \\\\\n",
    " &= \\Big( \\frac{y}{p} - \\frac{1-y}{1-p} \\Big) \\cdot \\Big( p \\cdot  \\big( 1 - p \\big) \\Big) \\cdot x \\\\\n",
    " &= (y(1-p) - p(1-y)) \\cdot x \\\\ \n",
    " &= (y - p) \\cdot x\n",
    "\\end{align*}\n",
    "\n",
    "And voilà! At the end, we have a much simpler formula to deal with:\n",
    "$$ \\frac{\\partial \\mathcal{L}}{\\partial \\hat{\\beta}} = (y - p \\left( y=1|x \\right) ) \\cdot x $$\n",
    "\n",
    "The next step is to equate our derivate of zero and solve for the unknown parameter vector $\\hat{\\beta}$. However, different from linear regression, it turns out that there is no analytical solution. Therefore, we need to use another approach to find the optimal values of $\\hat{\\beta}$, that is the values that maximize the likelihood function.\n",
    "\n",
    "**Gradient descent** is the process of iteratively making changes to $ \\hat{\\beta} $ to assess which values lower the derivative value and, therefore, hopefully brings us closer to a minimum. Note that this may unfortunately not be the global minimum of the function but rather a local minimum. This is especially true if we have many coefficients or if any relationships are very complicated.\n",
    "\n",
    "Additionally, if we change $ \\hat{\\beta} $ by too much in one iteration, we may end up overshooting a minimum which is counterproductive. In order to avoid this, we multiply the total difference by the learning rate $ \\eta $ to dampen the update to $ \\hat{\\beta} $. If the learning rate is too low however, we may end up sabotaging ourselves as the function loses too much momentum in its updates. It is a good idea to experiment with a few different rates to see which one works best with your data.\n",
    "\n",
    "Here is an equation which represents gradient descent:\n",
    "$$ \\hat{\\beta}_j = \\hat{\\beta}_{j-1} - \\eta \\frac{\\partial \\mathcal{L}}{\\partial \\hat{\\beta}_{j-1}} $$\n",
    "\n",
    "whereby we use the index $j$ to refer to individual iterations. For example, the above equation states how a new value of \n",
    "$\\hat{\\beta}_j$ depends on the value calculated in the previous iteration $\\hat{\\beta}_{j-1}$. Also note how our update rule embodies the value of our regression coefficients from the previous iteration with the gradient of our loss function $\\mathcal{L}$ with respect to $\\hat{\\beta}_{j-1}$. Essentially, the above equation says that, to update our regression parameters $\\hat{\\beta}$, take their values from the previous iteration and change these in the direction of the negative of the gradient, which is the direction in that our loss function decreases the most. The degree to which the new values of $\\hat{\\beta}$ depend on the previous values and the gradient, in other words the magnitude of the update, depend on the parameter $\\eta$, which is called the learning rate. \n",
    "\n",
    "For a more detailed explanation, check out the [Wikipedia page for *gradient descent*](https://en.wikipedia.org/wiki/Gradient_descent). It will be crucial for you to understand this process, so take advantage of online resources to improve your understanding. There are also many ways to modify this process like stochastic gradient descent or adaptive learning rates which you might come across in future studies."
   ]
  },
  {
   "cell_type": "markdown",
   "metadata": {
    "id": "HUkvWfFsVf2m"
   },
   "source": [
    "## Libraries for logistic regression\n",
    "\n",
    "Now that we know that estimating a logistic regression model using the maximum likelihood approach is not some sort of dark magic, we might feel more comfortable with using libraries that hide all the details. In fact, you have already seen one such library in action in [Tutorial 3](https://colab.research.google.com/github/Humboldt-WI/bads/blob/master/tutorials/3_nb_predictive_analytics.ipynb). There, we used the `statsmodels` library to estimate a logit model. Let's revisit the corresponding codes. However, doing so for our toy data is pointless. It's time for a real-world data set and since we spent so much time on cleaning and preparing and understanding the HMEQ data in [Tutorial 4](https://colab.research.google.com/github/Humboldt-WI/bads/blob/master/tutorials/4_nb_data_preparation.ipynb), it would be a shame to not use it for demonstrating logistic regression on some real data. Remember that [Tutorial 4](https://colab.research.google.com/github/Humboldt-WI/bads/blob/master/tutorials/4_nb_data_preparation.ipynb) discusses that data set in detail, so simply go back to the previous tutorial is you need a refresher."
   ]
  },
  {
   "cell_type": "code",
   "execution_count": 4,
   "metadata": {
    "colab": {
     "base_uri": "https://localhost:8080/"
    },
    "id": "dkKRcRBRVf2n",
    "outputId": "c8664da3-b85a-458c-b162-823315d1ad0a"
   },
   "outputs": [],
   "source": [
    "import pandas as pd \n",
    "import statsmodels.api as sm\n",
    "from statsmodels.tools.tools import add_constant\n",
    "# Load data from GitHub\n",
    "df = pd.read_csv('../data/hmeq_modeling.csv', index_col=\"index\")"
   ]
  },
  {
   "cell_type": "markdown",
   "metadata": {
    "id": "1PLQ7buLVf2q"
   },
   "source": [
    "Let's take a quick look at the data to re-familiarize ourselves with the classification task."
   ]
  },
  {
   "cell_type": "code",
   "execution_count": 5,
   "metadata": {
    "colab": {
     "base_uri": "https://localhost:8080/",
     "height": 250
    },
    "id": "zhgFxnX5Vf2s",
    "outputId": "7cc79eab-f3d4-4a59-9e0a-fdfbc73ff945"
   },
   "outputs": [
    {
     "data": {
      "text/html": [
       "<div>\n",
       "<style scoped>\n",
       "    .dataframe tbody tr th:only-of-type {\n",
       "        vertical-align: middle;\n",
       "    }\n",
       "\n",
       "    .dataframe tbody tr th {\n",
       "        vertical-align: top;\n",
       "    }\n",
       "\n",
       "    .dataframe thead th {\n",
       "        text-align: right;\n",
       "    }\n",
       "</style>\n",
       "<table border=\"1\" class=\"dataframe\">\n",
       "  <thead>\n",
       "    <tr style=\"text-align: right;\">\n",
       "      <th></th>\n",
       "      <th>BAD</th>\n",
       "      <th>LOAN</th>\n",
       "      <th>MORTDUE</th>\n",
       "      <th>VALUE</th>\n",
       "      <th>YOJ</th>\n",
       "      <th>CLAGE</th>\n",
       "      <th>NINQ</th>\n",
       "      <th>CLNO</th>\n",
       "      <th>DEBTINC</th>\n",
       "      <th>DEROGzero</th>\n",
       "      <th>REASON_HomeImp</th>\n",
       "      <th>REASON_IsMissing</th>\n",
       "      <th>JOB_Office</th>\n",
       "      <th>JOB_Other</th>\n",
       "      <th>JOB_ProfExe</th>\n",
       "      <th>JOB_Sales</th>\n",
       "      <th>JOB_Self</th>\n",
       "      <th>DELINQcat_1</th>\n",
       "      <th>DELINQcat_1+</th>\n",
       "    </tr>\n",
       "    <tr>\n",
       "      <th>index</th>\n",
       "      <th></th>\n",
       "      <th></th>\n",
       "      <th></th>\n",
       "      <th></th>\n",
       "      <th></th>\n",
       "      <th></th>\n",
       "      <th></th>\n",
       "      <th></th>\n",
       "      <th></th>\n",
       "      <th></th>\n",
       "      <th></th>\n",
       "      <th></th>\n",
       "      <th></th>\n",
       "      <th></th>\n",
       "      <th></th>\n",
       "      <th></th>\n",
       "      <th></th>\n",
       "      <th></th>\n",
       "      <th></th>\n",
       "    </tr>\n",
       "  </thead>\n",
       "  <tbody>\n",
       "    <tr>\n",
       "      <th>0</th>\n",
       "      <td>True</td>\n",
       "      <td>-1.832283</td>\n",
       "      <td>-1.295882</td>\n",
       "      <td>-1.335526</td>\n",
       "      <td>0.266788</td>\n",
       "      <td>-1.075278</td>\n",
       "      <td>-0.065054</td>\n",
       "      <td>-1.297476</td>\n",
       "      <td>0.137456</td>\n",
       "      <td>True</td>\n",
       "      <td>1</td>\n",
       "      <td>0</td>\n",
       "      <td>0</td>\n",
       "      <td>1</td>\n",
       "      <td>0</td>\n",
       "      <td>0</td>\n",
       "      <td>0</td>\n",
       "      <td>0</td>\n",
       "      <td>0</td>\n",
       "    </tr>\n",
       "    <tr>\n",
       "      <th>1</th>\n",
       "      <td>True</td>\n",
       "      <td>-1.810666</td>\n",
       "      <td>-0.013474</td>\n",
       "      <td>-0.672699</td>\n",
       "      <td>-0.236615</td>\n",
       "      <td>-0.723092</td>\n",
       "      <td>-0.826792</td>\n",
       "      <td>-0.756608</td>\n",
       "      <td>0.137456</td>\n",
       "      <td>True</td>\n",
       "      <td>1</td>\n",
       "      <td>0</td>\n",
       "      <td>0</td>\n",
       "      <td>1</td>\n",
       "      <td>0</td>\n",
       "      <td>0</td>\n",
       "      <td>0</td>\n",
       "      <td>0</td>\n",
       "      <td>1</td>\n",
       "    </tr>\n",
       "    <tr>\n",
       "      <th>2</th>\n",
       "      <td>True</td>\n",
       "      <td>-1.789048</td>\n",
       "      <td>-1.654549</td>\n",
       "      <td>-1.839275</td>\n",
       "      <td>-0.668103</td>\n",
       "      <td>-0.368769</td>\n",
       "      <td>-0.065054</td>\n",
       "      <td>-1.189302</td>\n",
       "      <td>0.137456</td>\n",
       "      <td>True</td>\n",
       "      <td>1</td>\n",
       "      <td>0</td>\n",
       "      <td>0</td>\n",
       "      <td>1</td>\n",
       "      <td>0</td>\n",
       "      <td>0</td>\n",
       "      <td>0</td>\n",
       "      <td>0</td>\n",
       "      <td>0</td>\n",
       "    </tr>\n",
       "    <tr>\n",
       "      <th>3</th>\n",
       "      <td>True</td>\n",
       "      <td>-1.789048</td>\n",
       "      <td>-0.159552</td>\n",
       "      <td>-0.202559</td>\n",
       "      <td>-0.236615</td>\n",
       "      <td>-0.061033</td>\n",
       "      <td>-0.065054</td>\n",
       "      <td>-0.107566</td>\n",
       "      <td>0.137456</td>\n",
       "      <td>True</td>\n",
       "      <td>0</td>\n",
       "      <td>1</td>\n",
       "      <td>0</td>\n",
       "      <td>1</td>\n",
       "      <td>0</td>\n",
       "      <td>0</td>\n",
       "      <td>0</td>\n",
       "      <td>0</td>\n",
       "      <td>0</td>\n",
       "    </tr>\n",
       "    <tr>\n",
       "      <th>4</th>\n",
       "      <td>False</td>\n",
       "      <td>-1.767431</td>\n",
       "      <td>0.791699</td>\n",
       "      <td>0.311107</td>\n",
       "      <td>-0.811933</td>\n",
       "      <td>-1.088528</td>\n",
       "      <td>-0.826792</td>\n",
       "      <td>-0.756608</td>\n",
       "      <td>0.137456</td>\n",
       "      <td>True</td>\n",
       "      <td>1</td>\n",
       "      <td>0</td>\n",
       "      <td>1</td>\n",
       "      <td>0</td>\n",
       "      <td>0</td>\n",
       "      <td>0</td>\n",
       "      <td>0</td>\n",
       "      <td>0</td>\n",
       "      <td>0</td>\n",
       "    </tr>\n",
       "  </tbody>\n",
       "</table>\n",
       "</div>"
      ],
      "text/plain": [
       "         BAD      LOAN   MORTDUE     VALUE       YOJ     CLAGE      NINQ  \\\n",
       "index                                                                      \n",
       "0       True -1.832283 -1.295882 -1.335526  0.266788 -1.075278 -0.065054   \n",
       "1       True -1.810666 -0.013474 -0.672699 -0.236615 -0.723092 -0.826792   \n",
       "2       True -1.789048 -1.654549 -1.839275 -0.668103 -0.368769 -0.065054   \n",
       "3       True -1.789048 -0.159552 -0.202559 -0.236615 -0.061033 -0.065054   \n",
       "4      False -1.767431  0.791699  0.311107 -0.811933 -1.088528 -0.826792   \n",
       "\n",
       "           CLNO   DEBTINC  DEROGzero  REASON_HomeImp  REASON_IsMissing  \\\n",
       "index                                                                    \n",
       "0     -1.297476  0.137456       True               1                 0   \n",
       "1     -0.756608  0.137456       True               1                 0   \n",
       "2     -1.189302  0.137456       True               1                 0   \n",
       "3     -0.107566  0.137456       True               0                 1   \n",
       "4     -0.756608  0.137456       True               1                 0   \n",
       "\n",
       "       JOB_Office  JOB_Other  JOB_ProfExe  JOB_Sales  JOB_Self  DELINQcat_1  \\\n",
       "index                                                                         \n",
       "0               0          1            0          0         0            0   \n",
       "1               0          1            0          0         0            0   \n",
       "2               0          1            0          0         0            0   \n",
       "3               0          1            0          0         0            0   \n",
       "4               1          0            0          0         0            0   \n",
       "\n",
       "       DELINQcat_1+  \n",
       "index                \n",
       "0                 0  \n",
       "1                 1  \n",
       "2                 0  \n",
       "3                 0  \n",
       "4                 0  "
      ]
     },
     "execution_count": 5,
     "metadata": {},
     "output_type": "execute_result"
    }
   ],
   "source": [
    "df.head(5)"
   ]
  },
  {
   "cell_type": "code",
   "execution_count": 6,
   "metadata": {
    "colab": {
     "base_uri": "https://localhost:8080/"
    },
    "id": "S_b8UOuPVf2x",
    "outputId": "5228879e-1d62-46d5-917c-118f4b0c334d"
   },
   "outputs": [
    {
     "name": "stdout",
     "output_type": "stream",
     "text": [
      "Optimization terminated successfully.\n",
      "         Current function value: 0.394606\n",
      "         Iterations 7\n"
     ]
    }
   ],
   "source": [
    "# Split into target and features\n",
    "y = df.BAD.values.astype(int)\n",
    "X = df.iloc[:,1:]\n",
    "\n",
    "# We add a constant column to X. Think of this as the Python way to include an intercept in your model \n",
    "X = add_constant(X, prepend=True, has_constant='raise')\n",
    "# Estimate logit model\n",
    "logit_model = sm.Logit(y, X.astype(float), ) \n",
    "logit_model = logit_model.fit()"
   ]
  },
  {
   "cell_type": "markdown",
   "metadata": {
    "id": "m3_inlDcVf21"
   },
   "source": [
    "A nice feature of the `statsmodels` implementation is that you can easily produce a standard regression table. "
   ]
  },
  {
   "cell_type": "code",
   "execution_count": 7,
   "metadata": {
    "colab": {
     "base_uri": "https://localhost:8080/",
     "height": 577
    },
    "id": "C0k55AmTVf21",
    "outputId": "1304a381-233b-4c2f-d7c0-6825683a4c2d"
   },
   "outputs": [
    {
     "data": {
      "text/html": [
       "<table class=\"simpletable\">\n",
       "<caption>Logit Regression Results</caption>\n",
       "<tr>\n",
       "  <th>Dep. Variable:</th>           <td>y</td>        <th>  No. Observations:  </th>   <td>  5960</td>  \n",
       "</tr>\n",
       "<tr>\n",
       "  <th>Model:</th>                 <td>Logit</td>      <th>  Df Residuals:      </th>   <td>  5941</td>  \n",
       "</tr>\n",
       "<tr>\n",
       "  <th>Method:</th>                 <td>MLE</td>       <th>  Df Model:          </th>   <td>    18</td>  \n",
       "</tr>\n",
       "<tr>\n",
       "  <th>Date:</th>            <td>Sun, 04 Sep 2022</td> <th>  Pseudo R-squ.:     </th>   <td>0.2103</td>  \n",
       "</tr>\n",
       "<tr>\n",
       "  <th>Time:</th>                <td>13:47:48</td>     <th>  Log-Likelihood:    </th>  <td> -2351.8</td> \n",
       "</tr>\n",
       "<tr>\n",
       "  <th>converged:</th>             <td>True</td>       <th>  LL-Null:           </th>  <td> -2978.2</td> \n",
       "</tr>\n",
       "<tr>\n",
       "  <th>Covariance Type:</th>     <td>nonrobust</td>    <th>  LLR p-value:       </th> <td>5.480e-255</td>\n",
       "</tr>\n",
       "</table>\n",
       "<table class=\"simpletable\">\n",
       "<tr>\n",
       "          <td></td>            <th>coef</th>     <th>std err</th>      <th>z</th>      <th>P>|z|</th>  <th>[0.025</th>    <th>0.975]</th>  \n",
       "</tr>\n",
       "<tr>\n",
       "  <th>const</th>            <td>   -1.1279</td> <td>    0.134</td> <td>   -8.389</td> <td> 0.000</td> <td>   -1.391</td> <td>   -0.864</td>\n",
       "</tr>\n",
       "<tr>\n",
       "  <th>LOAN</th>             <td>   -0.1706</td> <td>    0.042</td> <td>   -4.018</td> <td> 0.000</td> <td>   -0.254</td> <td>   -0.087</td>\n",
       "</tr>\n",
       "<tr>\n",
       "  <th>MORTDUE</th>          <td>   -0.1583</td> <td>    0.067</td> <td>   -2.366</td> <td> 0.018</td> <td>   -0.289</td> <td>   -0.027</td>\n",
       "</tr>\n",
       "<tr>\n",
       "  <th>VALUE</th>            <td>    0.0619</td> <td>    0.070</td> <td>    0.885</td> <td> 0.376</td> <td>   -0.075</td> <td>    0.199</td>\n",
       "</tr>\n",
       "<tr>\n",
       "  <th>YOJ</th>              <td>   -0.0619</td> <td>    0.041</td> <td>   -1.510</td> <td> 0.131</td> <td>   -0.142</td> <td>    0.018</td>\n",
       "</tr>\n",
       "<tr>\n",
       "  <th>CLAGE</th>            <td>   -0.4503</td> <td>    0.043</td> <td>  -10.520</td> <td> 0.000</td> <td>   -0.534</td> <td>   -0.366</td>\n",
       "</tr>\n",
       "<tr>\n",
       "  <th>NINQ</th>             <td>    0.2806</td> <td>    0.035</td> <td>    7.944</td> <td> 0.000</td> <td>    0.211</td> <td>    0.350</td>\n",
       "</tr>\n",
       "<tr>\n",
       "  <th>CLNO</th>             <td>   -0.1448</td> <td>    0.042</td> <td>   -3.434</td> <td> 0.001</td> <td>   -0.227</td> <td>   -0.062</td>\n",
       "</tr>\n",
       "<tr>\n",
       "  <th>DEBTINC</th>          <td>    0.4379</td> <td>    0.044</td> <td>   10.033</td> <td> 0.000</td> <td>    0.352</td> <td>    0.523</td>\n",
       "</tr>\n",
       "<tr>\n",
       "  <th>DEROGzero</th>        <td>   -1.1282</td> <td>    0.097</td> <td>  -11.653</td> <td> 0.000</td> <td>   -1.318</td> <td>   -0.938</td>\n",
       "</tr>\n",
       "<tr>\n",
       "  <th>REASON_HomeImp</th>   <td>    0.2465</td> <td>    0.086</td> <td>    2.878</td> <td> 0.004</td> <td>    0.079</td> <td>    0.414</td>\n",
       "</tr>\n",
       "<tr>\n",
       "  <th>REASON_IsMissing</th> <td>    0.3610</td> <td>    0.199</td> <td>    1.812</td> <td> 0.070</td> <td>   -0.030</td> <td>    0.751</td>\n",
       "</tr>\n",
       "<tr>\n",
       "  <th>JOB_Office</th>       <td>   -0.6247</td> <td>    0.148</td> <td>   -4.219</td> <td> 0.000</td> <td>   -0.915</td> <td>   -0.335</td>\n",
       "</tr>\n",
       "<tr>\n",
       "  <th>JOB_Other</th>        <td>   -0.0035</td> <td>    0.115</td> <td>   -0.031</td> <td> 0.976</td> <td>   -0.229</td> <td>    0.222</td>\n",
       "</tr>\n",
       "<tr>\n",
       "  <th>JOB_ProfExe</th>      <td>    0.0853</td> <td>    0.133</td> <td>    0.643</td> <td> 0.520</td> <td>   -0.174</td> <td>    0.345</td>\n",
       "</tr>\n",
       "<tr>\n",
       "  <th>JOB_Sales</th>        <td>    1.0241</td> <td>    0.261</td> <td>    3.925</td> <td> 0.000</td> <td>    0.513</td> <td>    1.536</td>\n",
       "</tr>\n",
       "<tr>\n",
       "  <th>JOB_Self</th>         <td>    0.6369</td> <td>    0.212</td> <td>    3.005</td> <td> 0.003</td> <td>    0.221</td> <td>    1.052</td>\n",
       "</tr>\n",
       "<tr>\n",
       "  <th>DELINQcat_1</th>      <td>    1.1760</td> <td>    0.104</td> <td>   11.334</td> <td> 0.000</td> <td>    0.973</td> <td>    1.379</td>\n",
       "</tr>\n",
       "<tr>\n",
       "  <th>DELINQcat_1+</th>     <td>    2.1360</td> <td>    0.112</td> <td>   19.108</td> <td> 0.000</td> <td>    1.917</td> <td>    2.355</td>\n",
       "</tr>\n",
       "</table>"
      ],
      "text/plain": [
       "<class 'statsmodels.iolib.summary.Summary'>\n",
       "\"\"\"\n",
       "                           Logit Regression Results                           \n",
       "==============================================================================\n",
       "Dep. Variable:                      y   No. Observations:                 5960\n",
       "Model:                          Logit   Df Residuals:                     5941\n",
       "Method:                           MLE   Df Model:                           18\n",
       "Date:                Sun, 04 Sep 2022   Pseudo R-squ.:                  0.2103\n",
       "Time:                        13:47:48   Log-Likelihood:                -2351.8\n",
       "converged:                       True   LL-Null:                       -2978.2\n",
       "Covariance Type:            nonrobust   LLR p-value:                5.480e-255\n",
       "====================================================================================\n",
       "                       coef    std err          z      P>|z|      [0.025      0.975]\n",
       "------------------------------------------------------------------------------------\n",
       "const               -1.1279      0.134     -8.389      0.000      -1.391      -0.864\n",
       "LOAN                -0.1706      0.042     -4.018      0.000      -0.254      -0.087\n",
       "MORTDUE             -0.1583      0.067     -2.366      0.018      -0.289      -0.027\n",
       "VALUE                0.0619      0.070      0.885      0.376      -0.075       0.199\n",
       "YOJ                 -0.0619      0.041     -1.510      0.131      -0.142       0.018\n",
       "CLAGE               -0.4503      0.043    -10.520      0.000      -0.534      -0.366\n",
       "NINQ                 0.2806      0.035      7.944      0.000       0.211       0.350\n",
       "CLNO                -0.1448      0.042     -3.434      0.001      -0.227      -0.062\n",
       "DEBTINC              0.4379      0.044     10.033      0.000       0.352       0.523\n",
       "DEROGzero           -1.1282      0.097    -11.653      0.000      -1.318      -0.938\n",
       "REASON_HomeImp       0.2465      0.086      2.878      0.004       0.079       0.414\n",
       "REASON_IsMissing     0.3610      0.199      1.812      0.070      -0.030       0.751\n",
       "JOB_Office          -0.6247      0.148     -4.219      0.000      -0.915      -0.335\n",
       "JOB_Other           -0.0035      0.115     -0.031      0.976      -0.229       0.222\n",
       "JOB_ProfExe          0.0853      0.133      0.643      0.520      -0.174       0.345\n",
       "JOB_Sales            1.0241      0.261      3.925      0.000       0.513       1.536\n",
       "JOB_Self             0.6369      0.212      3.005      0.003       0.221       1.052\n",
       "DELINQcat_1          1.1760      0.104     11.334      0.000       0.973       1.379\n",
       "DELINQcat_1+         2.1360      0.112     19.108      0.000       1.917       2.355\n",
       "====================================================================================\n",
       "\"\"\""
      ]
     },
     "execution_count": 7,
     "metadata": {},
     "output_type": "execute_result"
    }
   ],
   "source": [
    "logit_model.summary()"
   ]
  },
  {
   "cell_type": "markdown",
   "metadata": {
    "id": "kV1SAbWTVf24"
   },
   "source": [
    "Spend a little time on inspecting the table. The pseudo $R^2$ statistic suggests that the model explains only a moderate amount of the variability of the target variable. However, we find from the *LLR test* that the model as a whole is highly significant. Further, most features come out as significant,  two dummy variables for the job categories *prof. executive* and *other* and the feature VALUE being an exception. Remember the result of the analysis of feature correlation in [Tutorial 4](https://colab.research.google.com/github/Humboldt-WI/bads/blob/master/tutorials/4_nb_data_preparation.ipynb)? The result for the VALUE feature is surely due to the high correlation of this feature with MORTDUE.    "
   ]
  },
  {
   "cell_type": "code",
   "execution_count": 8,
   "metadata": {
    "colab": {
     "base_uri": "https://localhost:8080/"
    },
    "id": "I7QbSZ8oVf25",
    "outputId": "33d2a797-b504-46a5-f16e-749b87d3e747"
   },
   "outputs": [
    {
     "data": {
      "text/plain": [
       "array([[1.        , 0.82513958],\n",
       "       [0.82513958, 1.        ]])"
      ]
     },
     "execution_count": 8,
     "metadata": {},
     "output_type": "execute_result"
    }
   ],
   "source": [
    "np.corrcoef(df.MORTDUE, df.VALUE)"
   ]
  },
  {
   "cell_type": "markdown",
   "metadata": {
    "id": "7LP4_ZmzVf29"
   },
   "source": [
    "Reestimating the logit model after removing the feature MORTDUE would be a good exercise. After the modification, VALUE should come out as significant.\n",
    "\n",
    "We could easily continue our discussion of the regression table to draw more conclusions about our data. However, this is not the point the focal tutorial. Instead, let's look at another implementation of logistic regression. The famous `scikit-learn` library is the goto library for machine learning in Python. We will use it intensively throughout the course. It also supplies an implementation of logistic regression. Let's see how to use that implementation      "
   ]
  },
  {
   "cell_type": "code",
   "execution_count": 9,
   "metadata": {
    "colab": {
     "base_uri": "https://localhost:8080/"
    },
    "id": "5ij5VpjkVf2-",
    "outputId": "5263fbdd-3bd3-4b9b-d820-285c187bcdbb"
   },
   "outputs": [
    {
     "data": {
      "text/plain": [
       "LogisticRegression(fit_intercept=False, penalty='none')"
      ]
     },
     "execution_count": 9,
     "metadata": {},
     "output_type": "execute_result"
    }
   ],
   "source": [
    "from sklearn.linear_model import LogisticRegression\n",
    "\n",
    "sk_logit = LogisticRegression(penalty='none', fit_intercept=False)  # Recall that we already included a constant column in X. \n",
    "sk_logit.fit(X, y)                                                  # So we must set fit_intercept to False"
   ]
  },
  {
   "cell_type": "markdown",
   "metadata": {
    "id": "lcCMcjQLVf3C"
   },
   "source": [
    "The sklearn implementation is geared toward predictive modeling. For example, there is no way to easily obtain fitting statistics or shed light on the significance of features. On the other hand, the class `LogisticRegression` supports many advanced features to maximize the predictive power of the logit model. The above output already hints at the many different parameters that you can configure. Have a look into the help if you'd like to learn more. We will cover important parameters like those associated with *regularization* in[ Tutorial 7](https://github.com/Humboldt-WI/bads/blob/master/tutorials/7_nb_model_selection.ipynb).\n",
    "\n",
    "One easy to appreciate advantage of `sklearn` over `statsmodels` when it comes to logistic regression is scalability. The sklearn implementation is faster and can cope with larger data sets. Given the differences between our two logit models, the only way to compare them (for now) is by inspecting the estimated model coefficients.  "
   ]
  },
  {
   "cell_type": "code",
   "execution_count": 10,
   "metadata": {
    "colab": {
     "base_uri": "https://localhost:8080/",
     "height": 623
    },
    "id": "ZPyDAs0GVf3D",
    "outputId": "f4187545-d384-49bb-ec01-bbaacd86b2d2"
   },
   "outputs": [
    {
     "data": {
      "text/html": [
       "<div>\n",
       "<style scoped>\n",
       "    .dataframe tbody tr th:only-of-type {\n",
       "        vertical-align: middle;\n",
       "    }\n",
       "\n",
       "    .dataframe tbody tr th {\n",
       "        vertical-align: top;\n",
       "    }\n",
       "\n",
       "    .dataframe thead th {\n",
       "        text-align: right;\n",
       "    }\n",
       "</style>\n",
       "<table border=\"1\" class=\"dataframe\">\n",
       "  <thead>\n",
       "    <tr style=\"text-align: right;\">\n",
       "      <th></th>\n",
       "      <th>statsmodels</th>\n",
       "      <th>sklearn</th>\n",
       "    </tr>\n",
       "  </thead>\n",
       "  <tbody>\n",
       "    <tr>\n",
       "      <th>0</th>\n",
       "      <td>-1.127897</td>\n",
       "      <td>-1.127687</td>\n",
       "    </tr>\n",
       "    <tr>\n",
       "      <th>1</th>\n",
       "      <td>-0.170567</td>\n",
       "      <td>-0.170544</td>\n",
       "    </tr>\n",
       "    <tr>\n",
       "      <th>2</th>\n",
       "      <td>-0.158264</td>\n",
       "      <td>-0.158239</td>\n",
       "    </tr>\n",
       "    <tr>\n",
       "      <th>3</th>\n",
       "      <td>0.061895</td>\n",
       "      <td>0.061884</td>\n",
       "    </tr>\n",
       "    <tr>\n",
       "      <th>4</th>\n",
       "      <td>-0.061869</td>\n",
       "      <td>-0.061875</td>\n",
       "    </tr>\n",
       "    <tr>\n",
       "      <th>5</th>\n",
       "      <td>-0.450325</td>\n",
       "      <td>-0.450316</td>\n",
       "    </tr>\n",
       "    <tr>\n",
       "      <th>6</th>\n",
       "      <td>0.280649</td>\n",
       "      <td>0.280644</td>\n",
       "    </tr>\n",
       "    <tr>\n",
       "      <th>7</th>\n",
       "      <td>-0.144770</td>\n",
       "      <td>-0.144765</td>\n",
       "    </tr>\n",
       "    <tr>\n",
       "      <th>8</th>\n",
       "      <td>0.437894</td>\n",
       "      <td>0.437879</td>\n",
       "    </tr>\n",
       "    <tr>\n",
       "      <th>9</th>\n",
       "      <td>-1.128196</td>\n",
       "      <td>-1.128196</td>\n",
       "    </tr>\n",
       "    <tr>\n",
       "      <th>10</th>\n",
       "      <td>0.246536</td>\n",
       "      <td>0.246577</td>\n",
       "    </tr>\n",
       "    <tr>\n",
       "      <th>11</th>\n",
       "      <td>0.360981</td>\n",
       "      <td>0.361021</td>\n",
       "    </tr>\n",
       "    <tr>\n",
       "      <th>12</th>\n",
       "      <td>-0.624715</td>\n",
       "      <td>-0.625030</td>\n",
       "    </tr>\n",
       "    <tr>\n",
       "      <th>13</th>\n",
       "      <td>-0.003526</td>\n",
       "      <td>-0.003705</td>\n",
       "    </tr>\n",
       "    <tr>\n",
       "      <th>14</th>\n",
       "      <td>0.085254</td>\n",
       "      <td>0.084992</td>\n",
       "    </tr>\n",
       "    <tr>\n",
       "      <th>15</th>\n",
       "      <td>1.024129</td>\n",
       "      <td>1.024629</td>\n",
       "    </tr>\n",
       "    <tr>\n",
       "      <th>16</th>\n",
       "      <td>0.636907</td>\n",
       "      <td>0.636743</td>\n",
       "    </tr>\n",
       "    <tr>\n",
       "      <th>17</th>\n",
       "      <td>1.176022</td>\n",
       "      <td>1.175979</td>\n",
       "    </tr>\n",
       "    <tr>\n",
       "      <th>18</th>\n",
       "      <td>2.135960</td>\n",
       "      <td>2.135871</td>\n",
       "    </tr>\n",
       "  </tbody>\n",
       "</table>\n",
       "</div>"
      ],
      "text/plain": [
       "    statsmodels   sklearn\n",
       "0     -1.127897 -1.127687\n",
       "1     -0.170567 -0.170544\n",
       "2     -0.158264 -0.158239\n",
       "3      0.061895  0.061884\n",
       "4     -0.061869 -0.061875\n",
       "5     -0.450325 -0.450316\n",
       "6      0.280649  0.280644\n",
       "7     -0.144770 -0.144765\n",
       "8      0.437894  0.437879\n",
       "9     -1.128196 -1.128196\n",
       "10     0.246536  0.246577\n",
       "11     0.360981  0.361021\n",
       "12    -0.624715 -0.625030\n",
       "13    -0.003526 -0.003705\n",
       "14     0.085254  0.084992\n",
       "15     1.024129  1.024629\n",
       "16     0.636907  0.636743\n",
       "17     1.176022  1.175979\n",
       "18     2.135960  2.135871"
      ]
     },
     "execution_count": 10,
     "metadata": {},
     "output_type": "execute_result"
    }
   ],
   "source": [
    "# Create a dataframe for the comparison\n",
    "# Note that we also need some conversions to ensure that the two coefficient arrays are compatible\n",
    "df_comparison = pd.DataFrame({\"statsmodels\" :logit_model.params.to_numpy(), \"sklearn\": sk_logit.coef_[0]})\n",
    "df_comparison"
   ]
  },
  {
   "cell_type": "markdown",
   "metadata": {
    "id": "tybUfadmVf3H"
   },
   "source": [
    "**Conclusion:** the two implementations of the logit model deliver similar results. That is nice but maybe not too exciting. The main take-away is that, when it comes to logistic regression, ask yourself whether you want to use the model for an explanatory or predictive purpose. Use the implementation within `statsmodels` in the former and `sklearn` in the latter case."
   ]
  },
  {
   "cell_type": "markdown",
   "metadata": {
    "id": "L-VlKNTmVf3H"
   },
   "source": [
    "# Decision Trees\n",
    "\n",
    "Decision trees are useful and powerful algorithms for classifying and regressing data. They work by on recursive partitioning which will be shown algorithmically in this notebook. Though most of the the time, sklearn can be used to implement this machine learning method, it is useful to take a look at the inner workings of tree-based algorithms. The following parts will first introduce a decision tree from scratch, before demonstrating its coverage in sklearn. "
   ]
  },
  {
   "cell_type": "markdown",
   "metadata": {
    "id": "YjOnBPEXfHK0"
   },
   "source": [
    "## Decision Tree From Scratch Using HMEQ Data\n",
    "\n",
    "Firstly, we will go through a decision tree made from scratch. The following code is based on the material originally created by Sebastian Mantey for the Iris Dataset whose GitHub is here: https://github.com/SebastianMantey/Decision-Tree-from-Scratch. You can also search his video on YouTube. The code has been adapted to this course's format and fit to HMEQ Dataset.\n",
    "\n",
    "Just in case you made changes to the data by running the above code, we first reload the data to a fixed and clear-defined starting point for our tree classifier. Recall that we defined the variable `data_url` above."
   ]
  },
  {
   "cell_type": "code",
   "execution_count": 11,
   "metadata": {
    "colab": {
     "base_uri": "https://localhost:8080/",
     "height": 250
    },
    "id": "I2zyH3v5fHK0",
    "outputId": "c08c64f0-4df5-4e58-ad9d-972c6d896d20"
   },
   "outputs": [
    {
     "data": {
      "text/html": [
       "<div>\n",
       "<style scoped>\n",
       "    .dataframe tbody tr th:only-of-type {\n",
       "        vertical-align: middle;\n",
       "    }\n",
       "\n",
       "    .dataframe tbody tr th {\n",
       "        vertical-align: top;\n",
       "    }\n",
       "\n",
       "    .dataframe thead th {\n",
       "        text-align: right;\n",
       "    }\n",
       "</style>\n",
       "<table border=\"1\" class=\"dataframe\">\n",
       "  <thead>\n",
       "    <tr style=\"text-align: right;\">\n",
       "      <th></th>\n",
       "      <th>BAD</th>\n",
       "      <th>LOAN</th>\n",
       "      <th>MORTDUE</th>\n",
       "      <th>VALUE</th>\n",
       "      <th>YOJ</th>\n",
       "      <th>CLAGE</th>\n",
       "      <th>NINQ</th>\n",
       "      <th>CLNO</th>\n",
       "      <th>DEBTINC</th>\n",
       "      <th>DEROGzero</th>\n",
       "      <th>REASON_HomeImp</th>\n",
       "      <th>REASON_IsMissing</th>\n",
       "      <th>JOB_Office</th>\n",
       "      <th>JOB_Other</th>\n",
       "      <th>JOB_ProfExe</th>\n",
       "      <th>JOB_Sales</th>\n",
       "      <th>JOB_Self</th>\n",
       "      <th>DELINQcat_1</th>\n",
       "      <th>DELINQcat_1+</th>\n",
       "    </tr>\n",
       "    <tr>\n",
       "      <th>index</th>\n",
       "      <th></th>\n",
       "      <th></th>\n",
       "      <th></th>\n",
       "      <th></th>\n",
       "      <th></th>\n",
       "      <th></th>\n",
       "      <th></th>\n",
       "      <th></th>\n",
       "      <th></th>\n",
       "      <th></th>\n",
       "      <th></th>\n",
       "      <th></th>\n",
       "      <th></th>\n",
       "      <th></th>\n",
       "      <th></th>\n",
       "      <th></th>\n",
       "      <th></th>\n",
       "      <th></th>\n",
       "      <th></th>\n",
       "    </tr>\n",
       "  </thead>\n",
       "  <tbody>\n",
       "    <tr>\n",
       "      <th>0</th>\n",
       "      <td>True</td>\n",
       "      <td>-1.832283</td>\n",
       "      <td>-1.295882</td>\n",
       "      <td>-1.335526</td>\n",
       "      <td>0.266788</td>\n",
       "      <td>-1.075278</td>\n",
       "      <td>-0.065054</td>\n",
       "      <td>-1.297476</td>\n",
       "      <td>0.137456</td>\n",
       "      <td>True</td>\n",
       "      <td>1</td>\n",
       "      <td>0</td>\n",
       "      <td>0</td>\n",
       "      <td>1</td>\n",
       "      <td>0</td>\n",
       "      <td>0</td>\n",
       "      <td>0</td>\n",
       "      <td>0</td>\n",
       "      <td>0</td>\n",
       "    </tr>\n",
       "    <tr>\n",
       "      <th>1</th>\n",
       "      <td>True</td>\n",
       "      <td>-1.810666</td>\n",
       "      <td>-0.013474</td>\n",
       "      <td>-0.672699</td>\n",
       "      <td>-0.236615</td>\n",
       "      <td>-0.723092</td>\n",
       "      <td>-0.826792</td>\n",
       "      <td>-0.756608</td>\n",
       "      <td>0.137456</td>\n",
       "      <td>True</td>\n",
       "      <td>1</td>\n",
       "      <td>0</td>\n",
       "      <td>0</td>\n",
       "      <td>1</td>\n",
       "      <td>0</td>\n",
       "      <td>0</td>\n",
       "      <td>0</td>\n",
       "      <td>0</td>\n",
       "      <td>1</td>\n",
       "    </tr>\n",
       "    <tr>\n",
       "      <th>2</th>\n",
       "      <td>True</td>\n",
       "      <td>-1.789048</td>\n",
       "      <td>-1.654549</td>\n",
       "      <td>-1.839275</td>\n",
       "      <td>-0.668103</td>\n",
       "      <td>-0.368769</td>\n",
       "      <td>-0.065054</td>\n",
       "      <td>-1.189302</td>\n",
       "      <td>0.137456</td>\n",
       "      <td>True</td>\n",
       "      <td>1</td>\n",
       "      <td>0</td>\n",
       "      <td>0</td>\n",
       "      <td>1</td>\n",
       "      <td>0</td>\n",
       "      <td>0</td>\n",
       "      <td>0</td>\n",
       "      <td>0</td>\n",
       "      <td>0</td>\n",
       "    </tr>\n",
       "    <tr>\n",
       "      <th>3</th>\n",
       "      <td>True</td>\n",
       "      <td>-1.789048</td>\n",
       "      <td>-0.159552</td>\n",
       "      <td>-0.202559</td>\n",
       "      <td>-0.236615</td>\n",
       "      <td>-0.061033</td>\n",
       "      <td>-0.065054</td>\n",
       "      <td>-0.107566</td>\n",
       "      <td>0.137456</td>\n",
       "      <td>True</td>\n",
       "      <td>0</td>\n",
       "      <td>1</td>\n",
       "      <td>0</td>\n",
       "      <td>1</td>\n",
       "      <td>0</td>\n",
       "      <td>0</td>\n",
       "      <td>0</td>\n",
       "      <td>0</td>\n",
       "      <td>0</td>\n",
       "    </tr>\n",
       "    <tr>\n",
       "      <th>4</th>\n",
       "      <td>False</td>\n",
       "      <td>-1.767431</td>\n",
       "      <td>0.791699</td>\n",
       "      <td>0.311107</td>\n",
       "      <td>-0.811933</td>\n",
       "      <td>-1.088528</td>\n",
       "      <td>-0.826792</td>\n",
       "      <td>-0.756608</td>\n",
       "      <td>0.137456</td>\n",
       "      <td>True</td>\n",
       "      <td>1</td>\n",
       "      <td>0</td>\n",
       "      <td>1</td>\n",
       "      <td>0</td>\n",
       "      <td>0</td>\n",
       "      <td>0</td>\n",
       "      <td>0</td>\n",
       "      <td>0</td>\n",
       "      <td>0</td>\n",
       "    </tr>\n",
       "  </tbody>\n",
       "</table>\n",
       "</div>"
      ],
      "text/plain": [
       "         BAD      LOAN   MORTDUE     VALUE       YOJ     CLAGE      NINQ  \\\n",
       "index                                                                      \n",
       "0       True -1.832283 -1.295882 -1.335526  0.266788 -1.075278 -0.065054   \n",
       "1       True -1.810666 -0.013474 -0.672699 -0.236615 -0.723092 -0.826792   \n",
       "2       True -1.789048 -1.654549 -1.839275 -0.668103 -0.368769 -0.065054   \n",
       "3       True -1.789048 -0.159552 -0.202559 -0.236615 -0.061033 -0.065054   \n",
       "4      False -1.767431  0.791699  0.311107 -0.811933 -1.088528 -0.826792   \n",
       "\n",
       "           CLNO   DEBTINC  DEROGzero  REASON_HomeImp  REASON_IsMissing  \\\n",
       "index                                                                    \n",
       "0     -1.297476  0.137456       True               1                 0   \n",
       "1     -0.756608  0.137456       True               1                 0   \n",
       "2     -1.189302  0.137456       True               1                 0   \n",
       "3     -0.107566  0.137456       True               0                 1   \n",
       "4     -0.756608  0.137456       True               1                 0   \n",
       "\n",
       "       JOB_Office  JOB_Other  JOB_ProfExe  JOB_Sales  JOB_Self  DELINQcat_1  \\\n",
       "index                                                                         \n",
       "0               0          1            0          0         0            0   \n",
       "1               0          1            0          0         0            0   \n",
       "2               0          1            0          0         0            0   \n",
       "3               0          1            0          0         0            0   \n",
       "4               1          0            0          0         0            0   \n",
       "\n",
       "       DELINQcat_1+  \n",
       "index                \n",
       "0                 0  \n",
       "1                 1  \n",
       "2                 0  \n",
       "3                 0  \n",
       "4                 0  "
      ]
     },
     "execution_count": 11,
     "metadata": {},
     "output_type": "execute_result"
    }
   ],
   "source": [
    "df = pd.read_csv('../data/hmeq_modeling.csv', header = 0, index_col = 0) # import file with header and index as first row and column respectively\n",
    "\n",
    "df.head() #inspect data to make sure it looks correct"
   ]
  },
  {
   "cell_type": "code",
   "execution_count": 12,
   "metadata": {
    "id": "xQwXkg0SfHK1"
   },
   "outputs": [],
   "source": [
    "X = df.drop(['BAD'], axis=1) #code the variables in the most standard way for your usage\n",
    "y = df[['BAD']]"
   ]
  },
  {
   "cell_type": "code",
   "execution_count": 13,
   "metadata": {
    "colab": {
     "base_uri": "https://localhost:8080/"
    },
    "id": "y7tOKwVtfHK1",
    "outputId": "e89628b3-5c80-4082-f207-5f522b9988ac"
   },
   "outputs": [
    {
     "name": "stdout",
     "output_type": "stream",
     "text": [
      "<class 'pandas.core.frame.DataFrame'> <class 'pandas.core.frame.DataFrame'> (5960, 18) (5960, 1)\n"
     ]
    }
   ],
   "source": [
    "print(type(X), type(y), X.shape, y.shape) # double check that types and dimensions are correct before proceeding"
   ]
  },
  {
   "cell_type": "markdown",
   "metadata": {
    "id": "24iH_u3ANDol"
   },
   "source": [
    "## Decision Trees with sklearn\n",
    "\n",
    "As mentioned, the sklean library supports tree-based algorithms, which are a lot easier to use compared to coding a tree algorithm from scratch. Armed with the knowledge of the inner workings of a decision tree, it should be easier to understand what this algorithm is trying to achieve."
   ]
  },
  {
   "cell_type": "code",
   "execution_count": 14,
   "metadata": {
    "id": "y4Fd0cChNDol"
   },
   "outputs": [],
   "source": [
    "from sklearn import tree\n",
    "\n",
    "clf = tree.DecisionTreeClassifier(criterion=\"entropy\", min_samples_split=2, max_depth=2) #keep tree at a low depth\n",
    "\n",
    "dt_shallow = clf.fit(X, y)"
   ]
  },
  {
   "cell_type": "code",
   "execution_count": 15,
   "metadata": {
    "id": "v_KPNLD6NDon"
   },
   "outputs": [],
   "source": [
    "pred_dt_shallow = dt_shallow.predict(X)"
   ]
  },
  {
   "cell_type": "code",
   "execution_count": 16,
   "metadata": {
    "colab": {
     "base_uri": "https://localhost:8080/"
    },
    "id": "k6CTpH7yNDoq",
    "outputId": "7a067141-9d7b-46e2-8012-40c665fed606"
   },
   "outputs": [
    {
     "data": {
      "text/plain": [
       "array([ True,  True,  True,  True,  True])"
      ]
     },
     "execution_count": 16,
     "metadata": {},
     "output_type": "execute_result"
    }
   ],
   "source": [
    "pred_dt_shallow[0:5]"
   ]
  },
  {
   "cell_type": "code",
   "execution_count": 17,
   "metadata": {
    "colab": {
     "base_uri": "https://localhost:8080/"
    },
    "id": "lJT5XZOsNDos",
    "outputId": "0a98168a-6fa4-4577-a49f-f3071bc1f300"
   },
   "outputs": [
    {
     "data": {
      "text/plain": [
       "0.851006711409396"
      ]
     },
     "execution_count": 17,
     "metadata": {},
     "output_type": "execute_result"
    }
   ],
   "source": [
    "classify_correct_shallow = pred_dt_shallow == y.iloc[:,0]\n",
    "accuracy_shallow = classify_correct_shallow.mean()\n",
    "\n",
    "\n",
    "accuracy_shallow"
   ]
  },
  {
   "cell_type": "code",
   "execution_count": 18,
   "metadata": {
    "colab": {
     "base_uri": "https://localhost:8080/",
     "height": 371
    },
    "id": "L7n0bgMhNDow",
    "outputId": "b21a42c3-da58-4174-83c6-8dd0cea9ce27"
   },
   "outputs": [
    {
     "data": {
      "text/plain": [
       "[Text(167.4, 181.2, 'X[7] <= 0.133\\nentropy = 0.721\\nsamples = 5960\\nvalue = [4771, 1189]'),\n",
       " Text(83.7, 108.72, 'X[17] <= 0.5\\nentropy = 0.315\\nsamples = 2341\\nvalue = [2208, 133]'),\n",
       " Text(41.85, 36.23999999999998, 'entropy = 0.261\\nsamples = 2215\\nvalue = [2117, 98]'),\n",
       " Text(125.55000000000001, 36.23999999999998, 'entropy = 0.852\\nsamples = 126\\nvalue = [91, 35]'),\n",
       " Text(251.10000000000002, 108.72, 'X[7] <= 0.137\\nentropy = 0.871\\nsamples = 3619\\nvalue = [2563, 1056]'),\n",
       " Text(209.25, 36.23999999999998, 'entropy = 0.959\\nsamples = 1273\\nvalue = [486, 787]'),\n",
       " Text(292.95, 36.23999999999998, 'entropy = 0.514\\nsamples = 2346\\nvalue = [2077, 269]')]"
      ]
     },
     "execution_count": 18,
     "metadata": {},
     "output_type": "execute_result"
    },
    {
     "data": {
      "image/png": "[encoded data removed]",
      "text/plain": [
       "<Figure size 432x288 with 1 Axes>"
      ]
     },
     "metadata": {
      "needs_background": "light"
     },
     "output_type": "display_data"
    }
   ],
   "source": [
    "tree.plot_tree(dt_shallow, fontsize=8)"
   ]
  },
  {
   "cell_type": "markdown",
   "metadata": {
    "id": "Q8I98tRbNDoz"
   },
   "source": [
    "### SKLearn Tree with No Limit on Depth\n",
    "\n",
    "If we remove the maximum depth parameter, the algorithm will go as far as it can until all nodes are pure."
   ]
  },
  {
   "cell_type": "code",
   "execution_count": 19,
   "metadata": {
    "id": "y4HfrTLyNDoz"
   },
   "outputs": [],
   "source": [
    "clf = tree.DecisionTreeClassifier(criterion='entropy', min_samples_split=2)\n",
    "\n",
    "dt_deep = clf.fit(X, y)\n",
    "\n",
    "pred_dt_deep = dt_deep.predict(X)"
   ]
  },
  {
   "cell_type": "code",
   "execution_count": 20,
   "metadata": {
    "colab": {
     "base_uri": "https://localhost:8080/"
    },
    "id": "5Na0BNJFNDo1",
    "outputId": "3f18be46-1f98-47d2-efc1-2ef28821a90c"
   },
   "outputs": [
    {
     "data": {
      "text/plain": [
       "array([ True,  True,  True,  True, False])"
      ]
     },
     "execution_count": 20,
     "metadata": {},
     "output_type": "execute_result"
    }
   ],
   "source": [
    "pred_dt_deep[0:5]"
   ]
  },
  {
   "cell_type": "code",
   "execution_count": 21,
   "metadata": {
    "colab": {
     "base_uri": "https://localhost:8080/"
    },
    "id": "s-rfG-hbNDo3",
    "outputId": "3580db64-b812-43bf-851c-2036da9384ea"
   },
   "outputs": [
    {
     "data": {
      "text/plain": [
       "1.0"
      ]
     },
     "execution_count": 21,
     "metadata": {},
     "output_type": "execute_result"
    }
   ],
   "source": [
    "classify_correct_deep = pred_dt_deep == y.iloc[:,0]\n",
    "accuracy_deep = classify_correct_deep.mean()\n",
    "\n",
    "accuracy_deep"
   ]
  },
  {
   "cell_type": "markdown",
   "metadata": {
    "id": "Bs1jcqGTNDo5"
   },
   "source": [
    "While this seems great at first glance, what is the problem here? What does this mean for new data that we encounter whose idiosyncracies may be slightly different than the data we used to train the model?"
   ]
  }
 ],
 "metadata": {
  "colab": {
   "collapsed_sections": [
    "HUkvWfFsVf2m",
    "WGbaWjvgNDna",
    "rDBY9KhyNDns",
    "3m-msruhNDoB",
    "tXwvb-StNDoE",
    "B0xBW-wxNDoH",
    "zG3DmknMNDoL",
    "aaDC9YXTNDoU",
    "B4eGRMz_NDob",
    "24iH_u3ANDol",
    "Q8I98tRbNDoz"
   ],
   "name": "5_nb_supervised_learningmodellingreview.ipynb.txt",
   "provenance": []
  },
  "kernelspec": {
   "display_name": "Python 3",
   "language": "python",
   "name": "python3"
  },
  "language_info": {
   "codemirror_mode": {
    "name": "ipython",
    "version": 3
   },
   "file_extension": ".py",
   "mimetype": "text/x-python",
   "name": "python",
   "nbconvert_exporter": "python",
   "pygments_lexer": "ipython3",
   "version": "3.7.10"
  }
 },
 "nbformat": 4,
 "nbformat_minor": 4
}
