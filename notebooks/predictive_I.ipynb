{
 "cells": [
  {
   "cell_type": "markdown",
   "metadata": {
    "id": "8SMs2-e4LMG1"
   },
   "source": [
    "[![Open In Colab](https://colab.research.google.com/assets/colab-badge.svg)](https://colab.research.google.com/github/Humboldt-WI/bads/blob/master/tutorials/6_nb_model_assessment.ipynb) \n"
   ]
  },
  {
   "cell_type": "markdown",
   "metadata": {
    "id": "llvzUsvELHVa"
   },
   "source": [
    "# Predictive Analytics I\n",
    "We have learned about logistic regression and CART. Equipped with this knowledge, we can move on with revisiting practices to evaluate supervised learning models. Today, we focus on the assessment of predictive accuracy. Remember that accuracy is not the only relevant dimension of model performance. Also remember that both logit and CART could also be employed for *explanatory* modeling, which would imply use of yet different evaluation criteria. Here, however, we focus on prediction. Further, we will focus on models for classification. Measuring the predictive accuracy of a regression model is straightforward and involves calculating indicators such as MSE, MAE, MAPE, and the like. Once you can assess a classification model, you will have no problems with assessing a regression model.  \n",
    "\n",
    "Here are some key things we address:\n",
    "- Model evaluation\n",
    "\n",
    "- Some Ensemble Learning"
   ]
  },
  {
   "cell_type": "code",
   "execution_count": 1,
   "metadata": {
    "id": "wYtW-__8lqag"
   },
   "outputs": [],
   "source": [
    "import numpy as np\n",
    "import matplotlib.pyplot as plt\n",
    "import pandas as pd \n",
    "from sklearn.model_selection import train_test_split\n",
    "\n",
    "# Some configuration of the plots we will create later\n",
    "%matplotlib inline  \n",
    "plt.rcParams[\"figure.figsize\"] = (12,6)"
   ]
  },
  {
   "cell_type": "markdown",
   "metadata": {
    "id": "ETTiNKcKlqal"
   },
   "source": [
    "## Data\n",
    "Also as usual, we need some data to play with. Given our focus on classification and given that we know the data quite well by now, we will continue with the **HMEQ data set**. "
   ]
  },
  {
   "cell_type": "code",
   "execution_count": 2,
   "metadata": {
    "colab": {
     "base_uri": "https://localhost:8080/",
     "height": 228
    },
    "id": "-f_td166lqam",
    "outputId": "6216387b-f625-4d5e-917d-06de7bc4208a"
   },
   "outputs": [
    {
     "data": {
      "text/html": [
       "<div>\n",
       "<style scoped>\n",
       "    .dataframe tbody tr th:only-of-type {\n",
       "        vertical-align: middle;\n",
       "    }\n",
       "\n",
       "    .dataframe tbody tr th {\n",
       "        vertical-align: top;\n",
       "    }\n",
       "\n",
       "    .dataframe thead th {\n",
       "        text-align: right;\n",
       "    }\n",
       "</style>\n",
       "<table border=\"1\" class=\"dataframe\">\n",
       "  <thead>\n",
       "    <tr style=\"text-align: right;\">\n",
       "      <th></th>\n",
       "      <th>BAD</th>\n",
       "      <th>LOAN</th>\n",
       "      <th>MORTDUE</th>\n",
       "      <th>VALUE</th>\n",
       "      <th>YOJ</th>\n",
       "      <th>CLAGE</th>\n",
       "      <th>NINQ</th>\n",
       "      <th>CLNO</th>\n",
       "      <th>DEBTINC</th>\n",
       "      <th>DEROGzero</th>\n",
       "      <th>REASON_HomeImp</th>\n",
       "      <th>REASON_IsMissing</th>\n",
       "      <th>JOB_Office</th>\n",
       "      <th>JOB_Other</th>\n",
       "      <th>JOB_ProfExe</th>\n",
       "      <th>JOB_Sales</th>\n",
       "      <th>JOB_Self</th>\n",
       "      <th>DELINQcat_1</th>\n",
       "      <th>DELINQcat_1+</th>\n",
       "    </tr>\n",
       "    <tr>\n",
       "      <th>index</th>\n",
       "      <th></th>\n",
       "      <th></th>\n",
       "      <th></th>\n",
       "      <th></th>\n",
       "      <th></th>\n",
       "      <th></th>\n",
       "      <th></th>\n",
       "      <th></th>\n",
       "      <th></th>\n",
       "      <th></th>\n",
       "      <th></th>\n",
       "      <th></th>\n",
       "      <th></th>\n",
       "      <th></th>\n",
       "      <th></th>\n",
       "      <th></th>\n",
       "      <th></th>\n",
       "      <th></th>\n",
       "      <th></th>\n",
       "    </tr>\n",
       "  </thead>\n",
       "  <tbody>\n",
       "    <tr>\n",
       "      <th>0</th>\n",
       "      <td>True</td>\n",
       "      <td>-1.832283</td>\n",
       "      <td>-1.295882</td>\n",
       "      <td>-1.335526</td>\n",
       "      <td>0.266788</td>\n",
       "      <td>-1.075278</td>\n",
       "      <td>-0.065054</td>\n",
       "      <td>-1.297476</td>\n",
       "      <td>0.137456</td>\n",
       "      <td>True</td>\n",
       "      <td>1</td>\n",
       "      <td>0</td>\n",
       "      <td>0</td>\n",
       "      <td>1</td>\n",
       "      <td>0</td>\n",
       "      <td>0</td>\n",
       "      <td>0</td>\n",
       "      <td>0</td>\n",
       "      <td>0</td>\n",
       "    </tr>\n",
       "    <tr>\n",
       "      <th>1</th>\n",
       "      <td>True</td>\n",
       "      <td>-1.810666</td>\n",
       "      <td>-0.013474</td>\n",
       "      <td>-0.672699</td>\n",
       "      <td>-0.236615</td>\n",
       "      <td>-0.723092</td>\n",
       "      <td>-0.826792</td>\n",
       "      <td>-0.756608</td>\n",
       "      <td>0.137456</td>\n",
       "      <td>True</td>\n",
       "      <td>1</td>\n",
       "      <td>0</td>\n",
       "      <td>0</td>\n",
       "      <td>1</td>\n",
       "      <td>0</td>\n",
       "      <td>0</td>\n",
       "      <td>0</td>\n",
       "      <td>0</td>\n",
       "      <td>1</td>\n",
       "    </tr>\n",
       "    <tr>\n",
       "      <th>2</th>\n",
       "      <td>True</td>\n",
       "      <td>-1.789048</td>\n",
       "      <td>-1.654549</td>\n",
       "      <td>-1.839275</td>\n",
       "      <td>-0.668103</td>\n",
       "      <td>-0.368769</td>\n",
       "      <td>-0.065054</td>\n",
       "      <td>-1.189302</td>\n",
       "      <td>0.137456</td>\n",
       "      <td>True</td>\n",
       "      <td>1</td>\n",
       "      <td>0</td>\n",
       "      <td>0</td>\n",
       "      <td>1</td>\n",
       "      <td>0</td>\n",
       "      <td>0</td>\n",
       "      <td>0</td>\n",
       "      <td>0</td>\n",
       "      <td>0</td>\n",
       "    </tr>\n",
       "    <tr>\n",
       "      <th>3</th>\n",
       "      <td>True</td>\n",
       "      <td>-1.789048</td>\n",
       "      <td>-0.159552</td>\n",
       "      <td>-0.202559</td>\n",
       "      <td>-0.236615</td>\n",
       "      <td>-0.061033</td>\n",
       "      <td>-0.065054</td>\n",
       "      <td>-0.107566</td>\n",
       "      <td>0.137456</td>\n",
       "      <td>True</td>\n",
       "      <td>0</td>\n",
       "      <td>1</td>\n",
       "      <td>0</td>\n",
       "      <td>1</td>\n",
       "      <td>0</td>\n",
       "      <td>0</td>\n",
       "      <td>0</td>\n",
       "      <td>0</td>\n",
       "      <td>0</td>\n",
       "    </tr>\n",
       "    <tr>\n",
       "      <th>4</th>\n",
       "      <td>False</td>\n",
       "      <td>-1.767431</td>\n",
       "      <td>0.791699</td>\n",
       "      <td>0.311107</td>\n",
       "      <td>-0.811933</td>\n",
       "      <td>-1.088528</td>\n",
       "      <td>-0.826792</td>\n",
       "      <td>-0.756608</td>\n",
       "      <td>0.137456</td>\n",
       "      <td>True</td>\n",
       "      <td>1</td>\n",
       "      <td>0</td>\n",
       "      <td>1</td>\n",
       "      <td>0</td>\n",
       "      <td>0</td>\n",
       "      <td>0</td>\n",
       "      <td>0</td>\n",
       "      <td>0</td>\n",
       "      <td>0</td>\n",
       "    </tr>\n",
       "  </tbody>\n",
       "</table>\n",
       "</div>"
      ],
      "text/plain": [
       "         BAD      LOAN   MORTDUE     VALUE       YOJ     CLAGE      NINQ  \\\n",
       "index                                                                      \n",
       "0       True -1.832283 -1.295882 -1.335526  0.266788 -1.075278 -0.065054   \n",
       "1       True -1.810666 -0.013474 -0.672699 -0.236615 -0.723092 -0.826792   \n",
       "2       True -1.789048 -1.654549 -1.839275 -0.668103 -0.368769 -0.065054   \n",
       "3       True -1.789048 -0.159552 -0.202559 -0.236615 -0.061033 -0.065054   \n",
       "4      False -1.767431  0.791699  0.311107 -0.811933 -1.088528 -0.826792   \n",
       "\n",
       "           CLNO   DEBTINC  DEROGzero  REASON_HomeImp  REASON_IsMissing  \\\n",
       "index                                                                    \n",
       "0     -1.297476  0.137456       True               1                 0   \n",
       "1     -0.756608  0.137456       True               1                 0   \n",
       "2     -1.189302  0.137456       True               1                 0   \n",
       "3     -0.107566  0.137456       True               0                 1   \n",
       "4     -0.756608  0.137456       True               1                 0   \n",
       "\n",
       "       JOB_Office  JOB_Other  JOB_ProfExe  JOB_Sales  JOB_Self  DELINQcat_1  \\\n",
       "index                                                                         \n",
       "0               0          1            0          0         0            0   \n",
       "1               0          1            0          0         0            0   \n",
       "2               0          1            0          0         0            0   \n",
       "3               0          1            0          0         0            0   \n",
       "4               1          0            0          0         0            0   \n",
       "\n",
       "       DELINQcat_1+  \n",
       "index                \n",
       "0                 0  \n",
       "1                 1  \n",
       "2                 0  \n",
       "3                 0  \n",
       "4                 0  "
      ]
     },
     "execution_count": 2,
     "metadata": {},
     "output_type": "execute_result"
    }
   ],
   "source": [
    "df = pd.read_csv('../data/hmeq_modeling.csv', index_col=\"index\")\n",
    "\n",
    "# Split data into target and features\n",
    "pd_X = df.drop(['BAD'], axis=1) \n",
    "pd_y = df['BAD'].astype(int)  # also make the target an integer value\n",
    "\n",
    "# no dev set this time, we will use cross-validation on the train data\n",
    "X_train, X_test, y_train, y_test = train_test_split( pd_X, pd_y, test_size=0.3, random_state=42)\n",
    "\n",
    "\n",
    "df.head(5) "
   ]
  },
  {
   "cell_type": "markdown",
   "metadata": {
    "id": "Is9eCWlClqau"
   },
   "source": [
    "## Prediction models\n",
    "Finally, since we aim at assessing predictions, we need to obtain some predictions in the first place. Let's quickly build a logit and a tree model for our data. "
   ]
  },
  {
   "cell_type": "code",
   "execution_count": 3,
   "metadata": {
    "colab": {
     "base_uri": "https://localhost:8080/"
    },
    "id": "5Lb9Ujwtlqay",
    "outputId": "8729837a-5238-4067-8d42-44feb7955b91"
   },
   "outputs": [
    {
     "data": {
      "text/plain": [
       "LogisticRegression(penalty='none')"
      ]
     },
     "execution_count": 3,
     "metadata": {},
     "output_type": "execute_result"
    }
   ],
   "source": [
    "# Estimate a logit model\n",
    "from sklearn.linear_model import LogisticRegression\n",
    "\n",
    "logit = LogisticRegression(penalty='none', fit_intercept=True)\n",
    "logit.fit(X_train, y_train)"
   ]
  },
  {
   "cell_type": "code",
   "execution_count": 4,
   "metadata": {
    "colab": {
     "base_uri": "https://localhost:8080/"
    },
    "id": "5OAzxQ9olqa9",
    "outputId": "772743ba-926b-4c20-bcd4-e03afc90534a"
   },
   "outputs": [
    {
     "data": {
      "text/plain": [
       "DecisionTreeClassifier(max_depth=5)"
      ]
     },
     "execution_count": 4,
     "metadata": {},
     "output_type": "execute_result"
    }
   ],
   "source": [
    "# Estimate a CART tree\n",
    "from sklearn.tree import DecisionTreeClassifier\n",
    "\n",
    "tree = DecisionTreeClassifier(criterion='gini', max_depth=5)\n",
    "tree.fit(X_train, y_train)"
   ]
  },
  {
   "cell_type": "markdown",
   "metadata": {
    "id": "4gpwDkiIlqbB"
   },
   "source": [
    "# Forecast accuracy in classification"
   ]
  },
  {
   "cell_type": "markdown",
   "metadata": {
    "id": "2LjuGHbnlqbB"
   },
   "source": [
    "## Continuous and discrete predictions\n",
    "To generate prediction from a trained model, we simply apply it to data. You already know the `predict()` function in action."
   ]
  },
  {
   "cell_type": "code",
   "execution_count": 5,
   "metadata": {
    "colab": {
     "base_uri": "https://localhost:8080/",
     "height": 281
    },
    "id": "Su0FaZ-mlqbC",
    "outputId": "da65aa3f-9bc8-4acd-a9c6-9a40df50ec9d"
   },
   "outputs": [
    {
     "data": {
      "image/png": "[encoded data removed]",
      "text/plain": [
       "<Figure size 864x432 with 4 Axes>"
      ]
     },
     "metadata": {
      "needs_background": "light"
     },
     "output_type": "display_data"
    }
   ],
   "source": [
    "# We collect predictions into a dataframe for easy visualization\n",
    "df_pred = pd.DataFrame({'y': y_test, 'cart': tree.predict(X_test), 'logit': logit.predict(X_test)})  \n",
    "df_pred.hist();"
   ]
  },
  {
   "cell_type": "markdown",
   "metadata": {
    "id": "IBfMjs4GcY7Z"
   },
   "source": [
    "How to interpret these graphs? Well, many points are noteworthy:\n",
    "- the data is imbalanced, $y$ shows less ones (bad clients) than zeros (good clients).\n",
    "- CART and logit pick-up the imbalance and predict class 0 more often.\n",
    "- CART and logit indeed predict classes. All predictions are either zero or one, and never anything in between.\n",
    "\n",
    "Given the latter point, let's create some probabilistic predictions using the function `predict_proba()`. Remember that `sklearn` classification models routinely offer both functions, `predict()` and `predict_proba()`, for producing discrete and probabilistic predictions, respectively."
   ]
  },
  {
   "cell_type": "code",
   "execution_count": 6,
   "metadata": {
    "colab": {
     "base_uri": "https://localhost:8080/"
    },
    "id": "wzwwjf-mcY7a",
    "outputId": "6d06b37b-748e-46f0-9889-341b2583ef5d"
   },
   "outputs": [
    {
     "name": "stdout",
     "output_type": "stream",
     "text": [
      "[[0.93186683 0.06813317]\n",
      " [0.93798714 0.06201286]\n",
      " [0.73778796 0.26221204]\n",
      " ...\n",
      " [0.96003058 0.03996942]\n",
      " [0.85082524 0.14917476]\n",
      " [0.52209895 0.47790105]]\n"
     ]
    }
   ],
   "source": [
    "# Add probabilistic predictions to our dataframe\n",
    "p = logit.predict_proba(X_test)\n",
    "print(p)  # this is a 2D array"
   ]
  },
  {
   "cell_type": "markdown",
   "metadata": {
    "id": "Gdkz-ChqlqbK"
   },
   "source": [
    "Note that the result `p`, which we compute above, is an $n \\times 2$ array. An array was to be expected as we calculate predictions for the $n$ data instances (rows) in $X$. But why have two outputs per data instance? Well, the answer is that we have two classes, and get probability estimates for each of these classes. When storing model predictions for later use, we only need the probabilities for one of the classes. Always make sure you **understand which class predictions you keep.** Examining the `classes_` attribute of a model class helps us.   "
   ]
  },
  {
   "cell_type": "code",
   "execution_count": 7,
   "metadata": {
    "colab": {
     "base_uri": "https://localhost:8080/"
    },
    "id": "QzNazHkilqbK",
    "outputId": "130fde10-97cd-4d17-96b1-6db5352c3edc"
   },
   "outputs": [
    {
     "name": "stdout",
     "output_type": "stream",
     "text": [
      "[0 1]\n"
     ]
    }
   ],
   "source": [
    "print(logit.classes_)"
   ]
  },
  {
   "cell_type": "markdown",
   "metadata": {
    "id": "ZWz3AFtnlqbO"
   },
   "source": [
    "This says that we have two classes with class labels zero and one, respectively. Thus, to extract the estimated probabilities of the class with label zero, we can call `p[:,0]`. Likewise, `p[:,1]` gives the estimated membership probabilities of the second class with the label one. This is a bit complicated in the beginning but we have to get used to it. Below, we combine the indexing directly with calling `predict_proba()`, which is common practice, and keep the predictions associated with the second class. In our data, the class label one indicates that a borrower was a bad risk."
   ]
  },
  {
   "cell_type": "code",
   "execution_count": 8,
   "metadata": {
    "colab": {
     "base_uri": "https://localhost:8080/",
     "height": 281
    },
    "id": "8qjv7xS2lqbP",
    "outputId": "7e574ed1-9fe6-4fc9-a0ea-e628b757d9ff"
   },
   "outputs": [
    {
     "data": {
      "image/png": "[encoded data removed]",
      "text/plain": [
       "<Figure size 1440x1008 with 6 Axes>"
      ]
     },
     "metadata": {
      "needs_background": "light"
     },
     "output_type": "display_data"
    }
   ],
   "source": [
    "# Augment data frame with predictions\n",
    "df_pred[\"p_logit\"] = p[:,1]\n",
    "df_pred[\"p_tree\"] = tree.predict_proba(X_test)[:,1]\n",
    "\n",
    "# Also plot the probabilistic predictions\n",
    "df_pred.hist(figsize=(20,14));"
   ]
  },
  {
   "cell_type": "markdown",
   "metadata": {
    "id": "PcLLr2oliQpQ"
   },
   "source": [
    "Did you notice the different distribution of the predictions from the logit model compared to the tree model in the histograms? One could draw several conclusions from the plots. Make sure to think about and understand the following statement:\n",
    "\n",
    "*The number of distinct values among the probability estimates coming from the tree is upper bounded by (and often equivalent to) the number of leaf nodes in a classification tree*\n",
    "\n",
    "We will not elaborate on that statement here, but, at least, verify the claim empirically."
   ]
  },
  {
   "cell_type": "code",
   "execution_count": 9,
   "metadata": {
    "colab": {
     "base_uri": "https://localhost:8080/"
    },
    "id": "pLhmUn03iQpR",
    "outputId": "501565f8-4399-4163-8e04-e6ab6087b3ac"
   },
   "outputs": [
    {
     "name": "stdout",
     "output_type": "stream",
     "text": [
      "The number of unique predictions from the tree is: 15.\n",
      "The number of leaf nodes in the tree is: 23.\n"
     ]
    }
   ],
   "source": [
    "# Calculate the number of distinct values among the tree predictions\n",
    "n_p_tree =  len(np.unique(df_pred[\"p_tree\"]))\n",
    "print('The number of unique predictions from the tree is: {}.'.format(n_p_tree))\n",
    "\n",
    "# Extract the size of the tree in terms of the number of nodes\n",
    "print('The number of leaf nodes in the tree is: {}.'.format(tree.get_n_leaves()))\n"
   ]
  },
  {
   "cell_type": "markdown",
   "metadata": {
    "id": "CTz5hUD0iQpR"
   },
   "source": [
    "So here, there are more leaf nodes than unique predictions, which is consistent with the above statement. Why does it has to be like that? Fair enough if you find the question trivial, but we want to make sure you fully understand how trees predict probabilities. "
   ]
  },
  {
   "cell_type": "markdown",
   "metadata": {
    "id": "A75mB19slqbS"
   },
   "source": [
    "## Measures of predictive accuracy \n",
    "Accuracy indicators help us evaluate how well our model predicts the target. We compute them by **comparing actuals to predictions**. One easy way to do so is by using the `score()` function."
   ]
  },
  {
   "cell_type": "code",
   "execution_count": 10,
   "metadata": {
    "colab": {
     "base_uri": "https://localhost:8080/"
    },
    "id": "mJ7z0KHHlqbS",
    "outputId": "5f9375e1-f7a5-445a-ec54-25375ec6f7ab"
   },
   "outputs": [
    {
     "name": "stdout",
     "output_type": "stream",
     "text": [
      "Logit model scores 0.8121\n",
      "Tree model scores 0.882\n"
     ]
    }
   ],
   "source": [
    "print('Logit model scores {:.4}'.format(logit.score(X_test, y_test)))\n",
    "print('Tree model scores {:.4}'.format(tree.score(X_test, y_test)))"
   ]
  },
  {
   "cell_type": "markdown",
   "metadata": {
    "id": "YBGfL_rOlqbV"
   },
   "source": [
    "Wow, so easy. Really? Yes! But what actually is that score? Are higher scores better or should the score be low? We call functions like `score()` convenience functions. They are easy to use but hide many - often important - details. Look into the help to see what `score()` is really computing. "
   ]
  },
  {
   "cell_type": "markdown",
   "metadata": {
    "id": "6zp6vF6glqbZ"
   },
   "source": [
    "Ok, **after reading the help** you now know that `score()` calculates *classification accuracy*. We defined that measure in the lecture as\n",
    "$$ \\frac{TP+TN}{TP+TN+FP+FN}$$\n",
    "whereby the TP, TN, FP, and FP denote, respectively, the number of true positive, true negative, false positive, and false negative classifications. Let's revisit the calculation in Python."
   ]
  },
  {
   "cell_type": "code",
   "execution_count": 11,
   "metadata": {
    "colab": {
     "base_uri": "https://localhost:8080/"
    },
    "id": "2q53o5sUlqbZ",
    "outputId": "d5fa1ef2-f1de-423c-a6bc-b9d0443fdcdb"
   },
   "outputs": [
    {
     "name": "stdout",
     "output_type": "stream",
     "text": [
      "Manually calculated accuracy: 0.8121\n"
     ]
    }
   ],
   "source": [
    "# Re-calc accuracy of logit\n",
    "acc = np.sum(logit.predict(X_test)==y_test) / len(y_test)  # just one way to do the calculation\n",
    "print(\"Manually calculated accuracy: {:.4}\".format(acc))"
   ]
  },
  {
   "cell_type": "markdown",
   "metadata": {
    "id": "OXeVBio1lqbc"
   },
   "source": [
    "Ok that worked out. Now remember that we were rather critical with classification accuracy in the lecture. Let's revisit why we do not like this measure.\n",
    "\n",
    "Classification accuracy is a **threshold metric**. It calculates model performance for one threshold or classification cut-off. If not specified, this threshold is usually set to 0.5. That's also what the `predict()` function does. Changing the threshold can change classification accuracy a lot although the model stays the same. This is particularly true for imbalanced data sets like this one. Let me give you an exemplary scenario: We have 100 observations. 5 observations are of the class 'BAD' and 95 of the class 'GOOD'. So even without finding any generalizable patterns, classifying all observations as good would still result in an accuracy of 95%. To ensure robustness of our model, we want to avoid dependence of a performance measure on the cut-off.\n",
    "\n",
    "A preferable approach to assess classification performance is to consider all possible thresholds. This is what *receiver-operating-characteristics (ROC) analysis* does. Before looking into ROC, let's have a look at the full confusion table first, which will also remind us of the role of the threshold."
   ]
  },
  {
   "cell_type": "markdown",
   "metadata": {
    "id": "v8tBsZqWlqbg"
   },
   "source": [
    "### Confusion matrix\n",
    "A confusion matrix is a cross-table of predicted and actual classes. As such, it provides more insight into a classifier compared to the classification accuracy measure, which summarizes the whole confusion table in a single number."
   ]
  },
  {
   "cell_type": "code",
   "execution_count": 12,
   "metadata": {
    "colab": {
     "base_uri": "https://localhost:8080/"
    },
    "id": "C5umH6b1lqbh",
    "outputId": "4a4d8997-c797-432d-e4e1-3efadf0877e1"
   },
   "outputs": [
    {
     "name": "stdout",
     "output_type": "stream",
     "text": [
      "[[1326   63]\n",
      " [ 273  126]]\n"
     ]
    }
   ],
   "source": [
    "from sklearn import metrics  # Important lib where we find various performance measures\n",
    "\n",
    "# 1. Quick and dirty way to get a confusion table\n",
    "cmat = metrics.confusion_matrix(y_test, logit.predict(X_test)) \n",
    "print(cmat)"
   ]
  },
  {
   "cell_type": "code",
   "execution_count": 13,
   "metadata": {
    "colab": {
     "base_uri": "https://localhost:8080/",
     "height": 334
    },
    "id": "0g23rlJ6lqbj",
    "outputId": "11305400-5dd1-4011-b4d8-47a4d8697827"
   },
   "outputs": [
    {
     "data": {
      "image/png": "[encoded data removed]",
      "text/plain": [
       "<Figure size 864x432 with 2 Axes>"
      ]
     },
     "metadata": {
      "needs_background": "light"
     },
     "output_type": "display_data"
    }
   ],
   "source": [
    "# 2. Pretty-print confusion matrix\n",
    "metrics.plot_confusion_matrix(logit, X_test, y_test, labels=[0, 1], \n",
    "                              display_labels=['Goods(0)', 'Bads(1)'], cmap='Blues',values_format='n')\n",
    "plt.show()"
   ]
  },
  {
   "cell_type": "markdown",
   "metadata": {
    "id": "1zUq9_Dwlqbl"
   },
   "source": [
    "Classification accuracy simply calculates the number of correct class predictions (main diagonal) over all cases. Correct predictions are twofold. We can classify a good customer as good customer and we can classify a bad customer as bad customer. Likewise, our classifier can make two errors, classifying an actually good customer as bad and classifying an actually bad customer as good. We find the numbers of these errors in the off-diagonal of the confusion matrix. Which class a model predicts depends on the classification threshold. You classify cases as BAD if $p(y=BAD|x) \\gt \\tau$, and as GOOD otherwise, whereby $\\tau$ denotes the threshold. \n",
    "\n",
    "Hence, the above **confusion table is based on one threshold**. It might look rather different for another threshold. A ROC curve considers all cut-offs $\\tau \\in [0,1]$ plotting the **True Positive Rate** and **False Positive Rate** for each threshold. Given that ROC analysis is a general tool for binary classification and used in various domains, people came up with a standardized terminology to refer to the classes. Instead of speaking about goods and bads (i.e., credit scoring jargon) or zeros and ones (which is likely to offend members of the former group), we refer to the classes as the *positive* and the *negative* class. Thus, the TPR is the fraction cases that the classifier predicts to be of class positive and that actually belong to that class. The true negative rate or TNR is defined alike. For the two errors, we have the false positive rate (FPR) and the false negative rate (FNR). Correct interpretation of these errors is maybe a little difficult. How about false positives? The classifier predicts class positive but the prediction is false. Such a case actually belongs to the negative class. So the FPR is the fraction of cases that the classifier predicts as positives and that actually are negatives. The same argumentation goes for the FNR.  "
   ]
  },
  {
   "cell_type": "markdown",
   "metadata": {},
   "source": [
    "In cases with highly imbalanced class distribution (like the credit dataset at hand) it can be very instructive to look at the balanced accuracy. The balanced accuracy re-weights the individual class accuracies to balance them out."
   ]
  },
  {
   "cell_type": "code",
   "execution_count": 23,
   "metadata": {},
   "outputs": [
    {
     "name": "stdout",
     "output_type": "stream",
     "text": [
      "logistic regr bal. acc score on test: 0.6352165510969648\n",
      "tree bal. acc score on test: 0.8079350644429648\n"
     ]
    }
   ],
   "source": [
    "# the balanced accuracy:\n",
    "print('logistic regr bal. acc score on test: ' +  str(\n",
    "    metrics.balanced_accuracy_score(y_test, logit.predict(X_test))) )\n",
    "print('tree bal. acc score on test: ' +  str(\n",
    "    metrics.balanced_accuracy_score(y_test, tree.predict(X_test))) )"
   ]
  },
  {
   "cell_type": "markdown",
   "metadata": {},
   "source": [
    "Quite the difference for the logistic regresssion!"
   ]
  },
  {
   "cell_type": "markdown",
   "metadata": {
    "id": "ETxRT8J9lqbm"
   },
   "source": [
    "### ROC Curve and AUC\n",
    "\n",
    "This is one of the most important evaluation metrics in classification analysis. Have a look at the graph below. The curve tells us how well the model differentiates the two classes. A ROC curve has the FPR on the X-axis and TPR on the Y-axis. The curve is derived from all the different combinations of TPR and FPR (i.e., confusion tables) across all possible thresholds $0 \\le  \\tau \\le 1$ (assuming we have probabilistic predictions).\n",
    "\n",
    "The AUC stand for the area under the curve and is a ranking indicator. The AUC estimates the probability that a randomly chosen positive instance is correctly ranked higher than a randomly chosen negative instance (Hanley and McNeil, 1983). Being a probability, it is clear that the AUC is between $\\left[ 0,1 \\right]$. \n",
    "\n",
    "Our goal is to have a FPR of 0 and a TPR of 1. This would be the perfect model. We find the corresponding point in the top right corner of the ROC curve. The closer we get to that point, the better the classifier and the bigger the area under the ROC curve. It is common practice to add a horizontal line to the plot. You can show that this line corresponds to a random classifier. So any serious classifier should give a ROC curve (much) above the horizontal line. This also implies that a classifier should display AUC (much) bigger than 0.5.\n",
    "\n",
    "Below we show different ways to plot the ROC curve."
   ]
  },
  {
   "cell_type": "code",
   "execution_count": 14,
   "metadata": {
    "colab": {
     "base_uri": "https://localhost:8080/",
     "height": 350
    },
    "id": "zPfy5Zu7lqbm",
    "outputId": "6bcf56a8-bb1d-4f6b-b452-e3bb29934e4c"
   },
   "outputs": [
    {
     "data": {
      "image/png": "[encoded data removed]",
      "text/plain": [
       "<Figure size 864x432 with 1 Axes>"
      ]
     },
     "metadata": {
      "needs_background": "light"
     },
     "output_type": "display_data"
    }
   ],
   "source": [
    "# Sklear offers an easy-to-use function to produce a ROC curve. \n",
    "metrics.plot_roc_curve(logit, X_test, y_test)\n",
    "plt.title('ROC curve of logit model')\n",
    "plt.plot([0, 1], [0, 1], \"r--\");  #  we need to add the random benchmark manually"
   ]
  },
  {
   "cell_type": "markdown",
   "metadata": {},
   "source": [
    "You will also want to look into other metrics from time to time. We will discuss some of them. Check sklearn's documentation of metrics at\n",
    "\n",
    "https://scikit-learn.org/stable/modules/model_evaluation.html\n",
    "\n",
    "Noteworthy metrics for model assessment in our example are the F1 score as well as the balanced accuracy. "
   ]
  },
  {
   "cell_type": "markdown",
   "metadata": {
    "id": "-bUQ77Evlqb4"
   },
   "source": [
    "## Model Selection via Cross-validation\n",
    "Cross validation is an extension of the split sample method. It consists of repeating the train data split multiple times.\n",
    "\n",
    "Step by step:\n",
    "- Randomly split training data in N disjoint folds (E.g., N=5) \n",
    "- Build model on N-1 folds \n",
    "- Apply trained model to produce predictions for cases in the left-out fold (i.e., validation sample) \n",
    "- Measure model performance by comparing actuals to predictions using the validation sample\n",
    "- Repeat the above steps N times \n",
    "- Average model performance over the N validation folds  \n",
    "- You can also estimate the standard deviation of model performance (e.g., for statistical hypothesis testing)\n",
    "\n",
    "Unlike the split sample (holdout) approach, cross-validation considers all training (plus validation/development) data for model building and validation and is, therefore, more efficient in its use of the available data. It's called exhaustive for this reason. "
   ]
  },
  {
   "cell_type": "markdown",
   "metadata": {},
   "source": [
    "### A first look into ensemble learning\n",
    "\n",
    "Let's try to improve the predictive power of tree-based classifiers through ensemble learning.  An ensemble is a collection of multiple base models. The base models are prediction models on their own. In a homogeneous ensemble, one produces the base models with the same supervised learning algorithm. Our underlying learning algorithm will be a classification tree.\n",
    "\n",
    "### Random Forest Hyperparameter Tuning with CV\n",
    "\n",
    "Even more effective for predictions than decision trees, random forests (RF) are useful and powerful ensemble methods for classifying and regressing data. Essentially, a random set of the features are taken to build decision trees. Trees are also built using *bagged data* which are samples of the data taken with replacement. Many trees are grown (sometimes their maximum depth is also specified) and then all trees vote on the response. Each tree's vote generally has the same weight.\n",
    "\n",
    "**Some more detail copied from the sklearn documentation**:\n",
    "\n",
    "1.11.2.1. Random Forests\n",
    "In random forests (see RandomForestClassifier and RandomForestRegressor classes), each tree in the ensemble is built from a sample drawn with replacement (i.e., a bootstrap sample) from the training set.\n",
    "\n",
    "Furthermore, when splitting each node during the construction of a tree, the best split is found either from all input features or a random subset of size max_features. (See the parameter tuning guidelines for more details).\n",
    "\n",
    "The purpose of these two sources of randomness is to decrease the variance of the forest estimator. Indeed, individual decision trees typically exhibit high variance and tend to overfit. The injected randomness in forests yield decision trees with somewhat decoupled prediction errors. By taking an average of those predictions, some errors can cancel out. Random forests achieve a reduced variance by combining diverse trees, sometimes at the cost of a slight increase in bias. In practice the variance reduction is often significant hence yielding an overall better model.\n",
    "\n",
    "In contrast to the original publication, the scikit-learn implementation combines classifiers by averaging their probabilistic prediction, instead of letting each classifier vote for a single class."
   ]
  },
  {
   "cell_type": "code",
   "execution_count": 15,
   "metadata": {},
   "outputs": [
    {
     "name": "stdout",
     "output_type": "stream",
     "text": [
      "Tuning random forest classifier\n",
      "Fitting 5 folds for each of 9 candidates, totalling 45 fits\n"
     ]
    },
    {
     "name": "stderr",
     "output_type": "stream",
     "text": [
      "[Parallel(n_jobs=1)]: Using backend SequentialBackend with 1 concurrent workers.\n",
      "[Parallel(n_jobs=1)]: Done  45 out of  45 | elapsed:   31.3s finished\n"
     ]
    },
    {
     "data": {
      "image/png": "[encoded data removed]",
      "text/plain": [
       "<Figure size 864x432 with 1 Axes>"
      ]
     },
     "metadata": {
      "needs_background": "light"
     },
     "output_type": "display_data"
    }
   ],
   "source": [
    "from sklearn.ensemble import RandomForestClassifier  # import library\n",
    "from sklearn.model_selection import GridSearchCV\n",
    "\n",
    "print('Tuning random forest classifier')\n",
    "rf = RandomForestClassifier(random_state=888, max_samples = 0.5)  # This way, bootstrap sample size will be 50% of the training set\n",
    "\n",
    "# Define meta-parameter grid of candidate settings\n",
    "# The following settings are just for illustration\n",
    "param_grid = {'n_estimators': [100, 200, 500],\n",
    "              'max_depth': [10, 20, 30]\n",
    "              }\n",
    "\n",
    "# Set up the grid object specifying the tuning options\n",
    "gs_rf = GridSearchCV(rf, param_grid, cv=5, scoring='roc_auc', verbose=1)\n",
    "gs_rf.fit(X_train, y_train.values.ravel())\n",
    "\n",
    "# plot the roc curve for the best forest: gs_rf.best_estimator_ \n",
    "metrics.plot_roc_curve(gs_rf.best_estimator_, X_test, y_test)\n",
    "plt.plot([0, 1], [0, 1], \"r--\");"
   ]
  },
  {
   "cell_type": "code",
   "execution_count": 16,
   "metadata": {},
   "outputs": [
    {
     "data": {
      "text/plain": [
       "{'max_depth': 30, 'n_estimators': 500}"
      ]
     },
     "execution_count": 16,
     "metadata": {},
     "output_type": "execute_result"
    }
   ],
   "source": [
    "# but what are the optimal params (as per CV)?\n",
    "gs_rf.best_params_"
   ]
  },
  {
   "cell_type": "code",
   "execution_count": 17,
   "metadata": {},
   "outputs": [
    {
     "name": "stdout",
     "output_type": "stream",
     "text": [
      "[10 10 10 20 20 20 30 30 30]\n",
      "[100 200 500 100 200 500 100 200 500]\n",
      "[9 8 7 5 4 2 6 3 1]\n"
     ]
    }
   ],
   "source": [
    "# The CV results in detail\n",
    "#gs_rf.cv_results_\n",
    "\n",
    "# the param grid:\n",
    "print(gs_rf.cv_results_['param_max_depth'].data)\n",
    "print(gs_rf.cv_results_['param_n_estimators'].data)\n",
    "\n",
    "# the final ranking\n",
    "print(gs_rf.cv_results_['rank_test_score'])"
   ]
  },
  {
   "cell_type": "markdown",
   "metadata": {},
   "source": [
    "Let's check the performance vs logistic reg and the plain vanilla decision tree. Eyeballing the ROC curve tells us already that the Random Forest should win..."
   ]
  },
  {
   "cell_type": "code",
   "execution_count": 19,
   "metadata": {},
   "outputs": [
    {
     "name": "stdout",
     "output_type": "stream",
     "text": [
      "dec. tree regr ROCAUC score on test: 0.8747002495439462\n",
      "logistic regr ROCAUC score on test: 0.7926980879123655\n",
      "random forest ROCAUC score on test: 0.9603562542064304\n"
     ]
    }
   ],
   "source": [
    "print('dec. tree regr ROCAUC score on test: ' +  str(metrics.roc_auc_score(y_test, tree.predict_proba(X_test)[:,1])) )\n",
    "print('logistic regr ROCAUC score on test: ' +  str(metrics.roc_auc_score(y_test, logit.predict_proba(X_test)[:,1])) )\n",
    "print('random forest ROCAUC score on test: ' +  str(metrics.roc_auc_score(y_test, gs_rf.predict_proba(X_test)[:,1])) )"
   ]
  },
  {
   "cell_type": "markdown",
   "metadata": {},
   "source": [
    "... and it does. It generalizes much better than both the logistic regression and the decision tree. "
   ]
  },
  {
   "cell_type": "markdown",
   "metadata": {},
   "source": [
    "## A Note on Overfitting \n",
    "\n",
    "To see a really good example of a model that can easily be overfit, we can take a look at decision trees. Decision trees are rather complex and highly nonlinear models. When trees are grown too deep, they start to internalize idiosyncacies (noise) of the specific data that they were fed. This means that they \"assume\" that all little random variations in the train data will occur in test sets as well.\n",
    "\n",
    "Let's take a look at what this looks like by generating a tracking the AUC of a decision tree on training and test data as we increase the **depth** of the tree."
   ]
  },
  {
   "cell_type": "code",
   "execution_count": 34,
   "metadata": {},
   "outputs": [],
   "source": [
    "from sklearn import tree\n",
    "\n",
    "train_auc_list = []\n",
    "test_auc_list = []\n",
    "\n",
    "for n in range(1,30):\n",
    "  # Fit tree to training data\n",
    "  dt = tree.DecisionTreeClassifier(max_depth=n, random_state=888)\n",
    "  dt = dt.fit(X_train, y_train)\n",
    "  \n",
    "  # Predictions and metrics for training data\n",
    "  dt_train_pred = dt.predict(X_train)\n",
    "  auc = metrics.roc_auc_score(y_train, dt_train_pred)\n",
    "  train_auc_list.append(auc)\n",
    "  \n",
    "  # Predictions and metrics for test data\n",
    "  dt_test_pred = dt.predict(X_test)\n",
    "  auc = metrics.roc_auc_score(y_test, dt_test_pred)\n",
    "  test_auc_list.append(auc)"
   ]
  },
  {
   "cell_type": "code",
   "execution_count": 35,
   "metadata": {},
   "outputs": [
    {
     "data": {
      "image/png": "[encoded data removed]",
      "text/plain": [
       "<Figure size 864x432 with 1 Axes>"
      ]
     },
     "metadata": {
      "needs_background": "light"
     },
     "output_type": "display_data"
    }
   ],
   "source": [
    "plt.plot(range(1,30), train_auc_list, c='b', label=\"train\")\n",
    "plt.plot(range(1,30), test_auc_list, c='r', label=\"test\")\n",
    "plt.ylabel(\"AUC\")\n",
    "plt.xlabel(\"Tree depth\")\n",
    "plt.legend(loc=\"best\")\n",
    "plt.show()"
   ]
  },
  {
   "cell_type": "markdown",
   "metadata": {},
   "source": [
    "Almost textbook! Apparently an ever increasing complexity (tree depth) does not lead to better generalization. Instead, the optimal tree depth that gives good generalization on the test dataset is around 5. "
   ]
  },
  {
   "cell_type": "code",
   "execution_count": null,
   "metadata": {},
   "outputs": [],
   "source": []
  }
 ],
 "metadata": {
  "colab": {
   "collapsed_sections": [],
   "name": "6_nb_model_assessment.modellingipynb.txt",
   "provenance": [],
   "toc_visible": true
  },
  "kernelspec": {
   "display_name": "Python 3",
   "language": "python",
   "name": "python3"
  },
  "language_info": {
   "codemirror_mode": {
    "name": "ipython",
    "version": 3
   },
   "file_extension": ".py",
   "mimetype": "text/x-python",
   "name": "python",
   "nbconvert_exporter": "python",
   "pygments_lexer": "ipython3",
   "version": "3.7.10"
  }
 },
 "nbformat": 4,
 "nbformat_minor": 4
}
