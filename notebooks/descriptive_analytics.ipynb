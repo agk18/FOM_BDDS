{
  "cells": [
    {
      "cell_type": "markdown",
      "metadata": {
        "id": "_55XGJ5Krxox"
      },
      "source": [
        "tutorial outline:\n",
        "- A) foundations\n",
        "- simple Data summarization \n",
        "- B) unsupervised learning as part of descriptive analytics\n",
        "- Cluster Analysis\n",
        "- Generating data for cluster analysis \n",
        "- kMeans Algorithm using sklearn\n",
        "\n",
        "\n",
        "# A) Foundations of descriptive analytics\n"
      ]
    },
    {
      "cell_type": "code",
      "execution_count": null,
      "metadata": {
        "id": "FNQFg66Bc35V"
      },
      "outputs": [],
      "source": [
        "import numpy as np \n",
        "import seaborn as sns\n",
        "import matplotlib.pyplot as plt\n",
        "\n",
        "# Some configuration of the plots we will create later\n",
        "%matplotlib inline  \n",
        "plt.rcParams[\"figure.figsize\"] = (12,6)"
      ]
    },
    {
      "cell_type": "markdown",
      "metadata": {
        "id": "yKPz53q1c35W"
      },
      "source": [
        "## The HMEQ data set reloaded\n",
        "\n",
        "Our data set consists of 5,960 observations and 13 features including the target variable. Remember, the variables are defined as follows:\n",
        "\n",
        "- BAD: the target variable, 1=default; 0=non-default \n",
        "- LOAN: amount of the loan request\n",
        "- MORTDUE: amount due on an existing mortgage\n",
        "- VALUE: value of current property\n",
        "- REASON: DebtCon=debt consolidation; HomeImp=home improvement\n",
        "- JOB: occupational categories\n",
        "- YOJ: years at present job\n",
        "- DEROG: number of major derogatory reports\n",
        "- DELINQ: number of delinquent credit lines\n",
        "- CLAGE: age of oldest credit line in months\n",
        "- NINQ: number of recent credit inquiries\n",
        "- CLNO: number of credit lines\n",
        "- DEBTINC: debt-to-income ratio\n"
      ]
    },
    {
      "cell_type": "code",
      "execution_count": null,
      "metadata": {
        "id": "3jDV7lWNc35X"
      },
      "outputs": [],
      "source": [
        "import pandas as pd "
      ]
    },
    {
      "cell_type": "markdown",
      "metadata": {
        "id": "RD5uABMDc35Y"
      },
      "source": [
        "### Loading data from disk\n"
      ]
    },
    {
      "cell_type": "code",
      "execution_count": null,
      "metadata": {
        "id": "VjUGC6ryc35a"
      },
      "outputs": [],
      "source": [
        "# You have to update the code such that the variable file includes the correct path to the csv file on your computer\n",
        "# file = '../data/hmeq_prepared.csv'\n",
        "df = pd.read_csv('https://www.dropbox.com/s/cjaidhekppvudjq/hmeq_prepared.csv?dl=1')\n",
        "\n",
        "# recode the variables as in the data_preprocessing Notebook\n",
        "df['REASON'] = df['REASON'].astype('category')\n",
        "df['JOB'] = df['JOB'].astype('category')\n",
        "# The target variable has only two states so that we can store it as a boolean\n",
        "df['BAD'] = df['BAD'].astype('bool')\n",
        "# For simplicity, we also convert LOAN to a float so that all numeric variables are of type float\n",
        "df['LOAN'] = df['LOAN'].astype(np.float64)\n"
      ]
    },
    {
      "cell_type": "markdown",
      "metadata": {
        "id": "2hXFuT8Nc35a"
      },
      "source": [
        "To convince yourself that data loading was successful, you can simply make Python outputting a summary of the data by typing the variable name of the data frame object; that is `df` in the example."
      ]
    },
    {
      "cell_type": "code",
      "execution_count": null,
      "metadata": {
        "id": "u_roqJIPc35b",
        "colab": {
          "base_uri": "https://localhost:8080/",
          "height": 424
        },
        "outputId": "5d7e3225-9bd2-4446-f5a8-4b21a82f4a30"
      },
      "outputs": [
        {
          "output_type": "execute_result",
          "data": {
            "text/plain": [
              "        BAD     LOAN  MORTDUE     VALUE     REASON     JOB   YOJ  DEROG  \\\n",
              "0      True   1100.0  25860.0   39025.0    HomeImp   Other  10.5    0.0   \n",
              "1      True   1300.0  70053.0   68400.0    HomeImp   Other   7.0    0.0   \n",
              "2      True   1500.0  13500.0   16700.0    HomeImp   Other   4.0    0.0   \n",
              "3      True   1500.0  65019.0   89235.5  IsMissing   Other   7.0    0.0   \n",
              "4     False   1700.0  97800.0  112000.0    HomeImp  Office   3.0    0.0   \n",
              "...     ...      ...      ...       ...        ...     ...   ...    ...   \n",
              "5955  False  59900.0  57264.0   90185.0    DebtCon   Other  16.0    0.0   \n",
              "5956  False  59900.0  54576.0   92937.0    DebtCon   Other  16.0    0.0   \n",
              "5957  False  59900.0  54045.0   92924.0    DebtCon   Other  15.0    0.0   \n",
              "5958  False  59900.0  50370.0   91861.0    DebtCon   Other  14.0    0.0   \n",
              "5959  False  59900.0  48811.0   88934.0    DebtCon   Other  15.0    0.0   \n",
              "\n",
              "      DELINQ       CLAGE  NINQ  CLNO    DEBTINC  DEROGzero  \n",
              "0        0.0   94.366670   1.0   9.0  34.818260       True  \n",
              "1        2.0  121.833336   0.0  14.0  34.818260       True  \n",
              "2        0.0  149.466660   1.0  10.0  34.818260       True  \n",
              "3        0.0  173.466660   1.0  20.0  34.818260       True  \n",
              "4        0.0   93.333336   0.0  14.0  34.818260       True  \n",
              "...      ...         ...   ...   ...        ...        ...  \n",
              "5955     0.0  221.808720   0.0  16.0  36.112347       True  \n",
              "5956     0.0  208.692060   0.0  15.0  35.859970       True  \n",
              "5957     0.0  212.279700   0.0  15.0  35.556590       True  \n",
              "5958     0.0  213.892720   0.0  16.0  34.340880       True  \n",
              "5959     0.0  219.601000   0.0  16.0  34.571518       True  \n",
              "\n",
              "[5960 rows x 14 columns]"
            ],
            "text/html": [
              "\n",
              "  <div id=\"df-3d788596-cdcb-49f9-bff5-742da64387b2\">\n",
              "    <div class=\"colab-df-container\">\n",
              "      <div>\n",
              "<style scoped>\n",
              "    .dataframe tbody tr th:only-of-type {\n",
              "        vertical-align: middle;\n",
              "    }\n",
              "\n",
              "    .dataframe tbody tr th {\n",
              "        vertical-align: top;\n",
              "    }\n",
              "\n",
              "    .dataframe thead th {\n",
              "        text-align: right;\n",
              "    }\n",
              "</style>\n",
              "<table border=\"1\" class=\"dataframe\">\n",
              "  <thead>\n",
              "    <tr style=\"text-align: right;\">\n",
              "      <th></th>\n",
              "      <th>BAD</th>\n",
              "      <th>LOAN</th>\n",
              "      <th>MORTDUE</th>\n",
              "      <th>VALUE</th>\n",
              "      <th>REASON</th>\n",
              "      <th>JOB</th>\n",
              "      <th>YOJ</th>\n",
              "      <th>DEROG</th>\n",
              "      <th>DELINQ</th>\n",
              "      <th>CLAGE</th>\n",
              "      <th>NINQ</th>\n",
              "      <th>CLNO</th>\n",
              "      <th>DEBTINC</th>\n",
              "      <th>DEROGzero</th>\n",
              "    </tr>\n",
              "  </thead>\n",
              "  <tbody>\n",
              "    <tr>\n",
              "      <th>0</th>\n",
              "      <td>True</td>\n",
              "      <td>1100.0</td>\n",
              "      <td>25860.0</td>\n",
              "      <td>39025.0</td>\n",
              "      <td>HomeImp</td>\n",
              "      <td>Other</td>\n",
              "      <td>10.5</td>\n",
              "      <td>0.0</td>\n",
              "      <td>0.0</td>\n",
              "      <td>94.366670</td>\n",
              "      <td>1.0</td>\n",
              "      <td>9.0</td>\n",
              "      <td>34.818260</td>\n",
              "      <td>True</td>\n",
              "    </tr>\n",
              "    <tr>\n",
              "      <th>1</th>\n",
              "      <td>True</td>\n",
              "      <td>1300.0</td>\n",
              "      <td>70053.0</td>\n",
              "      <td>68400.0</td>\n",
              "      <td>HomeImp</td>\n",
              "      <td>Other</td>\n",
              "      <td>7.0</td>\n",
              "      <td>0.0</td>\n",
              "      <td>2.0</td>\n",
              "      <td>121.833336</td>\n",
              "      <td>0.0</td>\n",
              "      <td>14.0</td>\n",
              "      <td>34.818260</td>\n",
              "      <td>True</td>\n",
              "    </tr>\n",
              "    <tr>\n",
              "      <th>2</th>\n",
              "      <td>True</td>\n",
              "      <td>1500.0</td>\n",
              "      <td>13500.0</td>\n",
              "      <td>16700.0</td>\n",
              "      <td>HomeImp</td>\n",
              "      <td>Other</td>\n",
              "      <td>4.0</td>\n",
              "      <td>0.0</td>\n",
              "      <td>0.0</td>\n",
              "      <td>149.466660</td>\n",
              "      <td>1.0</td>\n",
              "      <td>10.0</td>\n",
              "      <td>34.818260</td>\n",
              "      <td>True</td>\n",
              "    </tr>\n",
              "    <tr>\n",
              "      <th>3</th>\n",
              "      <td>True</td>\n",
              "      <td>1500.0</td>\n",
              "      <td>65019.0</td>\n",
              "      <td>89235.5</td>\n",
              "      <td>IsMissing</td>\n",
              "      <td>Other</td>\n",
              "      <td>7.0</td>\n",
              "      <td>0.0</td>\n",
              "      <td>0.0</td>\n",
              "      <td>173.466660</td>\n",
              "      <td>1.0</td>\n",
              "      <td>20.0</td>\n",
              "      <td>34.818260</td>\n",
              "      <td>True</td>\n",
              "    </tr>\n",
              "    <tr>\n",
              "      <th>4</th>\n",
              "      <td>False</td>\n",
              "      <td>1700.0</td>\n",
              "      <td>97800.0</td>\n",
              "      <td>112000.0</td>\n",
              "      <td>HomeImp</td>\n",
              "      <td>Office</td>\n",
              "      <td>3.0</td>\n",
              "      <td>0.0</td>\n",
              "      <td>0.0</td>\n",
              "      <td>93.333336</td>\n",
              "      <td>0.0</td>\n",
              "      <td>14.0</td>\n",
              "      <td>34.818260</td>\n",
              "      <td>True</td>\n",
              "    </tr>\n",
              "    <tr>\n",
              "      <th>...</th>\n",
              "      <td>...</td>\n",
              "      <td>...</td>\n",
              "      <td>...</td>\n",
              "      <td>...</td>\n",
              "      <td>...</td>\n",
              "      <td>...</td>\n",
              "      <td>...</td>\n",
              "      <td>...</td>\n",
              "      <td>...</td>\n",
              "      <td>...</td>\n",
              "      <td>...</td>\n",
              "      <td>...</td>\n",
              "      <td>...</td>\n",
              "      <td>...</td>\n",
              "    </tr>\n",
              "    <tr>\n",
              "      <th>5955</th>\n",
              "      <td>False</td>\n",
              "      <td>59900.0</td>\n",
              "      <td>57264.0</td>\n",
              "      <td>90185.0</td>\n",
              "      <td>DebtCon</td>\n",
              "      <td>Other</td>\n",
              "      <td>16.0</td>\n",
              "      <td>0.0</td>\n",
              "      <td>0.0</td>\n",
              "      <td>221.808720</td>\n",
              "      <td>0.0</td>\n",
              "      <td>16.0</td>\n",
              "      <td>36.112347</td>\n",
              "      <td>True</td>\n",
              "    </tr>\n",
              "    <tr>\n",
              "      <th>5956</th>\n",
              "      <td>False</td>\n",
              "      <td>59900.0</td>\n",
              "      <td>54576.0</td>\n",
              "      <td>92937.0</td>\n",
              "      <td>DebtCon</td>\n",
              "      <td>Other</td>\n",
              "      <td>16.0</td>\n",
              "      <td>0.0</td>\n",
              "      <td>0.0</td>\n",
              "      <td>208.692060</td>\n",
              "      <td>0.0</td>\n",
              "      <td>15.0</td>\n",
              "      <td>35.859970</td>\n",
              "      <td>True</td>\n",
              "    </tr>\n",
              "    <tr>\n",
              "      <th>5957</th>\n",
              "      <td>False</td>\n",
              "      <td>59900.0</td>\n",
              "      <td>54045.0</td>\n",
              "      <td>92924.0</td>\n",
              "      <td>DebtCon</td>\n",
              "      <td>Other</td>\n",
              "      <td>15.0</td>\n",
              "      <td>0.0</td>\n",
              "      <td>0.0</td>\n",
              "      <td>212.279700</td>\n",
              "      <td>0.0</td>\n",
              "      <td>15.0</td>\n",
              "      <td>35.556590</td>\n",
              "      <td>True</td>\n",
              "    </tr>\n",
              "    <tr>\n",
              "      <th>5958</th>\n",
              "      <td>False</td>\n",
              "      <td>59900.0</td>\n",
              "      <td>50370.0</td>\n",
              "      <td>91861.0</td>\n",
              "      <td>DebtCon</td>\n",
              "      <td>Other</td>\n",
              "      <td>14.0</td>\n",
              "      <td>0.0</td>\n",
              "      <td>0.0</td>\n",
              "      <td>213.892720</td>\n",
              "      <td>0.0</td>\n",
              "      <td>16.0</td>\n",
              "      <td>34.340880</td>\n",
              "      <td>True</td>\n",
              "    </tr>\n",
              "    <tr>\n",
              "      <th>5959</th>\n",
              "      <td>False</td>\n",
              "      <td>59900.0</td>\n",
              "      <td>48811.0</td>\n",
              "      <td>88934.0</td>\n",
              "      <td>DebtCon</td>\n",
              "      <td>Other</td>\n",
              "      <td>15.0</td>\n",
              "      <td>0.0</td>\n",
              "      <td>0.0</td>\n",
              "      <td>219.601000</td>\n",
              "      <td>0.0</td>\n",
              "      <td>16.0</td>\n",
              "      <td>34.571518</td>\n",
              "      <td>True</td>\n",
              "    </tr>\n",
              "  </tbody>\n",
              "</table>\n",
              "<p>5960 rows × 14 columns</p>\n",
              "</div>\n",
              "      <button class=\"colab-df-convert\" onclick=\"convertToInteractive('df-3d788596-cdcb-49f9-bff5-742da64387b2')\"\n",
              "              title=\"Convert this dataframe to an interactive table.\"\n",
              "              style=\"display:none;\">\n",
              "        \n",
              "  <svg xmlns=\"http://www.w3.org/2000/svg\" height=\"24px\"viewBox=\"0 0 24 24\"\n",
              "       width=\"24px\">\n",
              "    <path d=\"M0 0h24v24H0V0z\" fill=\"none\"/>\n",
              "    <path d=\"M18.56 5.44l.94 2.06.94-2.06 2.06-.94-2.06-.94-.94-2.06-.94 2.06-2.06.94zm-11 1L8.5 8.5l.94-2.06 2.06-.94-2.06-.94L8.5 2.5l-.94 2.06-2.06.94zm10 10l.94 2.06.94-2.06 2.06-.94-2.06-.94-.94-2.06-.94 2.06-2.06.94z\"/><path d=\"M17.41 7.96l-1.37-1.37c-.4-.4-.92-.59-1.43-.59-.52 0-1.04.2-1.43.59L10.3 9.45l-7.72 7.72c-.78.78-.78 2.05 0 2.83L4 21.41c.39.39.9.59 1.41.59.51 0 1.02-.2 1.41-.59l7.78-7.78 2.81-2.81c.8-.78.8-2.07 0-2.86zM5.41 20L4 18.59l7.72-7.72 1.47 1.35L5.41 20z\"/>\n",
              "  </svg>\n",
              "      </button>\n",
              "      \n",
              "  <style>\n",
              "    .colab-df-container {\n",
              "      display:flex;\n",
              "      flex-wrap:wrap;\n",
              "      gap: 12px;\n",
              "    }\n",
              "\n",
              "    .colab-df-convert {\n",
              "      background-color: #E8F0FE;\n",
              "      border: none;\n",
              "      border-radius: 50%;\n",
              "      cursor: pointer;\n",
              "      display: none;\n",
              "      fill: #1967D2;\n",
              "      height: 32px;\n",
              "      padding: 0 0 0 0;\n",
              "      width: 32px;\n",
              "    }\n",
              "\n",
              "    .colab-df-convert:hover {\n",
              "      background-color: #E2EBFA;\n",
              "      box-shadow: 0px 1px 2px rgba(60, 64, 67, 0.3), 0px 1px 3px 1px rgba(60, 64, 67, 0.15);\n",
              "      fill: #174EA6;\n",
              "    }\n",
              "\n",
              "    [theme=dark] .colab-df-convert {\n",
              "      background-color: #3B4455;\n",
              "      fill: #D2E3FC;\n",
              "    }\n",
              "\n",
              "    [theme=dark] .colab-df-convert:hover {\n",
              "      background-color: #434B5C;\n",
              "      box-shadow: 0px 1px 3px 1px rgba(0, 0, 0, 0.15);\n",
              "      filter: drop-shadow(0px 1px 2px rgba(0, 0, 0, 0.3));\n",
              "      fill: #FFFFFF;\n",
              "    }\n",
              "  </style>\n",
              "\n",
              "      <script>\n",
              "        const buttonEl =\n",
              "          document.querySelector('#df-3d788596-cdcb-49f9-bff5-742da64387b2 button.colab-df-convert');\n",
              "        buttonEl.style.display =\n",
              "          google.colab.kernel.accessAllowed ? 'block' : 'none';\n",
              "\n",
              "        async function convertToInteractive(key) {\n",
              "          const element = document.querySelector('#df-3d788596-cdcb-49f9-bff5-742da64387b2');\n",
              "          const dataTable =\n",
              "            await google.colab.kernel.invokeFunction('convertToInteractive',\n",
              "                                                     [key], {});\n",
              "          if (!dataTable) return;\n",
              "\n",
              "          const docLinkHtml = 'Like what you see? Visit the ' +\n",
              "            '<a target=\"_blank\" href=https://colab.research.google.com/notebooks/data_table.ipynb>data table notebook</a>'\n",
              "            + ' to learn more about interactive tables.';\n",
              "          element.innerHTML = '';\n",
              "          dataTable['output_type'] = 'display_data';\n",
              "          await google.colab.output.renderOutput(dataTable, element);\n",
              "          const docLink = document.createElement('div');\n",
              "          docLink.innerHTML = docLinkHtml;\n",
              "          element.appendChild(docLink);\n",
              "        }\n",
              "      </script>\n",
              "    </div>\n",
              "  </div>\n",
              "  "
            ]
          },
          "metadata": {},
          "execution_count": 4
        }
      ],
      "source": [
        "df"
      ]
    },
    {
      "cell_type": "markdown",
      "metadata": {
        "id": "It_CCZRbc35e"
      },
      "source": [
        "### Simple Data Summarization: Aggregation and grouping\n",
        "The `describe()` function already introduces functionality that aggregates the data in a data frame. Aggregations are extremely useful in EDA and for feature engineering. One of the function that you need to know when it comes to aggregations is `value_counts()`. Our data represents a classification problem. So you would want to know the relative frequencies of the target variable values. This is only one of the many useful ways in which you can leverage the function.   "
      ]
    },
    {
      "cell_type": "code",
      "execution_count": null,
      "metadata": {
        "id": "oT643TPkc35e",
        "outputId": "4ef81460-7fa4-45aa-d714-663ca3682d70"
      },
      "outputs": [
        {
          "data": {
            "text/plain": [
              "False    4771\n",
              "True     1189\n",
              "Name: BAD, dtype: int64"
            ]
          },
          "execution_count": 5,
          "metadata": {},
          "output_type": "execute_result"
        }
      ],
      "source": [
        "# Count the frequency of good and bad credit risks\n",
        "df.BAD.value_counts()"
      ]
    },
    {
      "cell_type": "markdown",
      "metadata": {
        "id": "YFa0XBQ5c35e"
      },
      "source": [
        "Ok, knowing the good to bad ratio is clearly useful. Another standard question for classification problems would be how feature values distribute across the classes (i.e., good and bad borrowers). Time to introduce yet another important Python function: `group_by()`. You might remember the *group by* clause from SQL. Data frames offer similar functionality. The function is quite powerful. We could have a whole tutorial only on `group_by()`. Fortunately, such tutorial already exists (see, e.g., [here](https://realpython.com/pandas-groupby/) or check out the [official documentation](https://pandas.pydata.org/pandas-docs/stable/reference/api/pandas.DataFrame.groupby.html)). For now, we leave it with a simple demo to sketch what you can do with `group_by()` "
      ]
    },
    {
      "cell_type": "code",
      "execution_count": null,
      "metadata": {
        "id": "TqaTAXCRc35e",
        "outputId": "a31310e6-2134-495b-9e66-5d46ea749f83"
      },
      "outputs": [
        {
          "data": {
            "text/plain": [
              "BAD\n",
              "False    18861.077342\n",
              "True     16846.509672\n",
              "Name: LOAN, dtype: float64"
            ]
          },
          "execution_count": 6,
          "metadata": {},
          "output_type": "execute_result"
        }
      ],
      "source": [
        "df.groupby(\"BAD\")[\"LOAN\"].mean()"
      ]
    },
    {
      "cell_type": "markdown",
      "metadata": {
        "id": "Gn8oHPy6c35f"
      },
      "source": [
        "We just calculated the mean loan amount using the target variable for grouping. We find that bad clients borrow less money than good clients, on average. The lender might be pleased to know that. Better than the opposite result, right? But let's not dive too deep into financial implications. Our point was to showcase grouping. Let's extend the demo."
      ]
    },
    {
      "cell_type": "code",
      "execution_count": null,
      "metadata": {
        "id": "4LNOlQ3_c35f",
        "outputId": "e7e3d1a5-d5dd-4a95-e62c-2e1c83aa974f"
      },
      "outputs": [
        {
          "data": {
            "text/html": [
              "<div>\n",
              "<style scoped>\n",
              "    .dataframe tbody tr th:only-of-type {\n",
              "        vertical-align: middle;\n",
              "    }\n",
              "\n",
              "    .dataframe tbody tr th {\n",
              "        vertical-align: top;\n",
              "    }\n",
              "\n",
              "    .dataframe thead th {\n",
              "        text-align: right;\n",
              "    }\n",
              "</style>\n",
              "<table border=\"1\" class=\"dataframe\">\n",
              "  <thead>\n",
              "    <tr style=\"text-align: right;\">\n",
              "      <th></th>\n",
              "      <th>LOAN</th>\n",
              "      <th>MORTDUE</th>\n",
              "      <th>VALUE</th>\n",
              "    </tr>\n",
              "    <tr>\n",
              "      <th>BAD</th>\n",
              "      <th></th>\n",
              "      <th></th>\n",
              "      <th></th>\n",
              "    </tr>\n",
              "  </thead>\n",
              "  <tbody>\n",
              "    <tr>\n",
              "      <th>False</th>\n",
              "      <td>18861.077342</td>\n",
              "      <td>73393.894075</td>\n",
              "      <td>102059.850918</td>\n",
              "    </tr>\n",
              "    <tr>\n",
              "      <th>True</th>\n",
              "      <td>16846.509672</td>\n",
              "      <td>68043.478192</td>\n",
              "      <td>94381.183188</td>\n",
              "    </tr>\n",
              "  </tbody>\n",
              "</table>\n",
              "</div>"
            ],
            "text/plain": [
              "               LOAN       MORTDUE          VALUE\n",
              "BAD                                             \n",
              "False  18861.077342  73393.894075  102059.850918\n",
              "True   16846.509672  68043.478192   94381.183188"
            ]
          },
          "execution_count": 7,
          "metadata": {},
          "output_type": "execute_result"
        }
      ],
      "source": [
        "# We can group multiple features in one go\n",
        "df.groupby(\"BAD\")[[\"LOAN\", \"MORTDUE\", \"VALUE\"]].mean()"
      ]
    },
    {
      "cell_type": "code",
      "execution_count": null,
      "metadata": {
        "id": "RNnF1Iduc35f",
        "outputId": "2c2a7b05-a665-49b9-c67a-9d88eb90081b"
      },
      "outputs": [
        {
          "data": {
            "text/html": [
              "<div>\n",
              "<style scoped>\n",
              "    .dataframe tbody tr th:only-of-type {\n",
              "        vertical-align: middle;\n",
              "    }\n",
              "\n",
              "    .dataframe tbody tr th {\n",
              "        vertical-align: top;\n",
              "    }\n",
              "\n",
              "    .dataframe thead th {\n",
              "        text-align: right;\n",
              "    }\n",
              "</style>\n",
              "<table border=\"1\" class=\"dataframe\">\n",
              "  <thead>\n",
              "    <tr style=\"text-align: right;\">\n",
              "      <th></th>\n",
              "      <th>LOAN</th>\n",
              "      <th>MORTDUE</th>\n",
              "      <th>VALUE</th>\n",
              "    </tr>\n",
              "    <tr>\n",
              "      <th>BAD</th>\n",
              "      <th></th>\n",
              "      <th></th>\n",
              "      <th></th>\n",
              "    </tr>\n",
              "  </thead>\n",
              "  <tbody>\n",
              "    <tr>\n",
              "      <th>False</th>\n",
              "      <td>16900.0</td>\n",
              "      <td>65019.0</td>\n",
              "      <td>90599.0</td>\n",
              "    </tr>\n",
              "    <tr>\n",
              "      <th>True</th>\n",
              "      <td>14900.0</td>\n",
              "      <td>63800.0</td>\n",
              "      <td>86400.0</td>\n",
              "    </tr>\n",
              "  </tbody>\n",
              "</table>\n",
              "</div>"
            ],
            "text/plain": [
              "          LOAN  MORTDUE    VALUE\n",
              "BAD                             \n",
              "False  16900.0  65019.0  90599.0\n",
              "True   14900.0  63800.0  86400.0"
            ]
          },
          "execution_count": 8,
          "metadata": {},
          "output_type": "execute_result"
        }
      ],
      "source": [
        "# We can use any aggregation function that Pandas supports, including the median\n",
        "df.groupby(\"BAD\")[[\"LOAN\", \"MORTDUE\", \"VALUE\"]].median()  \n",
        "# or computing quantiles\n",
        "# df.groupby(\"BAD\")[[\"LOAN\", \"MORTDUE\", \"VALUE\"]].quantile(q=0.95)"
      ]
    },
    {
      "cell_type": "code",
      "execution_count": null,
      "metadata": {
        "id": "c0nmpaltc35f",
        "outputId": "82872da1-c51d-4ecf-d685-907b3879c035"
      },
      "outputs": [
        {
          "data": {
            "text/plain": [
              "pandas.core.series.Series"
            ]
          },
          "execution_count": 9,
          "metadata": {},
          "output_type": "execute_result"
        }
      ],
      "source": [
        "# and in case you wonder, the output that we received from the above demos is just a Pandas series object\n",
        "type(df.groupby(\"BAD\")[\"LOAN\"].mean())"
      ]
    },
    {
      "cell_type": "markdown",
      "metadata": {
        "id": "o-wD7vGxHFa5"
      },
      "source": [
        "# B) Advanced Descriptive Analytics based Unsupervised Learning: Cluster Analysis \n",
        "\n",
        "Cluster analysis is a good example of unsupervised machine learning or machine learning with unlabeled data (no specified target variable). Unsupervised learning algorithms attempt to group observations based on their similarities in features values. In the end, we can try to describe clusters and how they differ from one another. That task, however, is not supported by the algorithm and requires domain expertise. \n",
        "\n",
        "An example of this application could be analyzing data from a survey. We may have several distinct groups of potential buyers who reveal distinct preferences through their choices. Cluster analysis can group similar responses and thereby identify groups of buyers with similar preferences. We can then characterize the clusters and develop targeted marketing initiatives."
      ]
    },
    {
      "cell_type": "markdown",
      "metadata": {
        "id": "d8BjFh5UsQel"
      },
      "source": [
        "## Data Generation for cluster analysis\n",
        "\n",
        "In order to verify that this method of analysis works, we can generate data using sklearn. The function `make_blob()` allows us to create a data for clustering. In a nutshell, we generate data from two Gaussian distributions. The function allows specifying the parameters of these Gaussians. This way, we can decide how similar or how dissimilar we want our data to be. Have a look at the [documentation](https://scikit-learn.org/stable/modules/generated/sklearn.datasets.make_blobs.html) to appreciate the full functionality of the function. "
      ]
    },
    {
      "cell_type": "code",
      "execution_count": null,
      "metadata": {
        "id": "whNm-Zlud3WV"
      },
      "outputs": [],
      "source": [
        "import numpy as np\n",
        "import matplotlib.pyplot as plt\n",
        "import pandas as pd\n",
        "from sklearn.datasets import make_blobs\n",
        "\n",
        "np.random.seed(888)"
      ]
    },
    {
      "cell_type": "code",
      "execution_count": null,
      "metadata": {
        "id": "A_daZwJTuzrj"
      },
      "outputs": [],
      "source": [
        "# Generate data in two dimensions using make_blobs:\n",
        "\n",
        "# Let us first specify some parameters. It is good practice to play with these and verify the effect of such changes\n",
        "n       = 500                 # no. samples\n",
        "centers = [(-2, -2), (2, 2)]  # centers of the two Gaussians\n",
        "std     = 2                   # standard deviaton\n",
        "\n",
        "# Call the function and obtain your data\n",
        "X, y = make_blobs(n_samples = n, centers = centers, cluster_std = std)"
      ]
    },
    {
      "cell_type": "code",
      "execution_count": null,
      "metadata": {
        "id": "cBv9f-9zvNsK",
        "colab": {
          "base_uri": "https://localhost:8080/"
        },
        "outputId": "e2c691fc-de4e-4de3-831a-77600be8ac6c"
      },
      "outputs": [
        {
          "output_type": "execute_result",
          "data": {
            "text/plain": [
              "((500, 2), (500,))"
            ]
          },
          "metadata": {},
          "execution_count": 7
        }
      ],
      "source": [
        "X.shape, y.shape # ensure shape is as expected"
      ]
    },
    {
      "cell_type": "code",
      "execution_count": null,
      "metadata": {
        "id": "y6-pFsiVvMxI",
        "colab": {
          "base_uri": "https://localhost:8080/"
        },
        "outputId": "c4732735-72fd-4d60-ba74-4b076810bd0f"
      },
      "outputs": [
        {
          "output_type": "execute_result",
          "data": {
            "text/plain": [
              "array([[-0.26824611, -1.07418431],\n",
              "       [-4.12196836, -1.73630937],\n",
              "       [-1.64115373, -4.52581442],\n",
              "       [ 1.14398146, -0.26504303],\n",
              "       [ 1.02066215, -1.76253437]])"
            ]
          },
          "metadata": {},
          "execution_count": 8
        }
      ],
      "source": [
        "X[:5] # since X is a NumPy array, use slicing to inspect the data instead of .head() as we would for a pandas DataFrame"
      ]
    },
    {
      "cell_type": "markdown",
      "metadata": {
        "id": "4yyrAl7yMCsi"
      },
      "source": [
        "The function `make_blobs()` also provides a **true cluster assignment** for every data point in the array `y`. By the way we called that function, we have implicitly asked it to create data points for two different clusters. Make sure you understand how that has happened. Which part of the above code would we need to change and how to generate data from, say three different clusters? Check the documentation of `make_blobs()` and/or run a web search to answer this question. As always, it is good practice to play with our demo codes. Try generating and plotting data from three, four, or five different clusters."
      ]
    },
    {
      "cell_type": "code",
      "execution_count": null,
      "metadata": {
        "id": "rvHcRZSMQixu",
        "colab": {
          "base_uri": "https://localhost:8080/"
        },
        "outputId": "f2d8725f-0317-42b6-d7a0-4e0a867e6e9f"
      },
      "outputs": [
        {
          "output_type": "execute_result",
          "data": {
            "text/plain": [
              "array([0, 0, 0, 1, 0])"
            ]
          },
          "metadata": {},
          "execution_count": 9
        }
      ],
      "source": [
        "y[:5] # true cluster assignment for each data point"
      ]
    },
    {
      "cell_type": "markdown",
      "metadata": {
        "id": "uwdTYN3oMCsm"
      },
      "source": [
        "A picture says more than a thousand words, they say. So let's take a look at our data. Fortunately, we created two-dimensional data so plotting should be easy. We can make use of the variable `y` to color the plot. Recall that the array `y`, which is of the same length as X that specifies, for each data point, to which Gaussian (i.e., cluster) it belongs."
      ]
    },
    {
      "cell_type": "code",
      "execution_count": null,
      "metadata": {
        "id": "dLKDDcECMCsm",
        "scrolled": true,
        "colab": {
          "base_uri": "https://localhost:8080/",
          "height": 374
        },
        "outputId": "696ea190-5ae0-4aa2-e2e7-84d95cf3c591"
      },
      "outputs": [
        {
          "output_type": "display_data",
          "data": {
            "text/plain": [
              "<Figure size 864x432 with 1 Axes>"
            ],
            "image/png": "[encoded data removed]"
          },
          "metadata": {
            "needs_background": "light"
          }
        }
      ],
      "source": [
        "plt.scatter(X[:,0], X[:,1], c = y);  # note the coloring of the data points using the label y"
      ]
    },
    {
      "cell_type": "markdown",
      "metadata": {
        "id": "9h1igA87vxUz"
      },
      "source": [
        "# kMeans with sklearn\n",
        "\n",
        "As with the most popular machine learning algorithm, the library sklearn has an easy way to implement the kMeans algorithm. We simply have to import the KMeans function from the sklearn.cluster library.\n",
        "\n",
        "The documentation for this function can be found here: https://scikit-learn.org/stable/modules/generated/sklearn.cluster.KMeans.html. Once you create a KMeans object, you can use many methods and attributes to fit, predict and evaluate your model. We illustrate the steps below; essentially re-implementing the above example using only a few lines of code."
      ]
    },
    {
      "cell_type": "code",
      "execution_count": null,
      "metadata": {
        "id": "Ngg58FxZNnSJ"
      },
      "outputs": [],
      "source": [
        "from sklearn.cluster import KMeans\n",
        "from collections import Counter\n",
        "\n",
        "km = KMeans(n_clusters=2, init='random', n_init=20, max_iter=100, random_state=888) # create KMeans object with certain settings\n",
        "\n",
        "res = km.fit_predict(X) # fit to X and also predict labels of X, not using the easier X_simple"
      ]
    },
    {
      "cell_type": "code",
      "execution_count": null,
      "metadata": {
        "id": "o5hbvjwaFRY3",
        "outputId": "1499973c-40c9-43ee-e283-b870a36a9e4d"
      },
      "outputs": [
        {
          "data": {
            "text/plain": [
              "array([[-1.96538449, -2.28858345],\n",
              "       [ 2.23966741,  2.20170647]])"
            ]
          },
          "execution_count": 17,
          "metadata": {},
          "output_type": "execute_result"
        }
      ],
      "source": [
        "km.cluster_centers_ # here are the centroids for kMeans, these display average value for each feature of the cluster"
      ]
    },
    {
      "cell_type": "markdown",
      "metadata": {
        "id": "9mTFKSYwc35z"
      },
      "source": [
        "Well, the data was generated randomly. So some variation is to be expected. If you increase the size of the sample, then the means should approach the values we set above for the parameter `centers`. In case this statement somewhat puzzles you, pause for a while, re-read the previous explanations and codes, and convince yourself that the empirical mean values for the two clusters should approach [-2, -2] and [2, 2], respectively.\n",
        "\n",
        "Ok, given the way in which we generated our data, kMeans should have an easy go with it."
      ]
    },
    {
      "cell_type": "code",
      "execution_count": null,
      "metadata": {
        "id": "2pwM6iieG269",
        "colab": {
          "base_uri": "https://localhost:8080/"
        },
        "outputId": "bb026c37-bc1d-44ec-b208-4e528c171c53"
      },
      "outputs": [
        {
          "output_type": "execute_result",
          "data": {
            "text/plain": [
              "7"
            ]
          },
          "metadata": {},
          "execution_count": 12
        }
      ],
      "source": [
        "km.n_iter_ # this is the number of iterations required for stability in this solution"
      ]
    },
    {
      "cell_type": "code",
      "execution_count": null,
      "metadata": {
        "id": "d3iIlQN5GtsW",
        "colab": {
          "base_uri": "https://localhost:8080/"
        },
        "outputId": "3c82f17d-d7fa-4971-de4a-2dfaa107c0b2"
      },
      "outputs": [
        {
          "output_type": "execute_result",
          "data": {
            "text/plain": [
              "3433.7021598689744"
            ]
          },
          "metadata": {},
          "execution_count": 13
        }
      ],
      "source": [
        "km.inertia_ # here is a value similar to total distance for the clusters"
      ]
    },
    {
      "cell_type": "code",
      "execution_count": null,
      "metadata": {
        "id": "ChOU9xgnGoJE",
        "colab": {
          "base_uri": "https://localhost:8080/"
        },
        "outputId": "7390270b-4757-453b-dce6-d6946bc42d1e"
      },
      "outputs": [
        {
          "output_type": "execute_result",
          "data": {
            "text/plain": [
              "array([1, 1, 1, 0, 1, 1, 1, 0, 1, 1], dtype=int32)"
            ]
          },
          "metadata": {},
          "execution_count": 14
        }
      ],
      "source": [
        "km.labels_[:10] # here are the labels for each observation from the clustering"
      ]
    },
    {
      "cell_type": "code",
      "execution_count": null,
      "metadata": {
        "id": "aRxdZ0J0MCtx",
        "colab": {
          "base_uri": "https://localhost:8080/"
        },
        "outputId": "7aefb89a-4eec-4440-f2bc-531a5cf89804"
      },
      "outputs": [
        {
          "output_type": "execute_result",
          "data": {
            "text/plain": [
              "array([0, 0, 0, 1, 0, 0, 0, 1, 0, 0])"
            ]
          },
          "metadata": {},
          "execution_count": 15
        }
      ],
      "source": [
        "y[:10]  # here, the labels done by kMeans are consistent with our y values, they can sometimes be flipped so be careful"
      ]
    },
    {
      "cell_type": "markdown",
      "metadata": {
        "id": "rj21fXNzWMMn"
      },
      "source": [
        "## kMeans and \"True\" Groups\n",
        "\n",
        "Let's see whether the kMeans function was able to distinguish the groups of y=1 and y=0. Recall that our synthetic data comes with true cluster memberships. However, kMeans does not know about these memberships. In the previous example, we only used our data matrix `X`. We never disclosed the vector `y` to kMeans. Recall that `y` stores, for every data point, from which Gaussian it originated. Therefore, we can think of `y` as the *true* cluster assignment. \n",
        "\n",
        "kMeans and other cluster methods operate as **unsupervised learners**. Exploiting the fact that we know the true cluster assignment, that is `y` because of using simulated data, we can now compare the way in which kMeans has segmented the data to the original true cluster memberships. This comes down to compare the cluster labels per data points, which our custom implementation returns in the array `labels`, to their true counterparts in the array `y`.\n",
        "\n",
        "Let's see if our results split on the y=1,0 groups or if the algorithm seems to have split the observations in a different way.\n",
        "\n",
        "\n",
        "If you adjust the random seed at the top of this notebook, you may come across a situation where the kMeans function has accurately split the groups BUT flipped the labels. This is because kMeans chooses each group's labels at random.\n",
        "\n",
        "For example, the true y could be `[1,0,1,1...]` whereas kMeans might output `[0,1,0,0...]`. \n",
        "\n",
        "In order to correct for this, we can use the code below. We first create Boolean index indicating where `y` is equal to `0`. We then compare this new index to the values in those positions of the result. If we see that the kMeans result actually has a larger quantity of `1` labels in those positions, we can assume that kMeans happened to assign the opposite labels.\n",
        "\n",
        "So sklearn may have correctly split groups but chooses labels for them arbitrarily. In case our groups do not correspond with the y labels, we can simply reverse the labels."
      ]
    },
    {
      "cell_type": "code",
      "execution_count": null,
      "metadata": {
        "id": "tvjsTbKMUr6F",
        "colab": {
          "base_uri": "https://localhost:8080/"
        },
        "outputId": "544c5e70-1e21-443a-e0ce-d6efc061e1b1"
      },
      "outputs": [
        {
          "output_type": "execute_result",
          "data": {
            "text/plain": [
              "array([1, 1, 1, 0, 1], dtype=int32)"
            ]
          },
          "metadata": {},
          "execution_count": 16
        }
      ],
      "source": [
        "results_corrected_sk = km.labels_\n",
        "label_0 = km.labels_[km.labels_ == 0]\n",
        "\n",
        "if Counter(label_0)[1] > Counter(label_0)[0]:\n",
        "  results_corrected_sk = (~results_corrected_sk.astype(bool)).astype(int)\n",
        "\n",
        "results_corrected_sk[:5]"
      ]
    },
    {
      "cell_type": "code",
      "execution_count": null,
      "metadata": {
        "id": "KKFYTdNk_L-_",
        "colab": {
          "base_uri": "https://localhost:8080/"
        },
        "outputId": "4182ced8-3f08-4f14-8305-2c6f4768ec12"
      },
      "outputs": [
        {
          "output_type": "execute_result",
          "data": {
            "text/plain": [
              "Counter({0: 231, 1: 19})"
            ]
          },
          "metadata": {},
          "execution_count": 17
        }
      ],
      "source": [
        "Counter(results_corrected_sk[y == 1]) # we have a similar level of purity as we had before with the original dataset"
      ]
    },
    {
      "cell_type": "code",
      "execution_count": null,
      "metadata": {
        "id": "t_oCmTjPFHPW",
        "colab": {
          "base_uri": "https://localhost:8080/"
        },
        "outputId": "f3e93a90-77e8-4b8e-97cc-53d8281aca42"
      },
      "outputs": [
        {
          "output_type": "execute_result",
          "data": {
            "text/plain": [
              "Counter({1: 234, 0: 16})"
            ]
          },
          "metadata": {},
          "execution_count": 18
        }
      ],
      "source": [
        "Counter(results_corrected_sk[y == 0])"
      ]
    },
    {
      "cell_type": "markdown",
      "metadata": {
        "id": "kH_U6SEJMCt3"
      },
      "source": [
        "Let's finish the demo with producing a scatter plot.\n",
        "\n",
        "Again, depending upon what kind of changes you made to the code, your results might be anything. We expect to see that most data points were put into their *true cluster* while some errors were also made. This result stems from the fact that the synthetic data was easy to cluster. You can go back, change the code and increase the complexity of the clustering task. Before doing so, run the following code to plot your data one more time while highlighting the data points that have been put into the wrong cluster. I think it's fair to say that kMeans has done a fairly good  job.\n"
      ]
    },
    {
      "cell_type": "code",
      "execution_count": null,
      "metadata": {
        "id": "enx_fqiEMCt4",
        "colab": {
          "base_uri": "https://localhost:8080/",
          "height": 374
        },
        "outputId": "76a2e139-fa81-447a-c012-c41801e5ad50"
      },
      "outputs": [
        {
          "output_type": "display_data",
          "data": {
            "text/plain": [
              "<Figure size 864x432 with 1 Axes>"
            ],
            "image/png": "[encoded data removed]"
          },
          "metadata": {
            "needs_background": "light"
          }
        }
      ],
      "source": [
        "idx = results_corrected_sk == y  # index of the correctly clustered data points\n",
        "plt.scatter(X[idx, 0],  X[idx, 1],  c=y[idx]);  # plot these points\n",
        "plt.scatter(X[~idx, 0], X[~idx, 1], c=y[~idx], edgecolor='red', linewidths=1);  # highlight wrongly clustered data points  "
      ]
    },
    {
      "cell_type": "markdown",
      "metadata": {
        "id": "xoMdrnT5rnKP"
      },
      "source": [
        "### Searching the optimal 'k'\n",
        "In our case, we can be *pretty sure* (caution: irony in progress) that the optimal value for parameter `k`is 2. Let's pretend we would not know this. We can then use the **elbow method** to determine a suitable setting for `k` by trial and error. To that end, we run the algorithm multiple times with different settings for parameter `k`. We can then plot settings of `k` on the x-axis against the total distance on the y-axis. Wherever we see a bend in the curve (i.e. an elbow), we can consider the corresponding setting of `k` a suitable setting. Anything past the bend of the curve would make the model unnecessarily complex. We would be adding more centroids (i.e., clusters), which we would need to interpret afterwards, without increasing homogeneity in the clusters a lot. \n",
        "\n",
        "The following codes illustrate the elbow method for candidate settings of $k=1, ..., 8$. Depending on the size of your data sample, the code might need a little while to run.\n",
        "\n",
        "We can perform the same elbow curve method on sklearn results. The `.inertia_` attribute on a fit kMeans object allows us to see the sum of squared distance between points and their centroid."
      ]
    },
    {
      "cell_type": "code",
      "execution_count": null,
      "metadata": {
        "id": "4PR63XZXq3jN",
        "outputId": "e564ea4b-6d48-4ebc-fa64-6fb638e6107e"
      },
      "outputs": [
        {
          "data": {
            "text/plain": [
              "[8163.666584332819,\n",
              " 3433.702159868974,\n",
              " 2754.2270163009603,\n",
              " 2143.693630079982,\n",
              " 1772.1889361680073,\n",
              " 1468.1531447117534,\n",
              " 1268.2327468559768,\n",
              " 1093.4151497922007]"
            ]
          },
          "execution_count": 26,
          "metadata": {},
          "output_type": "execute_result"
        }
      ],
      "source": [
        "list_total_dist_sklearn = []\n",
        "\n",
        "for i in range(1,9):\n",
        "  km = KMeans(n_clusters=i, init='random', n_init=10, max_iter=100, random_state=123) # go from 1 to 8 in the value of centroids\n",
        "  res = km.fit_predict(X)\n",
        "  list_total_dist_sklearn.append(km.inertia_) # check how inertia (~total distance) changes as we increase K\n",
        "\n",
        "list_total_dist_sklearn"
      ]
    },
    {
      "cell_type": "code",
      "execution_count": null,
      "metadata": {
        "id": "cFAKjIO-reEa",
        "outputId": "e512ee57-fdb3-48aa-b2f0-7140a0eb9e9f"
      },
      "outputs": [
        {
          "data": {
            "image/png": "[encoded data removed]",
            "text/plain": [
              "<Figure size 864x432 with 1 Axes>"
            ]
          },
          "metadata": {
            "needs_background": "light"
          },
          "output_type": "display_data"
        }
      ],
      "source": [
        "plt.plot(range(1, 9), list_total_dist_sklearn) # from this graph, we can see the sharpest bend at 2 again\n",
        "plt.title(\"kMeans Elbow Curve\")\n",
        "plt.ylabel(\"inertia\")\n",
        "plt.xlabel(\"K\")\n",
        "plt.show()"
      ]
    },
    {
      "cell_type": "markdown",
      "metadata": {
        "id": "f8dCvgUXVZcR"
      },
      "source": [
        "Here again, we can see the sharpest kink at K=2. \n",
        "\n"
      ]
    }
  ],
  "metadata": {
    "colab": {
      "collapsed_sections": [
        "Bdho4OZir6O7",
        "PdBezwLheDGy",
        "LBLlvv2AIfB1",
        "xoMdrnT5rnKP"
      ],
      "provenance": []
    },
    "kernelspec": {
      "display_name": "Python 3",
      "language": "python",
      "name": "python3"
    },
    "language_info": {
      "codemirror_mode": {
        "name": "ipython",
        "version": 3
      },
      "file_extension": ".py",
      "mimetype": "text/x-python",
      "name": "python",
      "nbconvert_exporter": "python",
      "pygments_lexer": "ipython3",
      "version": "3.7.10"
    }
  },
  "nbformat": 4,
  "nbformat_minor": 0
}