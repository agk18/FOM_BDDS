{
 "cells": [
  {
   "cell_type": "markdown",
   "metadata": {
    "id": "swSaDjWvNDnY"
   },
   "source": [
    "# Predictive Analytics Primer\n",
    "The lecture has introduced the standard data structure for predictive analytics. We need data with input variables and a **target variable**. The goal of predictive analytics is to derive a functional relationship between the input variables and the target. We assume that we can observe, measure, or control the input variables. Hence, our predictive model (the functional relationship between inputs and the target that we infer from past data), facilitates forecasting the expected value of the target variable based on the input variables. Whenever we observe a new case, we gather the values of the input variables for that case and feed them into our prediction model. Receiving that input, the model will produce a forecast of the target variable value for that case. So, predictive analytics is all about finding *good* **input-to-output mappings**. You can think of linear regression. Formally speaking, a linear regression function maps inputs $\\boldsymbol x = {x_1, x_2, ..., x_d}$ from the domain $X \\in  \\mathbb{R}^d$ to the outputs $y \\in  \\mathbb{R}$. \n",
    "\n",
    "Recall from the lecture that many alternative terms are in use to refer to the input variables. Covariates, (independent) variables, attributes are only a few examples. In the interest of having consistent terminology, we will use the term **features** instead of input variables in the following. \n",
    "\n",
    "Here is the outline:\n",
    "- (Linear) Regression\n",
    "\n",
    "- Classification \n"
   ]
  },
  {
   "cell_type": "markdown",
   "metadata": {
    "id": "KKHjoRMQy-9K"
   },
   "source": [
    "## Regression \n",
    "\n",
    "### Linear regression\n",
    "Linear regression assumes a linear additive relationship between features and the target. Specifically, we assume a model:\n",
    "$$ y = \\beta_0 + \\beta_1 x_1 +  \\beta_2 x_2 + ... + \\beta_m x_m + \\epsilon $$\n",
    "where $y$ is the target variable, $\\beta$ denotes the regression coefficients (as usual), $x_j, j=1, ..., d$ are our features, and $\\epsilon$ denotes the error term. Adopting the above perspective, when using linear regression, we assume we *know* the true functional form of the input-to-output mapping. Specifically, we assume this mapping to be linear and additive. Under this assumption, our task is to find the unknown parameters that characterize our mapping function, and these are the regression coefficients $\\beta$. Some folks call models like linear regression **parametric models**. This is to emphasize that we assume to know the true functional form and then 'only' have to estimate that function's free parameters. Other methods like classification and regression trees work differently and are called **non-parametric models**. The form of such models (e.g., a classification tree) is not (assumed to be) known a priori. Rather, the task is to find that form; in other words determine it from the data.  \n"
   ]
  },
  {
   "cell_type": "markdown",
   "metadata": {
    "id": "KKHjoRMQy-9K"
   },
   "source": [
    "### Data Simulation for Regression\n",
    "\n",
    "To warm-up, let's create some synthetic data for regression modeling. To keep things simple, we consider a univariate setting with only one feature. The classic example in business is that of a price response function, so we can assume that our single feature corresponds to the sales price of some product and our target to the sales of units of that product as some price."
   ]
  },
  {
   "cell_type": "code",
   "execution_count": 1,
   "metadata": {
    "id": "f9aYJsZRO65y"
   },
   "outputs": [],
   "source": [
    "# load relevant libraries\n",
    "\n",
    "import random\n",
    "import numpy as np\n",
    "import matplotlib.pyplot as plt\n",
    "\n",
    "np.set_printoptions(suppress=True)  # stops Python from producing output in scientific notation\n",
    "\n",
    "random.seed(888) # for reproducibility"
   ]
  },
  {
   "cell_type": "code",
   "execution_count": 2,
   "metadata": {
    "colab": {
     "base_uri": "https://localhost:8080/"
    },
    "id": "MIpePpg3VAgt",
    "outputId": "73e46be4-4ec3-4075-c79b-61d029d0bede"
   },
   "outputs": [
    {
     "data": {
      "text/plain": [
       "array([69, 56, 69, 32, 48, 91, 20, 52, 61, 90, 56, 20, 42, 86, 52, 55, 69,\n",
       "       59, 71, 78, 53, 20, 57, 81, 64, 91, 74, 41, 75, 85, 89, 34, 83, 48,\n",
       "       43, 87, 74, 87, 21, 78, 87, 94, 79, 97, 83, 78, 92, 26, 30, 59, 71,\n",
       "       79, 95, 31, 30, 24, 90, 65, 43, 64, 49, 57, 42, 22, 36, 69, 50, 49,\n",
       "       75, 76, 73, 48, 36, 29, 80, 26, 46, 51, 89, 83, 87, 92, 42, 26, 74,\n",
       "       67, 42, 89, 24, 72, 33, 28, 64, 69, 22, 49, 34, 70, 66, 89])"
      ]
     },
     "execution_count": 2,
     "metadata": {},
     "output_type": "execute_result"
    }
   ],
   "source": [
    "n = 100\n",
    "X = np.random.randint(20,100,n)\n",
    "\n",
    "X"
   ]
  },
  {
   "cell_type": "markdown",
   "metadata": {
    "id": "cSsNJpQ8fE26"
   },
   "source": [
    "Next we need to create our target. Following the idea of linear regression, we create the target such that we set the regression parameters and claim these to be their *true values*, and then add some random noise. This is just \n",
    "$$ y = \\beta_0 + \\beta_1 x_1 +  \\beta_2 x_2 + ... + \\beta_m x_m + \\epsilon $$ \n",
    "\n",
    "in Python, where $\\epsilon$ is our random error, the noise that our regression model cannot explain. \n",
    "\n",
    "Below, we assume that the true beta is $-0.5$ and that the true intercept, i.e., $\\beta_0$, is 100. Sticking to the price response function example, an intercept of 100 implies that we would 'sell' 100 units of the product if we give it away for free. Note how we use Python to configure the noise. How would you describe our noise term?"
   ]
  },
  {
   "cell_type": "code",
   "execution_count": 3,
   "metadata": {
    "colab": {
     "base_uri": "https://localhost:8080/"
    },
    "id": "13rCiNavQIBj",
    "outputId": "0d40861f-cf7e-45c9-f95f-5db01fc7ea6b"
   },
   "outputs": [
    {
     "data": {
      "text/plain": [
       "array([64.  , 76.1 , 58.96, 75.39, 84.66, 57.37, 88.79, 70.11, 66.39,\n",
       "       56.13, 76.2 , 91.22, 81.54, 52.02, 75.26, 70.51, 65.16, 65.53,\n",
       "       66.03, 59.21, 68.98, 92.98, 72.24, 64.9 , 59.32, 56.68, 57.89,\n",
       "       79.76, 67.91, 55.1 , 56.89, 77.08, 45.65, 76.09, 85.68, 55.35,\n",
       "       67.13, 41.18, 83.75, 59.16, 58.95, 59.53, 63.79, 41.4 , 57.84,\n",
       "       67.18, 54.66, 89.13, 86.58, 71.08, 65.89, 68.08, 47.21, 85.95,\n",
       "       80.11, 87.53, 52.14, 74.91, 71.01, 59.5 , 82.36, 65.36, 80.62,\n",
       "       93.29, 92.17, 72.24, 69.43, 80.35, 67.38, 63.81, 69.56, 72.19,\n",
       "       83.53, 86.1 , 62.8 , 82.93, 64.26, 65.38, 53.11, 61.4 , 48.86,\n",
       "       51.66, 83.79, 85.5 , 68.19, 69.79, 82.37, 52.62, 86.66, 50.65,\n",
       "       78.92, 90.67, 65.66, 65.43, 87.69, 70.05, 80.37, 59.23, 70.35,\n",
       "       50.75])"
      ]
     },
     "execution_count": 3,
     "metadata": {},
     "output_type": "execute_result"
    }
   ],
   "source": [
    "y = np.zeros(n) # create array of 0s of the length X\n",
    "\n",
    "true_beta = -0.5\n",
    "true_intercept = 100\n",
    "\n",
    "for i in range(0, n):\n",
    "  num = true_beta*X[i] + np.random.normal(0, 5, 1) # for this relationship, the true beta_1 = 0.5. Randomness also added.\n",
    "  y[i] = true_intercept + num # replace 0s in y with the transformed X value\n",
    "\n",
    "y= np.around(y, 2) # round all values to 2 decimals\n",
    "y"
   ]
  },
  {
   "cell_type": "code",
   "execution_count": 4,
   "metadata": {
    "colab": {
     "base_uri": "https://localhost:8080/",
     "height": 286
    },
    "id": "tv86W5nHQy3G",
    "outputId": "031ff86e-d9b6-4c32-ff00-c7dac59f1a26"
   },
   "outputs": [
    {
     "data": {
      "image/png": "[encoded data removed]",
      "text/plain": [
       "<Figure size 432x288 with 1 Axes>"
      ]
     },
     "metadata": {
      "needs_background": "light"
     },
     "output_type": "display_data"
    }
   ],
   "source": [
    "plt.scatter(X, y); # plot our X and y values on a scatterplot using pyplot"
   ]
  },
  {
   "cell_type": "markdown",
   "metadata": {
    "id": "_IpEyVXay-9Q"
   },
   "source": [
    "### Coefficient calculation\n",
    "\n",
    "We know from our undergraduate studies how to compute our estimators $\\hat \\beta_0$ and $\\hat \\beta_1$ of the intercept and slope of our simple linear regression model, respectively. \n",
    "\n",
    "$$ \\hat \\beta_1 = \\frac{\\sum^{n}_{i=1}\\left(x_i-\\bar x \\right) \\left( y_i - \\bar y\\right)}{\\sum^{n}_{i=1}\\left(x_i-\\bar x \\right)^2} $$\n",
    "\n",
    "$$ \\hat \\beta_0 = \\bar y - \\hat \\beta_1 \\bar x$$\n",
    "\n",
    "where $\\bar x$ and $\\bar y$ denote the mean price (feature) and sales (target), respectively. \n"
   ]
  },
  {
   "cell_type": "code",
   "execution_count": 5,
   "metadata": {},
   "outputs": [
    {
     "name": "stdout",
     "output_type": "stream",
     "text": [
      "(100, 1) (100, 1)\n"
     ]
    }
   ],
   "source": [
    "# reshape dimensions \n",
    "X = X.reshape(-1, 1) # reshapes array to a vertical column (originally the shape is (100,), we need it to be (100,1))\n",
    "y = y.reshape(-1, 1)\n",
    "print(X.shape, y.shape)"
   ]
  },
  {
   "cell_type": "code",
   "execution_count": 6,
   "metadata": {},
   "outputs": [
    {
     "name": "stdout",
     "output_type": "stream",
     "text": [
      "[100.09032673] [[-0.51220768]]\n"
     ]
    }
   ],
   "source": [
    "# the sklearn versin\n",
    "from sklearn.linear_model import LinearRegression\n",
    "\n",
    "lin = LinearRegression().fit(X, y)\n",
    "beta_hat_0, beta_hat_1 = lin.intercept_, lin.coef_\n",
    "\n",
    "print(beta_hat_0, beta_hat_1) # the"
   ]
  },
  {
   "cell_type": "markdown",
   "metadata": {
    "id": "Y_ngsAb7fu__"
   },
   "source": [
    "To more easily plot this line on a graph, let's calculate the value of `y` when `x = 100`. We already have the value of `y` when `x = 0`, which is $\\beta_0$. After this, we can plot the data points and the line of best fit through the entire range of X."
   ]
  },
  {
   "cell_type": "code",
   "execution_count": 7,
   "metadata": {
    "colab": {
     "base_uri": "https://localhost:8080/"
    },
    "id": "qTxqBKaJjC-x",
    "outputId": "14eb895c-0d93-4552-dde4-567cb84b692b"
   },
   "outputs": [
    {
     "name": "stdout",
     "output_type": "stream",
     "text": [
      "[[48.86955923]]\n"
     ]
    }
   ],
   "source": [
    "y_val_x_at_100 = beta_hat_0 + beta_hat_1*100\n",
    "\n",
    "print(y_val_x_at_100)"
   ]
  },
  {
   "cell_type": "code",
   "execution_count": 8,
   "metadata": {
    "colab": {
     "base_uri": "https://localhost:8080/",
     "height": 269
    },
    "id": "OvbD7CQAi6NV",
    "outputId": "7dd0f39e-9e9d-4ef7-eca8-24a9f486e860"
   },
   "outputs": [
    {
     "name": "stderr",
     "output_type": "stream",
     "text": [
      "/Users/axelgk/miniconda3/envs/cs330/lib/python3.7/site-packages/numpy/core/_asarray.py:171: VisibleDeprecationWarning: Creating an ndarray from ragged nested sequences (which is a list-or-tuple of lists-or-tuples-or ndarrays with different lengths or shapes) is deprecated. If you meant to do this, you must specify 'dtype=object' when creating the ndarray.\n",
      "  return array(a, dtype, copy=False, order=order, subok=True)\n"
     ]
    },
    {
     "data": {
      "image/png": "[encoded data removed]",
      "text/plain": [
       "<Figure size 432x288 with 1 Axes>"
      ]
     },
     "metadata": {
      "needs_background": "light"
     },
     "output_type": "display_data"
    }
   ],
   "source": [
    "plt.scatter(X, y)\n",
    "plt.plot([0, 100], [beta_hat_0, y_val_x_at_100],  color='red') # the first list are x coordinate values, the second are y values so this creates a line through (0, beta_hat_0) and (100, y_val_x_at_100)\n",
    "plt.show()"
   ]
  },
  {
   "cell_type": "markdown",
   "metadata": {
    "id": "rwunBXaay-9Z"
   },
   "source": [
    "### Predicting on new samples from the same population\n",
    "\n",
    "Recall that the very point of predictive modeling is to forecast the value of the target variable for new cases. To demonstrate this, we can use the regression function just estimated, our model, and apply it to some novel data. We will first generate some new X values using the same random process and generate the corresponding y values using the same code. "
   ]
  },
  {
   "cell_type": "code",
   "execution_count": 9,
   "metadata": {
    "colab": {
     "base_uri": "https://localhost:8080/"
    },
    "id": "TKT8_pxhy-9Z",
    "outputId": "87c73028-caed-4cdf-a10d-5af1367a5e42"
   },
   "outputs": [
    {
     "name": "stdout",
     "output_type": "stream",
     "text": [
      "[94 90 55 79 58 21 20 29 49 35]\n"
     ]
    }
   ],
   "source": [
    "n_new = 10 # amount of new values to generate\n",
    "X_new = np.random.randint(20, 100, size=n_new) # example using more efficient code to create a random array of integers\n",
    "print(X_new)"
   ]
  },
  {
   "cell_type": "code",
   "execution_count": 10,
   "metadata": {
    "colab": {
     "base_uri": "https://localhost:8080/"
    },
    "id": "h3c7wtKKu6ZI",
    "outputId": "30b44caa-4025-4412-d9b2-e25138f6bf75"
   },
   "outputs": [
    {
     "name": "stdout",
     "output_type": "stream",
     "text": [
      "[48.46 54.18 74.87 51.94 70.71 92.33 95.62 77.77 66.1  78.42]\n"
     ]
    }
   ],
   "source": [
    "y_true = np.zeros(n_new) # create array of 0s of the length X_new\n",
    "for i in range(0, n_new):\n",
    "  num = true_beta*X_new[i] + np.random.normal(0, 5, 1) # same relationship as before, true beta 1 is 0.5\n",
    "  y_true[i] = true_intercept + num\n",
    "\n",
    "y_true = np.around(y_true, 2) # round all values to 2 decimals\n",
    "print(y_true)"
   ]
  },
  {
   "cell_type": "code",
   "execution_count": 11,
   "metadata": {
    "colab": {
     "base_uri": "https://localhost:8080/",
     "height": 269
    },
    "id": "dRepllA-v9uB",
    "outputId": "6081601f-80ab-4dad-c491-e428cc882aa1"
   },
   "outputs": [
    {
     "data": {
      "image/png": "[encoded data removed]",
      "text/plain": [
       "<Figure size 432x288 with 1 Axes>"
      ]
     },
     "metadata": {
      "needs_background": "light"
     },
     "output_type": "display_data"
    }
   ],
   "source": [
    "plt.scatter(X, y) # plot original points\n",
    "plt.scatter(X_new, y_true, color='orange') # colour new points \n",
    "plt.plot([0, 100], [beta_hat_0, y_val_x_at_100], color='red') # pass line through coordinates (0, beta_hat_0) and (100, y_val_x_at_100)\n",
    "plt.show()"
   ]
  },
  {
   "cell_type": "markdown",
   "metadata": {
    "id": "R5xeS407imux"
   },
   "source": [
    "We can now use our coefficients to predict the value of y for each of the new X values. Afterwards, it is a good idea to check the residuals or errors from the prediction to ensure that we are getting consistent results. We can then aggregate these values, the residuals, to obtain a single measure of performance like mean square error or root mean square error."
   ]
  },
  {
   "cell_type": "code",
   "execution_count": 12,
   "metadata": {
    "colab": {
     "base_uri": "https://localhost:8080/"
    },
    "id": "4YCz5b5ItQPy",
    "outputId": "4895a1d9-35c4-4d3e-cfb8-6d8a7109c6b8"
   },
   "outputs": [
    {
     "name": "stdout",
     "output_type": "stream",
     "text": [
      "[51.94280528 53.99163598 71.91890461 59.6259204  70.38228158 89.33396556\n",
      " 89.84617323 85.23630416 74.99215066 82.16305811]\n"
     ]
    }
   ],
   "source": [
    "# use our model to predict the y value for the new X values:\n",
    "y_pred = np.zeros(n_new)\n",
    "\n",
    "for i in range(0, n_new):\n",
    "  y_pred[i] = beta_hat_0 + beta_hat_1*X_new[i]\n",
    "print(y_pred)"
   ]
  },
  {
   "cell_type": "code",
   "execution_count": 13,
   "metadata": {
    "colab": {
     "base_uri": "https://localhost:8080/"
    },
    "id": "itt4mkzJvo6b",
    "outputId": "897dd941-db60-4e26-96fd-7129242701fd"
   },
   "outputs": [
    {
     "name": "stdout",
     "output_type": "stream",
     "text": [
      "[-3.48280528  0.18836402  2.95109539 -7.6859204   0.32771842  2.99603444\n",
      "  5.77382677 -7.46630416 -8.89215066 -3.74305811]\n"
     ]
    }
   ],
   "source": [
    "# calculate residuals:\n",
    "res = y_true - y_pred\n",
    "\n",
    "print(res)"
   ]
  },
  {
   "cell_type": "code",
   "execution_count": 14,
   "metadata": {
    "colab": {
     "base_uri": "https://localhost:8080/"
    },
    "id": "ppF7dMIWzz8-",
    "outputId": "73ad5ffe-c96f-4307-8143-c224b3eb3372"
   },
   "outputs": [
    {
     "name": "stdout",
     "output_type": "stream",
     "text": [
      "RMSE of our regression model is 5.208\n"
     ]
    }
   ],
   "source": [
    "# root mean squared error:\n",
    "pred_error = np.sqrt(np.mean(res**2))\n",
    "\n",
    "print(\"RMSE of our regression model is {:.4}\".format(pred_error))"
   ]
  },
  {
   "cell_type": "markdown",
   "metadata": {
    "id": "r-0bh_aay-9v"
   },
   "source": [
    "## Regression analysis based on Real Data: The Boston Housing Data Set\n",
    "Let's now try the methods that we have been discussing on a real data set. Using `sklearn`, we can download some data which are ready for analysis. One of these data sets is called *Boston Housing*. In this dataset, we are given several characteristics (remember we call these features in machine learning) related to real estate properties. Our goal is to predict the cost of housing using these characteristics. The cost of housing in this case is called the target variable.\n",
    "\n",
    "If you are curious to see the data and the interpretations of each variable, check the explanation of the data set here: http://lib.stat.cmu.edu/datasets/boston .\n"
   ]
  },
  {
   "cell_type": "markdown",
   "metadata": {
    "id": "r-0bh_aay-9v"
   },
   "source": [
    "### Load the data set\n",
    "\n",
    "We will first import the data set and check the first few rows to get a feeling for our data set. Being a standard data set for supervised ML, `sklearn` knows this data set and makes it available in the library `sklearn.datasets`. However, when loading data from that library, we need to account for the fact that `sklearn` stores the data in a specific way. We do not get a DataFrame right away. Some conversion is needed. You see below how this works. Think of the codes as a step that is needed to comply with the standards of `sklearn.datasets`. Also note that it is common practice to separate the target variable from the rest of the data. We adopt this approach and, to be consistent with the lecture, use the variable names $y$ and $X$ to refer to the array of target variable values and the feature matrix, respectively. \n",
    "\n",
    "### First glimpse at Train / Dev / Test splits of the data:  The holdout method\n",
    "\n",
    "The train validation/dev test split is a technique for partitioning data into training, validation/development, and test sets.\n",
    "\n",
    "The model is initially fit on a training data set, which is a set of examples used to fit the parameters (e.g. weights of connections between neurons in artificial neural networks) of the model. The model is trained on the training data set, for example using optimization methods such as gradient descent or stochastic gradient descent. \n",
    "\n",
    "Successively, the fitted model is used to predict the responses for the observations in a second data set called the validation data set or development data set. The validation data set provides an unbiased evaluation of a model fit on the training data set while tuning the model's hyperparameters (e.g. the number of hidden units—layers and layer widths—in a neural network). \n",
    "\n",
    "Finally, the test data set is a data set used to provide an unbiased evaluation of a final model fit on the training data set with hyperparameters tuned on the validation/development set. \n",
    "\n",
    "In case we sample only once and obtain one each of train, dev and test data sets, this is called the holdout method. This is totally fine for most applications, in specific, when model training is costly. More advanced schemes exist, the most prominent being the cross-validation approach. More on that later...\n"
   ]
  },
  {
   "cell_type": "code",
   "execution_count": 15,
   "metadata": {
    "colab": {
     "base_uri": "https://localhost:8080/",
     "height": 195
    },
    "id": "2GDBEr-MMq7k",
    "outputId": "62e6c30c-a98e-49a1-a33f-8b2ed24e9dcc"
   },
   "outputs": [
    {
     "name": "stdout",
     "output_type": "stream",
     "text": [
      "What data type do we actually get from the library? Aha, this is a <class 'sklearn.utils.Bunch'>\n"
     ]
    },
    {
     "data": {
      "text/html": [
       "<div>\n",
       "<style scoped>\n",
       "    .dataframe tbody tr th:only-of-type {\n",
       "        vertical-align: middle;\n",
       "    }\n",
       "\n",
       "    .dataframe tbody tr th {\n",
       "        vertical-align: top;\n",
       "    }\n",
       "\n",
       "    .dataframe thead th {\n",
       "        text-align: right;\n",
       "    }\n",
       "</style>\n",
       "<table border=\"1\" class=\"dataframe\">\n",
       "  <thead>\n",
       "    <tr style=\"text-align: right;\">\n",
       "      <th></th>\n",
       "      <th>CRIM</th>\n",
       "      <th>ZN</th>\n",
       "      <th>INDUS</th>\n",
       "      <th>CHAS</th>\n",
       "      <th>NOX</th>\n",
       "      <th>RM</th>\n",
       "      <th>AGE</th>\n",
       "      <th>DIS</th>\n",
       "      <th>RAD</th>\n",
       "      <th>TAX</th>\n",
       "      <th>PTRATIO</th>\n",
       "      <th>B</th>\n",
       "      <th>LSTAT</th>\n",
       "    </tr>\n",
       "  </thead>\n",
       "  <tbody>\n",
       "    <tr>\n",
       "      <th>54</th>\n",
       "      <td>0.01360</td>\n",
       "      <td>75.0</td>\n",
       "      <td>4.00</td>\n",
       "      <td>0.0</td>\n",
       "      <td>0.410</td>\n",
       "      <td>5.888</td>\n",
       "      <td>47.6</td>\n",
       "      <td>7.3197</td>\n",
       "      <td>3.0</td>\n",
       "      <td>469.0</td>\n",
       "      <td>21.1</td>\n",
       "      <td>396.90</td>\n",
       "      <td>14.80</td>\n",
       "    </tr>\n",
       "    <tr>\n",
       "      <th>28</th>\n",
       "      <td>0.77299</td>\n",
       "      <td>0.0</td>\n",
       "      <td>8.14</td>\n",
       "      <td>0.0</td>\n",
       "      <td>0.538</td>\n",
       "      <td>6.495</td>\n",
       "      <td>94.4</td>\n",
       "      <td>4.4547</td>\n",
       "      <td>4.0</td>\n",
       "      <td>307.0</td>\n",
       "      <td>21.0</td>\n",
       "      <td>387.94</td>\n",
       "      <td>12.80</td>\n",
       "    </tr>\n",
       "    <tr>\n",
       "      <th>423</th>\n",
       "      <td>7.05042</td>\n",
       "      <td>0.0</td>\n",
       "      <td>18.10</td>\n",
       "      <td>0.0</td>\n",
       "      <td>0.614</td>\n",
       "      <td>6.103</td>\n",
       "      <td>85.1</td>\n",
       "      <td>2.0218</td>\n",
       "      <td>24.0</td>\n",
       "      <td>666.0</td>\n",
       "      <td>20.2</td>\n",
       "      <td>2.52</td>\n",
       "      <td>23.29</td>\n",
       "    </tr>\n",
       "    <tr>\n",
       "      <th>244</th>\n",
       "      <td>0.20608</td>\n",
       "      <td>22.0</td>\n",
       "      <td>5.86</td>\n",
       "      <td>0.0</td>\n",
       "      <td>0.431</td>\n",
       "      <td>5.593</td>\n",
       "      <td>76.5</td>\n",
       "      <td>7.9549</td>\n",
       "      <td>7.0</td>\n",
       "      <td>330.0</td>\n",
       "      <td>19.1</td>\n",
       "      <td>372.49</td>\n",
       "      <td>12.50</td>\n",
       "    </tr>\n",
       "    <tr>\n",
       "      <th>111</th>\n",
       "      <td>0.10084</td>\n",
       "      <td>0.0</td>\n",
       "      <td>10.01</td>\n",
       "      <td>0.0</td>\n",
       "      <td>0.547</td>\n",
       "      <td>6.715</td>\n",
       "      <td>81.6</td>\n",
       "      <td>2.6775</td>\n",
       "      <td>6.0</td>\n",
       "      <td>432.0</td>\n",
       "      <td>17.8</td>\n",
       "      <td>395.59</td>\n",
       "      <td>10.16</td>\n",
       "    </tr>\n",
       "  </tbody>\n",
       "</table>\n",
       "</div>"
      ],
      "text/plain": [
       "        CRIM    ZN  INDUS  CHAS    NOX     RM   AGE     DIS   RAD    TAX  \\\n",
       "54   0.01360  75.0   4.00   0.0  0.410  5.888  47.6  7.3197   3.0  469.0   \n",
       "28   0.77299   0.0   8.14   0.0  0.538  6.495  94.4  4.4547   4.0  307.0   \n",
       "423  7.05042   0.0  18.10   0.0  0.614  6.103  85.1  2.0218  24.0  666.0   \n",
       "244  0.20608  22.0   5.86   0.0  0.431  5.593  76.5  7.9549   7.0  330.0   \n",
       "111  0.10084   0.0  10.01   0.0  0.547  6.715  81.6  2.6775   6.0  432.0   \n",
       "\n",
       "     PTRATIO       B  LSTAT  \n",
       "54      21.1  396.90  14.80  \n",
       "28      21.0  387.94  12.80  \n",
       "423     20.2    2.52  23.29  \n",
       "244     19.1  372.49  12.50  \n",
       "111     17.8  395.59  10.16  "
      ]
     },
     "execution_count": 15,
     "metadata": {},
     "output_type": "execute_result"
    }
   ],
   "source": [
    "import sklearn.datasets as datasets\n",
    "import pandas as pd\n",
    "from sklearn.model_selection import train_test_split\n",
    "\n",
    "\n",
    "df = datasets.load_boston()\n",
    "print(\"What data type do we actually get from the library? Aha, this is a {}\".format(type(df)))\n",
    "\n",
    "# Extract target and featres and convert to DataFrame\n",
    "pd_X = pd.DataFrame(data=df.data, columns=df.feature_names) # place input arrays into pandas DataFrame\n",
    "pd_y = pd.DataFrame(data=df.target, columns=['Target']) # place target array into pandas DataFrame\n",
    "\n",
    "X_traindev, X_test, y_traindev, y_test = train_test_split( pd_X, pd_y, test_size=0.2, random_state=42)\n",
    "X_train, X_dev, y_train, y_dev = train_test_split( X_traindev, y_traindev, test_size=0.2, random_state=42)\n",
    "\n",
    "\n",
    "\n",
    "X_train.head()  # eyeball the first 5 rows of the data set"
   ]
  },
  {
   "cell_type": "code",
   "execution_count": 16,
   "metadata": {},
   "outputs": [
    {
     "name": "stdout",
     "output_type": "stream",
     "text": [
      "(323, 13)\n",
      "(81, 13)\n",
      "(102, 13)\n",
      "(323, 1)\n",
      "(81, 1)\n",
      "(102, 1)\n"
     ]
    }
   ],
   "source": [
    "print(X_train.shape)\n",
    "print(X_dev.shape)\n",
    "print(X_test.shape)\n",
    "print(y_train.shape)\n",
    "print(y_dev.shape)\n",
    "print(y_test.shape)"
   ]
  },
  {
   "cell_type": "code",
   "execution_count": 17,
   "metadata": {
    "colab": {
     "base_uri": "https://localhost:8080/",
     "height": 195
    },
    "id": "6ETFcTllN31K",
    "outputId": "d5ea0ede-a0be-49d1-fcc8-fa18f6091a3d",
    "scrolled": true
   },
   "outputs": [
    {
     "data": {
      "text/html": [
       "<div>\n",
       "<style scoped>\n",
       "    .dataframe tbody tr th:only-of-type {\n",
       "        vertical-align: middle;\n",
       "    }\n",
       "\n",
       "    .dataframe tbody tr th {\n",
       "        vertical-align: top;\n",
       "    }\n",
       "\n",
       "    .dataframe thead th {\n",
       "        text-align: right;\n",
       "    }\n",
       "</style>\n",
       "<table border=\"1\" class=\"dataframe\">\n",
       "  <thead>\n",
       "    <tr style=\"text-align: right;\">\n",
       "      <th></th>\n",
       "      <th>Target</th>\n",
       "    </tr>\n",
       "  </thead>\n",
       "  <tbody>\n",
       "    <tr>\n",
       "      <th>54</th>\n",
       "      <td>18.9</td>\n",
       "    </tr>\n",
       "    <tr>\n",
       "      <th>28</th>\n",
       "      <td>18.4</td>\n",
       "    </tr>\n",
       "    <tr>\n",
       "      <th>423</th>\n",
       "      <td>13.4</td>\n",
       "    </tr>\n",
       "    <tr>\n",
       "      <th>244</th>\n",
       "      <td>17.6</td>\n",
       "    </tr>\n",
       "    <tr>\n",
       "      <th>111</th>\n",
       "      <td>22.8</td>\n",
       "    </tr>\n",
       "  </tbody>\n",
       "</table>\n",
       "</div>"
      ],
      "text/plain": [
       "     Target\n",
       "54     18.9\n",
       "28     18.4\n",
       "423    13.4\n",
       "244    17.6\n",
       "111    22.8"
      ]
     },
     "execution_count": 17,
     "metadata": {},
     "output_type": "execute_result"
    }
   ],
   "source": [
    "y_train.head()  # same for the target"
   ]
  },
  {
   "cell_type": "markdown",
   "metadata": {
    "id": "9ukMhJfUWiGR"
   },
   "source": [
    "### Getting to know the data a little better\n",
    "Again, the point is not to illustrate a fully-fledged explanatory data analysis in this notebook. Still, we need a basic understanding for the data. Below, you see some standard Pandas functions in action to:\n",
    "- check if a data set has missing values -> `isnull()`\n",
    "- get an overview of the data -> `info()`\n",
    "- produce a set of descriptive statistics -> `describe()` \n",
    "\n",
    "In general, applying these functions will be the very first thing you do with any data that you get your hands on. More details in the next tutorial. "
   ]
  },
  {
   "cell_type": "code",
   "execution_count": 18,
   "metadata": {},
   "outputs": [
    {
     "data": {
      "text/plain": [
       "CRIM       0\n",
       "ZN         0\n",
       "INDUS      0\n",
       "CHAS       0\n",
       "NOX        0\n",
       "RM         0\n",
       "AGE        0\n",
       "DIS        0\n",
       "RAD        0\n",
       "TAX        0\n",
       "PTRATIO    0\n",
       "B          0\n",
       "LSTAT      0\n",
       "dtype: int64"
      ]
     },
     "execution_count": 18,
     "metadata": {},
     "output_type": "execute_result"
    }
   ],
   "source": [
    "pd_X.isnull().sum()  # any missing values"
   ]
  },
  {
   "cell_type": "code",
   "execution_count": 19,
   "metadata": {
    "colab": {
     "base_uri": "https://localhost:8080/"
    },
    "id": "KVDjRIGyz_0m",
    "outputId": "8180bdd0-ff90-4c31-9958-dd75823b09a8"
   },
   "outputs": [
    {
     "name": "stdout",
     "output_type": "stream",
     "text": [
      "<class 'pandas.core.frame.DataFrame'>\n",
      "RangeIndex: 506 entries, 0 to 505\n",
      "Data columns (total 13 columns):\n",
      " #   Column   Non-Null Count  Dtype  \n",
      "---  ------   --------------  -----  \n",
      " 0   CRIM     506 non-null    float64\n",
      " 1   ZN       506 non-null    float64\n",
      " 2   INDUS    506 non-null    float64\n",
      " 3   CHAS     506 non-null    float64\n",
      " 4   NOX      506 non-null    float64\n",
      " 5   RM       506 non-null    float64\n",
      " 6   AGE      506 non-null    float64\n",
      " 7   DIS      506 non-null    float64\n",
      " 8   RAD      506 non-null    float64\n",
      " 9   TAX      506 non-null    float64\n",
      " 10  PTRATIO  506 non-null    float64\n",
      " 11  B        506 non-null    float64\n",
      " 12  LSTAT    506 non-null    float64\n",
      "dtypes: float64(13)\n",
      "memory usage: 51.5 KB\n"
     ]
    }
   ],
   "source": [
    "pd_X.info()  # how many columns, what is their name and data type ?"
   ]
  },
  {
   "cell_type": "code",
   "execution_count": 20,
   "metadata": {
    "colab": {
     "base_uri": "https://localhost:8080/",
     "height": 284
    },
    "id": "YNXA9zBiys9d",
    "outputId": "e415cb77-5429-4964-be91-080b020958f6"
   },
   "outputs": [
    {
     "data": {
      "text/html": [
       "<div>\n",
       "<style scoped>\n",
       "    .dataframe tbody tr th:only-of-type {\n",
       "        vertical-align: middle;\n",
       "    }\n",
       "\n",
       "    .dataframe tbody tr th {\n",
       "        vertical-align: top;\n",
       "    }\n",
       "\n",
       "    .dataframe thead th {\n",
       "        text-align: right;\n",
       "    }\n",
       "</style>\n",
       "<table border=\"1\" class=\"dataframe\">\n",
       "  <thead>\n",
       "    <tr style=\"text-align: right;\">\n",
       "      <th></th>\n",
       "      <th>CRIM</th>\n",
       "      <th>ZN</th>\n",
       "      <th>INDUS</th>\n",
       "      <th>CHAS</th>\n",
       "      <th>NOX</th>\n",
       "      <th>RM</th>\n",
       "      <th>AGE</th>\n",
       "      <th>DIS</th>\n",
       "      <th>RAD</th>\n",
       "      <th>TAX</th>\n",
       "      <th>PTRATIO</th>\n",
       "      <th>B</th>\n",
       "      <th>LSTAT</th>\n",
       "    </tr>\n",
       "  </thead>\n",
       "  <tbody>\n",
       "    <tr>\n",
       "      <th>count</th>\n",
       "      <td>506.000000</td>\n",
       "      <td>506.000000</td>\n",
       "      <td>506.000000</td>\n",
       "      <td>506.000000</td>\n",
       "      <td>506.000000</td>\n",
       "      <td>506.000000</td>\n",
       "      <td>506.000000</td>\n",
       "      <td>506.000000</td>\n",
       "      <td>506.000000</td>\n",
       "      <td>506.000000</td>\n",
       "      <td>506.000000</td>\n",
       "      <td>506.000000</td>\n",
       "      <td>506.000000</td>\n",
       "    </tr>\n",
       "    <tr>\n",
       "      <th>mean</th>\n",
       "      <td>3.613524</td>\n",
       "      <td>11.363636</td>\n",
       "      <td>11.136779</td>\n",
       "      <td>0.069170</td>\n",
       "      <td>0.554695</td>\n",
       "      <td>6.284634</td>\n",
       "      <td>68.574901</td>\n",
       "      <td>3.795043</td>\n",
       "      <td>9.549407</td>\n",
       "      <td>408.237154</td>\n",
       "      <td>18.455534</td>\n",
       "      <td>356.674032</td>\n",
       "      <td>12.653063</td>\n",
       "    </tr>\n",
       "    <tr>\n",
       "      <th>std</th>\n",
       "      <td>8.601545</td>\n",
       "      <td>23.322453</td>\n",
       "      <td>6.860353</td>\n",
       "      <td>0.253994</td>\n",
       "      <td>0.115878</td>\n",
       "      <td>0.702617</td>\n",
       "      <td>28.148861</td>\n",
       "      <td>2.105710</td>\n",
       "      <td>8.707259</td>\n",
       "      <td>168.537116</td>\n",
       "      <td>2.164946</td>\n",
       "      <td>91.294864</td>\n",
       "      <td>7.141062</td>\n",
       "    </tr>\n",
       "    <tr>\n",
       "      <th>min</th>\n",
       "      <td>0.006320</td>\n",
       "      <td>0.000000</td>\n",
       "      <td>0.460000</td>\n",
       "      <td>0.000000</td>\n",
       "      <td>0.385000</td>\n",
       "      <td>3.561000</td>\n",
       "      <td>2.900000</td>\n",
       "      <td>1.129600</td>\n",
       "      <td>1.000000</td>\n",
       "      <td>187.000000</td>\n",
       "      <td>12.600000</td>\n",
       "      <td>0.320000</td>\n",
       "      <td>1.730000</td>\n",
       "    </tr>\n",
       "    <tr>\n",
       "      <th>25%</th>\n",
       "      <td>0.082045</td>\n",
       "      <td>0.000000</td>\n",
       "      <td>5.190000</td>\n",
       "      <td>0.000000</td>\n",
       "      <td>0.449000</td>\n",
       "      <td>5.885500</td>\n",
       "      <td>45.025000</td>\n",
       "      <td>2.100175</td>\n",
       "      <td>4.000000</td>\n",
       "      <td>279.000000</td>\n",
       "      <td>17.400000</td>\n",
       "      <td>375.377500</td>\n",
       "      <td>6.950000</td>\n",
       "    </tr>\n",
       "    <tr>\n",
       "      <th>50%</th>\n",
       "      <td>0.256510</td>\n",
       "      <td>0.000000</td>\n",
       "      <td>9.690000</td>\n",
       "      <td>0.000000</td>\n",
       "      <td>0.538000</td>\n",
       "      <td>6.208500</td>\n",
       "      <td>77.500000</td>\n",
       "      <td>3.207450</td>\n",
       "      <td>5.000000</td>\n",
       "      <td>330.000000</td>\n",
       "      <td>19.050000</td>\n",
       "      <td>391.440000</td>\n",
       "      <td>11.360000</td>\n",
       "    </tr>\n",
       "    <tr>\n",
       "      <th>75%</th>\n",
       "      <td>3.677083</td>\n",
       "      <td>12.500000</td>\n",
       "      <td>18.100000</td>\n",
       "      <td>0.000000</td>\n",
       "      <td>0.624000</td>\n",
       "      <td>6.623500</td>\n",
       "      <td>94.075000</td>\n",
       "      <td>5.188425</td>\n",
       "      <td>24.000000</td>\n",
       "      <td>666.000000</td>\n",
       "      <td>20.200000</td>\n",
       "      <td>396.225000</td>\n",
       "      <td>16.955000</td>\n",
       "    </tr>\n",
       "    <tr>\n",
       "      <th>max</th>\n",
       "      <td>88.976200</td>\n",
       "      <td>100.000000</td>\n",
       "      <td>27.740000</td>\n",
       "      <td>1.000000</td>\n",
       "      <td>0.871000</td>\n",
       "      <td>8.780000</td>\n",
       "      <td>100.000000</td>\n",
       "      <td>12.126500</td>\n",
       "      <td>24.000000</td>\n",
       "      <td>711.000000</td>\n",
       "      <td>22.000000</td>\n",
       "      <td>396.900000</td>\n",
       "      <td>37.970000</td>\n",
       "    </tr>\n",
       "  </tbody>\n",
       "</table>\n",
       "</div>"
      ],
      "text/plain": [
       "             CRIM          ZN       INDUS        CHAS         NOX          RM  \\\n",
       "count  506.000000  506.000000  506.000000  506.000000  506.000000  506.000000   \n",
       "mean     3.613524   11.363636   11.136779    0.069170    0.554695    6.284634   \n",
       "std      8.601545   23.322453    6.860353    0.253994    0.115878    0.702617   \n",
       "min      0.006320    0.000000    0.460000    0.000000    0.385000    3.561000   \n",
       "25%      0.082045    0.000000    5.190000    0.000000    0.449000    5.885500   \n",
       "50%      0.256510    0.000000    9.690000    0.000000    0.538000    6.208500   \n",
       "75%      3.677083   12.500000   18.100000    0.000000    0.624000    6.623500   \n",
       "max     88.976200  100.000000   27.740000    1.000000    0.871000    8.780000   \n",
       "\n",
       "              AGE         DIS         RAD         TAX     PTRATIO           B  \\\n",
       "count  506.000000  506.000000  506.000000  506.000000  506.000000  506.000000   \n",
       "mean    68.574901    3.795043    9.549407  408.237154   18.455534  356.674032   \n",
       "std     28.148861    2.105710    8.707259  168.537116    2.164946   91.294864   \n",
       "min      2.900000    1.129600    1.000000  187.000000   12.600000    0.320000   \n",
       "25%     45.025000    2.100175    4.000000  279.000000   17.400000  375.377500   \n",
       "50%     77.500000    3.207450    5.000000  330.000000   19.050000  391.440000   \n",
       "75%     94.075000    5.188425   24.000000  666.000000   20.200000  396.225000   \n",
       "max    100.000000   12.126500   24.000000  711.000000   22.000000  396.900000   \n",
       "\n",
       "            LSTAT  \n",
       "count  506.000000  \n",
       "mean    12.653063  \n",
       "std      7.141062  \n",
       "min      1.730000  \n",
       "25%      6.950000  \n",
       "50%     11.360000  \n",
       "75%     16.955000  \n",
       "max     37.970000  "
      ]
     },
     "execution_count": 20,
     "metadata": {},
     "output_type": "execute_result"
    }
   ],
   "source": [
    "pd_X.describe()  # descriptive statistics"
   ]
  },
  {
   "cell_type": "code",
   "execution_count": 21,
   "metadata": {
    "colab": {
     "base_uri": "https://localhost:8080/",
     "height": 284
    },
    "id": "2ziBsSKs2na_",
    "outputId": "c8b18721-8aa9-4b80-f0b8-cd194204375c"
   },
   "outputs": [
    {
     "data": {
      "text/html": [
       "<div>\n",
       "<style scoped>\n",
       "    .dataframe tbody tr th:only-of-type {\n",
       "        vertical-align: middle;\n",
       "    }\n",
       "\n",
       "    .dataframe tbody tr th {\n",
       "        vertical-align: top;\n",
       "    }\n",
       "\n",
       "    .dataframe thead th {\n",
       "        text-align: right;\n",
       "    }\n",
       "</style>\n",
       "<table border=\"1\" class=\"dataframe\">\n",
       "  <thead>\n",
       "    <tr style=\"text-align: right;\">\n",
       "      <th></th>\n",
       "      <th>Target</th>\n",
       "    </tr>\n",
       "  </thead>\n",
       "  <tbody>\n",
       "    <tr>\n",
       "      <th>count</th>\n",
       "      <td>506.000000</td>\n",
       "    </tr>\n",
       "    <tr>\n",
       "      <th>mean</th>\n",
       "      <td>22.532806</td>\n",
       "    </tr>\n",
       "    <tr>\n",
       "      <th>std</th>\n",
       "      <td>9.197104</td>\n",
       "    </tr>\n",
       "    <tr>\n",
       "      <th>min</th>\n",
       "      <td>5.000000</td>\n",
       "    </tr>\n",
       "    <tr>\n",
       "      <th>25%</th>\n",
       "      <td>17.025000</td>\n",
       "    </tr>\n",
       "    <tr>\n",
       "      <th>50%</th>\n",
       "      <td>21.200000</td>\n",
       "    </tr>\n",
       "    <tr>\n",
       "      <th>75%</th>\n",
       "      <td>25.000000</td>\n",
       "    </tr>\n",
       "    <tr>\n",
       "      <th>max</th>\n",
       "      <td>50.000000</td>\n",
       "    </tr>\n",
       "  </tbody>\n",
       "</table>\n",
       "</div>"
      ],
      "text/plain": [
       "           Target\n",
       "count  506.000000\n",
       "mean    22.532806\n",
       "std      9.197104\n",
       "min      5.000000\n",
       "25%     17.025000\n",
       "50%     21.200000\n",
       "75%     25.000000\n",
       "max     50.000000"
      ]
     },
     "execution_count": 21,
     "metadata": {},
     "output_type": "execute_result"
    }
   ],
   "source": [
    "pd_y.describe()"
   ]
  },
  {
   "cell_type": "markdown",
   "metadata": {
    "id": "q2SbLccfXFOe"
   },
   "source": [
    "### Feature and target distributions\n",
    "Descriptive statistics are useful. Still, to examine the distribution of features or the target, graphs are preferable. Histograms are a great way to depict the distribution of numeric features. And we know from the previous call to `info()` that all features in the Boston Housing data set are numeric. So let's look at a histogram for each of the features."
   ]
  },
  {
   "cell_type": "code",
   "execution_count": 22,
   "metadata": {
    "colab": {
     "base_uri": "https://localhost:8080/",
     "height": 1000
    },
    "id": "h5Mc-zE3zr-A",
    "outputId": "02c45b09-8569-4f3f-fa5b-a0862965bc59"
   },
   "outputs": [
    {
     "data": {
      "image/png": "[encoded data removed]",
      "text/plain": [
       "<Figure size 1440x1440 with 16 Axes>"
      ]
     },
     "metadata": {
      "needs_background": "light"
     },
     "output_type": "display_data"
    }
   ],
   "source": [
    "X_train.hist(figsize=(20, 20), bins=50, xlabelsize=8, ylabelsize=8); # produces one histogram per feature"
   ]
  },
  {
   "cell_type": "code",
   "execution_count": 23,
   "metadata": {},
   "outputs": [
    {
     "data": {
      "image/png": "[encoded data removed]",
      "text/plain": [
       "<Figure size 432x288 with 1 Axes>"
      ]
     },
     "metadata": {
      "needs_background": "light"
     },
     "output_type": "display_data"
    }
   ],
   "source": [
    "y_train.hist();"
   ]
  },
  {
   "cell_type": "markdown",
   "metadata": {},
   "source": [
    "What insight did we gain, any suggestions?\n",
    "\n",
    "Well, let's note a few potentially interesting observations about our data.\n",
    "- many features display highly skewed distributions. Examples include `B`, `CRIM`, and `ZN`, and to lesser extent `AGE`.\n",
    "- feature RM is the only feature that seems to be normally distributed. \n",
    "- our target variable looks quite normal. Good news. Linear regression likes normally distributed data.\n",
    "- feature `CHAS` has only two values. It seems this is not a numeric but a categorical feature.\n",
    "- the distribution of feature `RAD` suggests that this feature might better be translated into a categorical variable.\n",
    "- ...\n",
    "\n",
    "Observations like the above will inform your data preprocessing strategy. \n",
    "\n",
    "In addition to examining the distribution of one feature at a time, we can display a *heatmap* to check the pairwise correlation between features. Including the target variable in the analysis ensures that we also get an idea how strongly features are associated with the target.  "
   ]
  },
  {
   "cell_type": "code",
   "execution_count": 24,
   "metadata": {
    "colab": {
     "base_uri": "https://localhost:8080/",
     "height": 504
    },
    "id": "t6AfKSgY0kXD",
    "outputId": "ecc1a66d-a620-4f16-dabe-c97a0c192948"
   },
   "outputs": [
    {
     "data": {
      "image/png": "[encoded data removed]",
      "text/plain": [
       "<Figure size 720x576 with 2 Axes>"
      ]
     },
     "metadata": {
      "needs_background": "light"
     },
     "output_type": "display_data"
    }
   ],
   "source": [
    "import seaborn as sns\n",
    "\n",
    "fig, ax = plt.subplots(figsize=(10, 8))\n",
    "# put y_train back into the pd df\n",
    "full_data = X_train.copy()\n",
    "full_data[\"Target\"] = y_train.copy()\n",
    "corr = full_data.corr()\n",
    "\n",
    "sns.heatmap(corr,\n",
    "            xticklabels=corr.columns.values,\n",
    "            yticklabels=corr.columns.values,\n",
    "            annot=True,\n",
    "            cmap=\"PiYG\");"
   ]
  },
  {
   "cell_type": "markdown",
   "metadata": {
    "id": "muD3WozcmOoX"
   },
   "source": [
    "There are a few variables which have quite a high correlation with other variables. For example, `DIS` is highly correlated with `INDUS`, `NOX` and `AGE`. In the regression, we can check if all of these variables end up being significant and if not, we can refine our regression to remove variables that contribute little information to the prediction. Examining the last row of the matrix, we see that several variables display relatively strong correlation with our target variable, for example `RM` and `LSTAT`. Based on this result, we can expect our regression to explain a large part of the variance of the target. We might also expect that the can predict the target well from the features. Pad yourself on the shoulder if you understand the subtle but crucial difference between the two previous statements.  "
   ]
  },
  {
   "cell_type": "markdown",
   "metadata": {
    "id": "415rkuQCeC4r"
   },
   "source": [
    "### Calculate OLS coefficients on the train set\n",
    "\n",
    "Now that we have taken a good look at the data and ensured that it is appropriate for regression modeling, we can estimate our regression function. The library `statsmodels` provides a lot of OLS tools and great visualizations for this task. By printing the `.summary()` method of the fit results, we can easily see all the details of the regression."
   ]
  },
  {
   "cell_type": "code",
   "execution_count": 25,
   "metadata": {
    "colab": {
     "base_uri": "https://localhost:8080/"
    },
    "id": "B6PLOhggIXrO",
    "outputId": "855a99ba-513e-4d3c-dccd-169e9d21a46b"
   },
   "outputs": [
    {
     "name": "stdout",
     "output_type": "stream",
     "text": [
      "                                 OLS Regression Results                                \n",
      "=======================================================================================\n",
      "Dep. Variable:                 Target   R-squared (uncentered):                   0.963\n",
      "Model:                            OLS   Adj. R-squared (uncentered):              0.961\n",
      "Method:                 Least Squares   F-statistic:                              617.6\n",
      "Date:                Tue, 06 Sep 2022   Prob (F-statistic):                   8.75e-213\n",
      "Time:                        10:40:54   Log-Likelihood:                         -962.44\n",
      "No. Observations:                 323   AIC:                                      1951.\n",
      "Df Residuals:                     310   BIC:                                      2000.\n",
      "Df Model:                          13                                                  \n",
      "Covariance Type:            nonrobust                                                  \n",
      "==============================================================================\n",
      "                 coef    std err          t      P>|t|      [0.025      0.975]\n",
      "------------------------------------------------------------------------------\n",
      "CRIM          -0.0963      0.042     -2.307      0.022      -0.178      -0.014\n",
      "ZN             0.0363      0.018      2.009      0.045       0.001       0.072\n",
      "INDUS          0.0346      0.075      0.460      0.646      -0.113       0.182\n",
      "CHAS           2.8453      1.086      2.620      0.009       0.709       4.982\n",
      "NOX           -7.5420      4.063     -1.856      0.064     -15.536       0.452\n",
      "RM             6.4669      0.373     17.359      0.000       5.734       7.200\n",
      "AGE           -0.0061      0.017     -0.354      0.723      -0.040       0.028\n",
      "DIS           -1.1007      0.248     -4.445      0.000      -1.588      -0.613\n",
      "RAD            0.1289      0.083      1.560      0.120      -0.034       0.292\n",
      "TAX           -0.0069      0.005     -1.472      0.142      -0.016       0.002\n",
      "PTRATIO       -0.5159      0.130     -3.957      0.000      -0.772      -0.259\n",
      "B              0.0168      0.003      5.318      0.000       0.011       0.023\n",
      "LSTAT         -0.3942      0.064     -6.180      0.000      -0.520      -0.269\n",
      "==============================================================================\n",
      "Omnibus:                       81.556   Durbin-Watson:                   2.051\n",
      "Prob(Omnibus):                  0.000   Jarque-Bera (JB):              392.015\n",
      "Skew:                           0.957   Prob(JB):                     7.50e-86\n",
      "Kurtosis:                       8.046   Cond. No.                     8.30e+03\n",
      "==============================================================================\n",
      "\n",
      "Notes:\n",
      "[1] R² is computed without centering (uncentered) since the model does not contain a constant.\n",
      "[2] Standard Errors assume that the covariance matrix of the errors is correctly specified.\n",
      "[3] The condition number is large, 8.3e+03. This might indicate that there are\n",
      "strong multicollinearity or other numerical problems.\n"
     ]
    }
   ],
   "source": [
    "import statsmodels.api as sm\n",
    "\n",
    "model = sm.OLS(y_train, X_train)\n",
    "results = model.fit()\n",
    "\n",
    "print(results.summary())"
   ]
  },
  {
   "cell_type": "code",
   "execution_count": 26,
   "metadata": {
    "colab": {
     "base_uri": "https://localhost:8080/"
    },
    "id": "EwoUD9M0j_6H",
    "outputId": "7a834b70-cf66-4d80-8dab-4b13525dcde7"
   },
   "outputs": [
    {
     "data": {
      "text/plain": [
       "23.63112787223201"
      ]
     },
     "execution_count": 26,
     "metadata": {},
     "output_type": "execute_result"
    }
   ],
   "source": [
    "results.mse_resid  "
   ]
  },
  {
   "cell_type": "markdown",
   "metadata": {
    "id": "5zR5nyiIyO6c"
   },
   "source": [
    "You could spend a lot of time on discussing the results. First, note the warning messages at the end of the output. They should not come as a surprise. The correlation matrix revealed high feature-to-feature correlation or, put differently, **multicollinearity**.  We can also see that quite a few variables are insignificant such as `INDUS`, `AGE`, `NOX`, `TAX`, `RAD` and `CRIM`. This fits into the picture. Multicollinearity should render variables insignificant. Another 'to be expected' result is that we have a very high (adjusted) R-square. Finally, the mean square error is a common measure to compare algorithm's success and here it is just under 25. The value itself is maybe not so telling. But we can compare it to that of an alternative model. \n",
    "\n",
    "Let's try improve our regression. It is good practice to remove the insignificant  variables as they may yield misleading coefficients for other variables.  Note that variable `ZN` also becomes insignificant in the reduced model, so it has been removed as well in the below code."
   ]
  },
  {
   "cell_type": "code",
   "execution_count": 27,
   "metadata": {
    "colab": {
     "base_uri": "https://localhost:8080/"
    },
    "id": "pXfkN_1G4sZQ",
    "outputId": "67a50ec0-49d2-4613-d2c8-990dafd366de"
   },
   "outputs": [
    {
     "name": "stdout",
     "output_type": "stream",
     "text": [
      "                                 OLS Regression Results                                \n",
      "=======================================================================================\n",
      "Dep. Variable:                 Target   R-squared (uncentered):                   0.961\n",
      "Model:                            OLS   Adj. R-squared (uncentered):              0.960\n",
      "Method:                 Least Squares   F-statistic:                              1294.\n",
      "Date:                Tue, 06 Sep 2022   Prob (F-statistic):                   1.40e-219\n",
      "Time:                        10:40:54   Log-Likelihood:                         -971.08\n",
      "No. Observations:                 323   AIC:                                      1954.\n",
      "Df Residuals:                     317   BIC:                                      1977.\n",
      "Df Model:                           6                                                  \n",
      "Covariance Type:            nonrobust                                                  \n",
      "==============================================================================\n",
      "                 coef    std err          t      P>|t|      [0.025      0.975]\n",
      "------------------------------------------------------------------------------\n",
      "CHAS           2.6795      1.075      2.494      0.013       0.565       4.794\n",
      "RM             5.9816      0.273     21.931      0.000       5.445       6.518\n",
      "DIS           -0.5608      0.148     -3.795      0.000      -0.852      -0.270\n",
      "PTRATIO       -0.7088      0.106     -6.657      0.000      -0.918      -0.499\n",
      "B              0.0173      0.003      5.864      0.000       0.012       0.023\n",
      "LSTAT         -0.5015      0.049    -10.311      0.000      -0.597      -0.406\n",
      "==============================================================================\n",
      "Omnibus:                       67.755   Durbin-Watson:                   2.062\n",
      "Prob(Omnibus):                  0.000   Jarque-Bera (JB):              283.651\n",
      "Skew:                           0.815   Prob(JB):                     2.55e-62\n",
      "Kurtosis:                       7.292   Cond. No.                     1.44e+03\n",
      "==============================================================================\n",
      "\n",
      "Notes:\n",
      "[1] R² is computed without centering (uncentered) since the model does not contain a constant.\n",
      "[2] Standard Errors assume that the covariance matrix of the errors is correctly specified.\n",
      "[3] The condition number is large, 1.44e+03. This might indicate that there are\n",
      "strong multicollinearity or other numerical problems.\n"
     ]
    }
   ],
   "source": [
    "features_tuned = ['CHAS', 'RM', 'DIS', 'PTRATIO', 'B', 'LSTAT']  # reduced set of features\n",
    "\n",
    "model_tuned = sm.OLS(y_train, X_train[features_tuned])  # re-estimate regression\n",
    "results_tuned = model_tuned.fit()\n",
    "\n",
    "print(results_tuned.summary())"
   ]
  },
  {
   "cell_type": "code",
   "execution_count": 28,
   "metadata": {
    "colab": {
     "base_uri": "https://localhost:8080/"
    },
    "id": "VhUhtM2kA2pH",
    "outputId": "29f64a68-53e2-4b6c-fc90-9cf05446fcaa"
   },
   "outputs": [
    {
     "data": {
      "text/plain": [
       "24.379158703543677"
      ]
     },
     "execution_count": 28,
     "metadata": {},
     "output_type": "execute_result"
    }
   ],
   "source": [
    "results_tuned.mse_resid"
   ]
  },
  {
   "cell_type": "markdown",
   "metadata": {
    "id": "aOLKUYo0muB2"
   },
   "source": [
    "Now we see that all variables are significant (i.e., p-values of 0.05 or below). Removing features has not changed R-square much. The average error is also not too much different in the new regression after removing some features. However, the F-stat is much higher in this regression. The F-stat in a regression is the chance that all regression coefficients are equal to zero if it is closer to 0. In other words, the model has no predictive capability. This all indicates that removing these variables may remove noise from our regression and yield better predictions. AIC and BIC figures also support this interpretation."
   ]
  },
  {
   "cell_type": "markdown",
   "metadata": {},
   "source": [
    "### Testing the model candidates based on the dev set\n",
    "\n",
    "Let's use the dev data set to see whether the parsimonious model holds up well. If not, we should stick with the full-fledged one."
   ]
  },
  {
   "cell_type": "code",
   "execution_count": 29,
   "metadata": {},
   "outputs": [
    {
     "name": "stdout",
     "output_type": "stream",
     "text": [
      "37     21.709109\n",
      "107    21.297250\n",
      "130    23.074565\n",
      "432    19.226272\n",
      "404     7.678712\n",
      "         ...    \n",
      "441    19.519981\n",
      "499    17.693753\n",
      "206    23.771754\n",
      "345    17.175343\n",
      "160    30.511631\n",
      "Length: 81, dtype: float64\n",
      "37     21.649000\n",
      "107    20.289458\n",
      "130    22.933420\n",
      "432    18.542433\n",
      "404     9.836179\n",
      "         ...    \n",
      "441    19.733386\n",
      "499    17.634355\n",
      "206    23.547111\n",
      "345    19.548248\n",
      "160    31.744822\n",
      "Length: 81, dtype: float64\n"
     ]
    }
   ],
   "source": [
    "# These are the predictions on the dev set\n",
    "results_dev = results.predict(X_dev)\n",
    "print(results_dev)\n",
    "\n",
    "results_dev_tuned = results_tuned.predict(X_dev[features_tuned])\n",
    "print(results_dev_tuned)"
   ]
  },
  {
   "cell_type": "code",
   "execution_count": 30,
   "metadata": {},
   "outputs": [
    {
     "name": "stdout",
     "output_type": "stream",
     "text": [
      "all features on dev set: Target    25.797088\n",
      "dtype: float64\n",
      "reduced features on dev set: Target    26.477054\n",
      "dtype: float64\n"
     ]
    }
   ],
   "source": [
    "residuals_sq_dev = (np.vstack(results_dev) - y_dev) ** 2\n",
    "MSE_dev = np.sum(residuals_sq_dev) / X_dev.shape[0]\n",
    "residuals_sq_dev_t = (np.vstack(results_dev_tuned) - y_dev) ** 2\n",
    "MSE_dev_t = np.sum(residuals_sq_dev_t) / X_dev.shape[0]\n",
    "\n",
    "print('all features on dev set: '+str(MSE_dev))\n",
    "print('reduced features on dev set: '+str(MSE_dev_t))"
   ]
  },
  {
   "cell_type": "markdown",
   "metadata": {},
   "source": [
    "The mean squared errors are quite close, confirming what we saw for the training set. We continue with the parsimonious model. "
   ]
  },
  {
   "cell_type": "markdown",
   "metadata": {
    "id": "jaCMMyJWgDxa"
   },
   "source": [
    "### How about generalization? The evaluation on the (held out) test set\n"
   ]
  },
  {
   "cell_type": "markdown",
   "metadata": {
    "id": "RdAK7XiqntdF"
   },
   "source": [
    "Now that we have split the data into two equally sized chunks, training and test data, we can fit a model with one set of the data. We will then use our model to predict on the training data and check the mean square error."
   ]
  },
  {
   "cell_type": "markdown",
   "metadata": {
    "id": "CkRXcb-0oLrS"
   },
   "source": [
    "We see that the mean square error of this data is much smaller than the previous mean square error. This could be the result of less samples for the coefficients to be drawn from which is causing some bias in the model. We can check if the MSE from the test data is closer to the original regression value of about 25."
   ]
  },
  {
   "cell_type": "code",
   "execution_count": 31,
   "metadata": {
    "colab": {
     "base_uri": "https://localhost:8080/"
    },
    "id": "BbD9VdkDOLd8",
    "outputId": "e0d40041-d550-4125-a220-bf076022e804"
   },
   "outputs": [
    {
     "name": "stdout",
     "output_type": "stream",
     "text": [
      "173    27.440051\n",
      "274    33.441429\n",
      "491    18.183558\n",
      "72     23.702530\n",
      "452    20.024790\n",
      "         ...    \n",
      "412    -4.245190\n",
      "436    14.629915\n",
      "411    14.609760\n",
      "86     20.788661\n",
      "75     23.970760\n",
      "Length: 102, dtype: float64\n"
     ]
    }
   ],
   "source": [
    "results_test = results_tuned.predict(X_test[features_tuned])\n",
    "\n",
    "print(results_test)"
   ]
  },
  {
   "cell_type": "code",
   "execution_count": 32,
   "metadata": {
    "colab": {
     "base_uri": "https://localhost:8080/"
    },
    "id": "vhwRnq7DpN86",
    "outputId": "4baa0186-7f8c-470a-bbcd-7fdc8cd6f333"
   },
   "outputs": [
    {
     "name": "stdout",
     "output_type": "stream",
     "text": [
      "test data MSE: Target    30.31908\n",
      "dtype: float64\n",
      "train data MSE from above: 24.379158703543677\n"
     ]
    }
   ],
   "source": [
    "residuals_sq_test = (np.vstack(results_test) - y_test) ** 2\n",
    "\n",
    "MSE_test = np.sum(residuals_sq_test) / X_test.shape[0]\n",
    "\n",
    "print( 'test data MSE: ' + str(MSE_test))\n",
    "print( 'train data MSE from above: ' + str(results_tuned.mse_resid)) "
   ]
  },
  {
   "cell_type": "markdown",
   "metadata": {
    "id": "b6dHySvjoXvo"
   },
   "source": [
    "We see that the mean square error in the test data is higher compared to that calculated on the training data (which was 24.4, s.a.). Note the pattern: training error < test error. That is typical in predictive modeling. "
   ]
  },
  {
   "cell_type": "markdown",
   "metadata": {},
   "source": [
    "## Alternatives to Linear Regression\n",
    "\n",
    "Don't confuse the regression problems with linear regression! There's a plethora of approaches dealing with regression tasks. Let's take a quick look at the sklearn's documentation. Here is a quick example of decision trees applied to a regression problem (fitting a sine wave)."
   ]
  },
  {
   "cell_type": "code",
   "execution_count": 33,
   "metadata": {},
   "outputs": [
    {
     "data": {
      "image/png": "[encoded data removed]",
      "text/plain": [
       "<Figure size 432x288 with 1 Axes>"
      ]
     },
     "metadata": {
      "needs_background": "light"
     },
     "output_type": "display_data"
    }
   ],
   "source": [
    "import numpy as np\n",
    "from sklearn.tree import DecisionTreeRegressor\n",
    "import matplotlib.pyplot as plt\n",
    "\n",
    "# Create a random dataset\n",
    "rng = np.random.RandomState(1)\n",
    "X = np.sort(5 * rng.rand(80, 1), axis=0)\n",
    "y = np.sin(X).ravel()\n",
    "y[::5] += 3 * (0.5 - rng.rand(16))\n",
    "\n",
    "# Fit regression model\n",
    "regr_1 = DecisionTreeRegressor(max_depth=2)\n",
    "regr_2 = DecisionTreeRegressor(max_depth=5)\n",
    "regr_1.fit(X, y)\n",
    "regr_2.fit(X, y)\n",
    "\n",
    "# Predict\n",
    "X_test = np.arange(0.0, 5.0, 0.01)[:, np.newaxis]\n",
    "y_1 = regr_1.predict(X_test)\n",
    "y_2 = regr_2.predict(X_test)\n",
    "\n",
    "# Plot the results\n",
    "plt.figure()\n",
    "plt.scatter(X, y, s=20, edgecolor=\"black\", c=\"darkorange\", label=\"data\")\n",
    "plt.plot(X_test, y_1, color=\"cornflowerblue\", label=\"max_depth=2\", linewidth=2)\n",
    "plt.plot(X_test, y_2, color=\"yellowgreen\", label=\"max_depth=5\", linewidth=2)\n",
    "plt.xlabel(\"data\")\n",
    "plt.ylabel(\"target\")\n",
    "plt.title(\"Decision Tree Regression\")\n",
    "plt.legend()\n",
    "plt.show()"
   ]
  },
  {
   "cell_type": "markdown",
   "metadata": {
    "id": "5D3XrTRoy-9w"
   },
   "source": [
    "# Classification\n",
    "\n",
    "The lecture will introduce two flavors of predictive modeling, regression and classification. So far, we have focused on regression. Recall that classification differs from regression in the scaling of the target variable. Regression assumes a numeric target variable, like sales, whereas classification assumes a discrete target. \n",
    "\n",
    "A surprisingly large number of real-life (business) problems can be framed as a two-class classification problem. \n",
    "\n",
    "For simplicity, we consider this *two-class* or *binary* setting in the following. To facilitate plotting our data, we will further focus on a two-dimensional setting, meaning that each data points is characterized by two features or, if you prefer, (independent) variables. Assume you want to predict whether a machine is going to break in the next week. Break or do not break are the two possible states (i.e., classes). The features could then be the temperature of the machine and the time since when it has been running."
   ]
  },
  {
   "cell_type": "markdown",
   "metadata": {
    "id": "M1kkD-L_y--Q"
   },
   "source": [
    "## Synthetic data generation for classification problems in sklearn\n",
    "\n",
    "`sklearn` offers quite a few options for generating synthetic data. You can check out all of the options [here](https://scikit-learn.org/stable/modules/classes.html#samples-generator). \n",
    "\n",
    "For this course, the most interesting functions will be\n",
    "*   `make_blobs`\n",
    "*   `make_regression`\n",
    "*   `make_classication`\n"
   ]
  },
  {
   "cell_type": "code",
   "execution_count": 34,
   "metadata": {
    "id": "cUU65_41y--R"
   },
   "outputs": [],
   "source": [
    "from sklearn.datasets import make_blobs, make_regression, make_classification"
   ]
  },
  {
   "cell_type": "markdown",
   "metadata": {
    "id": "3EIoA3tVhygS"
   },
   "source": [
    "### make_classification\n",
    "\n",
    "The function `make_classification` initially creates clusters of normally distributed points and assigns an equal number of clusters to each class. Afterwards, interdependence in features and various types of noise are added. You can add informative, redundant and repeated features with `n_informative` , `n_redundant` and `n_repeated` respectively. Like the previous function, the number of classes can be adjusted using `n_class` and their distance from one another can be adjusted using `class_sep`. Reproducibility is again controlled by `random_state`. Check the [documentation](https://scikit-learn.org/stable/modules/generated/sklearn.datasets.make_classification.html#sklearn.datasets.make_classification) for more settings."
   ]
  },
  {
   "cell_type": "code",
   "execution_count": 35,
   "metadata": {
    "colab": {
     "base_uri": "https://localhost:8080/",
     "height": 295
    },
    "id": "yoFj1WAUgbjD",
    "outputId": "ad4b2126-227a-45f3-f64c-bad62a598095"
   },
   "outputs": [
    {
     "data": {
      "image/png": "[encoded data removed]",
      "text/plain": [
       "<Figure size 432x288 with 1 Axes>"
      ]
     },
     "metadata": {
      "needs_background": "light"
     },
     "output_type": "display_data"
    }
   ],
   "source": [
    "plt.title(\"Classification Example\", fontsize='small')\n",
    "X_class, y_class = make_classification(n_samples=1000, n_features=2, n_redundant=0, random_state=888)\n",
    "plt.scatter(X_class[:, 0], X_class[:, 1], marker='o', \n",
    "            c=y_class, s=25, edgecolor='k'); # feature 1 on x, feature 2 on y and color by target"
   ]
  },
  {
   "cell_type": "markdown",
   "metadata": {},
   "source": [
    "Provided you did not change our demo code, you will see a situation in which a linear classifier could no longer separate the data well. More precisely, the true relationship between the feature values and the class labels is nonlinear and, therefore, a linear classifier cannot produce a *good* separation of the data. \n",
    "\n",
    "Looking at the data, however, a quadratic classifier should be able to solve the classification problem. It is a bit too early to test this hypothesis, but feel very free to give it a try if you feel up for the task ;) "
   ]
  },
  {
   "cell_type": "markdown",
   "metadata": {},
   "source": [
    "## A benchmark model for classification tasks: Logistic regression\n",
    "We learned from the lecture that the logistic regression model, or, in brief, logit model is the 'go-to' model for regression problems with a discrete target variable. Such problems are called classification problems. Formally speaking, logistic regression belongs to the wider family of **generalized linear models (GLM)**. It is a generalization of a linear regression model in that it embodies the well-known linear form $\\beta^{\\top} x$ and adds a (non-linear) **link function** that connects the linear form to the target variable. In the case of logistic regression, the link function is the logistic function. Other GLMs use different link functions, but these are out of scope. So let us first examine the logistic function."
   ]
  },
  {
   "cell_type": "markdown",
   "metadata": {},
   "source": [
    "## The logistic function\n",
    "We implement the logistic function as a custom Python function and then generate some data to plot the function over the interval [-4, -3, ..., 4]. \n",
    "Recall that the form of the function for input variable $z$ is $f(z) = \\frac{1}{1 + \\exp^{-z}}$. "
   ]
  },
  {
   "cell_type": "code",
   "execution_count": 36,
   "metadata": {},
   "outputs": [
    {
     "data": {
      "image/png": "[encoded data removed]",
      "text/plain": [
       "<Figure size 432x288 with 1 Axes>"
      ]
     },
     "metadata": {
      "needs_background": "light"
     },
     "output_type": "display_data"
    }
   ],
   "source": [
    "# we implement the logistic function as a custom function\n",
    "def logistic_fun(z):\n",
    "    return 1/(1+np.exp(-z))\n",
    "\n",
    "\n",
    "# create some data for plotting\n",
    "z = np.linspace(-4, 4)\n",
    "\n",
    "fz = logistic_fun(z)\n",
    "plt.title(\"The logistic function exemplified\", fontsize='small')\n",
    "plt.plot(z, fz);\n",
    "plt.plot(z, np.repeat(0.5, len(z)), \"--\");  #  just for fun, add a horizontal line to highlight 0.5\n",
    "plt.ylabel(\"$f(z)$\")\n",
    "plt.xlabel(\"z\")\n",
    "plt.show()"
   ]
  },
  {
   "cell_type": "markdown",
   "metadata": {},
   "source": [
    "## Maximum likelihood estimation & gradient descent\n",
    "Estimating a logistic regression model involves minimizing the negative **log-likelihood** function. We discussed the maximum likelihood approach in the lecture. However, experience suggests that some students find this part a little hard  to digest, probably because of its level of formality. We will try to demystify the model by implementing it from scratch. For starters, however, recall that logistic regression models the probability of observing a certain state of our target variable $y$ by means of the logistic function. Assuming a zero-one coded binary target variable $y \\in {0, 1}$, we can write the logit model as follows:\n",
    "\n",
    "$$ p \\left( y=1|x \\right) = \\frac{1}{1+e^{-z}}, \\text{  and  }  p \\left( y=0|x \\right) = 1- p \\left( y=1|x \\right) $$\n",
    "\n",
    "We define $z$ as a linear, additive function of the features $x$: \n",
    "$$ z = \\hat{\\beta}^{\\top}x $$. \n",
    "\n",
    "Note that in the above equation, we assume for notational convenience that the feature vector $x$ includes a constant. This way, we do not need to explicitly consider the intercept. Assuming our data fulfills the IID assumption, we can write the log-likelihood function: \n",
    "\n",
    "$$ \\mathcal{L} = \\sum^{n}_{i=1} \\left[ y_i \\log \\left(p \\left( y=1|x \\right) \\right) + \\left(1-y_i\\right) \\log \\left(1-p \\left( y=1|x \\right) \\right)\\right]. $$\n",
    "\n",
    "Now we need to find the values of $ \\hat{\\beta} $ that minimize this function. To that end, we calculate the derivative of the log likelihood function with respect to $ \\hat{\\beta} $. We calculate this derivative using the chain rule:\n",
    "\n",
    "$$ \\frac{\\partial \\mathcal{L}}{\\partial \\hat{\\beta_j}} = \\frac{\\partial \\mathcal{L}}{\\partial p} \\cdot \\frac{\\partial p}{\\partial z} \\cdot \\frac{\\partial z}{\\partial \\hat{\\beta}} $$\n",
    "\n",
    "Let's first calculate the three derivatives which we will need on the right hand side:\n",
    "\n",
    "\\begin{align*} \n",
    "\\frac{\\partial \\mathcal{L}}{\\partial p} &= \\frac{y}{p} - \\frac{1-y}{1-p} \\\\\n",
    "\\frac{\\partial p}{\\partial z} &= \\frac{1}{1+e^{-z}} \\cdot  \\Bigg( 1 - \\frac{1}{1+e^{-z}} \\Bigg) = \\Big( p \\cdot  \\big( 1 - p \\big) \\Big) \\\\\n",
    "\\frac{\\partial z}{\\partial \\hat{\\beta}} &= x\n",
    "\\end{align*}\n",
    "\n",
    "\n",
    "Now we can multiply these three together to find the derivative of the log likelihood function with respect to $ \\hat{\\beta} $ :\n",
    " \n",
    "\\begin{align*}\n",
    " \\frac{\\partial \\mathcal{L}}{\\partial \\hat{\\beta}} &= \\frac{\\partial \\mathcal{L}}{\\partial p} \\cdot \\frac{\\partial p}{\\partial z} \\cdot \\frac{\\partial z}{\\partial \\hat{\\beta}} \\\\\n",
    " &= \\Big( \\frac{y}{p} - \\frac{1-y}{1-p} \\Big) \\cdot \\Big( p \\cdot  \\big( 1 - p \\big) \\Big) \\cdot x \\\\\n",
    " &= (y(1-p) - p(1-y)) \\cdot x \\\\ \n",
    " &= (y - p) \\cdot x\n",
    "\\end{align*}\n",
    "\n",
    "And voilà! At the end, we have a much simpler formula to deal with:\n",
    "$$ \\frac{\\partial \\mathcal{L}}{\\partial \\hat{\\beta}} = (y - p \\left( y=1|x \\right) ) \\cdot x $$\n",
    "\n",
    "The next step is to equate our derivate of zero and solve for the unknown parameter vector $\\hat{\\beta}$. However, different from linear regression, it turns out that there is no analytical solution. Therefore, we need to use another approach to find the optimal values of $\\hat{\\beta}$, that is the values that maximize the likelihood function.\n",
    "\n",
    "**Gradient descent** is the process of iteratively making changes to $ \\hat{\\beta} $ to assess which values lower the derivative value and, therefore, hopefully brings us closer to a minimum. Note that this may unfortunately not be the global minimum of the function but rather a local minimum. This is especially true if we have many coefficients or if any relationships are very complicated.\n",
    "\n",
    "Additionally, if we change $ \\hat{\\beta} $ by too much in one iteration, we may end up overshooting a minimum which is counterproductive. In order to avoid this, we multiply the total difference by the learning rate $ \\eta $ to dampen the update to $ \\hat{\\beta} $. If the learning rate is too low however, we may end up sabotaging ourselves as the function loses too much momentum in its updates. It is a good idea to experiment with a few different rates to see which one works best with your data.\n",
    "\n",
    "Here is an equation which represents gradient descent:\n",
    "$$ \\hat{\\beta}_j = \\hat{\\beta}_{j-1} - \\eta \\frac{\\partial \\mathcal{L}}{\\partial \\hat{\\beta}_{j-1}} $$\n",
    "\n",
    "whereby we use the index $j$ to refer to individual iterations. For example, the above equation states how a new value of \n",
    "$\\hat{\\beta}_j$ depends on the value calculated in the previous iteration $\\hat{\\beta}_{j-1}$. Also note how our update rule embodies the value of our regression coefficients from the previous iteration with the gradient of our loss function $\\mathcal{L}$ with respect to $\\hat{\\beta}_{j-1}$. Essentially, the above equation says that, to update our regression parameters $\\hat{\\beta}$, take their values from the previous iteration and change these in the direction of the negative of the gradient, which is the direction in that our loss function decreases the most. The degree to which the new values of $\\hat{\\beta}$ depend on the previous values and the gradient, in other words the magnitude of the update, depend on the parameter $\\eta$, which is called the learning rate. \n",
    "\n",
    "For a more detailed explanation, check out the [Wikipedia page for *gradient descent*](https://en.wikipedia.org/wiki/Gradient_descent). It will be crucial for you to understand this process, so take advantage of online resources to improve your understanding. There are also many ways to modify this process like stochastic gradient descent or adaptive learning rates which you might come across in future studies."
   ]
  },
  {
   "cell_type": "markdown",
   "metadata": {},
   "source": [
    "Let's use sklearn to fit a logistic regression based on the simulated data:"
   ]
  },
  {
   "cell_type": "code",
   "execution_count": 37,
   "metadata": {},
   "outputs": [
    {
     "data": {
      "text/plain": [
       "Text(0, 0.5, '$x_2$')"
      ]
     },
     "execution_count": 37,
     "metadata": {},
     "output_type": "execute_result"
    },
    {
     "data": {
      "image/png": "[encoded data removed]",
      "text/plain": [
       "<Figure size 432x288 with 1 Axes>"
      ]
     },
     "metadata": {
      "needs_background": "light"
     },
     "output_type": "display_data"
    }
   ],
   "source": [
    "# logistic regression with sklearn\n",
    "from sklearn.linear_model import LogisticRegression\n",
    "\n",
    "model = LogisticRegression(penalty='none', fit_intercept=True)\n",
    "model.fit(X_class, y_class)\n",
    "\n",
    "# Write code to create a two-dimensional plot of the data and how the logistic regression separates the two classes\n",
    "w = model.coef_[0]\n",
    "xx = np.linspace(-3,7)\n",
    "\n",
    "a = -w[0] / w[1]\n",
    "b = -model.intercept_[0] / w[1]\n",
    "\n",
    "yy = a * xx + b\n",
    "\n",
    "fig = plt.figure()\n",
    "plt.scatter(X_class[:,0], X_class[:,1], c=y_class, alpha=.3, marker='x')\n",
    "plt.plot(xx,yy, label=\"logit model\")\n",
    "plt.xlabel(\"$x_1$\")\n",
    "plt.ylabel(\"$x_2$\")\n",
    "# simpplt.legend(loc='best');"
   ]
  },
  {
   "cell_type": "code",
   "execution_count": 38,
   "metadata": {},
   "outputs": [
    {
     "data": {
      "text/plain": [
       "0.887"
      ]
     },
     "execution_count": 38,
     "metadata": {},
     "output_type": "execute_result"
    }
   ],
   "source": [
    "# first look at a crude model evaluation metric\n",
    "classify_correct = model.predict(X_class) == y_class\n",
    "accuracy = classify_correct.mean()\n",
    "\n",
    "accuracy"
   ]
  },
  {
   "cell_type": "markdown",
   "metadata": {},
   "source": [
    "Let's do the same for another model that can be used in classification tasks: the decision tree."
   ]
  },
  {
   "cell_type": "markdown",
   "metadata": {},
   "source": [
    "## Decision Trees for Classification with sklearn\n",
    "\n",
    "The sklean library supports tree-based algorithms, which of course are a lot easier to use compared to coding a tree algorithm from scratch. "
   ]
  },
  {
   "cell_type": "code",
   "execution_count": 39,
   "metadata": {},
   "outputs": [],
   "source": [
    "from sklearn import tree\n",
    "\n",
    "clf = tree.DecisionTreeClassifier(criterion=\"entropy\", min_samples_split=2, max_depth=2) # example of a shallow tree\n",
    "dt_shallow = clf.fit(X_class, y_class)"
   ]
  },
  {
   "cell_type": "code",
   "execution_count": 40,
   "metadata": {},
   "outputs": [
    {
     "data": {
      "text/plain": [
       "0.897"
      ]
     },
     "execution_count": 40,
     "metadata": {},
     "output_type": "execute_result"
    }
   ],
   "source": [
    "classify_correct_shallow = dt_shallow.predict(X_class) == y_class\n",
    "accuracy_shallow = classify_correct_shallow.mean()\n",
    "\n",
    "\n",
    "accuracy_shallow"
   ]
  },
  {
   "cell_type": "markdown",
   "metadata": {},
   "source": [
    "## A small Classification Example on Real World Data\n",
    "\n",
    "Let's put the credit data set to use again..."
   ]
  },
  {
   "cell_type": "code",
   "execution_count": 52,
   "metadata": {},
   "outputs": [
    {
     "data": {
      "text/html": [
       "<div>\n",
       "<style scoped>\n",
       "    .dataframe tbody tr th:only-of-type {\n",
       "        vertical-align: middle;\n",
       "    }\n",
       "\n",
       "    .dataframe tbody tr th {\n",
       "        vertical-align: top;\n",
       "    }\n",
       "\n",
       "    .dataframe thead th {\n",
       "        text-align: right;\n",
       "    }\n",
       "</style>\n",
       "<table border=\"1\" class=\"dataframe\">\n",
       "  <thead>\n",
       "    <tr style=\"text-align: right;\">\n",
       "      <th></th>\n",
       "      <th>LOAN</th>\n",
       "      <th>MORTDUE</th>\n",
       "      <th>VALUE</th>\n",
       "      <th>YOJ</th>\n",
       "      <th>CLAGE</th>\n",
       "      <th>NINQ</th>\n",
       "      <th>CLNO</th>\n",
       "      <th>DEBTINC</th>\n",
       "      <th>DEROGzero</th>\n",
       "      <th>REASON_HomeImp</th>\n",
       "      <th>REASON_IsMissing</th>\n",
       "      <th>JOB_Office</th>\n",
       "      <th>JOB_Other</th>\n",
       "      <th>JOB_ProfExe</th>\n",
       "      <th>JOB_Sales</th>\n",
       "      <th>JOB_Self</th>\n",
       "      <th>DELINQcat_1</th>\n",
       "      <th>DELINQcat_1+</th>\n",
       "    </tr>\n",
       "    <tr>\n",
       "      <th>index</th>\n",
       "      <th></th>\n",
       "      <th></th>\n",
       "      <th></th>\n",
       "      <th></th>\n",
       "      <th></th>\n",
       "      <th></th>\n",
       "      <th></th>\n",
       "      <th></th>\n",
       "      <th></th>\n",
       "      <th></th>\n",
       "      <th></th>\n",
       "      <th></th>\n",
       "      <th></th>\n",
       "      <th></th>\n",
       "      <th></th>\n",
       "      <th></th>\n",
       "      <th></th>\n",
       "      <th></th>\n",
       "    </tr>\n",
       "  </thead>\n",
       "  <tbody>\n",
       "    <tr>\n",
       "      <th>252</th>\n",
       "      <td>-1.356699</td>\n",
       "      <td>0.047291</td>\n",
       "      <td>-0.638446</td>\n",
       "      <td>-0.668103</td>\n",
       "      <td>-0.252498</td>\n",
       "      <td>-0.826792</td>\n",
       "      <td>0.216955</td>\n",
       "      <td>1.579747</td>\n",
       "      <td>False</td>\n",
       "      <td>1</td>\n",
       "      <td>0</td>\n",
       "      <td>0</td>\n",
       "      <td>0</td>\n",
       "      <td>0</td>\n",
       "      <td>1</td>\n",
       "      <td>0</td>\n",
       "      <td>0</td>\n",
       "      <td>0</td>\n",
       "    </tr>\n",
       "    <tr>\n",
       "      <th>5810</th>\n",
       "      <td>2.545249</td>\n",
       "      <td>2.256898</td>\n",
       "      <td>2.246622</td>\n",
       "      <td>-0.524274</td>\n",
       "      <td>-2.285277</td>\n",
       "      <td>-0.826792</td>\n",
       "      <td>-2.054692</td>\n",
       "      <td>0.137456</td>\n",
       "      <td>True</td>\n",
       "      <td>1</td>\n",
       "      <td>0</td>\n",
       "      <td>0</td>\n",
       "      <td>0</td>\n",
       "      <td>0</td>\n",
       "      <td>0</td>\n",
       "      <td>1</td>\n",
       "      <td>0</td>\n",
       "      <td>0</td>\n",
       "    </tr>\n",
       "    <tr>\n",
       "      <th>860</th>\n",
       "      <td>-1.010820</td>\n",
       "      <td>0.215104</td>\n",
       "      <td>-0.407252</td>\n",
       "      <td>1.633167</td>\n",
       "      <td>2.209307</td>\n",
       "      <td>-0.065054</td>\n",
       "      <td>2.326342</td>\n",
       "      <td>-0.728624</td>\n",
       "      <td>True</td>\n",
       "      <td>1</td>\n",
       "      <td>0</td>\n",
       "      <td>0</td>\n",
       "      <td>1</td>\n",
       "      <td>0</td>\n",
       "      <td>0</td>\n",
       "      <td>0</td>\n",
       "      <td>0</td>\n",
       "      <td>0</td>\n",
       "    </tr>\n",
       "    <tr>\n",
       "      <th>1303</th>\n",
       "      <td>-0.827072</td>\n",
       "      <td>-0.806807</td>\n",
       "      <td>-0.584201</td>\n",
       "      <td>0.482532</td>\n",
       "      <td>-0.937975</td>\n",
       "      <td>2.981897</td>\n",
       "      <td>-0.648434</td>\n",
       "      <td>1.219924</td>\n",
       "      <td>True</td>\n",
       "      <td>0</td>\n",
       "      <td>0</td>\n",
       "      <td>0</td>\n",
       "      <td>1</td>\n",
       "      <td>0</td>\n",
       "      <td>0</td>\n",
       "      <td>0</td>\n",
       "      <td>0</td>\n",
       "      <td>0</td>\n",
       "    </tr>\n",
       "    <tr>\n",
       "      <th>3673</th>\n",
       "      <td>0.134904</td>\n",
       "      <td>-0.887710</td>\n",
       "      <td>0.067592</td>\n",
       "      <td>-0.668103</td>\n",
       "      <td>-0.489491</td>\n",
       "      <td>-0.826792</td>\n",
       "      <td>-0.756608</td>\n",
       "      <td>-0.412265</td>\n",
       "      <td>True</td>\n",
       "      <td>1</td>\n",
       "      <td>0</td>\n",
       "      <td>0</td>\n",
       "      <td>1</td>\n",
       "      <td>0</td>\n",
       "      <td>0</td>\n",
       "      <td>0</td>\n",
       "      <td>0</td>\n",
       "      <td>0</td>\n",
       "    </tr>\n",
       "  </tbody>\n",
       "</table>\n",
       "</div>"
      ],
      "text/plain": [
       "           LOAN   MORTDUE     VALUE       YOJ     CLAGE      NINQ      CLNO  \\\n",
       "index                                                                         \n",
       "252   -1.356699  0.047291 -0.638446 -0.668103 -0.252498 -0.826792  0.216955   \n",
       "5810   2.545249  2.256898  2.246622 -0.524274 -2.285277 -0.826792 -2.054692   \n",
       "860   -1.010820  0.215104 -0.407252  1.633167  2.209307 -0.065054  2.326342   \n",
       "1303  -0.827072 -0.806807 -0.584201  0.482532 -0.937975  2.981897 -0.648434   \n",
       "3673   0.134904 -0.887710  0.067592 -0.668103 -0.489491 -0.826792 -0.756608   \n",
       "\n",
       "        DEBTINC  DEROGzero  REASON_HomeImp  REASON_IsMissing  JOB_Office  \\\n",
       "index                                                                      \n",
       "252    1.579747      False               1                 0           0   \n",
       "5810   0.137456       True               1                 0           0   \n",
       "860   -0.728624       True               1                 0           0   \n",
       "1303   1.219924       True               0                 0           0   \n",
       "3673  -0.412265       True               1                 0           0   \n",
       "\n",
       "       JOB_Other  JOB_ProfExe  JOB_Sales  JOB_Self  DELINQcat_1  DELINQcat_1+  \n",
       "index                                                                          \n",
       "252            0            0          1         0            0             0  \n",
       "5810           0            0          0         1            0             0  \n",
       "860            1            0          0         0            0             0  \n",
       "1303           1            0          0         0            0             0  \n",
       "3673           1            0          0         0            0             0  "
      ]
     },
     "execution_count": 52,
     "metadata": {},
     "output_type": "execute_result"
    }
   ],
   "source": [
    "# real world example with train / dev / test split\n",
    "df = pd.read_csv('../data/hmeq_modeling.csv', index_col=\"index\")\n",
    "df.head(5) \n",
    "\n",
    "# Split data into target and features\n",
    "pd_X = df.drop(['BAD'], axis=1) \n",
    "pd_y = df['BAD'].astype(int)  # also make the target an integer value\n",
    "\n",
    "X_traindev, X_test, y_traindev, y_test = train_test_split( pd_X, pd_y, test_size=0.2, random_state=42)\n",
    "X_train, X_dev, y_train, y_dev = train_test_split( X_traindev, y_traindev, test_size=0.2, random_state=42)\n",
    "\n",
    "X_train.head()  # first 5 rows of the data set"
   ]
  },
  {
   "cell_type": "code",
   "execution_count": 51,
   "metadata": {},
   "outputs": [
    {
     "data": {
      "text/plain": [
       "LogisticRegression(penalty='none')"
      ]
     },
     "execution_count": 51,
     "metadata": {},
     "output_type": "execute_result"
    }
   ],
   "source": [
    "# fit simple tree and logistic reg on train set\n",
    "# tree\n",
    "tr = tree.DecisionTreeClassifier(criterion='gini', max_depth=5)\n",
    "tr.fit(X_train, y_train)\n",
    "# logistic regression\n",
    "logit = LogisticRegression(penalty='none', fit_intercept=True)\n",
    "logit.fit(X_train, y_train)"
   ]
  },
  {
   "cell_type": "markdown",
   "metadata": {},
   "source": [
    "It would be more typical to tune hyperparameters on the dev set. For now, let's just select from the two model candidates \"decision tree\" and \"logistic regression\". "
   ]
  },
  {
   "cell_type": "code",
   "execution_count": 73,
   "metadata": {},
   "outputs": [
    {
     "name": "stdout",
     "output_type": "stream",
     "text": [
      "dec. tree regr ROCAUC score on dev: 0.846251633986928\n",
      "logistic regr ROCAUC score on dev: 0.7991307189542484\n",
      "dec. tree regr F1 score on dev: 0.7830588235294118\n",
      "logistic regr F1 score on dev: 0.6020980392156863\n"
     ]
    }
   ],
   "source": [
    "# evaluate on dev set, use ROCAUC\n",
    "from sklearn import metrics  # Important lib where we find various performance measures\n",
    "\n",
    "# check help on the scores\n",
    "print('dec. tree regr ROCAUC score on dev: ' +  str(metrics.roc_auc_score(y_dev, tr.predict_proba(X_dev)[:,1])) )\n",
    "print('logistic regr ROCAUC score on dev: ' +  str(metrics.roc_auc_score(y_dev, logit.predict_proba(X_dev)[:,1])) )\n",
    "\n",
    "print('dec. tree regr F1 score on dev: ' +  str(metrics.roc_auc_score(y_dev, tr.predict(X_dev))) )\n",
    "print('logistic regr F1 score on dev: ' +  str(metrics.roc_auc_score(y_dev, logit.predict(X_dev))) )\n"
   ]
  },
  {
   "cell_type": "markdown",
   "metadata": {},
   "source": [
    "The Tree model performs better on the dev set. We can hope it generalizes well on the held out test set, too. Let's select the decision tree as our official \"production\" model and take a look ... "
   ]
  },
  {
   "cell_type": "code",
   "execution_count": 76,
   "metadata": {},
   "outputs": [
    {
     "name": "stdout",
     "output_type": "stream",
     "text": [
      "dec. tree regr ROCAUC score on train: 0.8886996785893844\n",
      "dec. tree regr ROCAUC score on test: 0.8690195599519652\n",
      "dec. tree regr F1 score on train: 0.8263839510163039\n",
      "dec. tree regr F1 score on test: 0.8099550182166045\n"
     ]
    }
   ],
   "source": [
    "# line up train, dev and test metrics for the tree\n",
    "print('dec. tree regr ROCAUC score on train: ' +  str(metrics.roc_auc_score(y_train, tr.predict_proba(X_train)[:,1])) )\n",
    "print('dec. tree regr ROCAUC score on test: ' +  str(metrics.roc_auc_score(y_test, tr.predict_proba(X_test)[:,1])) )\n",
    "\n",
    "print('dec. tree regr F1 score on train: ' +  str(metrics.roc_auc_score(y_train, tr.predict(X_train))) )\n",
    "print('dec. tree regr F1 score on test: ' +  str(metrics.roc_auc_score(y_test, tr.predict(X_test))) )\n",
    "\n"
   ]
  },
  {
   "cell_type": "markdown",
   "metadata": {},
   "source": [
    "We observe only a slight decrease in model performance of the tree. Pretty neat\n"
   ]
  },
  {
   "cell_type": "code",
   "execution_count": null,
   "metadata": {},
   "outputs": [],
   "source": []
  }
 ],
 "metadata": {
  "colab": {
   "name": "3_nb_predictive_analytics_lessmann.ipynb",
   "provenance": []
  },
  "kernelspec": {
   "display_name": "Python 3",
   "language": "python",
   "name": "python3"
  },
  "language_info": {
   "codemirror_mode": {
    "name": "ipython",
    "version": 3
   },
   "file_extension": ".py",
   "mimetype": "text/x-python",
   "name": "python",
   "nbconvert_exporter": "python",
   "pygments_lexer": "ipython3",
   "version": "3.7.10"
  }
 },
 "nbformat": 4,
 "nbformat_minor": 4
}
