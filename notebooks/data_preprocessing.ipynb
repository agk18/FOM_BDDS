{
 "cells": [
  {
   "cell_type": "markdown",
   "metadata": {
    "id": "JW8q2Hxl3thA"
   },
   "source": [
    "[![Open In Colab](https://colab.research.google.com/assets/colab-badge.svg)](https://colab.research.google.com/github/Humboldt-WI/bads/blob/master/tutorials/9_nb_feature_engineering.ipynb) "
   ]
  },
  {
   "cell_type": "markdown",
   "metadata": {
    "id": "_55XGJ5Krxox"
   },
   "source": [
    "# Data Preprocessing\n",
    "\n",
    "So far, we've gone through some basic feature pre-processing. Now  we'll further elaborate on pre-processing as well asfeature engineering, which is the art of creating meaningful features from your processed data. In general, you will likely have to use a combination of domain and statistical knowledge to get the most out of your variables. This includes techniques such as scaling and [transforming](https://machinelearningmastery.com/power-transforms-with-scikit-learn/) (there are [other techniques](https://machinelearningmastery.com/power-transforms-with-scikit-learn/) when dealing with time series data). It could also be the creation of new variables using some kind of combination of the variables that you have.\n",
    "\n",
    "In this tutorial, we will discuss basic feature transformations and feature selections. At best your model should  only include *relevant* variables. Any irrelevant variable will severely hamper the generalization properties of your model. \n",
    "\n",
    "We will discuss\n",
    "- Data Preprocessing and Feature engineering\n",
    "- Feature selection\n",
    "- Appendix: Pipelines"
   ]
  },
  {
   "cell_type": "markdown",
   "metadata": {
    "id": "aCcnA3C9dTwR"
   },
   "source": [
    "# Preliminaries\n",
    "\n",
    "We will begin as usual, by importing necessary libraries, settings and loading the data. "
   ]
  },
  {
   "cell_type": "code",
   "execution_count": 1,
   "metadata": {
    "colab": {
     "base_uri": "https://localhost:8080/",
     "height": 0
    },
    "id": "TEw41VzvkIou",
    "outputId": "7e3b1484-f663-4d8d-9993-231e2bf04603"
   },
   "outputs": [
    {
     "data": {
      "text/html": [
       "<div>\n",
       "<style scoped>\n",
       "    .dataframe tbody tr th:only-of-type {\n",
       "        vertical-align: middle;\n",
       "    }\n",
       "\n",
       "    .dataframe tbody tr th {\n",
       "        vertical-align: top;\n",
       "    }\n",
       "\n",
       "    .dataframe thead th {\n",
       "        text-align: right;\n",
       "    }\n",
       "</style>\n",
       "<table border=\"1\" class=\"dataframe\">\n",
       "  <thead>\n",
       "    <tr style=\"text-align: right;\">\n",
       "      <th></th>\n",
       "      <th>LOAN</th>\n",
       "      <th>MORTDUE</th>\n",
       "      <th>VALUE</th>\n",
       "      <th>REASON</th>\n",
       "      <th>JOB</th>\n",
       "      <th>YOJ</th>\n",
       "      <th>DEROG</th>\n",
       "      <th>DELINQ</th>\n",
       "      <th>CLAGE</th>\n",
       "      <th>NINQ</th>\n",
       "      <th>CLNO</th>\n",
       "      <th>DEBTINC</th>\n",
       "      <th>DELINQcat</th>\n",
       "      <th>DEROGzero</th>\n",
       "    </tr>\n",
       "  </thead>\n",
       "  <tbody>\n",
       "    <tr>\n",
       "      <th>3120</th>\n",
       "      <td>16900.0</td>\n",
       "      <td>53252.0</td>\n",
       "      <td>89720.0</td>\n",
       "      <td>DebtCon</td>\n",
       "      <td>Office</td>\n",
       "      <td>29.0</td>\n",
       "      <td>0.0</td>\n",
       "      <td>0.0</td>\n",
       "      <td>204.58794</td>\n",
       "      <td>0.0</td>\n",
       "      <td>22.0</td>\n",
       "      <td>33.016150</td>\n",
       "      <td>0</td>\n",
       "      <td>True</td>\n",
       "    </tr>\n",
       "    <tr>\n",
       "      <th>1521</th>\n",
       "      <td>11200.0</td>\n",
       "      <td>23181.0</td>\n",
       "      <td>80140.0</td>\n",
       "      <td>HomeImp</td>\n",
       "      <td>ProfExe</td>\n",
       "      <td>21.0</td>\n",
       "      <td>0.0</td>\n",
       "      <td>0.0</td>\n",
       "      <td>221.41809</td>\n",
       "      <td>0.0</td>\n",
       "      <td>10.0</td>\n",
       "      <td>25.462640</td>\n",
       "      <td>0</td>\n",
       "      <td>True</td>\n",
       "    </tr>\n",
       "    <tr>\n",
       "      <th>3419</th>\n",
       "      <td>18100.0</td>\n",
       "      <td>144692.0</td>\n",
       "      <td>183630.0</td>\n",
       "      <td>DebtCon</td>\n",
       "      <td>Mgr</td>\n",
       "      <td>11.0</td>\n",
       "      <td>0.0</td>\n",
       "      <td>0.0</td>\n",
       "      <td>256.20547</td>\n",
       "      <td>0.0</td>\n",
       "      <td>21.0</td>\n",
       "      <td>27.384117</td>\n",
       "      <td>0</td>\n",
       "      <td>True</td>\n",
       "    </tr>\n",
       "    <tr>\n",
       "      <th>735</th>\n",
       "      <td>8200.0</td>\n",
       "      <td>48515.0</td>\n",
       "      <td>59240.0</td>\n",
       "      <td>DebtCon</td>\n",
       "      <td>Other</td>\n",
       "      <td>17.0</td>\n",
       "      <td>0.0</td>\n",
       "      <td>4.0</td>\n",
       "      <td>214.14452</td>\n",
       "      <td>0.0</td>\n",
       "      <td>36.0</td>\n",
       "      <td>27.459145</td>\n",
       "      <td>1</td>\n",
       "      <td>True</td>\n",
       "    </tr>\n",
       "    <tr>\n",
       "      <th>4175</th>\n",
       "      <td>21700.0</td>\n",
       "      <td>187311.0</td>\n",
       "      <td>230513.0</td>\n",
       "      <td>DebtCon</td>\n",
       "      <td>ProfExe</td>\n",
       "      <td>2.0</td>\n",
       "      <td>0.0</td>\n",
       "      <td>0.0</td>\n",
       "      <td>270.47903</td>\n",
       "      <td>0.0</td>\n",
       "      <td>27.0</td>\n",
       "      <td>38.999233</td>\n",
       "      <td>0</td>\n",
       "      <td>True</td>\n",
       "    </tr>\n",
       "  </tbody>\n",
       "</table>\n",
       "</div>"
      ],
      "text/plain": [
       "         LOAN   MORTDUE     VALUE   REASON      JOB   YOJ  DEROG  DELINQ  \\\n",
       "3120  16900.0   53252.0   89720.0  DebtCon   Office  29.0    0.0     0.0   \n",
       "1521  11200.0   23181.0   80140.0  HomeImp  ProfExe  21.0    0.0     0.0   \n",
       "3419  18100.0  144692.0  183630.0  DebtCon      Mgr  11.0    0.0     0.0   \n",
       "735    8200.0   48515.0   59240.0  DebtCon    Other  17.0    0.0     4.0   \n",
       "4175  21700.0  187311.0  230513.0  DebtCon  ProfExe   2.0    0.0     0.0   \n",
       "\n",
       "          CLAGE  NINQ  CLNO    DEBTINC  DELINQcat  DEROGzero  \n",
       "3120  204.58794   0.0  22.0  33.016150          0       True  \n",
       "1521  221.41809   0.0  10.0  25.462640          0       True  \n",
       "3419  256.20547   0.0  21.0  27.384117          0       True  \n",
       "735   214.14452   0.0  36.0  27.459145          1       True  \n",
       "4175  270.47903   0.0  27.0  38.999233          0       True  "
      ]
     },
     "execution_count": 1,
     "metadata": {},
     "output_type": "execute_result"
    }
   ],
   "source": [
    "# Import standard Python libraries\n",
    "import numpy as np\n",
    "import matplotlib.pyplot as plt\n",
    "import pandas as pd\n",
    "from sklearn.model_selection import train_test_split\n",
    "from sklearn.ensemble import RandomForestClassifier\n",
    "from sklearn.metrics import roc_auc_score\n",
    "\n",
    "# Some configuration of the plots we will create later\n",
    "%matplotlib inline  \n",
    "plt.rcParams[\"figure.figsize\"] = (12,6)\n",
    "\n",
    "# Load credit risk data in pre-processed format from GitHub\n",
    "data_url = './hmeq_prepared.csv' \n",
    "df = pd.read_csv(data_url)\n",
    "\n",
    "# Extract target variable and feature matrix \n",
    "X = df.drop(['BAD'], axis=1) \n",
    "y = df[['BAD']]\n",
    "\n",
    "X_train, X_test, y_train, y_test = train_test_split(X, y, test_size=.2)\n",
    "\n",
    "X_train.head()"
   ]
  },
  {
   "cell_type": "code",
   "execution_count": 2,
   "metadata": {
    "colab": {
     "base_uri": "https://localhost:8080/"
    },
    "id": "HrmcdZckZZ8S",
    "outputId": "a1985fcb-db4a-4cc4-c9d3-10020554994a"
   },
   "outputs": [
    {
     "name": "stdout",
     "output_type": "stream",
     "text": [
      "(4768, 14) (1192, 14) (4768, 1) (1192, 1)\n"
     ]
    }
   ],
   "source": [
    "print(X_train.shape, X_test.shape, y_train.shape, y_test.shape)"
   ]
  },
  {
   "cell_type": "markdown",
   "metadata": {
    "id": "e9BfpWt7dTwS"
   },
   "source": [
    "# More on Preprocessing and Feature Engineering \n",
    "\n",
    "From Wikipedia on Data Pre-Processing:\n",
    "\n",
    "\"Data preprocessing can refer to manipulation or dropping of data before it is used in order to ensure or enhance performance,[1] and is an important step in the data mining process. The phrase \"garbage in, garbage out\" is particularly applicable to data mining and machine learning projects. Data-gathering methods are often loosely controlled, resulting in out-of-range values (e.g., Income: −100), impossible data combinations (e.g., Sex: Male, Pregnant: Yes), and missing values, etc.\n",
    "\n",
    "Analyzing data that has not been carefully screened for such problems can produce misleading results. Thus, the representation and quality of data is first and foremost before running any analysis.[2] Often, data preprocessing is the most important phase of a machine learning project, especially in computational biology.[3] If there is much irrelevant and redundant information present or noisy and unreliable data, then knowledge discovery during the training phase is more difficult. Data preparation and filtering steps can take considerable amount of processing time. Examples of data preprocessing include cleaning, instance selection, normalization, one hot encoding, transformation, feature extraction and selection, etc. **The product of data preprocessing is the final training set.**\""
   ]
  },
  {
   "cell_type": "markdown",
   "metadata": {
    "id": "9WByBH0XdTwT"
   },
   "source": [
    "## Data pipeline construction revisited\n",
    "\n",
    "Here is an example of how your data preparation process could look like. This will of course depend on the data you are working with and the goal of your model. In general, you may **at least** want to follow these steps:\n",
    "\n",
    "**1) Basic cleaning of null values, duplicates and outliers**\n",
    "\n",
    "These values will have a big impact on how Python runs and how models are calculated. When it comes to NaN values and outliers, there are several approaches to deal with them. You could remove them, replace them with another value (indicator value, mode, mean, max, min, etc), use a mini-model to impute them among other options. This has been done for the most part in this data set already. See [Tutorial #4](https://github.com/Humboldt-WI/bads/blob/master/tutorials/4_nb_data_preparation.ipynb) for details.\n",
    "\n",
    "**2) Encode variables in the most appropriate way**\n",
    "\n",
    "Check your dataframe using the method `.info()` . Are your continuous variables encoded as integers or floats? If they are type `object` then the column may need to be checked again for null values. It is good practice to change any categorical variables to the `category` data type as it increases processing time. Once you have confirmed that you will finalize the model with a categorical variable, it can be good to use one-hot encoding as described in step 5.\n",
    "\n",
    "**3) Ensure variables fit statistical assumptions/model requirements**\n",
    "\n",
    "The next steps are a bit more complex and will depend on which model you need to use. Your goal is to make sure your data will be accurately processed by your model. Note that a lot of statistical assumptions depend on normal distribution and scaling. For example, models like K-Means and other distance-based methods are very sensitive to the magnitude of variable values.  We will first examine ways to do that.\n",
    "\n",
    "In this step, you may also want to remove features which are highly correlated to one another.\n",
    "\n",
    "**4) Filter out variables with low predictive power**\n",
    "\n",
    "You may now want to examine whether the variables contribute to your model. We will discuss filter methods to do just that. Note that some variables may only be effective in combination with others, so be careful with this step. Recall that wrapper methods for feature selection are more powerful but also more costly.  \n",
    "\n",
    "**5) One-hot encode categorical variables**\n",
    "\n",
    "Once you have decided to keep a categorical feature, it can be useful to one-hot encode the feature. Again, one-hot encoding means that instead of one categorical column, you have multiple dummies, which represent possible category values. For example, if your categorical variable \"transport\" had the possible values of \"car\", \"by foot\" or \"bus\", you would split it into columns called \"transport_car\" and \"transport_bus\". \"by foot\" is indicated if neither of those have a value of 1 for that observation. In this tutorial, we will also learn about an alternative way to deal with categorical features using a weight-of-evidence (WoE) transformation.\n",
    "\n",
    "**6) Double check the model only includes appropriate variables**\n",
    "\n",
    "Next, you may want to try a wrapper method or step-wise regression as another check to ensure you are only including relevant variables.\n",
    "\n",
    "In many cases, you may have to repeat some of these steps several times. Remember the idea of **garbage in, garbage out**. If you feed a model nonsense, expect nonsense to come right back out. This is likely what will take the most of your time as a data scientist."
   ]
  },
  {
   "cell_type": "code",
   "execution_count": 3,
   "metadata": {
    "colab": {
     "base_uri": "https://localhost:8080/"
    },
    "id": "SFfJqQ63qoUa",
    "outputId": "265748d5-0bd5-4aa8-eb8e-1e357fccb40a"
   },
   "outputs": [
    {
     "name": "stdout",
     "output_type": "stream",
     "text": [
      "<class 'pandas.core.frame.DataFrame'>\n",
      "RangeIndex: 5960 entries, 0 to 5959\n",
      "Data columns (total 15 columns):\n",
      " #   Column     Non-Null Count  Dtype  \n",
      "---  ------     --------------  -----  \n",
      " 0   BAD        5960 non-null   bool   \n",
      " 1   LOAN       5960 non-null   float64\n",
      " 2   MORTDUE    5960 non-null   float64\n",
      " 3   VALUE      5960 non-null   float64\n",
      " 4   REASON     5960 non-null   object \n",
      " 5   JOB        5960 non-null   object \n",
      " 6   YOJ        5960 non-null   float64\n",
      " 7   DEROG      5960 non-null   float64\n",
      " 8   DELINQ     5960 non-null   float64\n",
      " 9   CLAGE      5960 non-null   float64\n",
      " 10  NINQ       5960 non-null   float64\n",
      " 11  CLNO       5960 non-null   float64\n",
      " 12  DEBTINC    5960 non-null   float64\n",
      " 13  DELINQcat  5960 non-null   int64  \n",
      " 14  DEROGzero  5960 non-null   bool   \n",
      "dtypes: bool(2), float64(10), int64(1), object(2)\n",
      "memory usage: 617.1+ KB\n"
     ]
    }
   ],
   "source": [
    "# Let's get a quick overview of the data types of each column and make sure they are correct\n",
    "df.info()"
   ]
  },
  {
   "cell_type": "markdown",
   "metadata": {
    "id": "wr8OK_ewwKlF"
   },
   "source": [
    "Luckily, most of our variables are actually encoded the right way! Let's just change the two categorical variables to a categorical type. Note that this is not a data type in `NumPy`, only in `Pandas`. As such, you may run into problems if the data type becomes relevant in a `NumPy` calculation. Just keep that in mind!"
   ]
  },
  {
   "cell_type": "code",
   "execution_count": 4,
   "metadata": {
    "id": "Tf8vzIk2tJZX"
   },
   "outputs": [],
   "source": [
    "# Let's change our two categorical variables to the correct type for our interim analysis\n",
    "df['REASON'] = df['REASON'].astype('category')\n",
    "df['JOB'] = df['JOB'].astype('category')"
   ]
  },
  {
   "cell_type": "code",
   "execution_count": 5,
   "metadata": {
    "colab": {
     "base_uri": "https://localhost:8080/"
    },
    "id": "toUCPoLZtaVq",
    "outputId": "048a7915-ff1f-4e06-fc3f-dd8024cc19bc"
   },
   "outputs": [
    {
     "name": "stdout",
     "output_type": "stream",
     "text": [
      "<class 'pandas.core.frame.DataFrame'>\n",
      "RangeIndex: 5960 entries, 0 to 5959\n",
      "Data columns (total 15 columns):\n",
      " #   Column     Non-Null Count  Dtype   \n",
      "---  ------     --------------  -----   \n",
      " 0   BAD        5960 non-null   bool    \n",
      " 1   LOAN       5960 non-null   float64 \n",
      " 2   MORTDUE    5960 non-null   float64 \n",
      " 3   VALUE      5960 non-null   float64 \n",
      " 4   REASON     5960 non-null   category\n",
      " 5   JOB        5960 non-null   category\n",
      " 6   YOJ        5960 non-null   float64 \n",
      " 7   DEROG      5960 non-null   float64 \n",
      " 8   DELINQ     5960 non-null   float64 \n",
      " 9   CLAGE      5960 non-null   float64 \n",
      " 10  NINQ       5960 non-null   float64 \n",
      " 11  CLNO       5960 non-null   float64 \n",
      " 12  DEBTINC    5960 non-null   float64 \n",
      " 13  DELINQcat  5960 non-null   int64   \n",
      " 14  DEROGzero  5960 non-null   bool    \n",
      "dtypes: bool(2), category(2), float64(10), int64(1)\n",
      "memory usage: 535.9 KB\n"
     ]
    }
   ],
   "source": [
    "df.info()"
   ]
  },
  {
   "cell_type": "markdown",
   "metadata": {
    "id": "mN5r9LUioKP4"
   },
   "source": [
    "## Scaling\n",
    "\n",
    "Features will likely have arbitrary magnitudes. For example, a customer's spending range from 0 to 50,000 but a dummy variable about them may only take the value 0 or 1. For many algorithms, like the distance function in kMeans, this is problematic. The distance function will try to minimize differences among features using their raw values. This means that kMeans will focus on variables with arbitrarily high values like spending when that may not be as important as a dummy. One way to deal with this is to scale features so that their values are in a controlled range; without altering the distribution of feature values. This way, all features will be considered equally in distance calculations. \n",
    "\n",
    "There are two major ways to scale: standardization and min-max scaling (also known as normalization).\n",
    "\n",
    "### Standardization\n",
    "After standardization, your feature will now be distributed around a mean  feature value of zero with standard deviation equal to one.\n",
    "\n",
    "$$ X_{new} = \\frac{X-\\mu}{\\sigma} $$\n",
    "\n",
    "There is no controlled or a priori set maximum or minimum value here. This means that standardization does not deal with outliers. You may have a clearer picture of how extreme these outliers are after standardization.\n",
    "\n",
    "### Min-Max Scaling\n",
    "After min-max scaling, your variables will have a range of 0 and 1. Minimum feature values will become 0 and maximum values will be 1.\n",
    "\n",
    "$$ X_{new} = \\frac{X-X_{min}}{X_{max}-X_{min}} $$\n",
    "\n",
    "**NOTE** This type of scaling is sometimes called normalization but you should note that it simply compacts the values of the features to be between 0 and 1, it does not change the overall shape of the data.\n"
   ]
  },
  {
   "cell_type": "code",
   "execution_count": 6,
   "metadata": {
    "id": "VbhFZHaOOJbq"
   },
   "outputs": [],
   "source": [
    "# Standardization\n",
    "def standardize(var):\n",
    "    return (var - np.mean(var)) / np.std(var)\n",
    "\n",
    "\n",
    "# Min-max scaling\n",
    "def min_max_scale(var):\n",
    "    return (var - min(var)) / (max(var) - min(var))"
   ]
  },
  {
   "cell_type": "markdown",
   "metadata": {
    "id": "ZaJouXZSctiH"
   },
   "source": [
    "Let's first look at how this variable looks before and after normalization and standardization using a box plot and then a histogram. **Note the scaling of the y-axes in all of all the following plots.**"
   ]
  },
  {
   "cell_type": "code",
   "execution_count": 7,
   "metadata": {
    "colab": {
     "base_uri": "https://localhost:8080/",
     "height": 0
    },
    "id": "idodxYUhxrY4",
    "outputId": "c03df2bb-9435-487f-89f9-c24fad526e4f"
   },
   "outputs": [
    {
     "data": {
      "image/png": "[encoded data removed]",
      "text/plain": [
       "<Figure size 864x432 with 1 Axes>"
      ]
     },
     "metadata": {
      "needs_background": "light"
     },
     "output_type": "display_data"
    }
   ],
   "source": [
    "# Raw variable \n",
    "X_train[['LOAN']].boxplot();"
   ]
  },
  {
   "cell_type": "code",
   "execution_count": 8,
   "metadata": {
    "colab": {
     "base_uri": "https://localhost:8080/",
     "height": 0
    },
    "id": "7lG40FJUZY5z",
    "outputId": "0f91cb8c-ed70-40e7-cbf6-13cffb174291"
   },
   "outputs": [
    {
     "data": {
      "image/png": "[encoded data removed]",
      "text/plain": [
       "<Figure size 864x432 with 1 Axes>"
      ]
     },
     "metadata": {
      "needs_background": "light"
     },
     "output_type": "display_data"
    }
   ],
   "source": [
    "# Comparison of the normalized vs. standardized variable (check axes for size)\n",
    "loan_standardized = standardize(X_train['LOAN'])\n",
    "loan_normalized = min_max_scale(X_train['LOAN'])\n",
    "loans_scaled = pd.DataFrame({\"standardized\": loan_standardized, \"normalized\": loan_normalized})\n",
    "loans_scaled.boxplot();"
   ]
  },
  {
   "cell_type": "code",
   "execution_count": 9,
   "metadata": {
    "colab": {
     "base_uri": "https://localhost:8080/",
     "height": 0
    },
    "id": "RXjl78Z8QgW8",
    "outputId": "26b02777-2967-4a66-ecd6-efc6b82e2b2e"
   },
   "outputs": [
    {
     "data": {
      "image/png": "[encoded data removed]",
      "text/plain": [
       "<Figure size 864x432 with 1 Axes>"
      ]
     },
     "metadata": {
      "needs_background": "light"
     },
     "output_type": "display_data"
    }
   ],
   "source": [
    "# Histogram of raw variable\n",
    "X_train[['LOAN']].hist(bins=100);"
   ]
  },
  {
   "cell_type": "code",
   "execution_count": 10,
   "metadata": {
    "colab": {
     "base_uri": "https://localhost:8080/",
     "height": 0
    },
    "id": "_LMtqnFFQVTZ",
    "outputId": "0a429c4e-1d0a-4fa7-bea3-a89d909414f0"
   },
   "outputs": [
    {
     "data": {
      "image/png": "[encoded data removed]",
      "text/plain": [
       "<Figure size 864x432 with 2 Axes>"
      ]
     },
     "metadata": {
      "needs_background": "light"
     },
     "output_type": "display_data"
    }
   ],
   "source": [
    "# Comparison of the normalized vs. standardized variable (check axes for size)\n",
    "loans_scaled.hist(bins=100);"
   ]
  },
  {
   "cell_type": "markdown",
   "metadata": {
    "id": "RqPKAtlyc4Mc"
   },
   "source": [
    "Now we can see the big difference between the two types of scaling. With min-max scaling, we have the variable ranging between 0 and 1. With standard scaling, we have the variable showing us its position relative to standard deviations. Note that in both of these examples, the variable was squeezed into a smaller range but did not change shape overall. There are ways to change its shape, which we will explore next. "
   ]
  },
  {
   "cell_type": "markdown",
   "metadata": {
    "id": "MRlyLdQedO57"
   },
   "source": [
    "First, let's just quickly look at the standard way to perform scaling when using `sklearn`. We can just use the `MinMaxScaler()` and `StandardScaler` to do what our custom functions did. In practice, we would rely on these routines and avoid coding our own customer functions."
   ]
  },
  {
   "cell_type": "code",
   "execution_count": 11,
   "metadata": {
    "colab": {
     "base_uri": "https://localhost:8080/",
     "height": 0
    },
    "id": "4zqDzYWUYKYj",
    "outputId": "a53a153f-70f3-4427-c291-a0710053b69b"
   },
   "outputs": [
    {
     "data": {
      "image/png": "[encoded data removed]",
      "text/plain": [
       "<Figure size 864x432 with 1 Axes>"
      ]
     },
     "metadata": {
      "needs_background": "light"
     },
     "output_type": "display_data"
    }
   ],
   "source": [
    "from sklearn.preprocessing import StandardScaler\n",
    "standardscaler = StandardScaler()\n",
    "standardscaled = standardscaler.fit_transform(X_train[['LOAN']])\n",
    "_ = plt.hist(standardscaled, bins=100)\n",
    "plt.show()"
   ]
  },
  {
   "cell_type": "code",
   "execution_count": 12,
   "metadata": {
    "colab": {
     "base_uri": "https://localhost:8080/",
     "height": 0
    },
    "id": "7iNANRAhYEeV",
    "outputId": "449300af-f7a3-40d9-8246-4a676e600b05"
   },
   "outputs": [
    {
     "data": {
      "image/png": "[encoded data removed]",
      "text/plain": [
       "<Figure size 864x432 with 1 Axes>"
      ]
     },
     "metadata": {
      "needs_background": "light"
     },
     "output_type": "display_data"
    }
   ],
   "source": [
    "from sklearn.preprocessing import MinMaxScaler\n",
    "minmaxscaler = MinMaxScaler()\n",
    "minmaxscaled = minmaxscaler.fit_transform(X_train[['LOAN']])\n",
    "\n",
    "_ = plt.hist(minmaxscaled, bins=100)\n",
    "plt.show()"
   ]
  },
  {
   "cell_type": "markdown",
   "metadata": {
    "id": "jIWedZPyKQhC"
   },
   "source": [
    "It is good practice to scale variables before putting them into an algorithm. Note that some algorithms (eg. tree algorithms) don't necessarily require this. Since we will be using a logistic regression initially, we will scale these variables using standard scaling later."
   ]
  },
  {
   "cell_type": "markdown",
   "metadata": {
    "id": "wxHx35GGJbVc"
   },
   "source": [
    "## Checking features for normality\n",
    "\n",
    "Normality is a critical condition for many statistical tests and the creation of confidence intervals. If this is the goal of your work, you will likely need to find some way to normalize your variables. Further, some methods for descriptive, explanatory or predictive modeling may benefit from normality. Imagine, for example, a dependent variable that displays a complex, non-normal distribution. If the distribution of the dependent is non-normal, it is likely that residuals will also be non-normal, which vialoates an assumption of the linear model. Long story short, many importand data science methods may benefit from feature transformations that change the distribution of a feature such that it becomes more normal. Here we will introduce 3 useful transformations to achieve this: log, Box-Cox and Yeo-Johnson transformations.\n",
    "\n",
    "There are several ways to check which variables could benefit from such a transformation. One method would be to create a histogram of each variable and check its shape. Remember that you are looking for a perfect bell shape with even tails on either side. As you can imagine, this does not happen very often with many variables."
   ]
  },
  {
   "cell_type": "code",
   "execution_count": 13,
   "metadata": {
    "colab": {
     "base_uri": "https://localhost:8080/",
     "height": 0
    },
    "id": "ofPwp-hoORpA",
    "outputId": "6ea0cf1c-ea44-4e60-d375-5ee7ea11c1b8"
   },
   "outputs": [
    {
     "data": {
      "image/png": "[encoded data removed]",
      "text/plain": [
       "<Figure size 1080x720 with 12 Axes>"
      ]
     },
     "metadata": {
      "needs_background": "light"
     },
     "output_type": "display_data"
    }
   ],
   "source": [
    "df.select_dtypes(include='float64').hist(bins=30, figsize=(15, 10));"
   ]
  },
  {
   "cell_type": "code",
   "execution_count": 14,
   "metadata": {
    "id": "fMwv2bSR1KrR"
   },
   "outputs": [],
   "source": [
    "# Choose a feature of interest and we'll take a deep dive into it\n",
    "# DEROG, DELINQ and NINQ are bad candidates as they resemble categorical variables\n",
    "feature = df['LOAN'] "
   ]
  },
  {
   "cell_type": "markdown",
   "metadata": {
    "id": "2oSu9klOwao9"
   },
   "source": [
    "If you would like a more scienfitic test for normality, you can use `normaltest` from `scipy`. This function's documentation is [here](https://docs.scipy.org/doc/scipy/reference/generated/scipy.stats.normaltest.html). It outputs 2 numbers, the first is the sum of squares of the z-scores returned by a skewtest and kurtosistest. The second is a 2-sided chi2 probability hypothesis test. Thus, if the p-value is below 0.05, it is likely you do not have normally distributed data."
   ]
  },
  {
   "cell_type": "code",
   "execution_count": 15,
   "metadata": {
    "colab": {
     "base_uri": "https://localhost:8080/"
    },
    "id": "Fvn-QvyXUt78",
    "outputId": "fec9b8c5-efe0-47f1-ca91-a98ed5e5922d"
   },
   "outputs": [
    {
     "data": {
      "text/plain": [
       "NormaltestResult(statistic=1603.6531776769357, pvalue=0.0)"
      ]
     },
     "execution_count": 15,
     "metadata": {},
     "output_type": "execute_result"
    }
   ],
   "source": [
    "from scipy import stats\n",
    "stats.normaltest(feature)"
   ]
  },
  {
   "cell_type": "markdown",
   "metadata": {
    "id": "TnBUkKjE0Vt6"
   },
   "source": [
    "We can see problems a bit more clearly with a quantile-quantile (QQ) plot. Ideally, the blue line should match the red line (quantiles of a feature versus the quantiles/ppf of a distribution). If not, it is less likely that it comes from a normal distribution."
   ]
  },
  {
   "cell_type": "code",
   "execution_count": 16,
   "metadata": {
    "colab": {
     "base_uri": "https://localhost:8080/",
     "height": 0
    },
    "id": "BJ-WO3MK0IKk",
    "outputId": "7152244e-dad3-499d-a4b3-dfbcfd553190"
   },
   "outputs": [
    {
     "data": {
      "image/png": "[encoded data removed]",
      "text/plain": [
       "<Figure size 864x432 with 1 Axes>"
      ]
     },
     "metadata": {
      "needs_background": "light"
     },
     "output_type": "display_data"
    }
   ],
   "source": [
    "from statsmodels.graphics.gofplots import qqplot\n",
    "qqplot(feature, line='s')\n",
    "plt.show()"
   ]
  },
  {
   "cell_type": "markdown",
   "metadata": {
    "id": "9lHmSIC2_8dB"
   },
   "source": [
    "Just to reiterate that it is a bit misleading to say min-max scaling is \"normalization\", let's min-max scale our feature and perform the test. As we can see, `normaltest` outputs the same test statistic and pvalue."
   ]
  },
  {
   "cell_type": "code",
   "execution_count": 17,
   "metadata": {
    "colab": {
     "base_uri": "https://localhost:8080/",
     "height": 0
    },
    "id": "vVYoIXCfpkay",
    "outputId": "52228ffd-5590-4dd9-a584-a71569f53b61"
   },
   "outputs": [
    {
     "data": {
      "image/png": "[encoded data removed]",
      "text/plain": [
       "<Figure size 864x432 with 1 Axes>"
      ]
     },
     "metadata": {
      "needs_background": "light"
     },
     "output_type": "display_data"
    }
   ],
   "source": [
    "minmaxscaled_feature = minmaxscaler.fit_transform(pd.DataFrame(feature))\n",
    "_ = plt.hist(minmaxscaled_feature, bins=100)\n",
    "plt.show()"
   ]
  },
  {
   "cell_type": "code",
   "execution_count": 18,
   "metadata": {
    "colab": {
     "base_uri": "https://localhost:8080/"
    },
    "id": "l2Qt1Ociy16_",
    "outputId": "efe198a5-a2eb-4a7d-fef2-2409a027aa4b"
   },
   "outputs": [
    {
     "data": {
      "text/plain": [
       "NormaltestResult(statistic=array([1603.65317768]), pvalue=array([0.]))"
      ]
     },
     "execution_count": 18,
     "metadata": {},
     "output_type": "execute_result"
    }
   ],
   "source": [
    "stats.normaltest(minmaxscaled_feature)"
   ]
  },
  {
   "cell_type": "markdown",
   "metadata": {
    "id": "pxugN33PMl3s"
   },
   "source": [
    "As such, if you need your variable to have more of a normal distribution, it's going to take more than min-max scaling."
   ]
  },
  {
   "cell_type": "markdown",
   "metadata": {
    "id": "fhHv9AlsJ4J_"
   },
   "source": [
    "## Common feature transformations for numeric data"
   ]
  },
  {
   "cell_type": "markdown",
   "metadata": {
    "id": "e3OU5PBOMymG"
   },
   "source": [
    "### Log Transformation\n",
    "One major use of logs is to create linearity from exponential relationships. This can help algorithms (e.g., linear models) capture the fit of many variables. Remember that logs take only strictly positive variables. If you have any negative values, you will have to rescale your data, remove them or find another way to deal with them.\n",
    "\n",
    "$ x^{(t)} = g(x) = log(x) $\n",
    "\n"
   ]
  },
  {
   "cell_type": "markdown",
   "metadata": {
    "id": "KjM6lppjM1Yu"
   },
   "source": [
    "### Box Cox Transformation\n",
    "If your variable has a skewed tail, this can be problematic for the assumption on normality. You can try to correct this with a Box Cox transformation. This only works with strictly positive values (greater than 0). You can always rescale variables so they meet this criteria before putting them into this formula.\n",
    "\n",
    "$\n",
    "    x^{(t)} = g(x; \\lambda) =\n",
    "    \\begin{cases}\n",
    "      \\frac{x^\\lambda - 1}{\\lambda}, & \\text{if}\\ \\lambda \\neq 0 \\\\\n",
    "      log(x), & \\text{otherwise}\n",
    "    \\end{cases}\n",
    "$\n",
    "\n"
   ]
  },
  {
   "cell_type": "markdown",
   "metadata": {
    "id": "Rp8qyjecM7mD"
   },
   "source": [
    "\n",
    "## Testing transformations\n",
    "Let's look at a version of these which we have created from scratch and check what they do to our variable using histograms and box plots."
   ]
  },
  {
   "cell_type": "code",
   "execution_count": 19,
   "metadata": {
    "id": "E-WYJkxWu0Ym"
   },
   "outputs": [],
   "source": [
    "def box_cox_transform(var, power=0):\n",
    "\n",
    "    try:\n",
    "        assert (var > 0).all()  # Function only defined > 0\n",
    "    except AssertionError:\n",
    "        raise ValueError(\"Variable values must be strictly positive\")\n",
    "\n",
    "    # Special case lambda=0\n",
    "    if power == 0:\n",
    "        var = np.log(var)\n",
    "\n",
    "    else:\n",
    "        var = (var ** power - 1) / power\n",
    "\n",
    "    return var"
   ]
  },
  {
   "cell_type": "markdown",
   "metadata": {
    "id": "3ppSK3IsOcLJ"
   },
   "source": [
    "Now let's check the histogram of the regular feature of interest and its modified versions. Pay attention to the scale. What happens as the power of the BC and YJ transformation increases? What happens to the shape of the histogram?"
   ]
  },
  {
   "cell_type": "code",
   "execution_count": 20,
   "metadata": {
    "id": "3iU2gT6LK3n2"
   },
   "outputs": [],
   "source": [
    "# Adjust coefficient of Box Cox transformation on the feature to show plot below\n",
    "\n",
    "bc1 = box_cox_transform(feature+1, power=0)  # Adding 1 as all features start at 0, not allowed in BC\n",
    "bc2 = box_cox_transform(feature+1, power=.5)\n",
    "bc3 = box_cox_transform(feature+1, power=1)"
   ]
  },
  {
   "cell_type": "code",
   "execution_count": 21,
   "metadata": {
    "colab": {
     "base_uri": "https://localhost:8080/",
     "height": 0
    },
    "id": "_qVI-FeWBWVD",
    "outputId": "b42f90a2-78bc-49bc-be6e-5784971cc7c0"
   },
   "outputs": [
    {
     "data": {
      "image/png": "[encoded data removed]",
      "text/plain": [
       "<Figure size 720x720 with 4 Axes>"
      ]
     },
     "metadata": {
      "needs_background": "light"
     },
     "output_type": "display_data"
    }
   ],
   "source": [
    "# Plot a histogram per coefficient of BC transformation\n",
    "\n",
    "fig, (ax1, ax2, ax3, ax4) = plt.subplots(nrows=4, ncols=1)\n",
    "fig.set_figheight(10)\n",
    "fig.set_figwidth(10)\n",
    "\n",
    "ax1.hist(feature, bins=20)\n",
    "ax2.hist(bc1, bins=20)\n",
    "ax3.hist(bc2, bins=20)\n",
    "ax4.hist(bc3, bins=20)\n",
    "\n",
    "ax1.set_title('Original Feature')\n",
    "ax1.set_ylabel('Frequency')\n",
    "ax1.set_xlabel('Values')\n",
    "\n",
    "ax2.set_title('Histogram Box Cox Lambda = 0')\n",
    "ax2.set_ylabel('Frequency')\n",
    "ax2.set_xlabel('Values')\n",
    "\n",
    "\n",
    "ax3.set_title('Histogram Box Cox Lambda = 0.5')\n",
    "ax3.set_ylabel('Frequency')\n",
    "ax3.set_xlabel('Values')\n",
    "\n",
    "\n",
    "ax4.set_title('Histogram Box Cox Lambda = 1')\n",
    "ax4.set_xlabel('Values')\n",
    "ax4.set_ylabel('Frequency')\n",
    "\n",
    "plt.tight_layout()\n",
    "plt.show()"
   ]
  },
  {
   "cell_type": "markdown",
   "metadata": {
    "id": "SVqY3gkGMxyL"
   },
   "source": [
    "Did you notice that the peak of the data moves? We are looking for a sweet spot where the peak is somewhere directly between the two tails so the distribution is almost perfectly bell-shaped. Note that the scale also changes pretty dramatically too. Make sure that you scale this variable after if necessary to make sure it fits your model requirements!"
   ]
  },
  {
   "cell_type": "markdown",
   "metadata": {
    "id": "COvAW6bSuT8t"
   },
   "source": [
    "### Using `scipy` functions\n",
    "Let's use the scipy version of the function and  see where it finds the true maximum point of normality. We can use the `scipy`  `stats` sublibrary to fit the feature and find the optimal lambda. Let's first start with Box Cox."
   ]
  },
  {
   "cell_type": "code",
   "execution_count": 22,
   "metadata": {
    "colab": {
     "base_uri": "https://localhost:8080/"
    },
    "id": "xPRZf_G4VYK3",
    "outputId": "4e1d5191-9735-4523-c1a4-bfc2798f83d9",
    "scrolled": true
   },
   "outputs": [
    {
     "data": {
      "text/plain": [
       "0.19107151032822628"
      ]
     },
     "execution_count": 22,
     "metadata": {},
     "output_type": "execute_result"
    }
   ],
   "source": [
    "bc_fitted_feature, bc_fitted_lambda = stats.boxcox(feature+1) # Again, we are adding 1 because all features have 0s (not allowed in BC)\n",
    "\n",
    "bc_fitted_lambda"
   ]
  },
  {
   "cell_type": "code",
   "execution_count": 23,
   "metadata": {
    "colab": {
     "base_uri": "https://localhost:8080/",
     "height": 0
    },
    "id": "1oFq1w6MIOkd",
    "outputId": "c774a02f-8813-4da1-ca3f-e545c0f2b097",
    "scrolled": true
   },
   "outputs": [
    {
     "data": {
      "image/png": "[encoded data removed]",
      "text/plain": [
       "<Figure size 864x432 with 1 Axes>"
      ]
     },
     "metadata": {
      "needs_background": "light"
     },
     "output_type": "display_data"
    }
   ],
   "source": [
    "plt.hist(bc_fitted_feature, bins=20)\n",
    "plt.title('SciPy Optimal Box Cox of Feature of Interest')\n",
    "plt.show()"
   ]
  },
  {
   "cell_type": "markdown",
   "metadata": {
    "id": "sPKxrQ6tv360"
   },
   "source": [
    "Lastly, let's do the normal test one last time with the optimal lambda found by `scipy`. We can see that the test statistic does not exceed the desired 0.05 but is much better than what we were dealing with previously."
   ]
  },
  {
   "cell_type": "code",
   "execution_count": 24,
   "metadata": {
    "colab": {
     "base_uri": "https://localhost:8080/",
     "height": 0
    },
    "id": "VQzph3Z201nV",
    "outputId": "7196234a-0c75-4ed6-fb40-5384ddc644f4"
   },
   "outputs": [
    {
     "data": {
      "image/png": "[encoded data removed]",
      "text/plain": [
       "<Figure size 864x432 with 1 Axes>"
      ]
     },
     "metadata": {
      "needs_background": "light"
     },
     "output_type": "display_data"
    }
   ],
   "source": [
    "qqplot(bc_fitted_feature, line='s')\n",
    "plt.show()"
   ]
  },
  {
   "cell_type": "markdown",
   "metadata": {
    "id": "hLNaQmNRHBL-"
   },
   "source": [
    "## Beware of in-sample biases when transforming features!\n",
    "So, before we continue let's quickly just apply a simple transform to all of our variables. We will just standardize them for now. Remember that you should be doing any transformations separately to your train data and test data. You want to try to keep your test data as pure as possible. If you make transformations before, you risk not having a truly representative sample of new unseen data to test your model on. To see this, recall that scaling involves computing statistics like the mean, standard deviatio or min/max. It makes a difference whether you compute these statistics only from the training data or from the combination of the training and test date. Thus, first scaline the data and then splitting it into training and test is a bad idea. The scaler classes in `sklearn` are designed in a way to help you avoid this flaw. "
   ]
  },
  {
   "cell_type": "code",
   "execution_count": 25,
   "metadata": {
    "colab": {
     "base_uri": "https://localhost:8080/",
     "height": 0
    },
    "id": "JkctXuBp1VAr",
    "outputId": "73db9094-e815-4400-adc9-f8fca666f936"
   },
   "outputs": [
    {
     "data": {
      "text/html": [
       "<div>\n",
       "<style scoped>\n",
       "    .dataframe tbody tr th:only-of-type {\n",
       "        vertical-align: middle;\n",
       "    }\n",
       "\n",
       "    .dataframe tbody tr th {\n",
       "        vertical-align: top;\n",
       "    }\n",
       "\n",
       "    .dataframe thead th {\n",
       "        text-align: right;\n",
       "    }\n",
       "</style>\n",
       "<table border=\"1\" class=\"dataframe\">\n",
       "  <thead>\n",
       "    <tr style=\"text-align: right;\">\n",
       "      <th></th>\n",
       "      <th>LOAN</th>\n",
       "      <th>MORTDUE</th>\n",
       "      <th>VALUE</th>\n",
       "      <th>REASON</th>\n",
       "      <th>JOB</th>\n",
       "      <th>YOJ</th>\n",
       "      <th>DEROG</th>\n",
       "      <th>DELINQ</th>\n",
       "      <th>CLAGE</th>\n",
       "      <th>NINQ</th>\n",
       "      <th>CLNO</th>\n",
       "      <th>DEBTINC</th>\n",
       "      <th>DELINQcat</th>\n",
       "      <th>DEROGzero</th>\n",
       "    </tr>\n",
       "  </thead>\n",
       "  <tbody>\n",
       "    <tr>\n",
       "      <th>2187</th>\n",
       "      <td>-0.453621</td>\n",
       "      <td>0.581408</td>\n",
       "      <td>0.250458</td>\n",
       "      <td>DebtCon</td>\n",
       "      <td>Other</td>\n",
       "      <td>0.301268</td>\n",
       "      <td>-0.278435</td>\n",
       "      <td>-0.376379</td>\n",
       "      <td>0.363121</td>\n",
       "      <td>1.190222</td>\n",
       "      <td>-0.633454</td>\n",
       "      <td>0.572997</td>\n",
       "      <td>0</td>\n",
       "      <td>True</td>\n",
       "    </tr>\n",
       "    <tr>\n",
       "      <th>3005</th>\n",
       "      <td>-0.188259</td>\n",
       "      <td>0.368520</td>\n",
       "      <td>0.318881</td>\n",
       "      <td>IsMissing</td>\n",
       "      <td>Other</td>\n",
       "      <td>-0.243599</td>\n",
       "      <td>-0.278435</td>\n",
       "      <td>-0.376379</td>\n",
       "      <td>-0.075914</td>\n",
       "      <td>-0.103958</td>\n",
       "      <td>-0.129717</td>\n",
       "      <td>0.251079</td>\n",
       "      <td>0</td>\n",
       "      <td>True</td>\n",
       "    </tr>\n",
       "    <tr>\n",
       "      <th>4372</th>\n",
       "      <td>0.408807</td>\n",
       "      <td>0.934153</td>\n",
       "      <td>0.789106</td>\n",
       "      <td>HomeImp</td>\n",
       "      <td>ProfExe</td>\n",
       "      <td>0.301268</td>\n",
       "      <td>-0.278435</td>\n",
       "      <td>-0.376379</td>\n",
       "      <td>0.139596</td>\n",
       "      <td>-0.751048</td>\n",
       "      <td>0.172526</td>\n",
       "      <td>0.019905</td>\n",
       "      <td>0</td>\n",
       "      <td>True</td>\n",
       "    </tr>\n",
       "    <tr>\n",
       "      <th>28</th>\n",
       "      <td>-1.505594</td>\n",
       "      <td>-1.202978</td>\n",
       "      <td>-1.279406</td>\n",
       "      <td>HomeImp</td>\n",
       "      <td>Other</td>\n",
       "      <td>0.165051</td>\n",
       "      <td>0.940645</td>\n",
       "      <td>1.466099</td>\n",
       "      <td>1.198230</td>\n",
       "      <td>-0.751048</td>\n",
       "      <td>-1.237939</td>\n",
       "      <td>0.132262</td>\n",
       "      <td>1</td>\n",
       "      <td>False</td>\n",
       "    </tr>\n",
       "    <tr>\n",
       "      <th>2281</th>\n",
       "      <td>-0.425190</td>\n",
       "      <td>-0.180117</td>\n",
       "      <td>-1.188595</td>\n",
       "      <td>HomeImp</td>\n",
       "      <td>Other</td>\n",
       "      <td>-1.197115</td>\n",
       "      <td>-0.278435</td>\n",
       "      <td>-0.376379</td>\n",
       "      <td>1.456018</td>\n",
       "      <td>-0.103958</td>\n",
       "      <td>-1.338687</td>\n",
       "      <td>-1.218859</td>\n",
       "      <td>0</td>\n",
       "      <td>True</td>\n",
       "    </tr>\n",
       "  </tbody>\n",
       "</table>\n",
       "</div>"
      ],
      "text/plain": [
       "          LOAN   MORTDUE     VALUE     REASON      JOB       YOJ     DEROG  \\\n",
       "2187 -0.453621  0.581408  0.250458    DebtCon    Other  0.301268 -0.278435   \n",
       "3005 -0.188259  0.368520  0.318881  IsMissing    Other -0.243599 -0.278435   \n",
       "4372  0.408807  0.934153  0.789106    HomeImp  ProfExe  0.301268 -0.278435   \n",
       "28   -1.505594 -1.202978 -1.279406    HomeImp    Other  0.165051  0.940645   \n",
       "2281 -0.425190 -0.180117 -1.188595    HomeImp    Other -1.197115 -0.278435   \n",
       "\n",
       "        DELINQ     CLAGE      NINQ      CLNO   DEBTINC  DELINQcat  DEROGzero  \n",
       "2187 -0.376379  0.363121  1.190222 -0.633454  0.572997          0       True  \n",
       "3005 -0.376379 -0.075914 -0.103958 -0.129717  0.251079          0       True  \n",
       "4372 -0.376379  0.139596 -0.751048  0.172526  0.019905          0       True  \n",
       "28    1.466099  1.198230 -0.751048 -1.237939  0.132262          1      False  \n",
       "2281 -0.376379  1.456018 -0.103958 -1.338687 -1.218859          0       True  "
      ]
     },
     "execution_count": 25,
     "metadata": {},
     "output_type": "execute_result"
    }
   ],
   "source": [
    "numeric_cols = [\"LOAN\", \"MORTDUE\", \"VALUE\", \"YOJ\", \"DEROG\", \"DELINQ\", \"CLAGE\", \"NINQ\", \"CLNO\", \"DEBTINC\"]\n",
    "\n",
    "standard = StandardScaler()\n",
    "\n",
    "X_train_scaled = X_train.copy()\n",
    "X_test_scaled = X_test.copy()\n",
    "\n",
    "X_train_scaled[numeric_cols] = standard.fit_transform(X_train_scaled[numeric_cols])\n",
    "\n",
    "X_test_scaled[numeric_cols] = standard.transform(X_test_scaled[numeric_cols])\n",
    "\n",
    "X_test_scaled.head()"
   ]
  },
  {
   "cell_type": "code",
   "execution_count": 26,
   "metadata": {
    "colab": {
     "base_uri": "https://localhost:8080/"
    },
    "id": "M7XxMfSU1VA0",
    "outputId": "4b39555f-083c-4d5a-ab66-ec73bd664e45"
   },
   "outputs": [
    {
     "name": "stdout",
     "output_type": "stream",
     "text": [
      "<class 'pandas.core.frame.DataFrame'>\n",
      "Int64Index: 4768 entries, 3120 to 3294\n",
      "Data columns (total 14 columns):\n",
      " #   Column     Non-Null Count  Dtype  \n",
      "---  ------     --------------  -----  \n",
      " 0   LOAN       4768 non-null   float64\n",
      " 1   MORTDUE    4768 non-null   float64\n",
      " 2   VALUE      4768 non-null   float64\n",
      " 3   REASON     4768 non-null   object \n",
      " 4   JOB        4768 non-null   object \n",
      " 5   YOJ        4768 non-null   float64\n",
      " 6   DEROG      4768 non-null   float64\n",
      " 7   DELINQ     4768 non-null   float64\n",
      " 8   CLAGE      4768 non-null   float64\n",
      " 9   NINQ       4768 non-null   float64\n",
      " 10  CLNO       4768 non-null   float64\n",
      " 11  DEBTINC    4768 non-null   float64\n",
      " 12  DELINQcat  4768 non-null   int64  \n",
      " 13  DEROGzero  4768 non-null   bool   \n",
      "dtypes: bool(1), float64(10), int64(1), object(2)\n",
      "memory usage: 526.2+ KB\n"
     ]
    }
   ],
   "source": [
    "X_train.info()"
   ]
  },
  {
   "cell_type": "code",
   "execution_count": 27,
   "metadata": {},
   "outputs": [],
   "source": [
    "# further prelims\n",
    "train_df = pd.concat([X_train_scaled, y_train], axis=1, join=\"inner\")\n",
    "train_len = len(X_train)\n",
    "\n",
    "# full data\n",
    "X_full = pd.concat(objs=[X_train_scaled, X_test_scaled], axis=0)\n",
    "\n"
   ]
  },
  {
   "cell_type": "markdown",
   "metadata": {},
   "source": [
    "## On One-Hot Encoding \n",
    "\n",
    "The differences between sklearn.preprocessing.OneHotEncoder and pandas.get_dummies:\n",
    "\n",
    "In short, if I’m doing machine learning then I should use OneHotEncoder(ohe) over get_dummies. OHE does the same things as get dummies but in addition, OHE saves the exploded categories into it’s object.\n",
    "\n",
    "Saving exploded categories is extremely useful when I want to apply the same data pre-processing on my test set. If the total number of unique values in a categorical column is not the same for my train set vs test set, I’m going to have problems.\n",
    "\n",
    "In our case however, we are fine with the pandas.get_dummies approach.\n",
    "\n",
    "See the examples at https://scikit-learn.org/stable/modules/generated/sklearn.preprocessing.OneHotEncoder.html for the\n",
    "OneHotEncoder in sklearn."
   ]
  },
  {
   "cell_type": "code",
   "execution_count": null,
   "metadata": {},
   "outputs": [],
   "source": [
    "# often called \"dummy\" variables\n",
    "# pandas get dummies\n",
    "X_full = pd.get_dummies(X_full, columns = ['REASON', 'JOB'], drop_first=True)\n",
    "\n",
    "# one-hot encoded versions\n",
    "X_train_dummies = X_full[:train_len]\n",
    "X_test_dummies = X_full[train_len:]\n",
    "\n",
    "X_train_dummies.head()\n",
    "\n",
    "# add constants for the linear models later:\n",
    "import statsmodels.api as sm \n",
    "\n",
    "X_train_dummies = sm.add_constant(X_train_dummies)\n",
    "X_test_dummies = sm.add_constant(X_test_dummies)"
   ]
  },
  {
   "cell_type": "markdown",
   "metadata": {
    "id": "RtBM6bm4dTwe"
   },
   "source": [
    "# Feature Selection\n",
    "\n",
    "## Filter methods\n",
    "Filters are statistical methods which test variables one by one and their relevance to the task at hand. Since they are relatively easy to compute, they tend to be checked first. The next methods of feature selection require more computational power, therefore eliminating variables using filters first will save time later.\n",
    "\n",
    "Let's recall the chart we saw in class. The columns represent the target, is it continuous or discrete? The rows represent the variable to test, is it continuous or discrete/categorical? The best test is the one that corresponds to the right row/column.\n",
    "\n",
    "```\n",
    "Data Types      | CONTINUOUS TARGET     | DISCRETE TARGET\n",
    "-------------------------------------------------------------------------------\n",
    "CONTINUOUS VAR  | Pearson Correlation   | Fisher Score\n",
    "CATEGORICAL VAR | Fisher Score / ANOVA  | Chi-Square / Information Gain\n",
    "```\n",
    "\n"
   ]
  },
  {
   "cell_type": "markdown",
   "metadata": {
    "id": "l6ESJ7jCiOUa"
   },
   "source": [
    "### Pearson Correlation\n",
    "This is probably the most common correlation metric used. It is remarkable for its very simple implementation (covariance divided by the root of the product of each variance):\n",
    "\n",
    "$$ \\rho = \\frac{{}\\sum_{i=1}^{n} (x_i - \\overline{x})(y_i - \\overline{y})}\n",
    "{\\sqrt{\\sum_{i=1}^{n} (x_i - \\overline{x})^2 \\sum_{i=1}^{n} (y_i - \\overline{y})^2}} $$\n",
    "\n",
    "This correlation is best used when target and the (independent) variable to check are **both continuous**. The coefficient produced is bound between -1 and 1. It is recommended to only keep variables with a high correlation, however there is no rule that you can always follow. The closer that this coefficient is to 0, the less correlation between the variable and the target.\n",
    "\n"
   ]
  },
  {
   "cell_type": "markdown",
   "metadata": {
    "id": "i8nrsT1JiTSF"
   },
   "source": [
    "### Fisher Score\n",
    "This method of finding correlation can be used if **either** the target or variable in question is binary. It generalizes into an ANOVA test if there are multiple categories.\n",
    "\n",
    "$$ FS = \\frac{|\\bar{x}_G - \\bar{x}_B |}{\\sqrt{s^2_G + s^2_B}} $$\n",
    "\n",
    "### Analysis of Variance (ANOVA)\n",
    "ANOVA specifically compares the means of a **feature with more than 2 categories with a continuous target**. For example, we had the feature `JOB`. If our target was continuous, ANOVA would be testing if each category in `JOB` actually corresponded to a different mean in our target. \n",
    "\n",
    "So, we first find the sum of squares between categories:\n",
    "$$ SSD_B = \\sum_{i=1}^k \\sum_{j=1}^n \\left(\\bar{x}_i - \\bar{x}_.\\right)^2 = n\\sum_{i=1}^k \\left(\\bar{x}_i - \\bar{x}_.\\right)^2 $$\n",
    "\n",
    "We then find the sum of square difference within categories:\n",
    "$$ SSD_W = \\sum_{i=1}^k\\sum_{j=1}^n \\left(x_{ij} - \\bar{x}_i \\right)^2 $$\n",
    "\n",
    "Now we divide the $ SSD_B $ by its degree of freedom: k categories minus 1. This gives us the mean $ SSD_B $. And then we divide $ SSD_W $ by its degrees of freedom, number of observations minus k categories. This gives us the mean $ SSD_W $.\n",
    "\n",
    "$$ \\mu_B = \\frac{SSD_B}{k-1} $$\n",
    "\n",
    "$$ \\mu_W = \\frac{SSD_W}{n-k} $$\n",
    "\n",
    "Now we have the F-stastic that we can use.\n",
    "$$ F = \\frac{\\mu_B}{\\mu_W} $$\n",
    "\n",
    "We must compare this value to the [F-Distribution Table](http://www.socr.ucla.edu/Applets.dir/F_Table.html) and decide whether we want to include it in the analysis.\n",
    "\n"
   ]
  },
  {
   "cell_type": "markdown",
   "metadata": {
    "id": "fZeIjLqfiV_c"
   },
   "source": [
    "### Chi-Square Analysis\n",
    "\n",
    "Chi Square tests check whether events are dependent on one another. If there is no dependence between the target and the feature, it becomes less likely that it would actually would be meaninigful to include in the analysis.\n",
    "\n",
    "$$ \\chi^2 = \\sum{\\frac{(O_i - E_i)^2}{E_i}} $$\n",
    "\n",
    "Chi square is only used when **both the feature of interest and the target are both categorical variables**. You must use a [chi-square table](https://web.ma.utexas.edu/users/davis/375/popecol/tables/chisq.html) (this one is alpha = 0.10) to assess whether you would like to include this varible in the end or not. Remember that if one category has too little observations, this test's results may not be accurate.\n",
    "\n",
    "\n"
   ]
  },
  {
   "cell_type": "markdown",
   "metadata": {
    "id": "vOGxNSE1iZWp"
   },
   "source": [
    "### Information Gain / Entropy\n",
    "\n",
    "Entropy normally means chaos. In machine learning, it is defined as an equal chance of selecting any category of the target variable. If you have a set of observations and there is an equal mix of all target labels in this set, entropy is maximized. If you can find some feature split to cause only one target label in each section of data, then entropy is minimized. Information Gain is the difference between the entropy before and the sum of entropy in each group after a split. As such, this method is most appropriate for **both a discrete feature and discrete target**.\n",
    "\n",
    "Entropy is calculated by the following formula:\n",
    "\n",
    "$$ E = -\\sum^C_i p_i \\cdot log_2(p_i) $$\n",
    "\n",
    "Then information gain can be defined as the sum of entropy in total minus entropy of each category separately (this is the same as entropy in a decision tree):\n",
    "\n",
    "$$ \\text{Info Gain} = E_\\text{total} - \\sum{E_\\text{category}}  $$\n",
    "\n",
    "It is up to you to decide how little information gain to tolerate to consider a variable to be helpful."
   ]
  },
  {
   "cell_type": "markdown",
   "metadata": {
    "id": "CdOVJ9QLilj9"
   },
   "source": [
    "Now that we know some of these methods, let's see what they look like in some code from scratch. Note that the function below is not made to deal with every type of data (especially if the target is a variable with multiple categories). However, we can see quite a lot of the decisions that you will need to make behind the scenes for it to all work."
   ]
  },
  {
   "cell_type": "code",
   "execution_count": 28,
   "metadata": {
    "id": "m7K9uG4wCSWn"
   },
   "outputs": [],
   "source": [
    "class filter_binary_target:\n",
    "    def __init__(self, df, target):\n",
    "        self.target = target\n",
    "        self.data_head = df.head()\n",
    "\n",
    "    def auto_filter_binary_target(self):\n",
    "        print('Data must be in a clean pandas DataFrame. Categorical variables must be of data type bool or category. Continuous variables must be int64 or float64.')\n",
    "        data_no_target = df.drop(columns=self.target)\n",
    "        columns = ['Data Type', 'Metric', 'Score']\n",
    "        index = data_no_target.columns\n",
    "        result = pd.DataFrame(index=index, columns=columns)\n",
    "\n",
    "        for col in data_no_target:\n",
    "            if data_no_target.dtypes[col] == 'bool' or data_no_target.dtypes[col].name == 'category':\n",
    "                result.loc[col, 'Data Type'] = \"discrete\"\n",
    "                result.loc[col, 'Metric'] = \"Chi2\"\n",
    "                result.loc[col, 'Score'] = self.IV_binary_target(feature=col)\n",
    "\n",
    "            if data_no_target.dtypes[col] == 'int64' or data_no_target.dtypes[col] == 'float64':\n",
    "                result.loc[col, 'Data Type'] = \"continuous\"\n",
    "                result.loc[col, 'Metric'] = \"Fisher\"\n",
    "                result.loc[col, 'Score'] = self.fisher_binary_target(feature=col)\n",
    "\n",
    "        return result\n",
    "\n",
    "    def IV_binary_target(self, feature): \n",
    "        data = pd.DataFrame()\n",
    "    \n",
    "        data['Count'] = df[feature].value_counts()\n",
    "        data['Bad'] = df.groupby([feature])[self.target].sum()\n",
    "        data['Good'] = data['Count'] - data['Bad']\n",
    "    \n",
    "        data[\"Distribution Bad\"] = data[\"Bad\"] / data[\"Bad\"].sum()\n",
    "        data[\"Distribution Good\"] = data[\"Good\"] / data[\"Good\"].sum()\n",
    "    \n",
    "        data['WOE'] = np.log(data[\"Distribution Good\"] / data[\"Distribution Bad\"])\n",
    "        data.replace({\"WOE\": {np.inf: 0, -np.inf: 0}})\n",
    "\n",
    "        data[\"IV\"] = data[\"WOE\"] * (data[\"Distribution Good\"] - data[\"Distribution Bad\"])\n",
    "\n",
    "        iv = data[\"IV\"].sum()\n",
    "\n",
    "        return iv\n",
    "\n",
    "    def fisher_binary_target(self, feature):\n",
    "        mu_0 = df.groupby(df[self.target])[feature].mean()[0]\n",
    "        mu_1 = df.groupby(df[self.target])[feature].mean()[1]\n",
    "        var_0 = df.groupby(df[self.target])[feature].var()[0]\n",
    "        var_1 = df.groupby(df[self.target])[feature].var()[1]\n",
    "\n",
    "        num = abs(mu_0 - mu_1)\n",
    "        den = (var_0 + var_1) ** 0.5\n",
    "        score = num/den\n",
    "    \n",
    "        return score\n",
    "\n",
    "    def pearson(self, feature):  # since our target is binary, we actually don't need this. However, if you would like to expand this class, you can use this code\n",
    "        mean_feature = df[feature].mean()\n",
    "        mean_target = df[self.target].mean()\n",
    "        num = ((df[feature] - mean_feature)*(df[self.target] - mean_target)).sum()\n",
    "        den = (((df[feature] - mean_feature)**2).sum() * ((df[self.target] - mean_target)**2).sum()) ** .5\n",
    "        rho = num/den\n",
    "        return rho"
   ]
  },
  {
   "cell_type": "code",
   "execution_count": 29,
   "metadata": {
    "colab": {
     "base_uri": "https://localhost:8080/",
     "height": 469
    },
    "id": "5mKFETU5BXA3",
    "outputId": "88bbae89-6264-4df2-eeaa-84715e47a2ea"
   },
   "outputs": [
    {
     "name": "stdout",
     "output_type": "stream",
     "text": [
      "Data must be in a clean pandas DataFrame. Categorical variables must be of data type bool or category. Continuous variables must be int64 or float64.\n"
     ]
    },
    {
     "data": {
      "text/html": [
       "<div>\n",
       "<style scoped>\n",
       "    .dataframe tbody tr th:only-of-type {\n",
       "        vertical-align: middle;\n",
       "    }\n",
       "\n",
       "    .dataframe tbody tr th {\n",
       "        vertical-align: top;\n",
       "    }\n",
       "\n",
       "    .dataframe thead th {\n",
       "        text-align: right;\n",
       "    }\n",
       "</style>\n",
       "<table border=\"1\" class=\"dataframe\">\n",
       "  <thead>\n",
       "    <tr style=\"text-align: right;\">\n",
       "      <th></th>\n",
       "      <th>Data Type</th>\n",
       "      <th>Metric</th>\n",
       "      <th>Score</th>\n",
       "    </tr>\n",
       "  </thead>\n",
       "  <tbody>\n",
       "    <tr>\n",
       "      <th>LOAN</th>\n",
       "      <td>continuous</td>\n",
       "      <td>Fisher</td>\n",
       "      <td>0.13309</td>\n",
       "    </tr>\n",
       "    <tr>\n",
       "      <th>MORTDUE</th>\n",
       "      <td>continuous</td>\n",
       "      <td>Fisher</td>\n",
       "      <td>0.0951093</td>\n",
       "    </tr>\n",
       "    <tr>\n",
       "      <th>VALUE</th>\n",
       "      <td>continuous</td>\n",
       "      <td>Fisher</td>\n",
       "      <td>0.106516</td>\n",
       "    </tr>\n",
       "    <tr>\n",
       "      <th>REASON</th>\n",
       "      <td>discrete</td>\n",
       "      <td>Chi2</td>\n",
       "      <td>0.00861846</td>\n",
       "    </tr>\n",
       "    <tr>\n",
       "      <th>JOB</th>\n",
       "      <td>discrete</td>\n",
       "      <td>Chi2</td>\n",
       "      <td>0.0778732</td>\n",
       "    </tr>\n",
       "    <tr>\n",
       "      <th>YOJ</th>\n",
       "      <td>continuous</td>\n",
       "      <td>Fisher</td>\n",
       "      <td>0.0979491</td>\n",
       "    </tr>\n",
       "    <tr>\n",
       "      <th>DEROG</th>\n",
       "      <td>continuous</td>\n",
       "      <td>Fisher</td>\n",
       "      <td>0.358356</td>\n",
       "    </tr>\n",
       "    <tr>\n",
       "      <th>DELINQ</th>\n",
       "      <td>continuous</td>\n",
       "      <td>Fisher</td>\n",
       "      <td>0.473846</td>\n",
       "    </tr>\n",
       "    <tr>\n",
       "      <th>CLAGE</th>\n",
       "      <td>continuous</td>\n",
       "      <td>Fisher</td>\n",
       "      <td>0.324169</td>\n",
       "    </tr>\n",
       "    <tr>\n",
       "      <th>NINQ</th>\n",
       "      <td>continuous</td>\n",
       "      <td>Fisher</td>\n",
       "      <td>0.275753</td>\n",
       "    </tr>\n",
       "    <tr>\n",
       "      <th>CLNO</th>\n",
       "      <td>continuous</td>\n",
       "      <td>Fisher</td>\n",
       "      <td>0.0116811</td>\n",
       "    </tr>\n",
       "    <tr>\n",
       "      <th>DEBTINC</th>\n",
       "      <td>continuous</td>\n",
       "      <td>Fisher</td>\n",
       "      <td>0.266897</td>\n",
       "    </tr>\n",
       "    <tr>\n",
       "      <th>DELINQcat</th>\n",
       "      <td>continuous</td>\n",
       "      <td>Fisher</td>\n",
       "      <td>0.509956</td>\n",
       "    </tr>\n",
       "    <tr>\n",
       "      <th>DEROGzero</th>\n",
       "      <td>discrete</td>\n",
       "      <td>Chi2</td>\n",
       "      <td>0.33617</td>\n",
       "    </tr>\n",
       "  </tbody>\n",
       "</table>\n",
       "</div>"
      ],
      "text/plain": [
       "            Data Type  Metric       Score\n",
       "LOAN       continuous  Fisher     0.13309\n",
       "MORTDUE    continuous  Fisher   0.0951093\n",
       "VALUE      continuous  Fisher    0.106516\n",
       "REASON       discrete    Chi2  0.00861846\n",
       "JOB          discrete    Chi2   0.0778732\n",
       "YOJ        continuous  Fisher   0.0979491\n",
       "DEROG      continuous  Fisher    0.358356\n",
       "DELINQ     continuous  Fisher    0.473846\n",
       "CLAGE      continuous  Fisher    0.324169\n",
       "NINQ       continuous  Fisher    0.275753\n",
       "CLNO       continuous  Fisher   0.0116811\n",
       "DEBTINC    continuous  Fisher    0.266897\n",
       "DELINQcat  continuous  Fisher    0.509956\n",
       "DEROGzero    discrete    Chi2     0.33617"
      ]
     },
     "execution_count": 29,
     "metadata": {},
     "output_type": "execute_result"
    }
   ],
   "source": [
    "# Use the functionality of our WoE class for encoding the feature JOB\n",
    "train_df = pd.concat([X_train_scaled, y_train], axis=1, join=\"inner\")\n",
    "filter = filter_binary_target(df=train_df, target=\"BAD\")\n",
    "filter.auto_filter_binary_target()"
   ]
  },
  {
   "cell_type": "markdown",
   "metadata": {
    "id": "NP5oQrbujCiI"
   },
   "source": [
    "So let's analyze this output. We cannot directly compare Chi2 and Fisher scores but we can judge them relative to other variables calculated with the same score. We can see that of our 3 variables tested with Chi2, `REASON` is particularly weak and does not pass a 0.025 value threshold for Chi2. Therefore, we should eliminate it from the analysis. We can also see that of the variables for which we calculated a Fisher score, `CLNO`, `MORTDUE` and `YOJ` are all quite low.\n",
    "\n",
    "At this point we could choose to eliminate these variables. However, let's leave them in for a little check using wrapper methods. "
   ]
  },
  {
   "cell_type": "markdown",
   "metadata": {
    "id": "4zXNNUbCnf0-"
   },
   "source": [
    "## Wrappers\n",
    "Unlike filter methods, which check one variable at a time with a statistical framework, wrappers try to iteratively build models in different ways to detect variables thatimpact a model's performance the most. As you can imagine, there are two major ways of doing this.\n",
    "1. You add variables one at a time\n",
    "2. You remove variables one at a time\n",
    "\n",
    "Each time, you are double checking how the model performs with the inclusion or exclusion of a certain variable."
   ]
  },
  {
   "cell_type": "code",
   "execution_count": 30,
   "metadata": {
    "id": "2JhrIoxBnyGO"
   },
   "outputs": [],
   "source": [
    "# Let's first set the one-hot encoded version of the dataframe as the default\n",
    "X_train = X_train_dummies\n",
    "X_test = X_test_dummies"
   ]
  },
  {
   "cell_type": "code",
   "execution_count": 31,
   "metadata": {
    "colab": {
     "base_uri": "https://localhost:8080/"
    },
    "id": "IT3g1p9JnJDQ",
    "outputId": "e4fc5faa-448c-4504-ba4e-713e0c5de3e9"
   },
   "outputs": [
    {
     "data": {
      "text/plain": [
       "0.6357561742196783"
      ]
     },
     "execution_count": 31,
     "metadata": {},
     "output_type": "execute_result"
    }
   ],
   "source": [
    "from sklearn.linear_model import LogisticRegression # We will use sklearn here as it is required in the next algorithms\n",
    "from sklearn.metrics import roc_auc_score\n",
    "\n",
    "clf = LogisticRegression(random_state=888, max_iter=200)\n",
    "clf.fit(X_train,  np.ravel(y_train.values))\n",
    "y_pred = clf.predict(X_test)\n",
    "roc_auc_score(y_test, y_pred) # Note this value is different from the statsmodels value we found before for the same model earlier"
   ]
  },
  {
   "cell_type": "markdown",
   "metadata": {
    "id": "yG9WXnd52GgW"
   },
   "source": [
    "### Stepwise regression (forward regression)\n",
    "We will start with the first wrapper method described above. We can easily create this with a for-loop, but we will spare you the complexities by using `mlxtend` to sequentially add our possible features to the model using the function `SequentialFeatureSelector`. The machine will add variables one at a time and double check the model's performance. Note that a `sklearn` model is required as input to this function.\n",
    "\n",
    "Note that unfortunately `sklearn` does not yet support stepwise regression on its own. However, if you'd like, there are ways to code it yourself through a loop that tries to find the best combination of variables through iterative model building like the [second answer to this StackExchange question](https://datascience.stackexchange.com/questions/937/does-scikit-learn-have-forward-selection-stepwise-regression-algorithm).\n",
    "\n",
    "Let's use the algorithm from `mlextend` and check whether it corresponds to the features that our filter model also chose. In case you run this code on your own machine, you might have to [install the `mlextend` package first](https://anaconda.org/conda-forge/mlxtend).\n",
    "\n"
   ]
  },
  {
   "cell_type": "code",
   "execution_count": 32,
   "metadata": {
    "colab": {
     "base_uri": "https://localhost:8080/"
    },
    "id": "GNyrHxx-u6ws",
    "outputId": "5b0d730f-6963-418a-9ea6-79a90c64b499"
   },
   "outputs": [],
   "source": [
    "from mlxtend.feature_selection import SequentialFeatureSelector as SFS\n",
    "\n",
    "clf = LogisticRegression(random_state=888, max_iter=1000, tol=0.01)\n",
    "sfs = SFS(clf, \n",
    "           k_features=(3,12), \n",
    "           forward=True, \n",
    "           floating=False, \n",
    "           scoring='accuracy',\n",
    "           cv=3)\n",
    "\n",
    "sfs = sfs.fit(X_train, np.ravel(y_train.values))"
   ]
  },
  {
   "cell_type": "code",
   "execution_count": 33,
   "metadata": {
    "colab": {
     "base_uri": "https://localhost:8080/"
    },
    "id": "67tQuOkZEwUF",
    "outputId": "4c5872bb-4eda-4e45-a236-738dee104f39"
   },
   "outputs": [
    {
     "name": "stdout",
     "output_type": "stream",
     "text": [
      "best combination (ACC: 0.843): ('VALUE', 'YOJ', 'DEROG', 'DELINQ', 'CLAGE', 'DEBTINC', 'REASON_HomeImp', 'REASON_IsMissing', 'JOB_Office', 'JOB_Self')\n",
      "\n"
     ]
    }
   ],
   "source": [
    "print('best combination (ACC: %.3f): %s\\n' % (sfs.k_score_, sfs.k_feature_names_))"
   ]
  },
  {
   "cell_type": "markdown",
   "metadata": {
    "id": "1h6iHa_tk9Tw"
   },
   "source": [
    "We can see from this regression, some of the variables that were candidates for elimination according to our filter method were actually kept. This may be because there are some variable interaction which we cannot observe using filter methods. It would be up to the analyst to try all combinations and determine the one that works best for the data.\n",
    "\n",
    "We can plot the percent correctly classified vs. the number of selected features to see the algorithm's findings."
   ]
  },
  {
   "cell_type": "code",
   "execution_count": 34,
   "metadata": {
    "colab": {
     "base_uri": "https://localhost:8080/",
     "height": 295
    },
    "id": "BMyMdlFigd7D",
    "outputId": "b84d5e44-46ec-4472-fd6f-2f6c639f1c05"
   },
   "outputs": [
    {
     "data": {
      "image/png": "[encoded data removed]",
      "text/plain": [
       "<Figure size 864x432 with 1 Axes>"
      ]
     },
     "metadata": {
      "needs_background": "light"
     },
     "output_type": "display_data"
    }
   ],
   "source": [
    "from mlxtend.plotting import plot_sequential_feature_selection as plot_sfs\n",
    "\n",
    "plot_sfs(sfs.get_metric_dict())\n",
    "plt.title('Sequential Forward Selection')\n",
    "\n",
    "plt.show()"
   ]
  },
  {
   "cell_type": "markdown",
   "metadata": {
    "id": "7SODgWTsmyN7"
   },
   "source": [
    "Lastly, let's check the AUC of the test set to see how this selection of features did on unseen data.\n",
    "\n"
   ]
  },
  {
   "cell_type": "code",
   "execution_count": 35,
   "metadata": {
    "id": "idNcMxFUiFjP"
   },
   "outputs": [],
   "source": [
    "X_train_sfs = sfs.transform(X_train)\n",
    "X_test_sfs = sfs.transform(X_test)\n",
    "\n",
    "clf.fit(X_train_sfs, np.ravel(y_train.values))\n",
    "y_pred = clf.predict(X_test_sfs)"
   ]
  },
  {
   "cell_type": "code",
   "execution_count": 36,
   "metadata": {
    "colab": {
     "base_uri": "https://localhost:8080/"
    },
    "id": "acdZMw5EhkmI",
    "outputId": "2582fad4-111d-42de-9a5d-47410370becb"
   },
   "outputs": [
    {
     "data": {
      "text/plain": [
       "0.6297320778341362"
      ]
     },
     "execution_count": 36,
     "metadata": {},
     "output_type": "execute_result"
    }
   ],
   "source": [
    "roc_auc_score(y_test, y_pred)"
   ]
  },
  {
   "cell_type": "markdown",
   "metadata": {
    "id": "7zBulcXpnhkx"
   },
   "source": [
    "### Recursive feature elimination (backward selection)\n",
    "\n",
    "Another extremely useful variable selection method is backward selection. We can actually implement it very easily using the `RFECV` function from `sklearn`. You can view the documentation for this function [here](https://scikit-learn.org/stable/modules/generated/sklearn.feature_selection.RFECV.html#sklearn.feature_selection.RFECV). Let's see if it selects similar variables as our last wrapper model and the filter model."
   ]
  },
  {
   "cell_type": "code",
   "execution_count": 37,
   "metadata": {
    "colab": {
     "base_uri": "https://localhost:8080/"
    },
    "id": "GXkJo-MFHr6s",
    "outputId": "e73c2587-a415-4cf2-a98a-fee89da1cdbc"
   },
   "outputs": [
    {
     "name": "stdout",
     "output_type": "stream",
     "text": [
      "Optimal number of features: 15\n"
     ]
    }
   ],
   "source": [
    "from sklearn.feature_selection import RFECV\n",
    "clf = LogisticRegression(random_state=888, max_iter=10000, tol=0.001)\n",
    "\n",
    "rfecv = RFECV(estimator=clf, step=1, cv=2, scoring='accuracy')\n",
    "X_train_new = rfecv.fit(X_train,  np.ravel(y_train.values))\n",
    "\n",
    "print('Optimal number of features: {}'.format(rfecv.n_features_))"
   ]
  },
  {
   "cell_type": "code",
   "execution_count": 38,
   "metadata": {
    "colab": {
     "base_uri": "https://localhost:8080/"
    },
    "id": "z03KeUvydxnk",
    "outputId": "2029e369-2e6a-4eec-ae3f-1999f8b13ad7"
   },
   "outputs": [
    {
     "data": {
      "text/plain": [
       "Index(['LOAN', 'MORTDUE', 'VALUE', 'DEROG', 'DELINQ', 'CLAGE', 'NINQ',\n",
       "       'DEBTINC', 'DELINQcat', 'DEROGzero', 'REASON_HomeImp',\n",
       "       'REASON_IsMissing', 'JOB_Office', 'JOB_Sales', 'JOB_Self'],\n",
       "      dtype='object')"
      ]
     },
     "execution_count": 38,
     "metadata": {},
     "output_type": "execute_result"
    }
   ],
   "source": [
    "X_train.columns[rfecv.support_]"
   ]
  },
  {
   "cell_type": "markdown",
   "metadata": {
    "id": "j8Lu3KhPlv9U"
   },
   "source": [
    "In this regression, different variables were dropped and again they don't correspond to the candidates we found through our filter process. Again, this may be caused by some variable interaction, which we cannot observe by using filter methods. It is up to your discretion to experiment with combinations and determine the best course of action to solve your problem.\n",
    "\n",
    "We can plot the percent correctly classified vs. the number of selected features to see the algorithm's findings."
   ]
  },
  {
   "cell_type": "code",
   "execution_count": 39,
   "metadata": {
    "colab": {
     "base_uri": "https://localhost:8080/",
     "height": 295
    },
    "id": "hMsx5JCtgQaa",
    "outputId": "19724e22-1cd7-4bae-be6e-f76c064ef83f"
   },
   "outputs": [
    {
     "data": {
      "image/png": "[encoded data removed]",
      "text/plain": [
       "<Figure size 864x432 with 1 Axes>"
      ]
     },
     "metadata": {
      "needs_background": "light"
     },
     "output_type": "display_data"
    }
   ],
   "source": [
    "plt.title('Recursive Feature Elimination with Cross-Validation')\n",
    "plt.xlabel('Number of Features')\n",
    "plt.ylabel('Performance (% Correctly Classified)')\n",
    "plt.plot(range(1, len(rfecv.grid_scores_) + 1), rfecv.grid_scores_, linewidth=3)\n",
    "\n",
    "plt.show()"
   ]
  },
  {
   "cell_type": "markdown",
   "metadata": {
    "id": "yl_wNMfSm81F"
   },
   "source": [
    "Lastly, let's check the mean error on the test set to see how this selection of features did on unseen data."
   ]
  },
  {
   "cell_type": "code",
   "execution_count": 40,
   "metadata": {
    "colab": {
     "base_uri": "https://localhost:8080/"
    },
    "id": "e3BSvn75KQXv",
    "outputId": "b04d89c0-3791-40ec-8c8a-c45b7efb56c5"
   },
   "outputs": [
    {
     "data": {
      "text/plain": [
       "0.6345828701870047"
      ]
     },
     "execution_count": 40,
     "metadata": {},
     "output_type": "execute_result"
    }
   ],
   "source": [
    "y_pred = rfecv.predict(X_test)\n",
    "\n",
    "roc_auc_score(y_test, y_pred)"
   ]
  },
  {
   "cell_type": "markdown",
   "metadata": {
    "id": "W79hHbzYqC5H"
   },
   "source": [
    "## Appendix: Pipelines\n",
    "\n",
    "After we have decided how we would like our finalized data to look like in the end, we will likely have to repeat the modifications to our data set several times over (for the train set, test set, new batches of data etc...). In this case, it can be very useful to set up a pipeline which makes the same adjustments to raw data."
   ]
  },
  {
   "cell_type": "code",
   "execution_count": 41,
   "metadata": {
    "id": "8nBRybPt8PMb"
   },
   "outputs": [],
   "source": [
    "# Let's reload the raw data\n",
    "\n",
    "data_url = 'https://raw.githubusercontent.com/Humboldt-WI/bads/master/data/hmeq_prepared.csv' \n",
    "df = pd.read_csv(data_url)\n",
    "\n",
    "# Extract target variable and feature matrix \n",
    "X = df.drop(['BAD'], axis=1) \n",
    "y = df[['BAD']]\n",
    "\n",
    "X_train, X_test, y_train, y_test = train_test_split(X, y, test_size=.2)"
   ]
  },
  {
   "cell_type": "code",
   "execution_count": 43,
   "metadata": {
    "id": "EXhVqwvsY038"
   },
   "outputs": [],
   "source": [
    "# Now let's use a pipeline to transform our data using some of what we have learned above\n",
    "\n",
    "from sklearn.pipeline import Pipeline\n",
    "#from sklearn.externals import joblib\n",
    "from sklearn.ensemble import RandomForestClassifier\n",
    "from sklearn.preprocessing import OneHotEncoder\n",
    "from sklearn.compose import ColumnTransformer\n",
    "\n",
    "# If you only want a transformation on select columns, it is good to first use ColumnTransformer\n",
    "transformer = ColumnTransformer(transformers=[('cat', OneHotEncoder(), [3, 4]), # ('step_name', fun(), list_cols) always follow this format for each step of the transfomer\n",
    "                                              ('scl', StandardScaler(), [0, 1, 2, 5, 6, 7, 8, 9, 10])], # Note that below RF is used as a classifier, thus, scaling is not exactly necessary\n",
    "                                              remainder='passthrough')\n",
    "\n",
    "# Construct some pipelines\n",
    "pipe = Pipeline([\n",
    "                ('t', transformer), # ('step_name', transfomer) always follow this format for transformers in the pipeline\n",
    "                ('clf', RandomForestClassifier()) # ('step_name', fun()) add parantheses for other functions\n",
    "                ])"
   ]
  },
  {
   "cell_type": "markdown",
   "metadata": {
    "id": "37L34zUOeorE"
   },
   "source": [
    "This little bit of code wraps-up almost all of the preprocessing steps, which we discussed in this notebook. The code does look a little complicated but you will agree that it is concise. So the idea is that we chain operations together, such that the result of one operation (e.g., one-hot-coding of variables) are forwarded as input to a subsequent step. Above, we effectively code two chains, one chain of feature transformations and later one chain with two steps, all feature transformations together and learning a classifier. It is very easy to execute the chain of operations, i.e. the pipeline:"
   ]
  },
  {
   "cell_type": "code",
   "execution_count": 44,
   "metadata": {
    "colab": {
     "base_uri": "https://localhost:8080/"
    },
    "id": "sm3ULAv0Y4ZF",
    "outputId": "cd2fca0b-61c7-47b4-96bf-14ea385bbec1"
   },
   "outputs": [
    {
     "data": {
      "text/plain": [
       "Pipeline(steps=[('t',\n",
       "                 ColumnTransformer(remainder='passthrough',\n",
       "                                   transformers=[('cat', OneHotEncoder(),\n",
       "                                                  [3, 4]),\n",
       "                                                 ('scl', StandardScaler(),\n",
       "                                                  [0, 1, 2, 5, 6, 7, 8, 9,\n",
       "                                                   10])])),\n",
       "                ('clf', RandomForestClassifier())])"
      ]
     },
     "execution_count": 44,
     "metadata": {},
     "output_type": "execute_result"
    }
   ],
   "source": [
    "# Learning a RF classifier on the preprocessed data set with one line:\n",
    "pipe.fit(X_train, y_train.values.ravel())"
   ]
  },
  {
   "cell_type": "code",
   "execution_count": 45,
   "metadata": {
    "colab": {
     "base_uri": "https://localhost:8080/"
    },
    "id": "sruOYyvJ-2CL",
    "outputId": "a283e3bf-3e8a-4e22-afef-52309c63bef8"
   },
   "outputs": [
    {
     "data": {
      "text/plain": [
       "0.8319019930826377"
      ]
     },
     "execution_count": 45,
     "metadata": {},
     "output_type": "execute_result"
    }
   ],
   "source": [
    "# Let's next get predictions and compute AUC of the learned RF classifier\n",
    "y_pred = pipe.predict(X_test)\n",
    "roc_auc_score(y_test, y_pred) # check AUC"
   ]
  },
  {
   "cell_type": "markdown",
   "metadata": {
    "id": "pEjPmU3Cfnjo"
   },
   "source": [
    "The example highlights that once the pipeline is set up, something that you could do in a custom function, which you the put into a .py file, you can run it with basically one line of code. These tools help you to focus your notebook to the most important aspects of your task. For example, the next tutorial will look into [model diagnosis and interpretation](https://github.com/Humboldt-WI/bads/blob/master/tutorials/10_nb_interpretale_ML.ipynb). You can grasp that we will first need a model before talking about interpreting that model. Using the command `pipe.fit(X_Train, y_train)` you can get such a model super easily, and focus your notebook on model interpretation. More generally, piplines help you to keep your code clean and comprehensible, and are, therefore, a useful thing to have on your list."
   ]
  }
 ],
 "metadata": {
  "colab": {
   "collapsed_sections": [
    "e3OU5PBOMymG",
    "KjM6lppjM1Yu",
    "OBj1x_jqM4sr",
    "l6ESJ7jCiOUa",
    "i8nrsT1JiTSF",
    "fZeIjLqfiV_c",
    "CJrG1rRRiYQP"
   ],
   "name": "9_nb_feature_engineeringrevisedbylessmann.ipynb",
   "provenance": []
  },
  "kernelspec": {
   "display_name": "Python [conda env:cs330] *",
   "language": "python",
   "name": "conda-env-cs330-py"
  },
  "language_info": {
   "codemirror_mode": {
    "name": "ipython",
    "version": 3
   },
   "file_extension": ".py",
   "mimetype": "text/x-python",
   "name": "python",
   "nbconvert_exporter": "python",
   "pygments_lexer": "ipython3",
   "version": "3.7.10"
  }
 },
 "nbformat": 4,
 "nbformat_minor": 1
}
